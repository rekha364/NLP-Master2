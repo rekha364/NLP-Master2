{
 "cells": [
  {
   "cell_type": "code",
   "execution_count": 3,
   "metadata": {},
   "outputs": [
    {
     "name": "stdout",
     "output_type": "stream",
     "text": [
      "Requirement already up-to-date: spacy in /home/rakesh/anaconda3/lib/python3.8/site-packages (2.3.5)\n",
      "Requirement already satisfied, skipping upgrade: requests<3.0.0,>=2.13.0 in /home/rakesh/anaconda3/lib/python3.8/site-packages (from spacy) (2.24.0)\n",
      "Requirement already satisfied, skipping upgrade: murmurhash<1.1.0,>=0.28.0 in /home/rakesh/anaconda3/lib/python3.8/site-packages (from spacy) (1.0.5)\n",
      "Requirement already satisfied, skipping upgrade: cymem<2.1.0,>=2.0.2 in /home/rakesh/anaconda3/lib/python3.8/site-packages (from spacy) (2.0.5)\n",
      "Requirement already satisfied, skipping upgrade: tqdm<5.0.0,>=4.38.0 in /home/rakesh/anaconda3/lib/python3.8/site-packages (from spacy) (4.50.2)\n",
      "Requirement already satisfied, skipping upgrade: plac<1.2.0,>=0.9.6 in /home/rakesh/anaconda3/lib/python3.8/site-packages (from spacy) (1.1.3)\n",
      "Requirement already satisfied, skipping upgrade: wasabi<1.1.0,>=0.4.0 in /home/rakesh/anaconda3/lib/python3.8/site-packages (from spacy) (0.8.0)\n",
      "Requirement already satisfied, skipping upgrade: srsly<1.1.0,>=1.0.2 in /home/rakesh/anaconda3/lib/python3.8/site-packages (from spacy) (1.0.5)\n",
      "Requirement already satisfied, skipping upgrade: preshed<3.1.0,>=3.0.2 in /home/rakesh/anaconda3/lib/python3.8/site-packages (from spacy) (3.0.5)\n",
      "Requirement already satisfied, skipping upgrade: setuptools in /home/rakesh/anaconda3/lib/python3.8/site-packages (from spacy) (50.3.1.post20201107)\n",
      "Requirement already satisfied, skipping upgrade: blis<0.8.0,>=0.4.0 in /home/rakesh/anaconda3/lib/python3.8/site-packages (from spacy) (0.7.4)\n",
      "Requirement already satisfied, skipping upgrade: numpy>=1.15.0 in /home/rakesh/anaconda3/lib/python3.8/site-packages (from spacy) (1.19.2)\n",
      "Requirement already satisfied, skipping upgrade: thinc<7.5.0,>=7.4.1 in /home/rakesh/anaconda3/lib/python3.8/site-packages (from spacy) (7.4.5)\n",
      "Requirement already satisfied, skipping upgrade: catalogue<1.1.0,>=0.0.7 in /home/rakesh/anaconda3/lib/python3.8/site-packages (from spacy) (1.0.0)\n",
      "Requirement already satisfied, skipping upgrade: urllib3!=1.25.0,!=1.25.1,<1.26,>=1.21.1 in /home/rakesh/anaconda3/lib/python3.8/site-packages (from requests<3.0.0,>=2.13.0->spacy) (1.25.11)\n",
      "Requirement already satisfied, skipping upgrade: chardet<4,>=3.0.2 in /home/rakesh/anaconda3/lib/python3.8/site-packages (from requests<3.0.0,>=2.13.0->spacy) (3.0.4)\n",
      "Requirement already satisfied, skipping upgrade: idna<3,>=2.5 in /home/rakesh/anaconda3/lib/python3.8/site-packages (from requests<3.0.0,>=2.13.0->spacy) (2.10)\n",
      "Requirement already satisfied, skipping upgrade: certifi>=2017.4.17 in /home/rakesh/anaconda3/lib/python3.8/site-packages (from requests<3.0.0,>=2.13.0->spacy) (2020.6.20)\n",
      "Requirement already up-to-date: spacy-lookups-data in /home/rakesh/anaconda3/lib/python3.8/site-packages (0.3.2)\n",
      "Requirement already satisfied, skipping upgrade: setuptools in /home/rakesh/anaconda3/lib/python3.8/site-packages (from spacy-lookups-data) (50.3.1.post20201107)\n",
      "Requirement already satisfied: en_core_web_sm==2.3.1 from https://github.com/explosion/spacy-models/releases/download/en_core_web_sm-2.3.1/en_core_web_sm-2.3.1.tar.gz#egg=en_core_web_sm==2.3.1 in /home/rakesh/anaconda3/lib/python3.8/site-packages (2.3.1)\n",
      "Requirement already satisfied: spacy<2.4.0,>=2.3.0 in /home/rakesh/anaconda3/lib/python3.8/site-packages (from en_core_web_sm==2.3.1) (2.3.5)\n",
      "Requirement already satisfied: murmurhash<1.1.0,>=0.28.0 in /home/rakesh/anaconda3/lib/python3.8/site-packages (from spacy<2.4.0,>=2.3.0->en_core_web_sm==2.3.1) (1.0.5)\n",
      "Requirement already satisfied: thinc<7.5.0,>=7.4.1 in /home/rakesh/anaconda3/lib/python3.8/site-packages (from spacy<2.4.0,>=2.3.0->en_core_web_sm==2.3.1) (7.4.5)\n",
      "Requirement already satisfied: cymem<2.1.0,>=2.0.2 in /home/rakesh/anaconda3/lib/python3.8/site-packages (from spacy<2.4.0,>=2.3.0->en_core_web_sm==2.3.1) (2.0.5)\n",
      "Requirement already satisfied: wasabi<1.1.0,>=0.4.0 in /home/rakesh/anaconda3/lib/python3.8/site-packages (from spacy<2.4.0,>=2.3.0->en_core_web_sm==2.3.1) (0.8.0)\n",
      "Requirement already satisfied: tqdm<5.0.0,>=4.38.0 in /home/rakesh/anaconda3/lib/python3.8/site-packages (from spacy<2.4.0,>=2.3.0->en_core_web_sm==2.3.1) (4.50.2)\n",
      "Requirement already satisfied: srsly<1.1.0,>=1.0.2 in /home/rakesh/anaconda3/lib/python3.8/site-packages (from spacy<2.4.0,>=2.3.0->en_core_web_sm==2.3.1) (1.0.5)\n",
      "Requirement already satisfied: preshed<3.1.0,>=3.0.2 in /home/rakesh/anaconda3/lib/python3.8/site-packages (from spacy<2.4.0,>=2.3.0->en_core_web_sm==2.3.1) (3.0.5)\n",
      "Requirement already satisfied: plac<1.2.0,>=0.9.6 in /home/rakesh/anaconda3/lib/python3.8/site-packages (from spacy<2.4.0,>=2.3.0->en_core_web_sm==2.3.1) (1.1.3)\n",
      "Requirement already satisfied: blis<0.8.0,>=0.4.0 in /home/rakesh/anaconda3/lib/python3.8/site-packages (from spacy<2.4.0,>=2.3.0->en_core_web_sm==2.3.1) (0.7.4)\n",
      "Requirement already satisfied: requests<3.0.0,>=2.13.0 in /home/rakesh/anaconda3/lib/python3.8/site-packages (from spacy<2.4.0,>=2.3.0->en_core_web_sm==2.3.1) (2.24.0)\n",
      "Requirement already satisfied: catalogue<1.1.0,>=0.0.7 in /home/rakesh/anaconda3/lib/python3.8/site-packages (from spacy<2.4.0,>=2.3.0->en_core_web_sm==2.3.1) (1.0.0)\n",
      "Requirement already satisfied: numpy>=1.15.0 in /home/rakesh/anaconda3/lib/python3.8/site-packages (from spacy<2.4.0,>=2.3.0->en_core_web_sm==2.3.1) (1.19.2)\n",
      "Requirement already satisfied: setuptools in /home/rakesh/anaconda3/lib/python3.8/site-packages (from spacy<2.4.0,>=2.3.0->en_core_web_sm==2.3.1) (50.3.1.post20201107)\n",
      "Requirement already satisfied: certifi>=2017.4.17 in /home/rakesh/anaconda3/lib/python3.8/site-packages (from requests<3.0.0,>=2.13.0->spacy<2.4.0,>=2.3.0->en_core_web_sm==2.3.1) (2020.6.20)\n",
      "Requirement already satisfied: urllib3!=1.25.0,!=1.25.1,<1.26,>=1.21.1 in /home/rakesh/anaconda3/lib/python3.8/site-packages (from requests<3.0.0,>=2.13.0->spacy<2.4.0,>=2.3.0->en_core_web_sm==2.3.1) (1.25.11)\n",
      "Requirement already satisfied: idna<3,>=2.5 in /home/rakesh/anaconda3/lib/python3.8/site-packages (from requests<3.0.0,>=2.13.0->spacy<2.4.0,>=2.3.0->en_core_web_sm==2.3.1) (2.10)\n",
      "Requirement already satisfied: chardet<4,>=3.0.2 in /home/rakesh/anaconda3/lib/python3.8/site-packages (from requests<3.0.0,>=2.13.0->spacy<2.4.0,>=2.3.0->en_core_web_sm==2.3.1) (3.0.4)\n",
      "\u001b[38;5;2m✔ Download and installation successful\u001b[0m\n",
      "You can now load the model via spacy.load('en_core_web_sm')\n",
      "Requirement already satisfied: en_core_web_md==2.3.1 from https://github.com/explosion/spacy-models/releases/download/en_core_web_md-2.3.1/en_core_web_md-2.3.1.tar.gz#egg=en_core_web_md==2.3.1 in /home/rakesh/anaconda3/lib/python3.8/site-packages (2.3.1)\n",
      "Requirement already satisfied: spacy<2.4.0,>=2.3.0 in /home/rakesh/anaconda3/lib/python3.8/site-packages (from en_core_web_md==2.3.1) (2.3.5)\n",
      "Requirement already satisfied: requests<3.0.0,>=2.13.0 in /home/rakesh/anaconda3/lib/python3.8/site-packages (from spacy<2.4.0,>=2.3.0->en_core_web_md==2.3.1) (2.24.0)\n",
      "Requirement already satisfied: preshed<3.1.0,>=3.0.2 in /home/rakesh/anaconda3/lib/python3.8/site-packages (from spacy<2.4.0,>=2.3.0->en_core_web_md==2.3.1) (3.0.5)\n",
      "Requirement already satisfied: setuptools in /home/rakesh/anaconda3/lib/python3.8/site-packages (from spacy<2.4.0,>=2.3.0->en_core_web_md==2.3.1) (50.3.1.post20201107)\n",
      "Requirement already satisfied: numpy>=1.15.0 in /home/rakesh/anaconda3/lib/python3.8/site-packages (from spacy<2.4.0,>=2.3.0->en_core_web_md==2.3.1) (1.19.2)\n",
      "Requirement already satisfied: wasabi<1.1.0,>=0.4.0 in /home/rakesh/anaconda3/lib/python3.8/site-packages (from spacy<2.4.0,>=2.3.0->en_core_web_md==2.3.1) (0.8.0)\n",
      "Requirement already satisfied: tqdm<5.0.0,>=4.38.0 in /home/rakesh/anaconda3/lib/python3.8/site-packages (from spacy<2.4.0,>=2.3.0->en_core_web_md==2.3.1) (4.50.2)\n",
      "Requirement already satisfied: cymem<2.1.0,>=2.0.2 in /home/rakesh/anaconda3/lib/python3.8/site-packages (from spacy<2.4.0,>=2.3.0->en_core_web_md==2.3.1) (2.0.5)\n",
      "Requirement already satisfied: blis<0.8.0,>=0.4.0 in /home/rakesh/anaconda3/lib/python3.8/site-packages (from spacy<2.4.0,>=2.3.0->en_core_web_md==2.3.1) (0.7.4)\n",
      "Requirement already satisfied: murmurhash<1.1.0,>=0.28.0 in /home/rakesh/anaconda3/lib/python3.8/site-packages (from spacy<2.4.0,>=2.3.0->en_core_web_md==2.3.1) (1.0.5)\n"
     ]
    },
    {
     "name": "stdout",
     "output_type": "stream",
     "text": [
      "Requirement already satisfied: srsly<1.1.0,>=1.0.2 in /home/rakesh/anaconda3/lib/python3.8/site-packages (from spacy<2.4.0,>=2.3.0->en_core_web_md==2.3.1) (1.0.5)\n",
      "Requirement already satisfied: thinc<7.5.0,>=7.4.1 in /home/rakesh/anaconda3/lib/python3.8/site-packages (from spacy<2.4.0,>=2.3.0->en_core_web_md==2.3.1) (7.4.5)\n",
      "Requirement already satisfied: catalogue<1.1.0,>=0.0.7 in /home/rakesh/anaconda3/lib/python3.8/site-packages (from spacy<2.4.0,>=2.3.0->en_core_web_md==2.3.1) (1.0.0)\n",
      "Requirement already satisfied: plac<1.2.0,>=0.9.6 in /home/rakesh/anaconda3/lib/python3.8/site-packages (from spacy<2.4.0,>=2.3.0->en_core_web_md==2.3.1) (1.1.3)\n",
      "Requirement already satisfied: urllib3!=1.25.0,!=1.25.1,<1.26,>=1.21.1 in /home/rakesh/anaconda3/lib/python3.8/site-packages (from requests<3.0.0,>=2.13.0->spacy<2.4.0,>=2.3.0->en_core_web_md==2.3.1) (1.25.11)\n",
      "Requirement already satisfied: certifi>=2017.4.17 in /home/rakesh/anaconda3/lib/python3.8/site-packages (from requests<3.0.0,>=2.13.0->spacy<2.4.0,>=2.3.0->en_core_web_md==2.3.1) (2020.6.20)\n",
      "Requirement already satisfied: chardet<4,>=3.0.2 in /home/rakesh/anaconda3/lib/python3.8/site-packages (from requests<3.0.0,>=2.13.0->spacy<2.4.0,>=2.3.0->en_core_web_md==2.3.1) (3.0.4)\n",
      "Requirement already satisfied: idna<3,>=2.5 in /home/rakesh/anaconda3/lib/python3.8/site-packages (from requests<3.0.0,>=2.13.0->spacy<2.4.0,>=2.3.0->en_core_web_md==2.3.1) (2.10)\n",
      "\u001b[38;5;2m✔ Download and installation successful\u001b[0m\n",
      "You can now load the model via spacy.load('en_core_web_md')\n"
     ]
    }
   ],
   "source": [
    "!pip install -U spacy\n",
    "!pip install -U spacy-lookups-data\n",
    "!python -m spacy download en_core_web_sm\n",
    "!python -m spacy download en_core_web_md\n",
    "# !python -m spacy download en_core_web_lg"
   ]
  },
  {
   "cell_type": "code",
   "execution_count": 1,
   "metadata": {},
   "outputs": [],
   "source": [
    "import pandas as pd\n",
    "import numpy as np\n",
    "import matplotlib.pyplot as plt\n",
    "import contractions"
   ]
  },
  {
   "cell_type": "code",
   "execution_count": 2,
   "metadata": {},
   "outputs": [],
   "source": [
    "import spacy\n",
    "from spacy.lang.en.stop_words import STOP_WORDS"
   ]
  },
  {
   "cell_type": "code",
   "execution_count": 3,
   "metadata": {},
   "outputs": [],
   "source": [
    "df = pd.read_csv('twitter16m.csv', encoding='latin1', header=None)"
   ]
  },
  {
   "cell_type": "code",
   "execution_count": 4,
   "metadata": {},
   "outputs": [
    {
     "data": {
      "text/html": [
       "<div>\n",
       "<style scoped>\n",
       "    .dataframe tbody tr th:only-of-type {\n",
       "        vertical-align: middle;\n",
       "    }\n",
       "\n",
       "    .dataframe tbody tr th {\n",
       "        vertical-align: top;\n",
       "    }\n",
       "\n",
       "    .dataframe thead th {\n",
       "        text-align: right;\n",
       "    }\n",
       "</style>\n",
       "<table border=\"1\" class=\"dataframe\">\n",
       "  <thead>\n",
       "    <tr style=\"text-align: right;\">\n",
       "      <th></th>\n",
       "      <th>0</th>\n",
       "      <th>1</th>\n",
       "      <th>2</th>\n",
       "      <th>3</th>\n",
       "      <th>4</th>\n",
       "      <th>5</th>\n",
       "    </tr>\n",
       "  </thead>\n",
       "  <tbody>\n",
       "    <tr>\n",
       "      <th>0</th>\n",
       "      <td>0</td>\n",
       "      <td>1467810369</td>\n",
       "      <td>Mon Apr 06 22:19:45 PDT 2009</td>\n",
       "      <td>NO_QUERY</td>\n",
       "      <td>_TheSpecialOne_</td>\n",
       "      <td>@switchfoot http://twitpic.com/2y1zl - Awww, t...</td>\n",
       "    </tr>\n",
       "    <tr>\n",
       "      <th>1</th>\n",
       "      <td>0</td>\n",
       "      <td>1467810672</td>\n",
       "      <td>Mon Apr 06 22:19:49 PDT 2009</td>\n",
       "      <td>NO_QUERY</td>\n",
       "      <td>scotthamilton</td>\n",
       "      <td>is upset that he can't update his Facebook by ...</td>\n",
       "    </tr>\n",
       "    <tr>\n",
       "      <th>2</th>\n",
       "      <td>0</td>\n",
       "      <td>1467810917</td>\n",
       "      <td>Mon Apr 06 22:19:53 PDT 2009</td>\n",
       "      <td>NO_QUERY</td>\n",
       "      <td>mattycus</td>\n",
       "      <td>@Kenichan I dived many times for the ball. Man...</td>\n",
       "    </tr>\n",
       "    <tr>\n",
       "      <th>3</th>\n",
       "      <td>0</td>\n",
       "      <td>1467811184</td>\n",
       "      <td>Mon Apr 06 22:19:57 PDT 2009</td>\n",
       "      <td>NO_QUERY</td>\n",
       "      <td>ElleCTF</td>\n",
       "      <td>my whole body feels itchy and like its on fire</td>\n",
       "    </tr>\n",
       "    <tr>\n",
       "      <th>4</th>\n",
       "      <td>0</td>\n",
       "      <td>1467811193</td>\n",
       "      <td>Mon Apr 06 22:19:57 PDT 2009</td>\n",
       "      <td>NO_QUERY</td>\n",
       "      <td>Karoli</td>\n",
       "      <td>@nationwideclass no, it's not behaving at all....</td>\n",
       "    </tr>\n",
       "  </tbody>\n",
       "</table>\n",
       "</div>"
      ],
      "text/plain": [
       "   0           1                             2         3                4  \\\n",
       "0  0  1467810369  Mon Apr 06 22:19:45 PDT 2009  NO_QUERY  _TheSpecialOne_   \n",
       "1  0  1467810672  Mon Apr 06 22:19:49 PDT 2009  NO_QUERY    scotthamilton   \n",
       "2  0  1467810917  Mon Apr 06 22:19:53 PDT 2009  NO_QUERY         mattycus   \n",
       "3  0  1467811184  Mon Apr 06 22:19:57 PDT 2009  NO_QUERY          ElleCTF   \n",
       "4  0  1467811193  Mon Apr 06 22:19:57 PDT 2009  NO_QUERY           Karoli   \n",
       "\n",
       "                                                   5  \n",
       "0  @switchfoot http://twitpic.com/2y1zl - Awww, t...  \n",
       "1  is upset that he can't update his Facebook by ...  \n",
       "2  @Kenichan I dived many times for the ball. Man...  \n",
       "3    my whole body feels itchy and like its on fire   \n",
       "4  @nationwideclass no, it's not behaving at all....  "
      ]
     },
     "execution_count": 4,
     "metadata": {},
     "output_type": "execute_result"
    }
   ],
   "source": [
    "df.head()"
   ]
  },
  {
   "cell_type": "code",
   "execution_count": 5,
   "metadata": {},
   "outputs": [],
   "source": [
    "df = df[[5, 0]]"
   ]
  },
  {
   "cell_type": "code",
   "execution_count": 6,
   "metadata": {},
   "outputs": [
    {
     "data": {
      "text/html": [
       "<div>\n",
       "<style scoped>\n",
       "    .dataframe tbody tr th:only-of-type {\n",
       "        vertical-align: middle;\n",
       "    }\n",
       "\n",
       "    .dataframe tbody tr th {\n",
       "        vertical-align: top;\n",
       "    }\n",
       "\n",
       "    .dataframe thead th {\n",
       "        text-align: right;\n",
       "    }\n",
       "</style>\n",
       "<table border=\"1\" class=\"dataframe\">\n",
       "  <thead>\n",
       "    <tr style=\"text-align: right;\">\n",
       "      <th></th>\n",
       "      <th>twitts</th>\n",
       "      <th>sentiment</th>\n",
       "    </tr>\n",
       "  </thead>\n",
       "  <tbody>\n",
       "    <tr>\n",
       "      <th>0</th>\n",
       "      <td>@switchfoot http://twitpic.com/2y1zl - Awww, t...</td>\n",
       "      <td>0</td>\n",
       "    </tr>\n",
       "    <tr>\n",
       "      <th>1</th>\n",
       "      <td>is upset that he can't update his Facebook by ...</td>\n",
       "      <td>0</td>\n",
       "    </tr>\n",
       "    <tr>\n",
       "      <th>2</th>\n",
       "      <td>@Kenichan I dived many times for the ball. Man...</td>\n",
       "      <td>0</td>\n",
       "    </tr>\n",
       "    <tr>\n",
       "      <th>3</th>\n",
       "      <td>my whole body feels itchy and like its on fire</td>\n",
       "      <td>0</td>\n",
       "    </tr>\n",
       "    <tr>\n",
       "      <th>4</th>\n",
       "      <td>@nationwideclass no, it's not behaving at all....</td>\n",
       "      <td>0</td>\n",
       "    </tr>\n",
       "  </tbody>\n",
       "</table>\n",
       "</div>"
      ],
      "text/plain": [
       "                                              twitts  sentiment\n",
       "0  @switchfoot http://twitpic.com/2y1zl - Awww, t...          0\n",
       "1  is upset that he can't update his Facebook by ...          0\n",
       "2  @Kenichan I dived many times for the ball. Man...          0\n",
       "3    my whole body feels itchy and like its on fire           0\n",
       "4  @nationwideclass no, it's not behaving at all....          0"
      ]
     },
     "execution_count": 6,
     "metadata": {},
     "output_type": "execute_result"
    }
   ],
   "source": [
    "df.columns = ['twitts', 'sentiment']\n",
    "df.head()"
   ]
  },
  {
   "cell_type": "code",
   "execution_count": 7,
   "metadata": {},
   "outputs": [
    {
     "data": {
      "text/plain": [
       "4    800000\n",
       "0    800000\n",
       "Name: sentiment, dtype: int64"
      ]
     },
     "execution_count": 7,
     "metadata": {},
     "output_type": "execute_result"
    }
   ],
   "source": [
    "df.sentiment.value_counts()"
   ]
  },
  {
   "cell_type": "code",
   "execution_count": 8,
   "metadata": {},
   "outputs": [],
   "source": [
    "sent_map = {0:'negative', 4:'positive'}"
   ]
  },
  {
   "cell_type": "markdown",
   "metadata": {},
   "source": [
    "### Word Count"
   ]
  },
  {
   "cell_type": "code",
   "execution_count": 9,
   "metadata": {},
   "outputs": [],
   "source": [
    "df['word_counts'] = df.twitts.apply(lambda x: len(str(x).split()))"
   ]
  },
  {
   "cell_type": "code",
   "execution_count": 10,
   "metadata": {},
   "outputs": [
    {
     "data": {
      "text/html": [
       "<div>\n",
       "<style scoped>\n",
       "    .dataframe tbody tr th:only-of-type {\n",
       "        vertical-align: middle;\n",
       "    }\n",
       "\n",
       "    .dataframe tbody tr th {\n",
       "        vertical-align: top;\n",
       "    }\n",
       "\n",
       "    .dataframe thead th {\n",
       "        text-align: right;\n",
       "    }\n",
       "</style>\n",
       "<table border=\"1\" class=\"dataframe\">\n",
       "  <thead>\n",
       "    <tr style=\"text-align: right;\">\n",
       "      <th></th>\n",
       "      <th>twitts</th>\n",
       "      <th>sentiment</th>\n",
       "      <th>word_counts</th>\n",
       "    </tr>\n",
       "  </thead>\n",
       "  <tbody>\n",
       "    <tr>\n",
       "      <th>0</th>\n",
       "      <td>@switchfoot http://twitpic.com/2y1zl - Awww, t...</td>\n",
       "      <td>0</td>\n",
       "      <td>19</td>\n",
       "    </tr>\n",
       "    <tr>\n",
       "      <th>1</th>\n",
       "      <td>is upset that he can't update his Facebook by ...</td>\n",
       "      <td>0</td>\n",
       "      <td>21</td>\n",
       "    </tr>\n",
       "    <tr>\n",
       "      <th>2</th>\n",
       "      <td>@Kenichan I dived many times for the ball. Man...</td>\n",
       "      <td>0</td>\n",
       "      <td>18</td>\n",
       "    </tr>\n",
       "    <tr>\n",
       "      <th>3</th>\n",
       "      <td>my whole body feels itchy and like its on fire</td>\n",
       "      <td>0</td>\n",
       "      <td>10</td>\n",
       "    </tr>\n",
       "    <tr>\n",
       "      <th>4</th>\n",
       "      <td>@nationwideclass no, it's not behaving at all....</td>\n",
       "      <td>0</td>\n",
       "      <td>21</td>\n",
       "    </tr>\n",
       "  </tbody>\n",
       "</table>\n",
       "</div>"
      ],
      "text/plain": [
       "                                              twitts  sentiment  word_counts\n",
       "0  @switchfoot http://twitpic.com/2y1zl - Awww, t...          0           19\n",
       "1  is upset that he can't update his Facebook by ...          0           21\n",
       "2  @Kenichan I dived many times for the ball. Man...          0           18\n",
       "3    my whole body feels itchy and like its on fire           0           10\n",
       "4  @nationwideclass no, it's not behaving at all....          0           21"
      ]
     },
     "execution_count": 10,
     "metadata": {},
     "output_type": "execute_result"
    }
   ],
   "source": [
    "df.head()"
   ]
  },
  {
   "cell_type": "markdown",
   "metadata": {},
   "source": [
    "### Character Count"
   ]
  },
  {
   "cell_type": "code",
   "execution_count": 11,
   "metadata": {},
   "outputs": [
    {
     "data": {
      "text/html": [
       "<div>\n",
       "<style scoped>\n",
       "    .dataframe tbody tr th:only-of-type {\n",
       "        vertical-align: middle;\n",
       "    }\n",
       "\n",
       "    .dataframe tbody tr th {\n",
       "        vertical-align: top;\n",
       "    }\n",
       "\n",
       "    .dataframe thead th {\n",
       "        text-align: right;\n",
       "    }\n",
       "</style>\n",
       "<table border=\"1\" class=\"dataframe\">\n",
       "  <thead>\n",
       "    <tr style=\"text-align: right;\">\n",
       "      <th></th>\n",
       "      <th>twitts</th>\n",
       "      <th>sentiment</th>\n",
       "      <th>word_counts</th>\n",
       "      <th>char_counts</th>\n",
       "    </tr>\n",
       "  </thead>\n",
       "  <tbody>\n",
       "    <tr>\n",
       "      <th>0</th>\n",
       "      <td>@switchfoot http://twitpic.com/2y1zl - Awww, t...</td>\n",
       "      <td>0</td>\n",
       "      <td>19</td>\n",
       "      <td>115</td>\n",
       "    </tr>\n",
       "    <tr>\n",
       "      <th>1</th>\n",
       "      <td>is upset that he can't update his Facebook by ...</td>\n",
       "      <td>0</td>\n",
       "      <td>21</td>\n",
       "      <td>111</td>\n",
       "    </tr>\n",
       "    <tr>\n",
       "      <th>2</th>\n",
       "      <td>@Kenichan I dived many times for the ball. Man...</td>\n",
       "      <td>0</td>\n",
       "      <td>18</td>\n",
       "      <td>89</td>\n",
       "    </tr>\n",
       "    <tr>\n",
       "      <th>3</th>\n",
       "      <td>my whole body feels itchy and like its on fire</td>\n",
       "      <td>0</td>\n",
       "      <td>10</td>\n",
       "      <td>47</td>\n",
       "    </tr>\n",
       "    <tr>\n",
       "      <th>4</th>\n",
       "      <td>@nationwideclass no, it's not behaving at all....</td>\n",
       "      <td>0</td>\n",
       "      <td>21</td>\n",
       "      <td>111</td>\n",
       "    </tr>\n",
       "  </tbody>\n",
       "</table>\n",
       "</div>"
      ],
      "text/plain": [
       "                                              twitts  sentiment  word_counts  \\\n",
       "0  @switchfoot http://twitpic.com/2y1zl - Awww, t...          0           19   \n",
       "1  is upset that he can't update his Facebook by ...          0           21   \n",
       "2  @Kenichan I dived many times for the ball. Man...          0           18   \n",
       "3    my whole body feels itchy and like its on fire           0           10   \n",
       "4  @nationwideclass no, it's not behaving at all....          0           21   \n",
       "\n",
       "   char_counts  \n",
       "0          115  \n",
       "1          111  \n",
       "2           89  \n",
       "3           47  \n",
       "4          111  "
      ]
     },
     "execution_count": 11,
     "metadata": {},
     "output_type": "execute_result"
    }
   ],
   "source": [
    "df['char_counts'] = df.twitts.apply(lambda x: len(x))\n",
    "df.head()"
   ]
  },
  {
   "cell_type": "markdown",
   "metadata": {},
   "source": [
    "### Average word length"
   ]
  },
  {
   "cell_type": "code",
   "execution_count": 12,
   "metadata": {},
   "outputs": [],
   "source": [
    "def get_avg_word_len(x):\n",
    "    words = x.split()\n",
    "    word_len = 0\n",
    "    for word in words:\n",
    "        word_len = word_len + len(word)\n",
    "#     print(word_len)\n",
    "    return word_len/len(word) # = len(X)/len(words)"
   ]
  },
  {
   "cell_type": "code",
   "execution_count": 13,
   "metadata": {},
   "outputs": [
    {
     "data": {
      "text/html": [
       "<div>\n",
       "<style scoped>\n",
       "    .dataframe tbody tr th:only-of-type {\n",
       "        vertical-align: middle;\n",
       "    }\n",
       "\n",
       "    .dataframe tbody tr th {\n",
       "        vertical-align: top;\n",
       "    }\n",
       "\n",
       "    .dataframe thead th {\n",
       "        text-align: right;\n",
       "    }\n",
       "</style>\n",
       "<table border=\"1\" class=\"dataframe\">\n",
       "  <thead>\n",
       "    <tr style=\"text-align: right;\">\n",
       "      <th></th>\n",
       "      <th>twitts</th>\n",
       "      <th>sentiment</th>\n",
       "      <th>word_counts</th>\n",
       "      <th>char_counts</th>\n",
       "      <th>avg_word_len</th>\n",
       "    </tr>\n",
       "  </thead>\n",
       "  <tbody>\n",
       "    <tr>\n",
       "      <th>0</th>\n",
       "      <td>@switchfoot http://twitpic.com/2y1zl - Awww, t...</td>\n",
       "      <td>0</td>\n",
       "      <td>19</td>\n",
       "      <td>115</td>\n",
       "      <td>48.000000</td>\n",
       "    </tr>\n",
       "    <tr>\n",
       "      <th>1</th>\n",
       "      <td>is upset that he can't update his Facebook by ...</td>\n",
       "      <td>0</td>\n",
       "      <td>21</td>\n",
       "      <td>111</td>\n",
       "      <td>18.000000</td>\n",
       "    </tr>\n",
       "    <tr>\n",
       "      <th>2</th>\n",
       "      <td>@Kenichan I dived many times for the ball. Man...</td>\n",
       "      <td>0</td>\n",
       "      <td>18</td>\n",
       "      <td>89</td>\n",
       "      <td>11.833333</td>\n",
       "    </tr>\n",
       "    <tr>\n",
       "      <th>3</th>\n",
       "      <td>my whole body feels itchy and like its on fire</td>\n",
       "      <td>0</td>\n",
       "      <td>10</td>\n",
       "      <td>47</td>\n",
       "      <td>9.250000</td>\n",
       "    </tr>\n",
       "    <tr>\n",
       "      <th>4</th>\n",
       "      <td>@nationwideclass no, it's not behaving at all....</td>\n",
       "      <td>0</td>\n",
       "      <td>21</td>\n",
       "      <td>111</td>\n",
       "      <td>15.000000</td>\n",
       "    </tr>\n",
       "  </tbody>\n",
       "</table>\n",
       "</div>"
      ],
      "text/plain": [
       "                                              twitts  sentiment  word_counts  \\\n",
       "0  @switchfoot http://twitpic.com/2y1zl - Awww, t...          0           19   \n",
       "1  is upset that he can't update his Facebook by ...          0           21   \n",
       "2  @Kenichan I dived many times for the ball. Man...          0           18   \n",
       "3    my whole body feels itchy and like its on fire           0           10   \n",
       "4  @nationwideclass no, it's not behaving at all....          0           21   \n",
       "\n",
       "   char_counts  avg_word_len  \n",
       "0          115     48.000000  \n",
       "1          111     18.000000  \n",
       "2           89     11.833333  \n",
       "3           47      9.250000  \n",
       "4          111     15.000000  "
      ]
     },
     "execution_count": 13,
     "metadata": {},
     "output_type": "execute_result"
    }
   ],
   "source": [
    "df['avg_word_len'] = df.twitts.apply(lambda x: get_avg_word_len(x))\n",
    "df.head()"
   ]
  },
  {
   "cell_type": "markdown",
   "metadata": {},
   "source": [
    "### Stop words Count"
   ]
  },
  {
   "cell_type": "code",
   "execution_count": 14,
   "metadata": {},
   "outputs": [
    {
     "name": "stdout",
     "output_type": "stream",
     "text": [
      "{'eleven', 'keep', 'own', 'three', 'under', 'through', 'becoming', 'at', 'wherever', 'upon', 'even', 'well', 'somehow', 'in', \"'re\", 'ever', '’d', 'was', 'and', 'everywhere', 'their', 'afterwards', 'only', 'whose', 'four', 'give', 'thus', 'fifty', 'six', 'unless', 'please', 'without', 'thru', 'now', 'about', 'several', 'sometime', 'or', 'together', 'enough', '‘ve', 'whereas', 'has', 'per', 'yours', 'hence', 'latterly', 'move', 'next', 'whether', 'ours', 'one', 'seem', 'who', 'here', '‘ll', 'have', 'no', 'can', \"n't\", 'namely', 'front', 'which', '’ll', 'five', 'how', 'nevertheless', 'regarding', 'everyone', '’ve', 'might', 'often', 'whereupon', 'neither', 'last', 'itself', 'above', 'herein', 'either', 'below', \"'m\", 'cannot', 'you', 'empty', 'seems', 'being', 'twenty', 'amount', 'should', 'used', 'call', 'fifteen', 'behind', 'whoever', 'none', 'what', 'anyone', 'nine', 'sometimes', 'this', 'there', \"'ll\", 'get', 'see', 'during', 'hereupon', 'toward', 'also', 'besides', 'almost', '‘d', 'seeming', 'these', 'whereby', 'down', 'any', 'such', 'those', 'become', 'really', 'quite', 'whither', 'do', 'hers', 'very', 'hundred', 'otherwise', '’m', 'than', 'former', 'show', 'every', 'someone', 'would', 'two', 'alone', 'noone', 'that', 'nobody', 'by', 'via', 'again', 'be', 'out', 'something', 'hereby', 'so', 'became', 'the', 'when', 'whence', 'same', \"'ve\", 'made', 'our', 'had', 'moreover', 'least', 'due', 'everything', 'ourselves', 'them', 'much', 'whole', 'eight', 'he', 'however', 'mostly', 'too', 'thence', 'third', 'because', 'nor', 'yourselves', 'it', 'go', 'myself', 'will', '’s', 'within', 'more', 'n’t', '‘m', 'both', 'across', 'among', 'for', 'of', 'twelve', 'with', 'thereupon', 'me', 'further', 'to', 'until', 'latter', 'take', 'side', 'except', 'another', 'many', 'towards', 'once', 'up', 'my', 'ten', 'after', '’re', \"'s\", 'your', 'else', 'yet', 'say', 'us', 'meanwhile', 'anyhow', 'is', 'its', 'others', 'perhaps', 'bottom', 'around', 'along', 'make', 'yourself', 'between', 'still', 'were', 'his', 'an', 'back', 'himself', 'if', 'ca', 'may', 'before', 'off', 'anything', 'did', 're', 'does', 'must', 'nothing', 'elsewhere', 'against', 'am', 'mine', 'we', 'anywhere', 'themselves', 'seemed', 'why', 'hereafter', 'her', 'other', 'nowhere', 'whereafter', 'formerly', 'him', 'serious', 'from', 'sixty', 'not', 'could', 'although', 'she', 'put', 'indeed', 'name', 'just', 'part', 'whatever', 'beyond', 'amongst', 'anyway', 'less', 'all', 'forty', 'thereafter', 'always', 'done', 'top', 'using', 'full', 'beforehand', 'i', 'wherein', 'are', 'whenever', 'been', 'a', 'onto', 'while', 'into', 'then', 'some', 'they', 'first', 'beside', 'on', 'already', 'never', 'but', 'therefore', \"'d\", 'therein', 'whom', 'various', '‘re', 'thereby', 'each', 'over', 'though', 'becomes', 'most', 'rather', 'few', 'doing', 'n‘t', 'since', '‘s', 'throughout', 'where', 'as', 'herself', 'somewhere'}\n"
     ]
    }
   ],
   "source": [
    "print(STOP_WORDS)"
   ]
  },
  {
   "cell_type": "markdown",
   "metadata": {},
   "source": [
    "When you are trying to unerstand context and semantic meaning of sentence then you need not to remove stopwords. You should remove stop words according to need."
   ]
  },
  {
   "cell_type": "code",
   "execution_count": 15,
   "metadata": {},
   "outputs": [
    {
     "data": {
      "text/html": [
       "<div>\n",
       "<style scoped>\n",
       "    .dataframe tbody tr th:only-of-type {\n",
       "        vertical-align: middle;\n",
       "    }\n",
       "\n",
       "    .dataframe tbody tr th {\n",
       "        vertical-align: top;\n",
       "    }\n",
       "\n",
       "    .dataframe thead th {\n",
       "        text-align: right;\n",
       "    }\n",
       "</style>\n",
       "<table border=\"1\" class=\"dataframe\">\n",
       "  <thead>\n",
       "    <tr style=\"text-align: right;\">\n",
       "      <th></th>\n",
       "      <th>twitts</th>\n",
       "      <th>sentiment</th>\n",
       "      <th>word_counts</th>\n",
       "      <th>char_counts</th>\n",
       "      <th>avg_word_len</th>\n",
       "      <th>stop_words_len</th>\n",
       "    </tr>\n",
       "  </thead>\n",
       "  <tbody>\n",
       "    <tr>\n",
       "      <th>0</th>\n",
       "      <td>@switchfoot http://twitpic.com/2y1zl - Awww, t...</td>\n",
       "      <td>0</td>\n",
       "      <td>19</td>\n",
       "      <td>115</td>\n",
       "      <td>48.000000</td>\n",
       "      <td>4</td>\n",
       "    </tr>\n",
       "    <tr>\n",
       "      <th>1</th>\n",
       "      <td>is upset that he can't update his Facebook by ...</td>\n",
       "      <td>0</td>\n",
       "      <td>21</td>\n",
       "      <td>111</td>\n",
       "      <td>18.000000</td>\n",
       "      <td>9</td>\n",
       "    </tr>\n",
       "    <tr>\n",
       "      <th>2</th>\n",
       "      <td>@Kenichan I dived many times for the ball. Man...</td>\n",
       "      <td>0</td>\n",
       "      <td>18</td>\n",
       "      <td>89</td>\n",
       "      <td>11.833333</td>\n",
       "      <td>7</td>\n",
       "    </tr>\n",
       "    <tr>\n",
       "      <th>3</th>\n",
       "      <td>my whole body feels itchy and like its on fire</td>\n",
       "      <td>0</td>\n",
       "      <td>10</td>\n",
       "      <td>47</td>\n",
       "      <td>9.250000</td>\n",
       "      <td>5</td>\n",
       "    </tr>\n",
       "    <tr>\n",
       "      <th>4</th>\n",
       "      <td>@nationwideclass no, it's not behaving at all....</td>\n",
       "      <td>0</td>\n",
       "      <td>21</td>\n",
       "      <td>111</td>\n",
       "      <td>15.000000</td>\n",
       "      <td>10</td>\n",
       "    </tr>\n",
       "  </tbody>\n",
       "</table>\n",
       "</div>"
      ],
      "text/plain": [
       "                                              twitts  sentiment  word_counts  \\\n",
       "0  @switchfoot http://twitpic.com/2y1zl - Awww, t...          0           19   \n",
       "1  is upset that he can't update his Facebook by ...          0           21   \n",
       "2  @Kenichan I dived many times for the ball. Man...          0           18   \n",
       "3    my whole body feels itchy and like its on fire           0           10   \n",
       "4  @nationwideclass no, it's not behaving at all....          0           21   \n",
       "\n",
       "   char_counts  avg_word_len  stop_words_len  \n",
       "0          115     48.000000               4  \n",
       "1          111     18.000000               9  \n",
       "2           89     11.833333               7  \n",
       "3           47      9.250000               5  \n",
       "4          111     15.000000              10  "
      ]
     },
     "execution_count": 15,
     "metadata": {},
     "output_type": "execute_result"
    }
   ],
   "source": [
    "df['stop_words_len'] = df.twitts.apply(lambda x:len([t for t in x.split() if t in STOP_WORDS]))\n",
    "df.head()"
   ]
  },
  {
   "cell_type": "markdown",
   "metadata": {},
   "source": [
    "### Count #HashTags and @Mentions "
   ]
  },
  {
   "cell_type": "code",
   "execution_count": 16,
   "metadata": {},
   "outputs": [],
   "source": [
    "#example\n",
    "x = 'This is #HashTags and this is @Mentions'\n",
    "# x= x.split()\n",
    "# x"
   ]
  },
  {
   "cell_type": "code",
   "execution_count": 17,
   "metadata": {},
   "outputs": [
    {
     "data": {
      "text/plain": [
       "['@Mentions']"
      ]
     },
     "execution_count": 17,
     "metadata": {},
     "output_type": "execute_result"
    }
   ],
   "source": [
    "[t for t in x.split() if t.startswith('@')]"
   ]
  },
  {
   "cell_type": "code",
   "execution_count": 18,
   "metadata": {},
   "outputs": [],
   "source": [
    "df['hashtags_count'] = df.twitts.apply(lambda x:len([t for t in x.split() if t.startswith('#')]))\n",
    "df['mentions_count'] = df.twitts.apply(lambda x:len([t for t in x.split() if t.startswith('@')]))"
   ]
  },
  {
   "cell_type": "code",
   "execution_count": 19,
   "metadata": {},
   "outputs": [
    {
     "data": {
      "text/html": [
       "<div>\n",
       "<style scoped>\n",
       "    .dataframe tbody tr th:only-of-type {\n",
       "        vertical-align: middle;\n",
       "    }\n",
       "\n",
       "    .dataframe tbody tr th {\n",
       "        vertical-align: top;\n",
       "    }\n",
       "\n",
       "    .dataframe thead th {\n",
       "        text-align: right;\n",
       "    }\n",
       "</style>\n",
       "<table border=\"1\" class=\"dataframe\">\n",
       "  <thead>\n",
       "    <tr style=\"text-align: right;\">\n",
       "      <th></th>\n",
       "      <th>twitts</th>\n",
       "      <th>sentiment</th>\n",
       "      <th>word_counts</th>\n",
       "      <th>char_counts</th>\n",
       "      <th>avg_word_len</th>\n",
       "      <th>stop_words_len</th>\n",
       "      <th>hashtags_count</th>\n",
       "      <th>mentions_count</th>\n",
       "    </tr>\n",
       "  </thead>\n",
       "  <tbody>\n",
       "    <tr>\n",
       "      <th>0</th>\n",
       "      <td>@switchfoot http://twitpic.com/2y1zl - Awww, t...</td>\n",
       "      <td>0</td>\n",
       "      <td>19</td>\n",
       "      <td>115</td>\n",
       "      <td>48.000000</td>\n",
       "      <td>4</td>\n",
       "      <td>0</td>\n",
       "      <td>1</td>\n",
       "    </tr>\n",
       "    <tr>\n",
       "      <th>1</th>\n",
       "      <td>is upset that he can't update his Facebook by ...</td>\n",
       "      <td>0</td>\n",
       "      <td>21</td>\n",
       "      <td>111</td>\n",
       "      <td>18.000000</td>\n",
       "      <td>9</td>\n",
       "      <td>0</td>\n",
       "      <td>0</td>\n",
       "    </tr>\n",
       "    <tr>\n",
       "      <th>2</th>\n",
       "      <td>@Kenichan I dived many times for the ball. Man...</td>\n",
       "      <td>0</td>\n",
       "      <td>18</td>\n",
       "      <td>89</td>\n",
       "      <td>11.833333</td>\n",
       "      <td>7</td>\n",
       "      <td>0</td>\n",
       "      <td>1</td>\n",
       "    </tr>\n",
       "    <tr>\n",
       "      <th>3</th>\n",
       "      <td>my whole body feels itchy and like its on fire</td>\n",
       "      <td>0</td>\n",
       "      <td>10</td>\n",
       "      <td>47</td>\n",
       "      <td>9.250000</td>\n",
       "      <td>5</td>\n",
       "      <td>0</td>\n",
       "      <td>0</td>\n",
       "    </tr>\n",
       "    <tr>\n",
       "      <th>4</th>\n",
       "      <td>@nationwideclass no, it's not behaving at all....</td>\n",
       "      <td>0</td>\n",
       "      <td>21</td>\n",
       "      <td>111</td>\n",
       "      <td>15.000000</td>\n",
       "      <td>10</td>\n",
       "      <td>0</td>\n",
       "      <td>1</td>\n",
       "    </tr>\n",
       "  </tbody>\n",
       "</table>\n",
       "</div>"
      ],
      "text/plain": [
       "                                              twitts  sentiment  word_counts  \\\n",
       "0  @switchfoot http://twitpic.com/2y1zl - Awww, t...          0           19   \n",
       "1  is upset that he can't update his Facebook by ...          0           21   \n",
       "2  @Kenichan I dived many times for the ball. Man...          0           18   \n",
       "3    my whole body feels itchy and like its on fire           0           10   \n",
       "4  @nationwideclass no, it's not behaving at all....          0           21   \n",
       "\n",
       "   char_counts  avg_word_len  stop_words_len  hashtags_count  mentions_count  \n",
       "0          115     48.000000               4               0               1  \n",
       "1          111     18.000000               9               0               0  \n",
       "2           89     11.833333               7               0               1  \n",
       "3           47      9.250000               5               0               0  \n",
       "4          111     15.000000              10               0               1  "
      ]
     },
     "execution_count": 19,
     "metadata": {},
     "output_type": "execute_result"
    }
   ],
   "source": [
    "df.head()"
   ]
  },
  {
   "cell_type": "markdown",
   "metadata": {},
   "source": [
    "### if numeric digits are present in twitts"
   ]
  },
  {
   "cell_type": "code",
   "execution_count": 20,
   "metadata": {},
   "outputs": [],
   "source": [
    "df['numerics_count'] = df.twitts.apply(lambda x: len([t for t in x.split() if t.isdigit()]))"
   ]
  },
  {
   "cell_type": "code",
   "execution_count": 21,
   "metadata": {},
   "outputs": [
    {
     "data": {
      "text/html": [
       "<div>\n",
       "<style scoped>\n",
       "    .dataframe tbody tr th:only-of-type {\n",
       "        vertical-align: middle;\n",
       "    }\n",
       "\n",
       "    .dataframe tbody tr th {\n",
       "        vertical-align: top;\n",
       "    }\n",
       "\n",
       "    .dataframe thead th {\n",
       "        text-align: right;\n",
       "    }\n",
       "</style>\n",
       "<table border=\"1\" class=\"dataframe\">\n",
       "  <thead>\n",
       "    <tr style=\"text-align: right;\">\n",
       "      <th></th>\n",
       "      <th>twitts</th>\n",
       "      <th>sentiment</th>\n",
       "      <th>word_counts</th>\n",
       "      <th>char_counts</th>\n",
       "      <th>avg_word_len</th>\n",
       "      <th>stop_words_len</th>\n",
       "      <th>hashtags_count</th>\n",
       "      <th>mentions_count</th>\n",
       "      <th>numerics_count</th>\n",
       "    </tr>\n",
       "  </thead>\n",
       "  <tbody>\n",
       "    <tr>\n",
       "      <th>1599995</th>\n",
       "      <td>Just woke up. Having no school is the best fee...</td>\n",
       "      <td>4</td>\n",
       "      <td>11</td>\n",
       "      <td>56</td>\n",
       "      <td>11.250000</td>\n",
       "      <td>4</td>\n",
       "      <td>0</td>\n",
       "      <td>0</td>\n",
       "      <td>0</td>\n",
       "    </tr>\n",
       "    <tr>\n",
       "      <th>1599996</th>\n",
       "      <td>TheWDB.com - Very cool to hear old Walt interv...</td>\n",
       "      <td>4</td>\n",
       "      <td>11</td>\n",
       "      <td>78</td>\n",
       "      <td>3.190476</td>\n",
       "      <td>1</td>\n",
       "      <td>0</td>\n",
       "      <td>0</td>\n",
       "      <td>0</td>\n",
       "    </tr>\n",
       "    <tr>\n",
       "      <th>1599997</th>\n",
       "      <td>Are you ready for your MoJo Makeover? Ask me f...</td>\n",
       "      <td>4</td>\n",
       "      <td>11</td>\n",
       "      <td>57</td>\n",
       "      <td>6.571429</td>\n",
       "      <td>5</td>\n",
       "      <td>0</td>\n",
       "      <td>0</td>\n",
       "      <td>0</td>\n",
       "    </tr>\n",
       "    <tr>\n",
       "      <th>1599998</th>\n",
       "      <td>Happy 38th Birthday to my boo of alll time!!! ...</td>\n",
       "      <td>4</td>\n",
       "      <td>12</td>\n",
       "      <td>65</td>\n",
       "      <td>8.833333</td>\n",
       "      <td>3</td>\n",
       "      <td>0</td>\n",
       "      <td>0</td>\n",
       "      <td>0</td>\n",
       "    </tr>\n",
       "    <tr>\n",
       "      <th>1599999</th>\n",
       "      <td>happy #charitytuesday @theNSPCC @SparksCharity...</td>\n",
       "      <td>4</td>\n",
       "      <td>5</td>\n",
       "      <td>62</td>\n",
       "      <td>4.071429</td>\n",
       "      <td>0</td>\n",
       "      <td>1</td>\n",
       "      <td>3</td>\n",
       "      <td>0</td>\n",
       "    </tr>\n",
       "  </tbody>\n",
       "</table>\n",
       "</div>"
      ],
      "text/plain": [
       "                                                    twitts  sentiment  \\\n",
       "1599995  Just woke up. Having no school is the best fee...          4   \n",
       "1599996  TheWDB.com - Very cool to hear old Walt interv...          4   \n",
       "1599997  Are you ready for your MoJo Makeover? Ask me f...          4   \n",
       "1599998  Happy 38th Birthday to my boo of alll time!!! ...          4   \n",
       "1599999  happy #charitytuesday @theNSPCC @SparksCharity...          4   \n",
       "\n",
       "         word_counts  char_counts  avg_word_len  stop_words_len  \\\n",
       "1599995           11           56     11.250000               4   \n",
       "1599996           11           78      3.190476               1   \n",
       "1599997           11           57      6.571429               5   \n",
       "1599998           12           65      8.833333               3   \n",
       "1599999            5           62      4.071429               0   \n",
       "\n",
       "         hashtags_count  mentions_count  numerics_count  \n",
       "1599995               0               0               0  \n",
       "1599996               0               0               0  \n",
       "1599997               0               0               0  \n",
       "1599998               0               0               0  \n",
       "1599999               1               3               0  "
      ]
     },
     "execution_count": 21,
     "metadata": {},
     "output_type": "execute_result"
    }
   ],
   "source": [
    "df.tail()"
   ]
  },
  {
   "cell_type": "markdown",
   "metadata": {},
   "source": [
    "### Upper case words count"
   ]
  },
  {
   "cell_type": "code",
   "execution_count": 22,
   "metadata": {},
   "outputs": [],
   "source": [
    "df['upper_counts'] = df.twitts.apply(lambda x: len([t for t in x.split() if t.isupper() and len(x)>3]))"
   ]
  },
  {
   "cell_type": "code",
   "execution_count": 23,
   "metadata": {},
   "outputs": [
    {
     "data": {
      "text/html": [
       "<div>\n",
       "<style scoped>\n",
       "    .dataframe tbody tr th:only-of-type {\n",
       "        vertical-align: middle;\n",
       "    }\n",
       "\n",
       "    .dataframe tbody tr th {\n",
       "        vertical-align: top;\n",
       "    }\n",
       "\n",
       "    .dataframe thead th {\n",
       "        text-align: right;\n",
       "    }\n",
       "</style>\n",
       "<table border=\"1\" class=\"dataframe\">\n",
       "  <thead>\n",
       "    <tr style=\"text-align: right;\">\n",
       "      <th></th>\n",
       "      <th>twitts</th>\n",
       "      <th>sentiment</th>\n",
       "      <th>word_counts</th>\n",
       "      <th>char_counts</th>\n",
       "      <th>avg_word_len</th>\n",
       "      <th>stop_words_len</th>\n",
       "      <th>hashtags_count</th>\n",
       "      <th>mentions_count</th>\n",
       "      <th>numerics_count</th>\n",
       "      <th>upper_counts</th>\n",
       "    </tr>\n",
       "  </thead>\n",
       "  <tbody>\n",
       "    <tr>\n",
       "      <th>0</th>\n",
       "      <td>@switchfoot http://twitpic.com/2y1zl - Awww, t...</td>\n",
       "      <td>0</td>\n",
       "      <td>19</td>\n",
       "      <td>115</td>\n",
       "      <td>48.000000</td>\n",
       "      <td>4</td>\n",
       "      <td>0</td>\n",
       "      <td>1</td>\n",
       "      <td>0</td>\n",
       "      <td>1</td>\n",
       "    </tr>\n",
       "    <tr>\n",
       "      <th>1</th>\n",
       "      <td>is upset that he can't update his Facebook by ...</td>\n",
       "      <td>0</td>\n",
       "      <td>21</td>\n",
       "      <td>111</td>\n",
       "      <td>18.000000</td>\n",
       "      <td>9</td>\n",
       "      <td>0</td>\n",
       "      <td>0</td>\n",
       "      <td>0</td>\n",
       "      <td>0</td>\n",
       "    </tr>\n",
       "    <tr>\n",
       "      <th>2</th>\n",
       "      <td>@Kenichan I dived many times for the ball. Man...</td>\n",
       "      <td>0</td>\n",
       "      <td>18</td>\n",
       "      <td>89</td>\n",
       "      <td>11.833333</td>\n",
       "      <td>7</td>\n",
       "      <td>0</td>\n",
       "      <td>1</td>\n",
       "      <td>0</td>\n",
       "      <td>1</td>\n",
       "    </tr>\n",
       "    <tr>\n",
       "      <th>3</th>\n",
       "      <td>my whole body feels itchy and like its on fire</td>\n",
       "      <td>0</td>\n",
       "      <td>10</td>\n",
       "      <td>47</td>\n",
       "      <td>9.250000</td>\n",
       "      <td>5</td>\n",
       "      <td>0</td>\n",
       "      <td>0</td>\n",
       "      <td>0</td>\n",
       "      <td>0</td>\n",
       "    </tr>\n",
       "    <tr>\n",
       "      <th>4</th>\n",
       "      <td>@nationwideclass no, it's not behaving at all....</td>\n",
       "      <td>0</td>\n",
       "      <td>21</td>\n",
       "      <td>111</td>\n",
       "      <td>15.000000</td>\n",
       "      <td>10</td>\n",
       "      <td>0</td>\n",
       "      <td>1</td>\n",
       "      <td>0</td>\n",
       "      <td>1</td>\n",
       "    </tr>\n",
       "  </tbody>\n",
       "</table>\n",
       "</div>"
      ],
      "text/plain": [
       "                                              twitts  sentiment  word_counts  \\\n",
       "0  @switchfoot http://twitpic.com/2y1zl - Awww, t...          0           19   \n",
       "1  is upset that he can't update his Facebook by ...          0           21   \n",
       "2  @Kenichan I dived many times for the ball. Man...          0           18   \n",
       "3    my whole body feels itchy and like its on fire           0           10   \n",
       "4  @nationwideclass no, it's not behaving at all....          0           21   \n",
       "\n",
       "   char_counts  avg_word_len  stop_words_len  hashtags_count  mentions_count  \\\n",
       "0          115     48.000000               4               0               1   \n",
       "1          111     18.000000               9               0               0   \n",
       "2           89     11.833333               7               0               1   \n",
       "3           47      9.250000               5               0               0   \n",
       "4          111     15.000000              10               0               1   \n",
       "\n",
       "   numerics_count  upper_counts  \n",
       "0               0             1  \n",
       "1               0             0  \n",
       "2               0             1  \n",
       "3               0             0  \n",
       "4               0             1  "
      ]
     },
     "execution_count": 23,
     "metadata": {},
     "output_type": "execute_result"
    }
   ],
   "source": [
    "df.head()"
   ]
  },
  {
   "cell_type": "markdown",
   "metadata": {},
   "source": [
    "## Preprocessing and Cleaning"
   ]
  },
  {
   "cell_type": "markdown",
   "metadata": {},
   "source": [
    "### Lower case conversion"
   ]
  },
  {
   "cell_type": "code",
   "execution_count": 24,
   "metadata": {},
   "outputs": [],
   "source": [
    "df.twitts = df.twitts.apply(lambda x: x.lower())"
   ]
  },
  {
   "cell_type": "code",
   "execution_count": 25,
   "metadata": {},
   "outputs": [
    {
     "data": {
      "text/html": [
       "<div>\n",
       "<style scoped>\n",
       "    .dataframe tbody tr th:only-of-type {\n",
       "        vertical-align: middle;\n",
       "    }\n",
       "\n",
       "    .dataframe tbody tr th {\n",
       "        vertical-align: top;\n",
       "    }\n",
       "\n",
       "    .dataframe thead th {\n",
       "        text-align: right;\n",
       "    }\n",
       "</style>\n",
       "<table border=\"1\" class=\"dataframe\">\n",
       "  <thead>\n",
       "    <tr style=\"text-align: right;\">\n",
       "      <th></th>\n",
       "      <th>twitts</th>\n",
       "      <th>sentiment</th>\n",
       "      <th>word_counts</th>\n",
       "      <th>char_counts</th>\n",
       "      <th>avg_word_len</th>\n",
       "      <th>stop_words_len</th>\n",
       "      <th>hashtags_count</th>\n",
       "      <th>mentions_count</th>\n",
       "      <th>numerics_count</th>\n",
       "      <th>upper_counts</th>\n",
       "    </tr>\n",
       "  </thead>\n",
       "  <tbody>\n",
       "    <tr>\n",
       "      <th>0</th>\n",
       "      <td>@switchfoot http://twitpic.com/2y1zl - awww, t...</td>\n",
       "      <td>0</td>\n",
       "      <td>19</td>\n",
       "      <td>115</td>\n",
       "      <td>48.0</td>\n",
       "      <td>4</td>\n",
       "      <td>0</td>\n",
       "      <td>1</td>\n",
       "      <td>0</td>\n",
       "      <td>1</td>\n",
       "    </tr>\n",
       "    <tr>\n",
       "      <th>1</th>\n",
       "      <td>is upset that he can't update his facebook by ...</td>\n",
       "      <td>0</td>\n",
       "      <td>21</td>\n",
       "      <td>111</td>\n",
       "      <td>18.0</td>\n",
       "      <td>9</td>\n",
       "      <td>0</td>\n",
       "      <td>0</td>\n",
       "      <td>0</td>\n",
       "      <td>0</td>\n",
       "    </tr>\n",
       "  </tbody>\n",
       "</table>\n",
       "</div>"
      ],
      "text/plain": [
       "                                              twitts  sentiment  word_counts  \\\n",
       "0  @switchfoot http://twitpic.com/2y1zl - awww, t...          0           19   \n",
       "1  is upset that he can't update his facebook by ...          0           21   \n",
       "\n",
       "   char_counts  avg_word_len  stop_words_len  hashtags_count  mentions_count  \\\n",
       "0          115          48.0               4               0               1   \n",
       "1          111          18.0               9               0               0   \n",
       "\n",
       "   numerics_count  upper_counts  \n",
       "0               0             1  \n",
       "1               0             0  "
      ]
     },
     "execution_count": 25,
     "metadata": {},
     "output_type": "execute_result"
    }
   ],
   "source": [
    "df.head(2)"
   ]
  },
  {
   "cell_type": "markdown",
   "metadata": {},
   "source": [
    "### Contration to Expansion"
   ]
  },
  {
   "cell_type": "code",
   "execution_count": 26,
   "metadata": {},
   "outputs": [
    {
     "name": "stdout",
     "output_type": "stream",
     "text": [
      "Requirement already satisfied: contractions in /home/rakesh/anaconda3/lib/python3.8/site-packages (0.0.45)\n",
      "Requirement already satisfied: textsearch in /home/rakesh/anaconda3/lib/python3.8/site-packages (from contractions) (0.0.17)\n",
      "Requirement already satisfied: pyahocorasick in /home/rakesh/anaconda3/lib/python3.8/site-packages (from textsearch->contractions) (1.4.0)\n",
      "Requirement already satisfied: Unidecode in /home/rakesh/anaconda3/lib/python3.8/site-packages (from textsearch->contractions) (1.1.2)\n"
     ]
    }
   ],
   "source": [
    "!pip install contractions"
   ]
  },
  {
   "cell_type": "code",
   "execution_count": 27,
   "metadata": {},
   "outputs": [],
   "source": [
    "#Contraction Example\n",
    "x = \"i don't know what you want, can't, he'll, i'd\""
   ]
  },
  {
   "cell_type": "code",
   "execution_count": 28,
   "metadata": {},
   "outputs": [
    {
     "data": {
      "text/plain": [
       "'i do not know what you want, can not, he will, I would'"
      ]
     },
     "execution_count": 28,
     "metadata": {},
     "output_type": "execute_result"
    }
   ],
   "source": [
    "contractions.fix(x)"
   ]
  },
  {
   "cell_type": "code",
   "execution_count": 29,
   "metadata": {},
   "outputs": [
    {
     "name": "stdout",
     "output_type": "stream",
     "text": [
      "CPU times: user 16.1 s, sys: 67.6 ms, total: 16.2 s\n",
      "Wall time: 16.2 s\n"
     ]
    }
   ],
   "source": [
    "%%time\n",
    "df.twitts = df.twitts.apply(lambda x: contractions.fix(x))"
   ]
  },
  {
   "cell_type": "code",
   "execution_count": 30,
   "metadata": {},
   "outputs": [
    {
     "data": {
      "text/html": [
       "<div>\n",
       "<style scoped>\n",
       "    .dataframe tbody tr th:only-of-type {\n",
       "        vertical-align: middle;\n",
       "    }\n",
       "\n",
       "    .dataframe tbody tr th {\n",
       "        vertical-align: top;\n",
       "    }\n",
       "\n",
       "    .dataframe thead th {\n",
       "        text-align: right;\n",
       "    }\n",
       "</style>\n",
       "<table border=\"1\" class=\"dataframe\">\n",
       "  <thead>\n",
       "    <tr style=\"text-align: right;\">\n",
       "      <th></th>\n",
       "      <th>twitts</th>\n",
       "      <th>sentiment</th>\n",
       "      <th>word_counts</th>\n",
       "      <th>char_counts</th>\n",
       "      <th>avg_word_len</th>\n",
       "      <th>stop_words_len</th>\n",
       "      <th>hashtags_count</th>\n",
       "      <th>mentions_count</th>\n",
       "      <th>numerics_count</th>\n",
       "      <th>upper_counts</th>\n",
       "    </tr>\n",
       "  </thead>\n",
       "  <tbody>\n",
       "    <tr>\n",
       "      <th>0</th>\n",
       "      <td>@switchfoot http://twitpic.com/2y1zl - awww, t...</td>\n",
       "      <td>0</td>\n",
       "      <td>19</td>\n",
       "      <td>115</td>\n",
       "      <td>48.000000</td>\n",
       "      <td>4</td>\n",
       "      <td>0</td>\n",
       "      <td>1</td>\n",
       "      <td>0</td>\n",
       "      <td>1</td>\n",
       "    </tr>\n",
       "    <tr>\n",
       "      <th>1</th>\n",
       "      <td>is upset that he can not update his facebook b...</td>\n",
       "      <td>0</td>\n",
       "      <td>21</td>\n",
       "      <td>111</td>\n",
       "      <td>18.000000</td>\n",
       "      <td>9</td>\n",
       "      <td>0</td>\n",
       "      <td>0</td>\n",
       "      <td>0</td>\n",
       "      <td>0</td>\n",
       "    </tr>\n",
       "    <tr>\n",
       "      <th>2</th>\n",
       "      <td>@kenichan i dived many times for the ball. man...</td>\n",
       "      <td>0</td>\n",
       "      <td>18</td>\n",
       "      <td>89</td>\n",
       "      <td>11.833333</td>\n",
       "      <td>7</td>\n",
       "      <td>0</td>\n",
       "      <td>1</td>\n",
       "      <td>0</td>\n",
       "      <td>1</td>\n",
       "    </tr>\n",
       "    <tr>\n",
       "      <th>3</th>\n",
       "      <td>my whole body feels itchy and like its on fire</td>\n",
       "      <td>0</td>\n",
       "      <td>10</td>\n",
       "      <td>47</td>\n",
       "      <td>9.250000</td>\n",
       "      <td>5</td>\n",
       "      <td>0</td>\n",
       "      <td>0</td>\n",
       "      <td>0</td>\n",
       "      <td>0</td>\n",
       "    </tr>\n",
       "    <tr>\n",
       "      <th>4</th>\n",
       "      <td>@nationwideclass no, it is not behaving at all...</td>\n",
       "      <td>0</td>\n",
       "      <td>21</td>\n",
       "      <td>111</td>\n",
       "      <td>15.000000</td>\n",
       "      <td>10</td>\n",
       "      <td>0</td>\n",
       "      <td>1</td>\n",
       "      <td>0</td>\n",
       "      <td>1</td>\n",
       "    </tr>\n",
       "  </tbody>\n",
       "</table>\n",
       "</div>"
      ],
      "text/plain": [
       "                                              twitts  sentiment  word_counts  \\\n",
       "0  @switchfoot http://twitpic.com/2y1zl - awww, t...          0           19   \n",
       "1  is upset that he can not update his facebook b...          0           21   \n",
       "2  @kenichan i dived many times for the ball. man...          0           18   \n",
       "3    my whole body feels itchy and like its on fire           0           10   \n",
       "4  @nationwideclass no, it is not behaving at all...          0           21   \n",
       "\n",
       "   char_counts  avg_word_len  stop_words_len  hashtags_count  mentions_count  \\\n",
       "0          115     48.000000               4               0               1   \n",
       "1          111     18.000000               9               0               0   \n",
       "2           89     11.833333               7               0               1   \n",
       "3           47      9.250000               5               0               0   \n",
       "4          111     15.000000              10               0               1   \n",
       "\n",
       "   numerics_count  upper_counts  \n",
       "0               0             1  \n",
       "1               0             0  \n",
       "2               0             1  \n",
       "3               0             0  \n",
       "4               0             1  "
      ]
     },
     "execution_count": 30,
     "metadata": {},
     "output_type": "execute_result"
    }
   ],
   "source": [
    "df.head()"
   ]
  },
  {
   "cell_type": "markdown",
   "metadata": {},
   "source": [
    "### Count and Remove Emails"
   ]
  },
  {
   "cell_type": "code",
   "execution_count": 31,
   "metadata": {},
   "outputs": [],
   "source": [
    "import re"
   ]
  },
  {
   "cell_type": "code",
   "execution_count": 32,
   "metadata": {},
   "outputs": [],
   "source": [
    "x = 'hi, my mail id is rakesh.panigrahy123@gmail.com and lucky_panigrahy@gmail.com'"
   ]
  },
  {
   "cell_type": "code",
   "execution_count": 33,
   "metadata": {},
   "outputs": [
    {
     "data": {
      "text/plain": [
       "['rakesh.panigrahy123@gmail.com', 'lucky_panigrahy@gmail.com']"
      ]
     },
     "execution_count": 33,
     "metadata": {},
     "output_type": "execute_result"
    }
   ],
   "source": [
    "re.findall(r'([a-zA-Z0-9+._-]+@[a-zA-Z0-9+._-]+\\.[a-zA-Z0-9]+)', x)"
   ]
  },
  {
   "cell_type": "code",
   "execution_count": 34,
   "metadata": {},
   "outputs": [],
   "source": [
    "df['emails'] = df.twitts.apply(lambda x: re.findall(r'([a-zA-Z0-9+._-]+@[a-zA-Z0-9+._-]+\\.[a-zA-Z0-9]+)', x))"
   ]
  },
  {
   "cell_type": "code",
   "execution_count": 35,
   "metadata": {},
   "outputs": [],
   "source": [
    "df['emails_count'] = df.emails.apply(lambda x: len(x))"
   ]
  },
  {
   "cell_type": "code",
   "execution_count": 36,
   "metadata": {},
   "outputs": [
    {
     "data": {
      "text/html": [
       "<div>\n",
       "<style scoped>\n",
       "    .dataframe tbody tr th:only-of-type {\n",
       "        vertical-align: middle;\n",
       "    }\n",
       "\n",
       "    .dataframe tbody tr th {\n",
       "        vertical-align: top;\n",
       "    }\n",
       "\n",
       "    .dataframe thead th {\n",
       "        text-align: right;\n",
       "    }\n",
       "</style>\n",
       "<table border=\"1\" class=\"dataframe\">\n",
       "  <thead>\n",
       "    <tr style=\"text-align: right;\">\n",
       "      <th></th>\n",
       "      <th>twitts</th>\n",
       "      <th>sentiment</th>\n",
       "      <th>word_counts</th>\n",
       "      <th>char_counts</th>\n",
       "      <th>avg_word_len</th>\n",
       "      <th>stop_words_len</th>\n",
       "      <th>hashtags_count</th>\n",
       "      <th>mentions_count</th>\n",
       "      <th>numerics_count</th>\n",
       "      <th>upper_counts</th>\n",
       "      <th>emails</th>\n",
       "      <th>emails_count</th>\n",
       "    </tr>\n",
       "  </thead>\n",
       "  <tbody>\n",
       "    <tr>\n",
       "      <th>4054</th>\n",
       "      <td>i want a new laptop.  hp tx2000 is the bomb. :...</td>\n",
       "      <td>0</td>\n",
       "      <td>20</td>\n",
       "      <td>103</td>\n",
       "      <td>3.772727</td>\n",
       "      <td>6</td>\n",
       "      <td>0</td>\n",
       "      <td>0</td>\n",
       "      <td>0</td>\n",
       "      <td>4</td>\n",
       "      <td>[gabbehhramos@yahoo.com]</td>\n",
       "      <td>1</td>\n",
       "    </tr>\n",
       "    <tr>\n",
       "      <th>7917</th>\n",
       "      <td>who stole elledell@gmail.com?</td>\n",
       "      <td>0</td>\n",
       "      <td>3</td>\n",
       "      <td>31</td>\n",
       "      <td>1.421053</td>\n",
       "      <td>1</td>\n",
       "      <td>0</td>\n",
       "      <td>0</td>\n",
       "      <td>0</td>\n",
       "      <td>0</td>\n",
       "      <td>[elledell@gmail.com]</td>\n",
       "      <td>1</td>\n",
       "    </tr>\n",
       "    <tr>\n",
       "      <th>8496</th>\n",
       "      <td>@alexistehpom  really? did you send out all th...</td>\n",
       "      <td>0</td>\n",
       "      <td>20</td>\n",
       "      <td>130</td>\n",
       "      <td>5.500000</td>\n",
       "      <td>11</td>\n",
       "      <td>0</td>\n",
       "      <td>1</td>\n",
       "      <td>0</td>\n",
       "      <td>0</td>\n",
       "      <td>[missataari@gmail.com]</td>\n",
       "      <td>1</td>\n",
       "    </tr>\n",
       "    <tr>\n",
       "      <th>10290</th>\n",
       "      <td>@laureystack awh...that is kind of sad  lol ad...</td>\n",
       "      <td>0</td>\n",
       "      <td>8</td>\n",
       "      <td>76</td>\n",
       "      <td>2.615385</td>\n",
       "      <td>0</td>\n",
       "      <td>0</td>\n",
       "      <td>1</td>\n",
       "      <td>0</td>\n",
       "      <td>0</td>\n",
       "      <td>[hello.kitty.65@hotmail.com]</td>\n",
       "      <td>1</td>\n",
       "    </tr>\n",
       "    <tr>\n",
       "      <th>16413</th>\n",
       "      <td>@jilliancyork  got 2 bottom of it, human error...</td>\n",
       "      <td>0</td>\n",
       "      <td>21</td>\n",
       "      <td>137</td>\n",
       "      <td>16.285714</td>\n",
       "      <td>7</td>\n",
       "      <td>0</td>\n",
       "      <td>1</td>\n",
       "      <td>1</td>\n",
       "      <td>0</td>\n",
       "      <td>[press@linkedin.com]</td>\n",
       "      <td>1</td>\n",
       "    </tr>\n",
       "  </tbody>\n",
       "</table>\n",
       "</div>"
      ],
      "text/plain": [
       "                                                  twitts  sentiment  \\\n",
       "4054   i want a new laptop.  hp tx2000 is the bomb. :...          0   \n",
       "7917                     who stole elledell@gmail.com?            0   \n",
       "8496   @alexistehpom  really? did you send out all th...          0   \n",
       "10290  @laureystack awh...that is kind of sad  lol ad...          0   \n",
       "16413  @jilliancyork  got 2 bottom of it, human error...          0   \n",
       "\n",
       "       word_counts  char_counts  avg_word_len  stop_words_len  hashtags_count  \\\n",
       "4054            20          103      3.772727               6               0   \n",
       "7917             3           31      1.421053               1               0   \n",
       "8496            20          130      5.500000              11               0   \n",
       "10290            8           76      2.615385               0               0   \n",
       "16413           21          137     16.285714               7               0   \n",
       "\n",
       "       mentions_count  numerics_count  upper_counts  \\\n",
       "4054                0               0             4   \n",
       "7917                0               0             0   \n",
       "8496                1               0             0   \n",
       "10290               1               0             0   \n",
       "16413               1               1             0   \n",
       "\n",
       "                             emails  emails_count  \n",
       "4054       [gabbehhramos@yahoo.com]             1  \n",
       "7917           [elledell@gmail.com]             1  \n",
       "8496         [missataari@gmail.com]             1  \n",
       "10290  [hello.kitty.65@hotmail.com]             1  \n",
       "16413          [press@linkedin.com]             1  "
      ]
     },
     "execution_count": 36,
     "metadata": {},
     "output_type": "execute_result"
    }
   ],
   "source": [
    "df[df.emails_count > 0].head()"
   ]
  },
  {
   "cell_type": "code",
   "execution_count": 37,
   "metadata": {},
   "outputs": [
    {
     "data": {
      "text/plain": [
       "'hi, my mail id is rakesh.panigrahy123@gmail.com and lucky_panigrahy@gmail.com'"
      ]
     },
     "execution_count": 37,
     "metadata": {},
     "output_type": "execute_result"
    }
   ],
   "source": [
    "x"
   ]
  },
  {
   "cell_type": "code",
   "execution_count": 38,
   "metadata": {},
   "outputs": [
    {
     "data": {
      "text/plain": [
       "'hi, my mail id is  and '"
      ]
     },
     "execution_count": 38,
     "metadata": {},
     "output_type": "execute_result"
    }
   ],
   "source": [
    "re.sub(r'([a-zA-Z0-9+._-]+@[a-zA-Z0-9+._-]+\\.[a-zA-Z0-9]+)', '', x)"
   ]
  },
  {
   "cell_type": "code",
   "execution_count": 39,
   "metadata": {},
   "outputs": [],
   "source": [
    "df['twitts'] = df.twitts.apply(lambda x: re.sub(r'([a-zA-Z0-9+._-]+@[a-zA-Z0-9+._-]+\\.[a-zA-Z0-9]+)', '', x))"
   ]
  },
  {
   "cell_type": "code",
   "execution_count": 40,
   "metadata": {},
   "outputs": [
    {
     "data": {
      "text/html": [
       "<div>\n",
       "<style scoped>\n",
       "    .dataframe tbody tr th:only-of-type {\n",
       "        vertical-align: middle;\n",
       "    }\n",
       "\n",
       "    .dataframe tbody tr th {\n",
       "        vertical-align: top;\n",
       "    }\n",
       "\n",
       "    .dataframe thead th {\n",
       "        text-align: right;\n",
       "    }\n",
       "</style>\n",
       "<table border=\"1\" class=\"dataframe\">\n",
       "  <thead>\n",
       "    <tr style=\"text-align: right;\">\n",
       "      <th></th>\n",
       "      <th>twitts</th>\n",
       "      <th>sentiment</th>\n",
       "      <th>word_counts</th>\n",
       "      <th>char_counts</th>\n",
       "      <th>avg_word_len</th>\n",
       "      <th>stop_words_len</th>\n",
       "      <th>hashtags_count</th>\n",
       "      <th>mentions_count</th>\n",
       "      <th>numerics_count</th>\n",
       "      <th>upper_counts</th>\n",
       "      <th>emails</th>\n",
       "      <th>emails_count</th>\n",
       "    </tr>\n",
       "  </thead>\n",
       "  <tbody>\n",
       "    <tr>\n",
       "      <th>4054</th>\n",
       "      <td>i want a new laptop.  hp tx2000 is the bomb. :...</td>\n",
       "      <td>0</td>\n",
       "      <td>20</td>\n",
       "      <td>103</td>\n",
       "      <td>3.772727</td>\n",
       "      <td>6</td>\n",
       "      <td>0</td>\n",
       "      <td>0</td>\n",
       "      <td>0</td>\n",
       "      <td>4</td>\n",
       "      <td>[gabbehhramos@yahoo.com]</td>\n",
       "      <td>1</td>\n",
       "    </tr>\n",
       "    <tr>\n",
       "      <th>7917</th>\n",
       "      <td>who stole ?</td>\n",
       "      <td>0</td>\n",
       "      <td>3</td>\n",
       "      <td>31</td>\n",
       "      <td>1.421053</td>\n",
       "      <td>1</td>\n",
       "      <td>0</td>\n",
       "      <td>0</td>\n",
       "      <td>0</td>\n",
       "      <td>0</td>\n",
       "      <td>[elledell@gmail.com]</td>\n",
       "      <td>1</td>\n",
       "    </tr>\n",
       "    <tr>\n",
       "      <th>8496</th>\n",
       "      <td>@alexistehpom  really? did you send out all th...</td>\n",
       "      <td>0</td>\n",
       "      <td>20</td>\n",
       "      <td>130</td>\n",
       "      <td>5.500000</td>\n",
       "      <td>11</td>\n",
       "      <td>0</td>\n",
       "      <td>1</td>\n",
       "      <td>0</td>\n",
       "      <td>0</td>\n",
       "      <td>[missataari@gmail.com]</td>\n",
       "      <td>1</td>\n",
       "    </tr>\n",
       "    <tr>\n",
       "      <th>10290</th>\n",
       "      <td>@laureystack awh...that is kind of sad  lol ad...</td>\n",
       "      <td>0</td>\n",
       "      <td>8</td>\n",
       "      <td>76</td>\n",
       "      <td>2.615385</td>\n",
       "      <td>0</td>\n",
       "      <td>0</td>\n",
       "      <td>1</td>\n",
       "      <td>0</td>\n",
       "      <td>0</td>\n",
       "      <td>[hello.kitty.65@hotmail.com]</td>\n",
       "      <td>1</td>\n",
       "    </tr>\n",
       "    <tr>\n",
       "      <th>16413</th>\n",
       "      <td>@jilliancyork  got 2 bottom of it, human error...</td>\n",
       "      <td>0</td>\n",
       "      <td>21</td>\n",
       "      <td>137</td>\n",
       "      <td>16.285714</td>\n",
       "      <td>7</td>\n",
       "      <td>0</td>\n",
       "      <td>1</td>\n",
       "      <td>1</td>\n",
       "      <td>0</td>\n",
       "      <td>[press@linkedin.com]</td>\n",
       "      <td>1</td>\n",
       "    </tr>\n",
       "  </tbody>\n",
       "</table>\n",
       "</div>"
      ],
      "text/plain": [
       "                                                  twitts  sentiment  \\\n",
       "4054   i want a new laptop.  hp tx2000 is the bomb. :...          0   \n",
       "7917                                       who stole ?            0   \n",
       "8496   @alexistehpom  really? did you send out all th...          0   \n",
       "10290  @laureystack awh...that is kind of sad  lol ad...          0   \n",
       "16413  @jilliancyork  got 2 bottom of it, human error...          0   \n",
       "\n",
       "       word_counts  char_counts  avg_word_len  stop_words_len  hashtags_count  \\\n",
       "4054            20          103      3.772727               6               0   \n",
       "7917             3           31      1.421053               1               0   \n",
       "8496            20          130      5.500000              11               0   \n",
       "10290            8           76      2.615385               0               0   \n",
       "16413           21          137     16.285714               7               0   \n",
       "\n",
       "       mentions_count  numerics_count  upper_counts  \\\n",
       "4054                0               0             4   \n",
       "7917                0               0             0   \n",
       "8496                1               0             0   \n",
       "10290               1               0             0   \n",
       "16413               1               1             0   \n",
       "\n",
       "                             emails  emails_count  \n",
       "4054       [gabbehhramos@yahoo.com]             1  \n",
       "7917           [elledell@gmail.com]             1  \n",
       "8496         [missataari@gmail.com]             1  \n",
       "10290  [hello.kitty.65@hotmail.com]             1  \n",
       "16413          [press@linkedin.com]             1  "
      ]
     },
     "execution_count": 40,
     "metadata": {},
     "output_type": "execute_result"
    }
   ],
   "source": [
    "df[df.emails_count > 0].head()"
   ]
  },
  {
   "cell_type": "markdown",
   "metadata": {},
   "source": [
    "### Count URLs and remove"
   ]
  },
  {
   "cell_type": "code",
   "execution_count": 41,
   "metadata": {},
   "outputs": [],
   "source": [
    "x = 'hi, to watch more visit https://youtube.com/kgptalkies and https://www.w3resource.com/python-exercises/re/python-re-exercise-42.php?passed=passed'\n",
    "regex = 'http[s]?://(?:[a-zA-Z]|[0-9]|[$-_@.&+]|[!*\\(\\),]|(?:%[0-9a-fA-F][0-9a-fA-F]))+'"
   ]
  },
  {
   "cell_type": "code",
   "execution_count": 42,
   "metadata": {},
   "outputs": [
    {
     "data": {
      "text/plain": [
       "['https://youtube.com/kgptalkies',\n",
       " 'https://www.w3resource.com/python-exercises/re/python-re-exercise-42.php?passed=passed']"
      ]
     },
     "execution_count": 42,
     "metadata": {},
     "output_type": "execute_result"
    }
   ],
   "source": [
    "re.findall(regex,x)"
   ]
  },
  {
   "cell_type": "code",
   "execution_count": 43,
   "metadata": {},
   "outputs": [],
   "source": [
    "df['urls_flag'] = df.twitts.apply(lambda x: re.findall(regex,x))"
   ]
  },
  {
   "cell_type": "code",
   "execution_count": 44,
   "metadata": {},
   "outputs": [
    {
     "data": {
      "text/plain": [
       "'hi, to watch more visit  and '"
      ]
     },
     "execution_count": 44,
     "metadata": {},
     "output_type": "execute_result"
    }
   ],
   "source": [
    "re.sub(regex, '', x)"
   ]
  },
  {
   "cell_type": "code",
   "execution_count": 45,
   "metadata": {},
   "outputs": [],
   "source": [
    "df['twitts'] = df.twitts.apply(lambda x: re.sub(regex, '', x))"
   ]
  },
  {
   "cell_type": "code",
   "execution_count": 46,
   "metadata": {},
   "outputs": [
    {
     "data": {
      "text/html": [
       "<div>\n",
       "<style scoped>\n",
       "    .dataframe tbody tr th:only-of-type {\n",
       "        vertical-align: middle;\n",
       "    }\n",
       "\n",
       "    .dataframe tbody tr th {\n",
       "        vertical-align: top;\n",
       "    }\n",
       "\n",
       "    .dataframe thead th {\n",
       "        text-align: right;\n",
       "    }\n",
       "</style>\n",
       "<table border=\"1\" class=\"dataframe\">\n",
       "  <thead>\n",
       "    <tr style=\"text-align: right;\">\n",
       "      <th></th>\n",
       "      <th>twitts</th>\n",
       "      <th>sentiment</th>\n",
       "      <th>word_counts</th>\n",
       "      <th>char_counts</th>\n",
       "      <th>avg_word_len</th>\n",
       "      <th>stop_words_len</th>\n",
       "      <th>hashtags_count</th>\n",
       "      <th>mentions_count</th>\n",
       "      <th>numerics_count</th>\n",
       "      <th>upper_counts</th>\n",
       "      <th>emails</th>\n",
       "      <th>emails_count</th>\n",
       "      <th>urls_flag</th>\n",
       "    </tr>\n",
       "  </thead>\n",
       "  <tbody>\n",
       "    <tr>\n",
       "      <th>0</th>\n",
       "      <td>@switchfoot  - awww, that is a bummer.  you sh...</td>\n",
       "      <td>0</td>\n",
       "      <td>19</td>\n",
       "      <td>115</td>\n",
       "      <td>48.000000</td>\n",
       "      <td>4</td>\n",
       "      <td>0</td>\n",
       "      <td>1</td>\n",
       "      <td>0</td>\n",
       "      <td>1</td>\n",
       "      <td>[]</td>\n",
       "      <td>0</td>\n",
       "      <td>[http://twitpic.com/2y1zl]</td>\n",
       "    </tr>\n",
       "    <tr>\n",
       "      <th>1</th>\n",
       "      <td>is upset that he can not update his facebook b...</td>\n",
       "      <td>0</td>\n",
       "      <td>21</td>\n",
       "      <td>111</td>\n",
       "      <td>18.000000</td>\n",
       "      <td>9</td>\n",
       "      <td>0</td>\n",
       "      <td>0</td>\n",
       "      <td>0</td>\n",
       "      <td>0</td>\n",
       "      <td>[]</td>\n",
       "      <td>0</td>\n",
       "      <td>[]</td>\n",
       "    </tr>\n",
       "    <tr>\n",
       "      <th>2</th>\n",
       "      <td>@kenichan i dived many times for the ball. man...</td>\n",
       "      <td>0</td>\n",
       "      <td>18</td>\n",
       "      <td>89</td>\n",
       "      <td>11.833333</td>\n",
       "      <td>7</td>\n",
       "      <td>0</td>\n",
       "      <td>1</td>\n",
       "      <td>0</td>\n",
       "      <td>1</td>\n",
       "      <td>[]</td>\n",
       "      <td>0</td>\n",
       "      <td>[]</td>\n",
       "    </tr>\n",
       "    <tr>\n",
       "      <th>3</th>\n",
       "      <td>my whole body feels itchy and like its on fire</td>\n",
       "      <td>0</td>\n",
       "      <td>10</td>\n",
       "      <td>47</td>\n",
       "      <td>9.250000</td>\n",
       "      <td>5</td>\n",
       "      <td>0</td>\n",
       "      <td>0</td>\n",
       "      <td>0</td>\n",
       "      <td>0</td>\n",
       "      <td>[]</td>\n",
       "      <td>0</td>\n",
       "      <td>[]</td>\n",
       "    </tr>\n",
       "    <tr>\n",
       "      <th>4</th>\n",
       "      <td>@nationwideclass no, it is not behaving at all...</td>\n",
       "      <td>0</td>\n",
       "      <td>21</td>\n",
       "      <td>111</td>\n",
       "      <td>15.000000</td>\n",
       "      <td>10</td>\n",
       "      <td>0</td>\n",
       "      <td>1</td>\n",
       "      <td>0</td>\n",
       "      <td>1</td>\n",
       "      <td>[]</td>\n",
       "      <td>0</td>\n",
       "      <td>[]</td>\n",
       "    </tr>\n",
       "  </tbody>\n",
       "</table>\n",
       "</div>"
      ],
      "text/plain": [
       "                                              twitts  sentiment  word_counts  \\\n",
       "0  @switchfoot  - awww, that is a bummer.  you sh...          0           19   \n",
       "1  is upset that he can not update his facebook b...          0           21   \n",
       "2  @kenichan i dived many times for the ball. man...          0           18   \n",
       "3    my whole body feels itchy and like its on fire           0           10   \n",
       "4  @nationwideclass no, it is not behaving at all...          0           21   \n",
       "\n",
       "   char_counts  avg_word_len  stop_words_len  hashtags_count  mentions_count  \\\n",
       "0          115     48.000000               4               0               1   \n",
       "1          111     18.000000               9               0               0   \n",
       "2           89     11.833333               7               0               1   \n",
       "3           47      9.250000               5               0               0   \n",
       "4          111     15.000000              10               0               1   \n",
       "\n",
       "   numerics_count  upper_counts emails  emails_count  \\\n",
       "0               0             1     []             0   \n",
       "1               0             0     []             0   \n",
       "2               0             1     []             0   \n",
       "3               0             0     []             0   \n",
       "4               0             1     []             0   \n",
       "\n",
       "                    urls_flag  \n",
       "0  [http://twitpic.com/2y1zl]  \n",
       "1                          []  \n",
       "2                          []  \n",
       "3                          []  \n",
       "4                          []  "
      ]
     },
     "execution_count": 46,
     "metadata": {},
     "output_type": "execute_result"
    }
   ],
   "source": [
    "df.head()"
   ]
  },
  {
   "cell_type": "markdown",
   "metadata": {},
   "source": [
    "### Remove RT(retwitts)"
   ]
  },
  {
   "cell_type": "code",
   "execution_count": 47,
   "metadata": {},
   "outputs": [],
   "source": [
    "df['twitts'] = df.twitts.apply(lambda x: re.sub('RT', '', x))"
   ]
  },
  {
   "cell_type": "markdown",
   "metadata": {},
   "source": [
    "### Special character removal or punctuaion removal"
   ]
  },
  {
   "cell_type": "code",
   "execution_count": 48,
   "metadata": {},
   "outputs": [],
   "source": [
    "df['twitts'] = df.twitts.apply(lambda x: re.sub('[^A-Z a-z 0-9-]+', '', x))"
   ]
  },
  {
   "cell_type": "code",
   "execution_count": 49,
   "metadata": {},
   "outputs": [
    {
     "data": {
      "text/html": [
       "<div>\n",
       "<style scoped>\n",
       "    .dataframe tbody tr th:only-of-type {\n",
       "        vertical-align: middle;\n",
       "    }\n",
       "\n",
       "    .dataframe tbody tr th {\n",
       "        vertical-align: top;\n",
       "    }\n",
       "\n",
       "    .dataframe thead th {\n",
       "        text-align: right;\n",
       "    }\n",
       "</style>\n",
       "<table border=\"1\" class=\"dataframe\">\n",
       "  <thead>\n",
       "    <tr style=\"text-align: right;\">\n",
       "      <th></th>\n",
       "      <th>twitts</th>\n",
       "      <th>sentiment</th>\n",
       "      <th>word_counts</th>\n",
       "      <th>char_counts</th>\n",
       "      <th>avg_word_len</th>\n",
       "      <th>stop_words_len</th>\n",
       "      <th>hashtags_count</th>\n",
       "      <th>mentions_count</th>\n",
       "      <th>numerics_count</th>\n",
       "      <th>upper_counts</th>\n",
       "      <th>emails</th>\n",
       "      <th>emails_count</th>\n",
       "      <th>urls_flag</th>\n",
       "    </tr>\n",
       "  </thead>\n",
       "  <tbody>\n",
       "    <tr>\n",
       "      <th>0</th>\n",
       "      <td>switchfoot  - awww that is a bummer  you shoul...</td>\n",
       "      <td>0</td>\n",
       "      <td>19</td>\n",
       "      <td>115</td>\n",
       "      <td>48.000000</td>\n",
       "      <td>4</td>\n",
       "      <td>0</td>\n",
       "      <td>1</td>\n",
       "      <td>0</td>\n",
       "      <td>1</td>\n",
       "      <td>[]</td>\n",
       "      <td>0</td>\n",
       "      <td>[http://twitpic.com/2y1zl]</td>\n",
       "    </tr>\n",
       "    <tr>\n",
       "      <th>1</th>\n",
       "      <td>is upset that he can not update his facebook b...</td>\n",
       "      <td>0</td>\n",
       "      <td>21</td>\n",
       "      <td>111</td>\n",
       "      <td>18.000000</td>\n",
       "      <td>9</td>\n",
       "      <td>0</td>\n",
       "      <td>0</td>\n",
       "      <td>0</td>\n",
       "      <td>0</td>\n",
       "      <td>[]</td>\n",
       "      <td>0</td>\n",
       "      <td>[]</td>\n",
       "    </tr>\n",
       "    <tr>\n",
       "      <th>2</th>\n",
       "      <td>kenichan i dived many times for the ball manag...</td>\n",
       "      <td>0</td>\n",
       "      <td>18</td>\n",
       "      <td>89</td>\n",
       "      <td>11.833333</td>\n",
       "      <td>7</td>\n",
       "      <td>0</td>\n",
       "      <td>1</td>\n",
       "      <td>0</td>\n",
       "      <td>1</td>\n",
       "      <td>[]</td>\n",
       "      <td>0</td>\n",
       "      <td>[]</td>\n",
       "    </tr>\n",
       "    <tr>\n",
       "      <th>3</th>\n",
       "      <td>my whole body feels itchy and like its on fire</td>\n",
       "      <td>0</td>\n",
       "      <td>10</td>\n",
       "      <td>47</td>\n",
       "      <td>9.250000</td>\n",
       "      <td>5</td>\n",
       "      <td>0</td>\n",
       "      <td>0</td>\n",
       "      <td>0</td>\n",
       "      <td>0</td>\n",
       "      <td>[]</td>\n",
       "      <td>0</td>\n",
       "      <td>[]</td>\n",
       "    </tr>\n",
       "    <tr>\n",
       "      <th>4</th>\n",
       "      <td>nationwideclass no it is not behaving at all I...</td>\n",
       "      <td>0</td>\n",
       "      <td>21</td>\n",
       "      <td>111</td>\n",
       "      <td>15.000000</td>\n",
       "      <td>10</td>\n",
       "      <td>0</td>\n",
       "      <td>1</td>\n",
       "      <td>0</td>\n",
       "      <td>1</td>\n",
       "      <td>[]</td>\n",
       "      <td>0</td>\n",
       "      <td>[]</td>\n",
       "    </tr>\n",
       "  </tbody>\n",
       "</table>\n",
       "</div>"
      ],
      "text/plain": [
       "                                              twitts  sentiment  word_counts  \\\n",
       "0  switchfoot  - awww that is a bummer  you shoul...          0           19   \n",
       "1  is upset that he can not update his facebook b...          0           21   \n",
       "2  kenichan i dived many times for the ball manag...          0           18   \n",
       "3    my whole body feels itchy and like its on fire           0           10   \n",
       "4  nationwideclass no it is not behaving at all I...          0           21   \n",
       "\n",
       "   char_counts  avg_word_len  stop_words_len  hashtags_count  mentions_count  \\\n",
       "0          115     48.000000               4               0               1   \n",
       "1          111     18.000000               9               0               0   \n",
       "2           89     11.833333               7               0               1   \n",
       "3           47      9.250000               5               0               0   \n",
       "4          111     15.000000              10               0               1   \n",
       "\n",
       "   numerics_count  upper_counts emails  emails_count  \\\n",
       "0               0             1     []             0   \n",
       "1               0             0     []             0   \n",
       "2               0             1     []             0   \n",
       "3               0             0     []             0   \n",
       "4               0             1     []             0   \n",
       "\n",
       "                    urls_flag  \n",
       "0  [http://twitpic.com/2y1zl]  \n",
       "1                          []  \n",
       "2                          []  \n",
       "3                          []  \n",
       "4                          []  "
      ]
     },
     "execution_count": 49,
     "metadata": {},
     "output_type": "execute_result"
    }
   ],
   "source": [
    "df.head()"
   ]
  },
  {
   "cell_type": "markdown",
   "metadata": {},
   "source": [
    "### Remove multiple spaces \"hi                     there       \""
   ]
  },
  {
   "cell_type": "code",
   "execution_count": 50,
   "metadata": {},
   "outputs": [],
   "source": [
    "x = 'this    is one of the  best         tutorials'"
   ]
  },
  {
   "cell_type": "code",
   "execution_count": 51,
   "metadata": {},
   "outputs": [
    {
     "data": {
      "text/plain": [
       "'this is one of the best tutorials'"
      ]
     },
     "execution_count": 51,
     "metadata": {},
     "output_type": "execute_result"
    }
   ],
   "source": [
    "\" \".join(x.split())"
   ]
  },
  {
   "cell_type": "code",
   "execution_count": 52,
   "metadata": {},
   "outputs": [],
   "source": [
    "df['twitts'] = df.twitts.apply(lambda x: \" \".join(x.split()))"
   ]
  },
  {
   "cell_type": "code",
   "execution_count": 53,
   "metadata": {},
   "outputs": [
    {
     "data": {
      "text/html": [
       "<div>\n",
       "<style scoped>\n",
       "    .dataframe tbody tr th:only-of-type {\n",
       "        vertical-align: middle;\n",
       "    }\n",
       "\n",
       "    .dataframe tbody tr th {\n",
       "        vertical-align: top;\n",
       "    }\n",
       "\n",
       "    .dataframe thead th {\n",
       "        text-align: right;\n",
       "    }\n",
       "</style>\n",
       "<table border=\"1\" class=\"dataframe\">\n",
       "  <thead>\n",
       "    <tr style=\"text-align: right;\">\n",
       "      <th></th>\n",
       "      <th>twitts</th>\n",
       "      <th>sentiment</th>\n",
       "      <th>word_counts</th>\n",
       "      <th>char_counts</th>\n",
       "      <th>avg_word_len</th>\n",
       "      <th>stop_words_len</th>\n",
       "      <th>hashtags_count</th>\n",
       "      <th>mentions_count</th>\n",
       "      <th>numerics_count</th>\n",
       "      <th>upper_counts</th>\n",
       "      <th>emails</th>\n",
       "      <th>emails_count</th>\n",
       "      <th>urls_flag</th>\n",
       "    </tr>\n",
       "  </thead>\n",
       "  <tbody>\n",
       "    <tr>\n",
       "      <th>0</th>\n",
       "      <td>switchfoot - awww that is a bummer you shoulda...</td>\n",
       "      <td>0</td>\n",
       "      <td>19</td>\n",
       "      <td>115</td>\n",
       "      <td>48.000000</td>\n",
       "      <td>4</td>\n",
       "      <td>0</td>\n",
       "      <td>1</td>\n",
       "      <td>0</td>\n",
       "      <td>1</td>\n",
       "      <td>[]</td>\n",
       "      <td>0</td>\n",
       "      <td>[http://twitpic.com/2y1zl]</td>\n",
       "    </tr>\n",
       "    <tr>\n",
       "      <th>1</th>\n",
       "      <td>is upset that he can not update his facebook b...</td>\n",
       "      <td>0</td>\n",
       "      <td>21</td>\n",
       "      <td>111</td>\n",
       "      <td>18.000000</td>\n",
       "      <td>9</td>\n",
       "      <td>0</td>\n",
       "      <td>0</td>\n",
       "      <td>0</td>\n",
       "      <td>0</td>\n",
       "      <td>[]</td>\n",
       "      <td>0</td>\n",
       "      <td>[]</td>\n",
       "    </tr>\n",
       "    <tr>\n",
       "      <th>2</th>\n",
       "      <td>kenichan i dived many times for the ball manag...</td>\n",
       "      <td>0</td>\n",
       "      <td>18</td>\n",
       "      <td>89</td>\n",
       "      <td>11.833333</td>\n",
       "      <td>7</td>\n",
       "      <td>0</td>\n",
       "      <td>1</td>\n",
       "      <td>0</td>\n",
       "      <td>1</td>\n",
       "      <td>[]</td>\n",
       "      <td>0</td>\n",
       "      <td>[]</td>\n",
       "    </tr>\n",
       "    <tr>\n",
       "      <th>3</th>\n",
       "      <td>my whole body feels itchy and like its on fire</td>\n",
       "      <td>0</td>\n",
       "      <td>10</td>\n",
       "      <td>47</td>\n",
       "      <td>9.250000</td>\n",
       "      <td>5</td>\n",
       "      <td>0</td>\n",
       "      <td>0</td>\n",
       "      <td>0</td>\n",
       "      <td>0</td>\n",
       "      <td>[]</td>\n",
       "      <td>0</td>\n",
       "      <td>[]</td>\n",
       "    </tr>\n",
       "    <tr>\n",
       "      <th>4</th>\n",
       "      <td>nationwideclass no it is not behaving at all I...</td>\n",
       "      <td>0</td>\n",
       "      <td>21</td>\n",
       "      <td>111</td>\n",
       "      <td>15.000000</td>\n",
       "      <td>10</td>\n",
       "      <td>0</td>\n",
       "      <td>1</td>\n",
       "      <td>0</td>\n",
       "      <td>1</td>\n",
       "      <td>[]</td>\n",
       "      <td>0</td>\n",
       "      <td>[]</td>\n",
       "    </tr>\n",
       "  </tbody>\n",
       "</table>\n",
       "</div>"
      ],
      "text/plain": [
       "                                              twitts  sentiment  word_counts  \\\n",
       "0  switchfoot - awww that is a bummer you shoulda...          0           19   \n",
       "1  is upset that he can not update his facebook b...          0           21   \n",
       "2  kenichan i dived many times for the ball manag...          0           18   \n",
       "3     my whole body feels itchy and like its on fire          0           10   \n",
       "4  nationwideclass no it is not behaving at all I...          0           21   \n",
       "\n",
       "   char_counts  avg_word_len  stop_words_len  hashtags_count  mentions_count  \\\n",
       "0          115     48.000000               4               0               1   \n",
       "1          111     18.000000               9               0               0   \n",
       "2           89     11.833333               7               0               1   \n",
       "3           47      9.250000               5               0               0   \n",
       "4          111     15.000000              10               0               1   \n",
       "\n",
       "   numerics_count  upper_counts emails  emails_count  \\\n",
       "0               0             1     []             0   \n",
       "1               0             0     []             0   \n",
       "2               0             1     []             0   \n",
       "3               0             0     []             0   \n",
       "4               0             1     []             0   \n",
       "\n",
       "                    urls_flag  \n",
       "0  [http://twitpic.com/2y1zl]  \n",
       "1                          []  \n",
       "2                          []  \n",
       "3                          []  \n",
       "4                          []  "
      ]
     },
     "execution_count": 53,
     "metadata": {},
     "output_type": "execute_result"
    }
   ],
   "source": [
    "df.head()"
   ]
  },
  {
   "cell_type": "markdown",
   "metadata": {},
   "source": [
    "### Remove HTML tags"
   ]
  },
  {
   "cell_type": "code",
   "execution_count": 54,
   "metadata": {},
   "outputs": [],
   "source": [
    "from bs4 import BeautifulSoup"
   ]
  },
  {
   "cell_type": "code",
   "execution_count": 55,
   "metadata": {},
   "outputs": [],
   "source": [
    "x = '<html><h2>Thanky you, all</h2></html>'"
   ]
  },
  {
   "cell_type": "code",
   "execution_count": 56,
   "metadata": {},
   "outputs": [
    {
     "data": {
      "text/plain": [
       "'Thanky you, all'"
      ]
     },
     "execution_count": 56,
     "metadata": {},
     "output_type": "execute_result"
    }
   ],
   "source": [
    "BeautifulSoup(x, 'lxml').get_text()"
   ]
  },
  {
   "cell_type": "code",
   "execution_count": 57,
   "metadata": {},
   "outputs": [
    {
     "name": "stdout",
     "output_type": "stream",
     "text": [
      "CPU times: user 6min 51s, sys: 24.3 s, total: 7min 15s\n",
      "Wall time: 8min 7s\n"
     ]
    }
   ],
   "source": [
    "%%time\n",
    "df['twitts'] = df.twitts.apply(lambda x: BeautifulSoup(x, 'lxml').get_text())"
   ]
  },
  {
   "cell_type": "code",
   "execution_count": null,
   "metadata": {},
   "outputs": [],
   "source": []
  },
  {
   "cell_type": "markdown",
   "metadata": {},
   "source": [
    "### Remove Accented Chars"
   ]
  },
  {
   "cell_type": "code",
   "execution_count": 58,
   "metadata": {},
   "outputs": [],
   "source": [
    "import unicodedata"
   ]
  },
  {
   "cell_type": "code",
   "execution_count": 59,
   "metadata": {},
   "outputs": [],
   "source": [
    "x = 'fiancé, résumé, El Niño, déjà vu.'"
   ]
  },
  {
   "cell_type": "code",
   "execution_count": 60,
   "metadata": {},
   "outputs": [],
   "source": [
    "def remove_accented_chars(x):\n",
    "    x = unicodedata.normalize('NFKD', x).encode('ascii', 'ignore').decode('utf-8', 'ignore')\n",
    "    return x"
   ]
  },
  {
   "cell_type": "code",
   "execution_count": 61,
   "metadata": {},
   "outputs": [
    {
     "data": {
      "text/plain": [
       "'fiance, resume, El Nino, deja vu.'"
      ]
     },
     "execution_count": 61,
     "metadata": {},
     "output_type": "execute_result"
    }
   ],
   "source": [
    "remove_accented_chars(x)"
   ]
  },
  {
   "cell_type": "markdown",
   "metadata": {},
   "source": [
    "### Spacy and NLP"
   ]
  },
  {
   "cell_type": "markdown",
   "metadata": {},
   "source": [
    "### Remove Stopwords"
   ]
  },
  {
   "cell_type": "code",
   "execution_count": 62,
   "metadata": {},
   "outputs": [],
   "source": [
    "x = 'this is a stop words removal code'"
   ]
  },
  {
   "cell_type": "code",
   "execution_count": 63,
   "metadata": {},
   "outputs": [
    {
     "data": {
      "text/plain": [
       "'stop words removal code'"
      ]
     },
     "execution_count": 63,
     "metadata": {},
     "output_type": "execute_result"
    }
   ],
   "source": [
    "' '.join([t for t in x.split() if t not in STOP_WORDS])"
   ]
  },
  {
   "cell_type": "code",
   "execution_count": 64,
   "metadata": {},
   "outputs": [],
   "source": [
    "df['twitts'] = df.twitts.apply(lambda x: ' '.join([t for t in x.split() if t not in STOP_WORDS]))"
   ]
  },
  {
   "cell_type": "code",
   "execution_count": 65,
   "metadata": {},
   "outputs": [
    {
     "data": {
      "text/html": [
       "<div>\n",
       "<style scoped>\n",
       "    .dataframe tbody tr th:only-of-type {\n",
       "        vertical-align: middle;\n",
       "    }\n",
       "\n",
       "    .dataframe tbody tr th {\n",
       "        vertical-align: top;\n",
       "    }\n",
       "\n",
       "    .dataframe thead th {\n",
       "        text-align: right;\n",
       "    }\n",
       "</style>\n",
       "<table border=\"1\" class=\"dataframe\">\n",
       "  <thead>\n",
       "    <tr style=\"text-align: right;\">\n",
       "      <th></th>\n",
       "      <th>twitts</th>\n",
       "      <th>sentiment</th>\n",
       "      <th>word_counts</th>\n",
       "      <th>char_counts</th>\n",
       "      <th>avg_word_len</th>\n",
       "      <th>stop_words_len</th>\n",
       "      <th>hashtags_count</th>\n",
       "      <th>mentions_count</th>\n",
       "      <th>numerics_count</th>\n",
       "      <th>upper_counts</th>\n",
       "      <th>emails</th>\n",
       "      <th>emails_count</th>\n",
       "      <th>urls_flag</th>\n",
       "    </tr>\n",
       "  </thead>\n",
       "  <tbody>\n",
       "    <tr>\n",
       "      <th>0</th>\n",
       "      <td>switchfoot - awww bummer shoulda got david car...</td>\n",
       "      <td>0</td>\n",
       "      <td>19</td>\n",
       "      <td>115</td>\n",
       "      <td>48.000000</td>\n",
       "      <td>4</td>\n",
       "      <td>0</td>\n",
       "      <td>1</td>\n",
       "      <td>0</td>\n",
       "      <td>1</td>\n",
       "      <td>[]</td>\n",
       "      <td>0</td>\n",
       "      <td>[http://twitpic.com/2y1zl]</td>\n",
       "    </tr>\n",
       "    <tr>\n",
       "      <th>1</th>\n",
       "      <td>upset update facebook texting cry result schoo...</td>\n",
       "      <td>0</td>\n",
       "      <td>21</td>\n",
       "      <td>111</td>\n",
       "      <td>18.000000</td>\n",
       "      <td>9</td>\n",
       "      <td>0</td>\n",
       "      <td>0</td>\n",
       "      <td>0</td>\n",
       "      <td>0</td>\n",
       "      <td>[]</td>\n",
       "      <td>0</td>\n",
       "      <td>[]</td>\n",
       "    </tr>\n",
       "    <tr>\n",
       "      <th>2</th>\n",
       "      <td>kenichan dived times ball managed save 50 rest...</td>\n",
       "      <td>0</td>\n",
       "      <td>18</td>\n",
       "      <td>89</td>\n",
       "      <td>11.833333</td>\n",
       "      <td>7</td>\n",
       "      <td>0</td>\n",
       "      <td>1</td>\n",
       "      <td>0</td>\n",
       "      <td>1</td>\n",
       "      <td>[]</td>\n",
       "      <td>0</td>\n",
       "      <td>[]</td>\n",
       "    </tr>\n",
       "    <tr>\n",
       "      <th>3</th>\n",
       "      <td>body feels itchy like fire</td>\n",
       "      <td>0</td>\n",
       "      <td>10</td>\n",
       "      <td>47</td>\n",
       "      <td>9.250000</td>\n",
       "      <td>5</td>\n",
       "      <td>0</td>\n",
       "      <td>0</td>\n",
       "      <td>0</td>\n",
       "      <td>0</td>\n",
       "      <td>[]</td>\n",
       "      <td>0</td>\n",
       "      <td>[]</td>\n",
       "    </tr>\n",
       "    <tr>\n",
       "      <th>4</th>\n",
       "      <td>nationwideclass behaving I mad</td>\n",
       "      <td>0</td>\n",
       "      <td>21</td>\n",
       "      <td>111</td>\n",
       "      <td>15.000000</td>\n",
       "      <td>10</td>\n",
       "      <td>0</td>\n",
       "      <td>1</td>\n",
       "      <td>0</td>\n",
       "      <td>1</td>\n",
       "      <td>[]</td>\n",
       "      <td>0</td>\n",
       "      <td>[]</td>\n",
       "    </tr>\n",
       "  </tbody>\n",
       "</table>\n",
       "</div>"
      ],
      "text/plain": [
       "                                              twitts  sentiment  word_counts  \\\n",
       "0  switchfoot - awww bummer shoulda got david car...          0           19   \n",
       "1  upset update facebook texting cry result schoo...          0           21   \n",
       "2  kenichan dived times ball managed save 50 rest...          0           18   \n",
       "3                         body feels itchy like fire          0           10   \n",
       "4                     nationwideclass behaving I mad          0           21   \n",
       "\n",
       "   char_counts  avg_word_len  stop_words_len  hashtags_count  mentions_count  \\\n",
       "0          115     48.000000               4               0               1   \n",
       "1          111     18.000000               9               0               0   \n",
       "2           89     11.833333               7               0               1   \n",
       "3           47      9.250000               5               0               0   \n",
       "4          111     15.000000              10               0               1   \n",
       "\n",
       "   numerics_count  upper_counts emails  emails_count  \\\n",
       "0               0             1     []             0   \n",
       "1               0             0     []             0   \n",
       "2               0             1     []             0   \n",
       "3               0             0     []             0   \n",
       "4               0             1     []             0   \n",
       "\n",
       "                    urls_flag  \n",
       "0  [http://twitpic.com/2y1zl]  \n",
       "1                          []  \n",
       "2                          []  \n",
       "3                          []  \n",
       "4                          []  "
      ]
     },
     "execution_count": 65,
     "metadata": {},
     "output_type": "execute_result"
    }
   ],
   "source": [
    "df.head()"
   ]
  },
  {
   "cell_type": "markdown",
   "metadata": {},
   "source": [
    "### Convert into base or root form of word"
   ]
  },
  {
   "cell_type": "code",
   "execution_count": 66,
   "metadata": {},
   "outputs": [],
   "source": [
    "nlp = spacy.load('en_core_web_sm')"
   ]
  },
  {
   "cell_type": "code",
   "execution_count": 67,
   "metadata": {},
   "outputs": [],
   "source": [
    "x = 'kenichan dived times ball managed save 50 rest bounds'"
   ]
  },
  {
   "cell_type": "code",
   "execution_count": 68,
   "metadata": {},
   "outputs": [],
   "source": [
    "# x = 'i you he she they is am are'"
   ]
  },
  {
   "cell_type": "code",
   "execution_count": 69,
   "metadata": {},
   "outputs": [],
   "source": [
    "def make_to_base(x):\n",
    "    x_list = []\n",
    "    doc = nlp(x)\n",
    "    \n",
    "    for token in doc:\n",
    "        lemma = str(token.lemma_)\n",
    "        if lemma == '-PRON-' or lemma == 'be':\n",
    "            lemma = token.text\n",
    "        x_list.append(lemma)\n",
    "    print(' '.join(x_list))"
   ]
  },
  {
   "cell_type": "code",
   "execution_count": 70,
   "metadata": {},
   "outputs": [
    {
     "name": "stdout",
     "output_type": "stream",
     "text": [
      "kenichan dive times ball manage save 50 rest bound\n"
     ]
    }
   ],
   "source": [
    "make_to_base(x)"
   ]
  },
  {
   "cell_type": "code",
   "execution_count": 71,
   "metadata": {},
   "outputs": [],
   "source": [
    "### Can apply on whole dataset by using lambda function, we are not doing as it will take lots of time"
   ]
  },
  {
   "cell_type": "markdown",
   "metadata": {},
   "source": [
    "### Common words removal "
   ]
  },
  {
   "cell_type": "code",
   "execution_count": 72,
   "metadata": {},
   "outputs": [],
   "source": [
    "text = ' '.join(df['twitts'])"
   ]
  },
  {
   "cell_type": "code",
   "execution_count": 73,
   "metadata": {},
   "outputs": [],
   "source": [
    "text = text.split()"
   ]
  },
  {
   "cell_type": "code",
   "execution_count": 74,
   "metadata": {},
   "outputs": [],
   "source": [
    "freq_comm = pd.Series(text).value_counts()"
   ]
  },
  {
   "cell_type": "code",
   "execution_count": 75,
   "metadata": {},
   "outputs": [
    {
     "data": {
      "text/plain": [
       "I                234107\n",
       "good              89366\n",
       "going             87981\n",
       "day               82299\n",
       "like              77735\n",
       "                  ...  \n",
       "tramp-of-line         1\n",
       "damptjims             1\n",
       "mbrockk               1\n",
       "leanns                1\n",
       "astonejackson         1\n",
       "Length: 790989, dtype: int64"
      ]
     },
     "execution_count": 75,
     "metadata": {},
     "output_type": "execute_result"
    }
   ],
   "source": [
    "freq_comm"
   ]
  },
  {
   "cell_type": "code",
   "execution_count": 76,
   "metadata": {},
   "outputs": [],
   "source": [
    "f20 = freq_comm[:20]"
   ]
  },
  {
   "cell_type": "code",
   "execution_count": 77,
   "metadata": {},
   "outputs": [
    {
     "data": {
      "text/plain": [
       "I         234107\n",
       "good       89366\n",
       "going      87981\n",
       "day        82299\n",
       "like       77735\n",
       "got        69684\n",
       "-          69661\n",
       "love       65631\n",
       "today      64512\n",
       "work       62804\n",
       "want       58544\n",
       "time       56081\n",
       "lol        55087\n",
       "know       51172\n",
       "new        41995\n",
       "think      41040\n",
       "night      41029\n",
       "amp        40618\n",
       "thanks     39311\n",
       "home       39169\n",
       "dtype: int64"
      ]
     },
     "execution_count": 77,
     "metadata": {},
     "output_type": "execute_result"
    }
   ],
   "source": [
    "f20"
   ]
  },
  {
   "cell_type": "code",
   "execution_count": 78,
   "metadata": {},
   "outputs": [],
   "source": [
    "df['twitts'] = df.twitts.apply(lambda x: ' '.join([t for t in x.split() if t not in f20]))"
   ]
  },
  {
   "cell_type": "markdown",
   "metadata": {},
   "source": [
    "### Rare words removal"
   ]
  },
  {
   "cell_type": "code",
   "execution_count": 79,
   "metadata": {},
   "outputs": [],
   "source": [
    "rare20 = freq_comm[-20:]"
   ]
  },
  {
   "cell_type": "code",
   "execution_count": 80,
   "metadata": {},
   "outputs": [
    {
     "data": {
      "text/plain": [
       "stuartheron        1\n",
       "reidaboutozzie     1\n",
       "pinochio           1\n",
       "laterwhoop         1\n",
       "mondaybeginning    1\n",
       "gratulace          1\n",
       "jackbooyeah        1\n",
       "quotsalemquot      1\n",
       "fashionbug         1\n",
       "screwedquot        1\n",
       "pweeeeeezei        1\n",
       "monkeyminion       1\n",
       "rrv85              1\n",
       "beforenow          1\n",
       "travoltarol        1\n",
       "tramp-of-line      1\n",
       "damptjims          1\n",
       "mbrockk            1\n",
       "leanns             1\n",
       "astonejackson      1\n",
       "dtype: int64"
      ]
     },
     "execution_count": 80,
     "metadata": {},
     "output_type": "execute_result"
    }
   ],
   "source": [
    "rare20"
   ]
  },
  {
   "cell_type": "code",
   "execution_count": 81,
   "metadata": {},
   "outputs": [],
   "source": [
    "rare = freq_comm[freq_comm.values == 1]"
   ]
  },
  {
   "cell_type": "code",
   "execution_count": 82,
   "metadata": {},
   "outputs": [
    {
     "data": {
      "text/plain": [
       "nounou           1\n",
       "sculpty          1\n",
       "heynathan        1\n",
       "itashole         1\n",
       "planetparker     1\n",
       "                ..\n",
       "tramp-of-line    1\n",
       "damptjims        1\n",
       "mbrockk          1\n",
       "leanns           1\n",
       "astonejackson    1\n",
       "Length: 539576, dtype: int64"
      ]
     },
     "execution_count": 82,
     "metadata": {},
     "output_type": "execute_result"
    }
   ],
   "source": [
    "rare"
   ]
  },
  {
   "cell_type": "code",
   "execution_count": 83,
   "metadata": {},
   "outputs": [],
   "source": [
    "df['twitts'] = df.twitts.apply(lambda x: ' '.join([t for t in x.split() if t not in rare20]))"
   ]
  },
  {
   "cell_type": "code",
   "execution_count": 84,
   "metadata": {},
   "outputs": [
    {
     "data": {
      "text/html": [
       "<div>\n",
       "<style scoped>\n",
       "    .dataframe tbody tr th:only-of-type {\n",
       "        vertical-align: middle;\n",
       "    }\n",
       "\n",
       "    .dataframe tbody tr th {\n",
       "        vertical-align: top;\n",
       "    }\n",
       "\n",
       "    .dataframe thead th {\n",
       "        text-align: right;\n",
       "    }\n",
       "</style>\n",
       "<table border=\"1\" class=\"dataframe\">\n",
       "  <thead>\n",
       "    <tr style=\"text-align: right;\">\n",
       "      <th></th>\n",
       "      <th>twitts</th>\n",
       "      <th>sentiment</th>\n",
       "      <th>word_counts</th>\n",
       "      <th>char_counts</th>\n",
       "      <th>avg_word_len</th>\n",
       "      <th>stop_words_len</th>\n",
       "      <th>hashtags_count</th>\n",
       "      <th>mentions_count</th>\n",
       "      <th>numerics_count</th>\n",
       "      <th>upper_counts</th>\n",
       "      <th>emails</th>\n",
       "      <th>emails_count</th>\n",
       "      <th>urls_flag</th>\n",
       "    </tr>\n",
       "  </thead>\n",
       "  <tbody>\n",
       "    <tr>\n",
       "      <th>0</th>\n",
       "      <td>switchfoot awww bummer shoulda david carr d</td>\n",
       "      <td>0</td>\n",
       "      <td>19</td>\n",
       "      <td>115</td>\n",
       "      <td>48.000000</td>\n",
       "      <td>4</td>\n",
       "      <td>0</td>\n",
       "      <td>1</td>\n",
       "      <td>0</td>\n",
       "      <td>1</td>\n",
       "      <td>[]</td>\n",
       "      <td>0</td>\n",
       "      <td>[http://twitpic.com/2y1zl]</td>\n",
       "    </tr>\n",
       "    <tr>\n",
       "      <th>1</th>\n",
       "      <td>upset update facebook texting cry result schoo...</td>\n",
       "      <td>0</td>\n",
       "      <td>21</td>\n",
       "      <td>111</td>\n",
       "      <td>18.000000</td>\n",
       "      <td>9</td>\n",
       "      <td>0</td>\n",
       "      <td>0</td>\n",
       "      <td>0</td>\n",
       "      <td>0</td>\n",
       "      <td>[]</td>\n",
       "      <td>0</td>\n",
       "      <td>[]</td>\n",
       "    </tr>\n",
       "    <tr>\n",
       "      <th>2</th>\n",
       "      <td>kenichan dived times ball managed save 50 rest...</td>\n",
       "      <td>0</td>\n",
       "      <td>18</td>\n",
       "      <td>89</td>\n",
       "      <td>11.833333</td>\n",
       "      <td>7</td>\n",
       "      <td>0</td>\n",
       "      <td>1</td>\n",
       "      <td>0</td>\n",
       "      <td>1</td>\n",
       "      <td>[]</td>\n",
       "      <td>0</td>\n",
       "      <td>[]</td>\n",
       "    </tr>\n",
       "    <tr>\n",
       "      <th>3</th>\n",
       "      <td>body feels itchy fire</td>\n",
       "      <td>0</td>\n",
       "      <td>10</td>\n",
       "      <td>47</td>\n",
       "      <td>9.250000</td>\n",
       "      <td>5</td>\n",
       "      <td>0</td>\n",
       "      <td>0</td>\n",
       "      <td>0</td>\n",
       "      <td>0</td>\n",
       "      <td>[]</td>\n",
       "      <td>0</td>\n",
       "      <td>[]</td>\n",
       "    </tr>\n",
       "    <tr>\n",
       "      <th>4</th>\n",
       "      <td>nationwideclass behaving mad</td>\n",
       "      <td>0</td>\n",
       "      <td>21</td>\n",
       "      <td>111</td>\n",
       "      <td>15.000000</td>\n",
       "      <td>10</td>\n",
       "      <td>0</td>\n",
       "      <td>1</td>\n",
       "      <td>0</td>\n",
       "      <td>1</td>\n",
       "      <td>[]</td>\n",
       "      <td>0</td>\n",
       "      <td>[]</td>\n",
       "    </tr>\n",
       "  </tbody>\n",
       "</table>\n",
       "</div>"
      ],
      "text/plain": [
       "                                              twitts  sentiment  word_counts  \\\n",
       "0        switchfoot awww bummer shoulda david carr d          0           19   \n",
       "1  upset update facebook texting cry result schoo...          0           21   \n",
       "2  kenichan dived times ball managed save 50 rest...          0           18   \n",
       "3                              body feels itchy fire          0           10   \n",
       "4                       nationwideclass behaving mad          0           21   \n",
       "\n",
       "   char_counts  avg_word_len  stop_words_len  hashtags_count  mentions_count  \\\n",
       "0          115     48.000000               4               0               1   \n",
       "1          111     18.000000               9               0               0   \n",
       "2           89     11.833333               7               0               1   \n",
       "3           47      9.250000               5               0               0   \n",
       "4          111     15.000000              10               0               1   \n",
       "\n",
       "   numerics_count  upper_counts emails  emails_count  \\\n",
       "0               0             1     []             0   \n",
       "1               0             0     []             0   \n",
       "2               0             1     []             0   \n",
       "3               0             0     []             0   \n",
       "4               0             1     []             0   \n",
       "\n",
       "                    urls_flag  \n",
       "0  [http://twitpic.com/2y1zl]  \n",
       "1                          []  \n",
       "2                          []  \n",
       "3                          []  \n",
       "4                          []  "
      ]
     },
     "execution_count": 84,
     "metadata": {},
     "output_type": "execute_result"
    }
   ],
   "source": [
    "df.head()"
   ]
  },
  {
   "cell_type": "markdown",
   "metadata": {},
   "source": [
    "### Word Cloud Visualization"
   ]
  },
  {
   "cell_type": "code",
   "execution_count": 85,
   "metadata": {},
   "outputs": [
    {
     "name": "stdout",
     "output_type": "stream",
     "text": [
      "Requirement already satisfied: wordcloud in /home/rakesh/anaconda3/lib/python3.8/site-packages (1.8.1)\n",
      "Requirement already satisfied: pillow in /home/rakesh/anaconda3/lib/python3.8/site-packages (from wordcloud) (8.0.1)\n",
      "Requirement already satisfied: numpy>=1.6.1 in /home/rakesh/anaconda3/lib/python3.8/site-packages (from wordcloud) (1.19.2)\n",
      "Requirement already satisfied: matplotlib in /home/rakesh/anaconda3/lib/python3.8/site-packages (from wordcloud) (3.3.2)\n",
      "Requirement already satisfied: pyparsing!=2.0.4,!=2.1.2,!=2.1.6,>=2.0.3 in /home/rakesh/anaconda3/lib/python3.8/site-packages (from matplotlib->wordcloud) (2.4.7)\n",
      "Requirement already satisfied: certifi>=2020.06.20 in /home/rakesh/anaconda3/lib/python3.8/site-packages (from matplotlib->wordcloud) (2020.6.20)\n",
      "Requirement already satisfied: kiwisolver>=1.0.1 in /home/rakesh/anaconda3/lib/python3.8/site-packages (from matplotlib->wordcloud) (1.3.0)\n",
      "Requirement already satisfied: python-dateutil>=2.1 in /home/rakesh/anaconda3/lib/python3.8/site-packages (from matplotlib->wordcloud) (2.8.1)\n",
      "Requirement already satisfied: cycler>=0.10 in /home/rakesh/anaconda3/lib/python3.8/site-packages (from matplotlib->wordcloud) (0.10.0)\n",
      "Requirement already satisfied: six>=1.5 in /home/rakesh/anaconda3/lib/python3.8/site-packages (from python-dateutil>=2.1->matplotlib->wordcloud) (1.15.0)\n"
     ]
    }
   ],
   "source": [
    "!pip install wordcloud"
   ]
  },
  {
   "cell_type": "code",
   "execution_count": 86,
   "metadata": {},
   "outputs": [],
   "source": [
    "from wordcloud import WordCloud\n",
    "import matplotlib.pyplot as plt\n",
    "%matplotlib inline"
   ]
  },
  {
   "cell_type": "code",
   "execution_count": 87,
   "metadata": {},
   "outputs": [],
   "source": [
    "x = ' '.join(text[:40000]) #Using 40000 data to avoid slow down of computer"
   ]
  },
  {
   "cell_type": "code",
   "execution_count": 88,
   "metadata": {},
   "outputs": [
    {
     "data": {
      "text/plain": [
       "'switchfoot - awww bummer shoulda got david carr day d upset update facebook texting cry result school today blah kenichan dived times ball managed save 50 rest bounds body feels itchy like fire nationwideclass behaving I mad kwesidei crew need hug loltrish hey long time yes rains bit bit lol I fine thanks tatianak nope twittera que muera spring break plain city snowing re-pierced ears caregiving bear watch thought ua loss embarrassing octolinz16 counts idk talk anymore smarrison gun zac snyders doucheclown iamjazzyfizzle wish got watch miss iamlilnicki premiere hollis death scene hurt severely watch film wry directors cut file taxes lettya ahh I wanted rent love soundtrack fakerpattypattz oh dear drinking forgotten table drinks alydesigns day friend called asked meet mid valley todaybut I time sigh angrybarista baked cake ated week going hoped blagh class 8 tomorrow hate wake people going cry sleep watching marley I sad misslilly ooooh lol leslie ok leslie mad meh lover exception track gets depressed time some1 hacked account aim new alielayus want promote gear groove unfornately ride b going anaheim thought sleeping option tomorrow realizing evaluations morning work afternoon julieebaby awe love 1 miss humpninja cry asian eyes sleep night ok I sick spent hour sitting shower sick stand held puke like champ bed cocomix04 ill tell ya story later good day ill workin like hours missxu sorry bed time came gmt1 fleurylis depressing think want know kids suitcases bed class 8-12 work 12-3 gym 3-5 6 class 6-10 day going fly miss girlfriend feel like getting today got study tomorrows practical exam reason teardrops guitar break heart sad sad sad know hate feeling want sleep jonathanrknight awww soo wish finally comfortable I sad missed falling asleep heard tracy girls body found sad heart breaks family viennah yay I happy job means time checked user timeline blackberry looks like twanking happening ppl having probs w bgs uids oh manwas ironing jeancjumbes fave wear meeting burnt strangely sad lilo samro breaking tea oh I sorry think retweeting broadband plan massive broken promise wwwdiigocomtautao waiting broadband localtweeps wow tons replies unfollow friends tweets scrolling feed lot duck chicken taking wayyy long hatch vacation photos online yrs ago pc crashed forget site need hug andywana sure pos want think trade away company assets sorry andy oanhlove hate happens sad feeling dallas going got think shows use music game mmm ugh92 degrees tomorrow thought sd hmmm random found glad hear yer batmanyng miss ps3 commission wutcha playing copped blood sand leaving parking lot work life cool sadly I gotten experience post coitus cigarette nice day bad rain comes tomorrow 5am starrbby bad lost job pay phone bill lmao aw shucks damm school tomorrow mo jobs money hell min wage 4 fn clams hour katortiz forever soon ltalgonquin agreed saw failwhale allllll day today jdarter oh haha dude look says hey added sorry I terrible need pop ninjen I sure right need start working nikster jared hate people diss bands trace clearly ugly gym attire today puma singlet adidas shortsand black business socks leather shoes lucky run cute girls location picnic phone smells like citrus ashleyac donkey sensitive comments med glad mug soon possible charger awol new csi tonight fml think arms sore tennis wonders like unhappy split seccond depressed sleep soon hate saying bye tomorrow night statravelau got ur newsletter fares unbelievable shame booked paid missin boo markhardy1974 itm damn chalk chalkboard useless blast getty villa hates sore throat day getting worse msdrama hey missed ya meeting sup mama tummy hurts wonder hypnosis working stop smoking fat ones januarycrimson sorry babe fam annoys thankfully asleep right muahaha evil laugh hollywoodheat paid attention covered photoshop webpage design class undergrad wednesday b-day know 2 poor cameron hills pray ex threatening start sh myour babies 1st birthday party jerk headache makeherfamous hmm enjoy problems constants think things find ulike strider sick little puppy ryleegracewana steves party sadly easter wnt b able 2 ohh hey actually won bracket pools bad money stark follow work bad nite favorite teams astros spartans lose nite tw good body missing northern calif girl found police found remains missing northern california girl amimji mangaaa hope increase capacity fast yesterday pain got fail whale 15 times 2 hours classes work watching quothousequot kpreyes remember bum leg strikes time paradisej cool kinds complaints laptop online overheating recalls emily glad mommy training new job misses party send bad messages 3rd party send mixed ones sophmore year henkuyinepu overrated marykatherineq know heard afternoon wondered thing moscow times laying bed voice I sooo sad killed kutner house whyyyyyyyy jacobsummers sorry tell mea culpa sorry alliana07 sense suicide thing refuse believe actually happened salancaster hope ok mercedesashley damn grind inspirational saddening time want stop cuz like love hibanick yeah aw know wudnt stand chance ugh sleep 130am hanging crooners want sing sucks erresc aaw miss ya I leaving bh tomorrow quotmorningquot think aww want beach w girls pissed asbas radio station wednesday b-day n know 2 know life flipped upside thought head ramen sounds good pain sides hurt mention crying fail late night snack glass oj bc I quotdown sicknessquot sleepugh hate getting sick allyheman I big fan camilla belle grum wah clip el-stupido work filters wait till puter 2 blame ex 4 broke week longer longer terms need I actually going I cold thecoolestout ehhh weathers going turn ugly tomorrow chelserlynn haha cooooold d incredible stuff hoping tummy rumbles away soon knights notice told I working tomorrow called agency follow said bedtime I missing babe long alive I happy yawwwnn I tired love imma try sleep hopefully headstart aghsnow miss kenny powers bridgetsbeaches thank letting people know I sad direct message got actually bridget india missed 100th test victory n 10th consecutive win loss jonathanrknight guess sadly going bed ozesteph1992 shame hear stephan mrsaintnick hey I leavin morning intending finish editing 536-page novel manuscript tonight probably happen 12 pages left laid today head hurts twista202 read 9thamp10th princess diaries saving francesca cry end hmm easy books nokia 1110 died mom breast cancer find like week I worried going sleep hoping tomorrow better day rumblepurr lol wish understood daylight savings ended breakfast hour later waking kids onemoreproject lame understand heroes season living downtown sure fun jonathanchard calorie wise wish junk food calorie free ate thing sour skittles big ass cherry coke man work hard getting sick time hot tea studying sleeeep getting eyebrows waxed pain phantasy star yesterday going work oh - got macheist 30 apps - sweet espresso serial said sent - oh picked mich st win feeling pretty good pick way untiltonight lost downstairsworking feel bad ryanseacrest hates anoop mean seriously kind mean pinkserendipity yes sprint 4g baltimore chicago far I stuck awake middle night second day row felt terrible yesterday thanks bursting bubble going school soon find wear gosh hard marieclr lol naughtyhaughty page sooooo long got deleted sad day history crazy wind today birding am1xtti currently work grrr ipods acting weird jai ho thinking playing songs ughh penndbad send dvd cos missed heaps happy big deal website machineplay I sorry having therapyfail colindemar far way rail tips I swear losing gaining losing gaining tweeps heart wrenching today realized good hiding things find staying friends househouse sitting neighbors loud-having party dannyvegasbaby danny I upset watch live chat car 3 hours trip I soooo upset check mug borders closed 10 downloading nins new album quotthe slipquot - hell come I times days woke written e-mail I early university today teach 830 watching hill making sad channels boring lazy day find hobby supersport miss buddy ill ny 25th robluketic love french tell people south I qtr french snarl french beautiful people opps said got day remain problem come activated selfcontrol block early meaning check new qc regularizing internal clock difficult fb hillydop oh spencer good guy goodlaura reese dying ttsc season finale week 24 boring madame president crazy woman jonathanrknight hate limited letterstoohope guys finei pray dogshes shit today I screwed wanttss going sleep tonite worried tired post tonight shit today I screwed job interview cardiff today wish luck got 3 hours sleep stustone whack way worse whack wiggety-whack djalizay think people choose way think chose accept familys help dead eloquentembrace going kill I seen ds9 I waiting till solid week sitting cheechbud think ur right hahaha 45 hrs hate spartans sad mind body severely protesting quotgetting upquot thing nightmares boot mysteezradio I going follow lol angels mandayyy twista202 think want read books library nap interrupted times today going japanese rents kind longs bus shows end ghost world right ugh gurumn canada canada weird supposed snow wednesday ugh awwh babs look sad underneith shop entrance quotyesterdays musikquot of- like look new transformer movie sad feet macbook fell I going late tomorrow 132am going tipsy lonesome isthat sad I sweating forthcoming trip e3 find crash I screwed gotten somebody read tweets account infinitydefines omgawd handle cat heat time d d donniewahlberg hope auburn looking good davidhenrie people mag haha fit think pictures magazine tho haha breadandbadger congrats totally forgot submit photos paulaabdul awww good luck paula work hard hope fun new album going amazing xxx imaginarypeach leaving -gets sad- miss twitter phone broke I stupid nokia phone ughhh miss advance phone shooting outside house kidding scared tuesdayll start reflection n lecture stress reducing techniques sure useful accompaniers tragedy disaster news week yes yes trying find picture upload correclty oh red sox game rained looking forward opening day find keys charlietm know right dunno going twitter getting sore throat labelsnotlove home town mammy called depressd pls explain y parent let 8yr old child walk hello 2009 ircmaxell - think need find better anti-depressants think paxilwellbutrin combo losing efficacy myconnecticut restaurant called woodntap competitive eating tourney round tourney time place 2nd bathroom wake lakin caitlinoconnor want tacos margarhitas telll gay hellolt3 I lonely company 22 female california bad day betfair office miss wait celebrate tar heel win weekend I cold want sleep kristencampisi 4 officially 4 round monkeys found twin write I heartbroken missom aww know felt like yesterday work sarahreedsc treaty defined missed brent praise band fun lead guitarist ltpoutgt jpfurry poor john happens play fruit microwave seriously seen doctor xxx missing bff watching home away reminds lt3 shout courts mandayyy new video card doa feeling lost naked confused jk sort ofno iphone damn late filling appraisal form people sent occupied work missed brent praise band fun lead guitarist ltpoutgt think past change deserved wat got thinking gah lost ring no-where seen burgaw ooooooh sealclap download shitloads zip folders 4chan internet moneys fuck yeah alicia amp mikey nursing nile glad feeling better hate baby sick fucked ic brandizzzle08 yoyoyo internet rude tonight reconnected I bed jemcam uni stuff netball netbal I uni stuff kissability poor help forget 8th april amp 13th july dierks bentley comin columbus oh want bad sidekick chriscantore congrats I totally jealous wish xm working gr8t face itchy poor socks luvvvvv golden retriever want sighhhh saw found tracy girl piece luggage fucking terrible aaaaand nausea donniewahlberg ooh im excited going 2 long love youtube spent 1 hour reach axis bank find today holiday mahavir jayanti contd mathewsmichael agree jobros update fishmouse hilarious linked clip lj time ago went dead link diannepulham oooooooo I need study tweeted nearly day posted website tonight hopefully goes night time bostongarden miss bentley seriously needs finish job applications son vincas sick stay home tense days work holiday kids whinging clientampboss understand english rewrote text unreadable written v good writerampreviewed correctly huntermoore want punch sooo sick snow ughh itsnemesis ------- lovemeagan work fan upset like apologize repeated video games live related tweets going stern discussion koodo soon stern zaydia figure pay hotel etc fml seniority bc technological ineptness quotregisterquot classes feels like slept day away looking forward bouts gallbladder pills pain thastevieg want old bass mad tired today callin early tonight nighty night twittas levenrambin easy good I afraid bad code think I going bed goodniight hate riancurtis I friend love kariajay time notice gonejust needed db2 aaronrva bathroom pee ashleyskyy wanted margarita kourtneykardash yup night workouts r worst unfortunetly work schedule allows night tough called hillsong - said tell waiting list - know looking good 0g milky bar left 200ml coke jokerrrr stillllll arrived mraow feel like dancing art school wants rape karenucol ah bet I like craving play softball basketball noo time terrified accidentally deleted reference management assignment hopes trouble gets amazon s3 plugin worked website need php 5 hosting provider php 44 sad argh suuuper sleepy hour ago I wide awake hope stay night - austinhill wish sold time let know love hear watched tropic thunder dreading tomorrow qweendassah nohe missn chiefdelphi - according bro new puppy poo fight covered poop picture stolen playing game home new boss su yin huen tweeted feel unbearable guilt staff cry poor joshy sick damn tejanos thoughts sandra cantus family difficult sad time franzglaus know wanted let everybody know happening michigan know sigh shameful fill hours alicayaba cuuute hey miss na seeing girls everyday jonathanrknight oh mention quotgooooood moooorniiiiiiingquot germany I cageor bettermy office throat closing string cheese good idea aww sandra cantu found dead suitcase missing children stories good poor family wishing home underneath covers walking home school drains energy ridley1013 agree shapeshifting copout excited angelas ep thought week noah awesome tho savethestrib dang knew earlier outings planned wish better writing taking long write paper course access halo 3 mythic map pack re-download bad news legendary map pack ugh 600ms vene2ia unfortunately weeks I told I little bit busy latest project thecoolestout ha suns gone day 2 lot harder day 1 let day 3 goes tomorrow man crush jake peavy let gayforpeavy trishzw megafast trip time day tomweds going tonight want bad tried warn tech fail michigan state sad omg mouth pain want sleep untill time braces getting annoyed easily today gtgtgt biofuel proposal getting annoyed easily today gtgtgt biof mizzchievouz hey girl site girlyvue videos a5hleyf I spending time grandma early tomorrow leave skittles got home watching michigan state tromped oh jew-bus years worth classes work alot organize gtlt I finishing tonight possiblemy bones ache griffmiester exchanging laptop arrived hyperbets hope long feel miserable rcompo rachel hang outage neccessary - going home wekend dumb folk work I free f sat 4 theleaguesf fun amp furious new mantra bay 2 breakers getting 2 rambunctiousthe city overreacted amp clamped amberbenson hubby reason thinks important good spot red carpet trek movie premiere sod swear matter long I getting 5am gets easier man eyes hurts wah jeffreestar jeffree hair color permanent dye fades week otakusecret reaction whoa coming sick feeling bit better got new medicine hope feel good night sleep ohh suppose snow wtf dangerm0use think maybe couple hours sleep hon productive right ur dog tired worry maddyva thanks lot learned lot new words find looking wish xblm downloads gamertag hitokyri 5 gamertag thing nonsense I tired new testament test 930 scoutbuck tons hay troll ahhhh stupid movies watched mirrors ugggggh stooopeeed rip - love buck homework understand things taken away time unfair want like baby scratch du heif half cookies tum anymore shoog poots cococourtney listening sweets time forever miss chi town visits plz geez busy afternoon meetings emails meetings email meetings 6pm day going ah dark dang spring break cool bad work week oh money phone ttyl everbody sarakate I afraid ur reply uni ages ago feeling carvin1 lol emotional ass men omg late night eating broke nickcarter aww nick like hair longer cut break heart wonder jon lost net wow depressing thing world losing video created matter seconds fml nchokkan says stock poohpot lmao I sorry poohpot ate chance softbelly mtub loud time posterior lose fat articulation creaking running im drool swimming listening nathan cry today sucked I going die chris callum wahhh stou site update info 22552 exam open course wait mail notices doc um ohsbrat30I sorry I feeling kind yucky 5am going come quick love scrappy missin wants hear seblefebvre s song myspace messing bad news dad cancer dying good news new business started life coach practising holistic weight management duchessrebecca man intervention soo sad help need new boyfriend I stuck rut feel like complete idiot I shit works help saw ad craigslist casting female host g4 totally psyched realized hoax pepperoni rolls la called valentinos - said sausage rolls pepperoni rolls soillodge yes monday want new gg episode miss watching rockos modern life rip sandraits sad like keeping fingers crossed buddy feeling wait eat skinny vegas I hungry margeinovera tried tweetdeck hated passion hated I sure benackerman btw iphone acting funny dying quickly freezing bs I admitting sayin sitting wondering quotedquot strong hold bananaface I sorry got sick lol going bed night carolrainbow internet home drive ox use internet builders stevebuscemi weather canada freezing twiggassssssss range day I hopefully good danadearmond reads pray grandma pain 3 woke having accident - quotit pushing pushingquot crying stop wetting pants home franklin street jumped fire kicked jenny lost shoe johnnybeane hey changed default finally gave bored start thing think 140 going problem tho like myspace status ellievolia oooonly lucky eh awh definitely early work buttload homework needs copy visual studio 2008 school world weekmy school silly look bright I omg I economics test know things know omg I going fail robcthegeek time islands pride philippine tourism coralclamrare fish poaching kind sad henkuyinepu yeah apparently bad taste hummiemd know surprised recommends youtube tomorrow figure waiting airport ride harassed 2 men trying sell ugly hats want sleep left ids location bars fuckkkkkkkkkkkkk celycarmo I sorry understand comment officialrandl announcement stayed late night kishorek strange illegal torrents avlbl legal dvd stock imiss trolley packed like sardines padre game remove car good mts randomlynat jeez trying help haha supamagg happened saturday night glittery green lighter trying reduce number cigarettes day yea quiet cuz work I bored death talk got cooking assignment hard treesahquiche okay applepears I talked people told jennifermf know I night owl nature hahaha time zone 1 mamasvan lol - nope complete camerafail maxime68 megelder I useless sleep fair want fun pookie uti nurse gabbie 100 sodas jillianfish tweet damn hang anistorm I video games matter I yesterdays news sleeptilnoon left got tempted ate soon got home chocolate velvet amp ate d mocha stressing blackberry keeps flashing red alert status reason faking hate - want wear doc martens worn december shoe repair shop guy find shoes find couple days bbarnett coming woke vivid sketchy not-cool dreams life time stare wall lights 3 days sister passport nicolerichie oh yes miss uh oh think getting sick good god ruined belly button watching framed roger rabbit makes miss toon town akianz renting cheap renting awesome house 3 buying attempts fall running nose spinning head good combination meeting eazydoesit87 negative lost vote confidence nasty budget iphone sent apple today sofiinoel thats bad dammit episode 3 kings play reason stopped middle I upset missed chat quiz online free internet ceased believe I disbelief way people hurt car season started throat raw kevchoice persons mind ish like prayers fam real frago hate need need therapist twilight come yesterday fingers crossed today nilelegania glad able help feel better hate sick love tireddddddd want sleep assignment finish exam tomorrow study know thinking need money omgits jst teusday ddlovato davidhenrie ummmmm find heard found sandra cantu 8 yrs old corrosivecandy I forgotten snoo-snoo wonder snoo-snoo meet amanorris wow tweet like giant sexistsorry bathtub drain fired haz 1 job 2 amp iz fail got drano ass amp iz draining want shower dangit stuck home nomadicmatt 110 duckling famous childrens book stolen bostons public garden - boston globe sharethis oh appomattoxnews thank hate list includes 2 convicts heading altrincham hours install morning good I bloody knackered work today helppp xxx jeffreecuntstar garage park driveway lauredhel happened quoton popular musicquot twadorno probably difficult reading prescribed I actually struggling continue - flowers falling camera cellphone good I liking snow right getting nice spring-like weather brianarmstrong pity youtube currently blocked china vids margaretcho happened hightlight life best leather sofa world office means I working 3 days internet gets uncapped better days lodged belly love atekinzz ampamp soo miss want sneak zoo play kitties lolitariot oh hope getting sick alejandralei think cousins birthday party sweet little man fell asleep waiting daddy big brother home poor baby missed today angel going miss athlete weekend trust hard watched considering today yaknow shawnna tomomorrowi need bestfriend grr want reading left read atekinzz world rumlover supposed date pears amp brie bottle cabernet quotwin date tad hamiltonquot oh gawwd life flashed forward I 40 75 cats crap need dresses kaeeeep yeah know horrible ugh saddening brodhe geez ur fun want punk rock band jyesmith lot angst tuesday afternoon I glad britney crazy anymore hell I sad upap cook county huuuge headache omg feel like crap anistorm sorry cleders sorryi rooting man took forever shandasaurus listing items ebay sell takes forevermeanwhile coleman watching hills season premier got presentation 23 slides I crying week hardest weeks lost 160 like previously skins thing starts season like went straight intro like houndour wish thereI pretty good scaring shit people going sound vain running fav lip gloss stuiy click link screams quotI spider I spiderquot known better yucky time work sick pratama imac came 320 indonesia states dammit need stop buying furniture misssil half asleep turned laptop death peaceful life bites think jonathanrknight lost net sure hope - test footage girlfriend hd dark underxposed tough game watch tonight state finally going bed staying watch season premiere hills jruby support hpricot versions jinxcat unlike sisteri fraking app store pissing logging need study having problems accessing ttb strongly dislike people stupid comments know story emmaketurah I sorry emma swarley goldfish I sad tweets gone missed guys tonight sleep face kind swollen let allergic thing thursday school tomorrow doubtful snickthedog izzys cat tree stare floor chases runs officially banning godaddycom comp head hurts small print wasted 10 happily gone boba humanopium pretty scary ilovepie mines I finding hard fit good morning ready 2 want 2 2 bed hates waiting mails wheat bread dollar store toast nicely going taxes calling early night kutner mean knew going happen sad lt3 house I sad jonathanrknight aw ok goonite ill cinema fell asleep mean christina kelleyrowe hey remember time friends ugh vomit sick need sleep lymph nodes massive rahm emanuels balls right oh computer sucks think I able listen xbox 360 fancast tonite missing playing trumpet throat sore meant going 5 day camp friday sure sasii know exactly feel work bed time 1 sighs 6 mornings week wednesday hert jesus camp yeah marybethune oh happened today forgot going dress shopping opera tomorrow turtles better mac - lasts longer moves faster soaked pleasant ginayates sorry hear maggie thoughts mum ewarden email hope feel better miamiiboii dead yu gettin wen I leavin arlenecd tell close california lol phlaimeaux stupid arranged marriages I convert marry melove emilyruppe said looser implies poor sandra cantu amp cantu family prayers sick world live 8 fuck omg austins man lt3 love nicolerichie cried hard matthew died sad feet macbook fell sad feet macbook fell chordsy - find things like twitter lovebscott absolutely - filled curry true indian coming I soooo cold right heidimontag lol kant believe cam got beat upp sooo embarasssiiiin jonathanrknight good knight hun looking forward ur tweets hate missing fun cuz time difference tumblr exactly feels wearing tie daniela95616 hahaa realized quotimpunequot definitely word wanted dang I unclever watching old videos dance team makes miss wahh csi dvred love money 2 - going watch sleep - goodnight tweeterslt3 struggling hard inventory ddlovato hate ballinbitch haha I ballin got bills paaaaay I days want work home crap paulewog waitis game episodes I confused carlyw66 haha cried guess statistics bunch mumbo jumbo sloanb got sadly works uk amp moment evicted enjoy learning css nachojohnny brian fuck lol replied 2 ur messagedid miss heidimontag dvrd went watch apparently dish network went missed catch rerun jessdubb lmao wait season come summe boo hot nd dry ass weather lizchavez set feet ground missing eyelid people daniela95616 english professor ashamed -of wish frogs extinct came home cross county tired want walk home snow wants pick heidimontag lauren stubborn loves love feel bad cry lol grouchy wants bmar heart broken morning dropping foo pre school understand moms quothe heart brokenquot feeling hurts I mood chocolate want miniature reeses cups heat like oven feel sick nwo nickcarter come chat 15 minutes boredd colddd internet keeps stuffing horrible nightmare night affected sleep I tired I lonely company 22 female new york born4broadway lost st ignacius prepatory school haha birutagme yeah depressing stuff like gets whoisariston problem tongue-in-cheek remark lots acronyms nz greggrunberg hey said matt going ballistic disappointed good ep tho ugh horrible ending sandra kantu story prayers danielledeleasa - hate 2 b allergic want puppy soo bad I thought cool names morning folks 700 yawn amp away horses - hope twitter better behaved today night travesty quandotcom miss amandaenglund sorry hear loss year far nicolerichie gossip girl repeat inyoureyes2410 reckon finding hard use twitter I stuck house days sad know y thousandmiles maybe years I tax return girl dream right work tired hell feel cold coming clarianne knot2serious april 9th coming soon hannahsix cream eye herpes - ocular herpes different strain okay got repeat art folio cuz old terms work got wet I ready weekend monday lovebscott umm nopethink I insomniac plus got fluilll sleepin like phuckin fish outta water minute finland sleeping night time lunafiko wait try prolly wait weekend earliest shiner taking bed blankets clarianne april 9th coming soon wants cry need bank tomorrow broke earthquake italy sadden hours away naples family sleeping stressed week coming dragoneer yea working tp hack server 12player thing folks hurt ankle going dr raymondroman oh noes manage send trash noticing feel ya lost free copy radioactive ipod grrand buy nother coz came paper shit photoshop hate crash vacations makes feel sick gone listening murd 9th wonder- chillen missing crazy sex life louie094 shooting careful luisa hillary006 I sure ruined gift whitney cell easter beso hollywood tired want wake early tomorrow damn work finished watching movie prayers bobby broke heart syekr myki horrible stephenkruiser 2 dog today ran nevadawolf sorry hear dnf run tonight risk bad coords ftf honey3223 disgruntled people wrote esn 1000 hits day bill pulls 250 tops moony394 ohh omg lmao I crying right lol kutnerrrr best came running took showerwhy lower stomach hurt exercising watching fallon mom working projectschool hard 56 min till home time counting craving visit mac store closed time stephenkruiser sorry hear care paulcoles hmmmgreed good motivates individual better-not takes away gabbyisactive brat rub want mocha kutnerrrr think 13 ugh kutnerkal penn - bright star ho redvinylgirl mom wish best luck hate homeworks -- head hurts bad got ebay blues item want jumped bidders 100 hour 3 hours I better hopes gigdiary know - little depressed ate night leftovers today pc living room suffered fatal partion lost itunes library gone docs pics sad day manu season stephenkruiser poor spunkyits sadmy rotti 10 pathi know feel I sooo sad right need hug wants step brother home I worried know hope knows care heidimontag got watching hills loved excited episode I sad season ryanmwilson aww stinks hugs I tired feel like crap world feels crummy happy usb disco mouse want believe I readingbuuso sad wondering gamebattles white trash vs outnumbered emitstop true use spring break celebrate morning bah car start waiting anwb katebornstein pretty anti memorial tattoos strictest official ban disapproving family balamurugan longterm member team leaving month miss working hope venture justgelo sad knowing found body crazy world live child deserves ya know want rock maxi dress coachella lacking funding course baby screaming crib night day work let cry boooo home missing baby busy week ahead fri chill day guy kids egg hunt sat spiral dmb sat night easter followsavvy found everytime click twitter thing myspace goes dudes page stephenkruiser horrible sorryto hear davidhenrie find says dtmafiaofficial existthere jus 1 dtmafia found n dun b followin wht thought support augh eff sarth stole mils nail polish pretty wishes spring fling tour dawn amp neecee sigh gknight hoyts distribution nz website working great like need crummyasshole like movie cillian murphy hot wishes good old cartoons come ie captain planet wally daria sadness feeling v good abt got text sarah day centre point - time early start guessing train rammed commuters games fall modern warfare 2 halo 3 odst brutal legend bioshock 2 need cash dcastillo ugh disconcerting devinthedude007 actually site finally taken damn russians tweets going finished delicious breakfast paris I miss milk europe tastiest milk world drink ilearn great considering finals week carmonium I stressed outttt bern asleep hour ago trying figure twitter thingnone friends soo re-pinging kyle44 custom icons look cool edges square look bad diff background want la enterbelladonna dunno use forum frustrated I miss talking lilbucknuts41 option georgeruiz unfortunately moments giant squid monster thestarrage want branch midv open dananner aw sorry hear change plans ordered macs instead time hit books polhillian yup nkdreamer donnies tweet stats 700 repliesand jrk timgrainger nah received stimulus ikimb0 seen ur tweet plz write bak havnt got reply bak mccainblogette awwwww trying sleep 3 hours ago stephenkruiser I sorry hear sad lose close loved sleep I feelin like piece shit stephenkruiser oh sympathies hard decision hope old border collie sleep 14 hug josephheustess cool spoil limbecky I time warp sad theresawhite true lol slap face warm end march hate converting movies itouch gross pimple torturedlady yea manaaaaaaaaaaaaaaaaaaaam marwan accent lol follower tonight unholyknight mom night brb figure burned feel like quottwittererquot tweetdeck wyldceltic1 karate tournament 8 weeks going sleep 1am againand finish statistics homework north carolina baby nothin stopping nba draft sleep reaaly miss john mayers twitters fuck rude people remove like tweets bitchfucks going late mqu today I tired worki need life leavin work feet hurt playradioplay sad unexpected totally cried haha superneej morning bah car start waiting anwb homework little sad deepbluesealove mom amp dad 6too early asleep hours ago stephenkruiser sorry hear dog funny little things homesick criminals breakn n2 brownstone lawnord ci misty djsoulsister yeah great vid 12quot single sold years ago I vals mac iitsc clubroom sweating stephenkruiser awww sad I sorry updatingffe gives good minutes hot compress rily workng pulled muscle gng bed good night invite quothealthy diningquot session ashok hotel today exec chef rchopra damn workload - skip stephenkruiser I sorry hear dog wishing happier days come hellivina miss misstoriblack cool tweet apps razr 2 I bed got wake hella early tomorrow morning procrastinating hate organizing clothes playing new mobbler v040 adds great new features play music e71 like v035 latroneb oh bestie missing esuriospiritus time come flawda double dates seriously I sorry hear I way late working client 1210 fb blegghhhh work work john muir dr dachesterfrench emailed yesterday responded going long year fans got watching new house episodedefinitely saddest episodes man taxes suck I horrified wrong turbotax decided lot stuff turned sleep time tomorrow going suck wtf kutner oh I pissed house mean wtf amberpacific know know said cash rules picked oats market eat breakfast boy adamgoldston time work usc late night feel sick icecream faithgg45 computer shockwaveblah account rubyrose1 awww wish sydney luxuryprgal hahaha suriously feel like knows joke lc spell today totally suck vaccinated chicken-poxshould vaccinate 3 yr oldi confused damn thing school day yawwwn got early tomorrow ready weekend miss home calving seasonsad black died morning wish bottle calves stephenkruiser sorry loss brother dog sam sick wcushings disease work spend 8 hours dispatch room new kind starburst favereds sounds fab bc cherry strawberry fav reds added watermellon yucky productive 2 days angels andreabakes oh gee - insomnia sucks tried melatonin vivekg86 good hear support netbeans netbeans know heidimontag wish time rest world unfornately cairo wait mtva play heartbroken little sandra prayers family hadtobeyou I 900 words I finish tomorrow maybe shortiethug come ur background covers screen corner wrote exactly lines dialogue tonight gave ashman01 complaint facebook changed confusing sliced finger going town traffic bypass stink ugh sleep wish good cuddle ass hate software update downloads updates telling know downloading went ihop great diet kung foo pancakes time -rachel- internet hating night spose contactabe I jealous missed opening day year cruel having wait reviews come far looks like star trek best film year debating shower sleep little later tomorrow stress culminates physical pain need sleep little pinky finger hurts sarahsaturday I sorry gift card ran suck home spring break home tho accessed oneindiamobi google phone android support indic languages school life sleep anymore school work mtsiaklides aw wish speak yia yia speak english winggato free comp lol getting ready clean house crying friend moving away tomorrow swiftkaratechop stop nomnoms share night peoples thinks getting cold caught daddy oh trip ruined moony394 yeah bcoz kal penn visiting lecturer n anymore I going miss procrastination starts early quarter want reaaaaad write paper apparently 52 degress 11pm washington state miss winter bored homee massage great spilled coke desk lame watching simpsons I finished hills dvds nickcarter wait fanclub chat tough favorite mild left inner ear infection got irritating quotblockedquot feeling sunday janebodehouse hey nope cuteness hoytfortenberry away awhile tuesday haha yo know thang twitter haha alarm clock phone woke 3amstill got headache yesterday night kalichosich awww poor puppy ok break eat buffalo wings tomorrow sittin wkayla reallly dis-like having brother know stop I waiting day fed bokkie birthday treats-sicko s kind bummed agency told look going ladies help create look work laptop officially dead happy goodness freezing heidimontag listen mom stucked paris travel france work joannafbeckett think close time checked closest 70 miles away aaaaand literature review friendly cup coffee company worried 900 paid buttload tax year okay school phoneless sleep reeked alcohol dentist morning drunk tshirt realised huge stain dentist looked disgusted cold sleep wants dream sleep hate nights try bed early stay awake hours poo rootbeersoup yeah bad people like certain burrito-eating man exist cronotriggers sad found mum adopted auntie twitter check mum tessm64 awesome auntie tania38 sleepwide awakeand got work later boy going crappy day struggling eam law sleep like bouts start 24 poor linny eyes open tired work tomorrow morning night ilovefatsusan 4 year old 18 year old driving twisti want like sucked place 3 daysany help packingpaintingcleaning appreciated oh rip wall opening partially frozen beer beer toaster oven counter kitchen smells like run speakeasy stewiebrittany know ride monasmith sadly yes think need counciling making ready schooldo feel like going tests smugness gone train failed turn I heading victoria followed unpleasant tube ride city anybody know ipod went aww earthquake italy sad saw pics news terrible lilibat able afford I extraction continue deal pet care people try run business send suspicious e-mails fishing info kameelahwrites lt33 codezthey mia tho reannaremick work cell sleep p going nice tomorrow rain comes nice weather birthday taliasunset rock band hardon expert beachbassbone roomie home day scratch door comforter goto large laundromat machines hardest thing schedule chat end day usually killed character favorite shows I upset jealous friends got new star trek film austin tonight listening q got bad headache drivin lesson mins lucky wana sleeep stevebuscemi shut youi hungry britain home boring suckassy breakfast world miss dennys good morning everybody pkoi y fais pas beau bon coffee time work essay time chauncey78 hey talk mom r home hope r ok wish coming home 4 easter endearingevania sure wish guys tmrw usual school interferes widyatarina kal penns leaving house noooooo awww totally missed tonight lost loyal played hand bad lost half stack 620pm - early days looooooong night work yaykimo sad season want spencer calls lauren I editing quotthe phipstapequot 2 crack brew got trees rj know half means homework homework homework worked heart today doubling weight station result stiff pulled muscles ouch melamachinko feel bad unfollowing tired god hate new job days sad kutner killed fav house happy coach stringer hof cof 2009now finish term paper feel like shit way want spend birthdays eve far 311 sites checking updates lot mind needs moneys ideas hiring emiliexclarkex miss stephenkruiser I sorry hear dog internet plagues miss ex soo sodding m25 oh thought pirate bay trial verdict today -s apparently 10 days featherinair study hall log immediately tired I crying reason I try hour half tonight half got night totally like girl options viable far 311 veiws sites checking updates listening bjorks love crying omg hills love money2 aww think becky buckwild goes craving tantan nabe cmon sean man watching quota league ownquotmakes miss mint chocolate ice cream cones grand ma fuck lost phone wheremaybe grass long hope rain tomatosalsa hope referring hello new stalker lol brettyboo sleeping ur going night ur bike ride slessard want listen masters sephystryx I looking good stuff write loads uni work feel unloved dropped 2 tweeters london day thursday going raining oh fab london eye robbie care bless completely wiped reloaded 8900 lost bbm contacts going bed sad mykele sayyyy whaaaa invited sleep bad considering workshop starting today beginnings sore throat astewart87 oh gosh emotional haha idk want old going post stories manually twitterfeed problem quiet lately like lukewarm showers linuxfoundation - contact need 1099 freelance work linuxcom 2008 got skylineking722 connor febi mad need help want buy macbook pro inlove old powerbook michaeltao man america borez lol realized sent msgs idea flash hellivina ihopness gknight lovely ladies I sleepy anybody know electrolytes order vitamin work feel sick sudam08 yes reading posts properly italian homework weeeeee understood turned lights time ip therealnph twitter hates hate fact I genuinely excited tweet celesteclara sleep theblondetheory italy earthquake sad news day champagnemanoir rain today garden needs bad yawn yawn yawn 10 minutes bed majesticflame ouch - sounds sucky bengottlieb great idea itunes promo codes - work uk itunes store mattycus cry rumlover rum barrel sad rum barrel shakes head horror horror sleepless night billybush admitted fake batmannn love chutney got highly bored today scanning 24 pages daddy misterphipps cooked risotto keeeerrrrriiiiii better post thing 224amwonderfullll says alot yay baseball season boo yankees losing game lost sucks work today omg exams killed know difference haif circle hemisphere lt3 gt bed suddenly feel wish ma wme goodnight twitterfam rachelcmrn like goodnights greaaat lappy turn wtffffff m4rkm stuck traffic journey traffic free morning help lookin like all-nighter hate vernonhamilton stranger debbugging old vb6 code day started better toddlington quarter percent babe darn coming cold bad allergies way I miserable believe cutner dead house sad day santa rosa damnit digging season reaper gah comcast doubled cableinternet bill wout telling quitting suggest affordable company bay area early morn duchess managed cross legs time alexbigman left saying hi l want sleep tracydowds xbox shows red lights means dead needs fixed month microsoft hq king sized bed nice sad lonely hubby puppy kitty conferenceing thing I boredd gah wish sleep I toooo muchh cooooffffeeeeeeeee bahaha whyinthehell butt I nosey sorry conversation interesting smokeyrobinson fell listdid offend 18 weeks till sisters home missed worst feeling world going try sleep hotel room chimpytwit brilliant idea bring think spend amp I swap bring brolly simonekali autograph shout record computer dead listen rt kimkardashian khloe got fired apprentice biology class lip hurts sorry tweet grr school today jennlopez hd tivo got set tonight order channels 40 - 59 mouthsex asked yesterday single tweet adame ruddy money like waiting oh surprise state hmmm seriously kalpenn sad kutner favorite new team marcusmims wow quothelloquot suck bedtime school tomorrow books broke suckssss seating helping baby paperswell forcing seat I sleepy synching contacts old mobile iphone import work concentrate I spent 1 hour enter bureaucratic nonsense march waste time nw confused feeling stupid migraine making tummy upset body aches shoot reading buyology bedtime great premise turning quotokquot book - lots info knew home wana sleep wasting free line town assignment finish hellobebe send updates plurk upload photos twitter updates plurk zero omg quotthe readerquot making cloudpimps doh getting decent exchange rate moment sterling getting flogged tried download tweetdeck download inch snow ground counting I worried poor flowers dweeman happy camper dkoenigs thanks man I grateful feel unworthy attention I twolfe miss I totally comin tho lastnight sooooooo fun sniffinglue ohhh love ps I sad hang end place kisluvkis oh sad poor boy jonathanrknight silvertulip27 um hell fugly poker dog pants cruise hi jonathan sorry missed I homework gosh darn hard definitely vacation study group extraordinare leave campussome torts outline finished-good thing-but sleepy hwill 7am airfare live texas know I able iowa jstricko found pretty frustrating stupid monkeys lenesha I feeling mommy lovebscott nope I right wit murder gotcha believe nbensalem I sitting house I sooo looking forward class tomorrow ordered maternity clothes online came today got strange order size stuff missing citizensheep thesage1014 wish got work seaghostdesigns happened saturday girlsgonechild fall asleep mouth ulcer painful talk eat danphelan urgh video cut robots dog anymore praying okay kalpenn pretty favenot reason watch artistbabee thts annoying ampdefinitely bitchy def broke like prolly kno october 5 mileycyrus hahaha like time ny got 30 mins sleep got sick love normalguyguide learn wwi tomorrow noon new post graemearcher sad innocent selling dang able workshops run web directions benpritchett goodness find good hear ben video game booki apologize jap girls leaving poor little girl baaaad rash bum feeling good nicolerichie yes vhs cried old man died argh got early girls aloud freshly squeezed video travian total cost atk aggressor 273310 resources said I guessing going let slide waiting kellys mhm having good day blah blah blah octopuseatspie got chezburger book lobo look wif I trying work assignment year spark want lay grass read robertfperez ugh course thursday fridaysat kids kalpenn oh gosh I emotionally dying fact kutners gone arggg kal ily kaozdesign think found faceunfortunately find seeing stomach flip like headache pleeeease away siddharthind yeah application runs minutes add-ons conflict time pretty good coaching exceptional talent trounces exceptional coaching pretty good talent msu hate tuesdays gracedent quothairquot deal feel like I stuck rut waiting hear schools killing decided break wow awhile need new glassesmines hangnon 1 arm meat week day 3 tummy hurts night quotfakequot verruca twitter I sad phone bestie shower confused know sirrah21 aww poor froofroo way late miss 808 fam officialprofoz sed puerto rican joefernandez klout thinking selling simx yeah slow end win pornstartweet want 20 lovemeagan mss snippet hunwts aski want hear know big love true blood united states tara long waits seasons sensesdestroyer want lamb god sad lost hn arm bandit disappeared set alarm wake wanted speak sis africa skype - miss sooo awh damn puppy ticks house sad oh kutner saffron lookingi know read going hurt look guess girl thing amp need needs hugssnuggles health4uandpets saw gsd covered stop crying bawled bawled rachel jessy r making work thanks guy I wishing time mycaricature bit got said babs bad mum I sure hurts laughing wanting school tomorrow term quotfail whalequot client pitch night incomprehension corp twitter lower org rootbeerfloats8 hate billy 2-day work-weekfast-forward thursday snaprebelx omg love mad feel ur pain I sorry spoiled possible die coughing sucks ill believe way barnes work todayinstead 5minute walk st johns wood paulieseow hahahahahah easily ice milo best friends shitty simultaneously turns hurting feelings jerks going 2 sleep art regressing onlysweeter know dance laurweeboo I ok guess hard day jade looking new home damnnn missed 1111 sarahprout tweetfinder hates having trouble background twitterwhat think twilighter4life lol yeh ill studying stupid uni 2 weeks I holidays yay plus birthday week woot transbay quotsfmta budget proposal hearing tomorrow april 7 200 pm city hall room 400 sadly attendquot afraid gi notes read sigh rain decide away invited tuesday-party start hoped secretgarden gotten porn spammers check followers tweets like somebody selling japan release album e bay 25 damn classic worth charleneli disqus integrates conversations platforms heard abt js-kit advertising fake louis bags 100 authentic google I pissed sleep dam naps lol hot lookingi know read going hurt look guess girl thing henrygooden oddchicken went month half ago open smelt good getting sick ready bedlong day tomorrow job searchingfyi yahoo hot jobs suck I going find job electricity today tweets bigthink zack tell edit bioprofile create login different cos site answer bt techhelp morning starving dying cuppa cos docs fasting blood test little tired morning - idea great start day morning I little break computer work today mobilityvicorg launch grog nice video pwc quotfollowersquot some1 inform works misses right need hug tried earlier todaydid work omg revisions revisions revisions feel like wasted amazingly beautiful day today pointless work foot commission ouch running morning helpnot smart shower hope wake oh synth experiments yielded night bored sleepyand mad find custom lanyard maker buy 1000000 minimum cmykevin ooh nice williams sonoma got I finally given malaysian restaurant waiting nasi lemak teh tarik mereka tak faham bm waitin 4 theory test centre 2 open got woken mornng 7am - damn lorry van car accident outside main road causing car alarms think need laid sad revolution earlier rofl ourcitylight sudden want amanita feel unliving lanarisque hahahahhha food poisening going gone away missxmarisa heard hannah disappointing hutsoncap alright procrastinating feel ill want bed danielhalpin going try find sports bar watch got chance think wants home watch hills sarmar guess I funny moethebeat aww moe planning leaving tomorrow evening going town chance want write I cool storylineee gripping agreed love sound hates knows brendamew2 art tomorrow nice joined twitter sigh think pms making mind totally over-analyse things making sad doriantaylor outside patio named rex gardner took rip rex ooops ate panini w-mart cold says needed thoroughly cooked taste raw die nao f poisoning good morning rainy france gardening today day staying bed today got cleo vets sure wrong feeling sorry today day 1 fast amp feel break b4 2 bed hold til end wk stayed focused wish luck extremely jealous kimmyawesome ohhhh sucks love summer set daydee tell forgot password amp new way prevent tons spam bedtime wake 7am glad work - extra hour paycheck waiting lost mums taken hospital know wrong vomiting yesterday rushing hospital congested nose sleep need talk penalba por favor decime ke estas involucrado en esa pagina nicatrolls cancer killing b cold tired write good twitter obeying cops tonight total dissappointment close lifee gets worsee ampamp worsee dnwallace - shuddering shaking sorting brekkie kids horrible place called work boohoo condolences natasha richardsons family littleyellowjen think ily nawwww derrick am-1xwxs needs stop sleeping day causes problems wide awake 245am missed todays ellen suddenly miss flintstones vitamin tablets soooo gooood mattpro13 legitimately good cops onlytosee twitters tooo pealuh think need twitterholics anonymous lizhenry heard sha heart broken forgot sleep morning need decent coffee catering open 0830 mostazzza I sorry I failed codaqueen oh wait 1 oakland 18th understand 1 amp oakland missing talking bff da phone wondering stupid need eat fish guess sigh miss old friends elementary ans middle school twitter fix brakes external twitter avatar searches looks like I missed job employ haha tacce dang I house itunes hear devastating episode wow shout box kicked guess means good night slideshares embed code annoying sorry tiny embed fail flawless326 baby eat 3 prunes today finally went poor baby iam bored morning - 1st appointment day - dentist amyserrata wrote album ironically singles write gossip girl away I addicted good night swetdreamss everyonee jared chat kyte puff horrible sore throat hurts time dressed supposegah workday self licking pudding seafood fork enjoyable slowly licking spoon ready premier realized dressed makes happy wish want afraid fly eyrro awwwww bummerrsorry missed waking sound jackhammers pleasant way start day almostcool I jon8737 totally night lmao like screaming focus 900 mph song nevada long gas pumps good note won 5 slot machine love gamble amirrabennett nope babys 5th getting closer 1001 things headache effinggggg sick better ughh bed dont want university callung loud seattle tents miss tof peepz tho makes happy wish afraid fly errrggggg tummy hurts thought interesting f1 updates twitter slightly regretting decision elsess updates ripped switcheasy colors failed song poor mel feeling pain ugh working project taking small break day school day exciting happens parliament square watko shockingly today interesting day twitter cboyack igeldard iidiocracy kind quiet today courtneybrwn awww thanks hate sick vip guests today --quot blohheeee hate early fuck youku want watch skins forgot phone car I scared outside totally forgot going fisheye 2night thursday btw I late hills lol totally shocked episode house eveing lost favorite characters offbytwo seeing doctor hope pass cset missed 5 effing points kevinpeterson 2g cases like scratches void warrenty dents found chapped lips boo ryleebeth ye I sadbut weirdly lettin 2 da party confusing parents r lol kimboinlimbo chance coming 20 mins faster javelins bored lonely classic rainy amsterdam days feels like crying sick feel horrorswench toooooo feel like I verge anxiety attack day woke hour ago I having hard time going bed lakewood going sleep lily rocki lt3 johnathon busy watching batman movies gaspitsnicole sigh midd hsnging friends damn growing p mrskutcher lol wish bad sync germany right subtitles work lol alyssaspears I sorry maybe walking goofy store helphint hint lt3 contempted heroics sorry I tired morning cold shower waternot happy haha I grandma 2 days 5 houses away I miss clearing desk w person pic phone died signed shirt amazing words describe skipped mel lol crying inside oh let rain warm thecoolestout packing overnight bag tomorrow going hospital gaspitsnicole sigh miss hsnging friends damn growing p oh yeah miss able spell lol glavas lol read bio spelt wrong darylo ahem guten morgen ready phantasialand cologne yay booooo park holiday ladiscoteca saw I sorry nikicheong reminded krispykreme landed msia ugly website guykawasaki sad goats wa-ah-ah-ah-ah-ah watching roadworks develop outside office late 10 weeks fb work w asma3 nawal fe obeerate alwatan tv wish 2 bed having 2 allergy pill khqrightnow heard making announcements trying find mother looked worried work saturday want come company cough cough ok maybe I sleep hour rise work thesis goodd nightt sweet dreams everyonee jared neveerr chat kyte lol tiffinyhogg heard timewarp fantastic gutted missed playing egg wishing 245 morning sleeping awesome work need scrub apt eileenb know people baf03 hi steven man week I school work weebeedee run great thanks windy today bike ride option morning aniita0517 yes sad topic haha going concert far probably expensive couple mt texts arrive decided rejoin aerobics cos know exercise paying rm3 left bag ientje89 aw I fine thanks yeah miss mfc hope talk later today kisses huglove hartym looks interesting lot 500 errors documentation website kalpenn favorite excellent job breaks heart navy seal marcus luttrells doggy filled rage argh I eaton today zurich smelly bags anymore university classroom computer shit day boring want bed fanofbsb4ever sorry missed worst burn life sick priscillacruz funny watched strong today chances miss capoeira zoom zoom official I going educational summer owh god bless avisionofbeauty phone like sorry motivation missoliviaa nooo brat west coast hahaa making sad oh going sleep wish 445pm I work thing hate dozing lects wake sheaf wet badly smudged notes sleepy head chances actually sleeping slim fucking money gone I 10 battery kristenjstewart watched trailer adventureland itunes looks funny pity think australia I tired school holidays 3rd time xxx omg 360 people death toll italy thisismyiq layin downi feel sccskwerl aww depressing theblondetheory ditch parish sick people world yo jimo talk aim anymore glitching ill cya later hope gave msu fan car rental discount looked sad turn away ordered pitait nevr came fax machine broke driver left belly britney fucking amazing went hoteli hate travelling cheapos powerpoole people try tricky stop twitter guess good gets try dra6on sad cos r sad gotobekiddingme triedand failed ditty003 I looking school work sucksatleast home lol acdc rocked night reality today 70000 people homes gt150 dead italy heatherlibby oh like trouble christian slater trying kill moment hoping decent sleep tonight worth shittt night goodnight world xoxo want diana f looks great I got spots hurts like hell doubt beauty tomorrow ekim1406 hehehe bad separated babe callin hetty4christ heh yeah shakily conquered ladder pointless job tho far away receive digital signal w antenna good morning hope feeling better cold got hold train rammed fellow commuters vile special derision reserved man appeared claim seat luggage rack kalpenn miss awesome shock talking boy hating work upI work larrissar leave stay grants bday danielcalderonl yeaah hate pmelt bad thing aids catch id want inflict pain deadshits world childhoodflames wrong bed sick n sleep try w help meds s blipfm downI going normal tweeting lilylauren sad ppl shave moustaches know I cry tho oh gosh oh goshsusy going kill remedy finally going sleep waking early study miss friends elementary middle school cyantificnhs balls tunes holiday - chick corea tonightand missed sobs I going love season hills tell spartans sucked goodnight needs study quant legal process assessment 2moro itsangie canceled plane tickets hotel stay tickets close 400 eat cheaply man soooo want polaroidskyline sounds fair horrible going repeat guess text sent better whee bivancamp aw suuuucks sorry dear neyawn yeah interview know lfta ur going delete like thaty feel like quottom cruisequot jerry maguire got fired right yo lol worst dream abt turd face date ugh awful shresthayash ouch imagine toothpic eye uhi feel lonely wish bffwiamc best friend forever cousin twitter people following randomly stop makes sad feeling bleh spew burps hot deadline return shirt bought topshop bc 50 bank account rest month life sucks woke 6am far earlymore coffee tooooooooo cold raining tomorrow night sooo nice today guess thankful able enjoy michael crichton curse slow internet miss youtube feels headache coming gordonchiu letter alway koreans use quotxquot hope working holy week marnieblaze haha nope guess original days lots revision tonight final assessments assessments today 90 pass mark harsh stapling chipped nails cold paulteeter passed border chewie update ocd left legs fixed possible ocd right leg worse hip dysplasia hips good got hospital bfs nephew meningitis chiyou nay hp chun b t chc s kin trng bao nhiyou vic coldd watch vid tell moved boo day work 3 3 days driving schiphol apperantly stuck aalsmeer anymore daisy manage 75 bed garretjiroux write twitter miss ya garee x getting changed hopes means store poor cat foodoops I pain nicolerichie haha yeah band mmc cd lost miss bcd friends oliyoung requires assembly assembly completely overrated tonight harder thought diet woke 2day hungry jbeauty oooh heads high killin wit da lol think know I good tucker inner haha hate cooking dinner maikeru76 connected backso dm compassion people italy mother calling relatives italy right riskyrevenge wait sick oishiieats play polite dance song fav course damn need find battery elinchrom ranger canada stock wait amp game fall asleep amp wake london today smile like mean wow song brings memories sleep muzocan talk australia issue woken deep sleep let mad max happy sleep sorry getting ready going leave 8am today got speeding ticket kristensaywhaa ass hm watch episodeee freakin missed scarletjac good close current challenge international font looks ugly going original font tweet malayalam business studies revision misses david actually freakin cool shit like happen believe got answer ask question feels awful tweeting tonight maybe tweets come form tweet vomit later 1 morning think need laid sad revolution earlier rofl txt-chat jake lmfao frikkin awesome miss effin boy awww hoping guys come na xxxx itsdawns thank rmilana like hehe easy I danish dude craftysince1990 lol sweet bought tickets year ampamp partnerincrime flaked end going sure razzberrie wha 4gb yay haha laggy computers mba upgrade defsound aawwwww know mean iv girl sense humor zaibatsu meI super lucky seat train pay 40 25 min journey coyoteontherun bet i- oh wait mac prolly navel piercing tore bit forcing dog bed truck fault know looks healing yay wow got sick think straightand mtv posted hills online wtf woke apples gig ace night seriously tired work begins hour todays episode quothousequot episode simple explanation heartbreaking I frankly disappointed offended blogger writing fu penguin tpaw wooo yeah sorry hear missed origin tickets gooood mooorning world dream night fucked knee def need kick start strengthening ready bournemouth 7s need selsun bluepretty sure small spot haole rot think I coming newing twitter lindseyviloria going mexico sweetlyaroundme ps woke morning access websites cleaned computer completely hates hearing girl ill stevediamond know trouble heard thing recommendations mrtweet scarlettdane mary amp going dress shopping tomorrow noelclarke good morning stop ignoring cos said like cough sad nowboo hoo feeling light headed gross thanks chaffie thousand apologies fogive 4 sinned itschelseastaub goodnight chels sorry major layout-delay lt3 collakaaubrey oh joking I crushed totally going stand middle field wave arms waitin th break service somethin fallen car I got hot water bottle feel twat holyjaw middle night I committed installing windows 7 boot camp I having issues redgray ah man- sad cousin committed suicide yest 8 months pregnant - imagine crying non stop damn megan equals murder poor sandra cantu heart goes family friends rest peace little morning v groggy morning feel soooo bad doglet understanding mouth sore poor little thing oh watch videos people dying right I going sleep luke worral twitter dynoisthename haha better watch actually kill twitter lot interesting cute people suddenly stopped flirting stomach feeling satisfied nowbeen starving 2 hours disappointed nearly spoiled house teeny bit saw went away link terribly surprised marlonjenglish kittcat8 ya basically screwed rewrote seriously want know wants goo lronjaii lmaooo mornin baybeeee lie peaceful journey train straight boring hooded teef sight wish talk I upset likes willieday26 hommmmeeworrkkk boooo hope fellas good night japh wish I known tickets earlier rang arvo - left amy end sitting sigh hard woke find coldfluillness-type thing going fight apparently beats sleep sorry keynote whf tscc killed derek reese brian austin green actually liked character equinuxcom crashed safari tks quotfire anatoliaquot fired costumes destroyed poor situation 800am typical british morning cold wet road miserable angry drivers good times need holiday time sleep dreaming city tattoos great things waking early morning sociology bought sour gummi worms peach gummi ofs cheeto puffs 44 ounce soda I fat ass huge dinner tubeyornot2b thought found tweetheart guess search continues - pixieanna scroll hours missed lotta jon cyfyre finished years twinzzzzzzzzzzz missed 24 hills catch tomor real housewives ugh need figure priorities oh officially birthday happy 23rd birthday looks wish eriks bed needs motivation dressed work hate training today saying snow tomorrow wtf tennessee snow winter people stop following tried fix hubbys computer come disks windows key work buy like afford v3events way ur game right twitter lost updates yesterday - twitter fail paronychia hurts - remember days siiiiike miss old body someday soon shall miiiiine work bad start day falling stairs enjoying work lt3 cigsrip I paperwork today n I kind getting sick fun 5km tready want die I built running un1xnut work eveningnight job needs help anxiety crap chaseboogie lol ask nice given ride shit started bar b cueing freeway lmao ready azraeel got home 10 end 9am start aswell throat raw sleep t asked friend piglet winnie pooh seriously guys burnt tongue miso soup today worst dream abt turd face ex ugh awful longing sewing machine birthday far away slept wink severe insomnia arghhhh terryfree lol byeee time skunkie sorry guess sarcasm hard 130 characters microwaved kashi chicken spinach thing milk dvd seen bet good seen slumdog got watch lil bros mom work oh god teachers gave rotten gogoma eat I hungry I trying eat bad parts hahahaha got headache getting ready work flip lifestyle goodbye sleeping hello work 6am evilunicorn lt3 honeyortar hinge broke works open smoothly pissing dunno I fixed damn hate stage breakup process miss boy fallen love damn poop rachaelyamagata amazing rach thank music waited outside showed album nightwyrm ate cookies think I hallucinating want work want bed th paper woke nap rampantheart add twitter field comment found madden 08 09 oh old new missing favourite friend brandzhd takin break clubs tell want talk advisors advise judge arse 2 packs moroccan mint teaand truckloads kenyan tea idolette marissatastic - I sad house episode tonight bigger amp better things damn taub lol choclatdrop404 paying attn shalinique saying 2 change ur twitter game like way r genmarie hope fix california oishiieats I hbo 30 minutes got excited remembered sleep tonight soon sad tired leave bed adreamforsteph ok house sad oohhungry creeps kitchen legsandor armsattacks fridge ah cold chicken exciting junebugg15 super glue shoe lol owwwwww doozy headache 2 tablets later taken slight edge days holidays friends public schools hang thursday disneyland omg finds mom rly annoying need detox h2o day skin shitting I bed way late likely sac shit work tomorrow ylizabeth died kcarruthers I 540 years old pixie years body clock chuffernote stay late -also afro stupid thing let old twitter page new soooo tired work txt-chat jake lmfao frikkin awesome miss effin boy awww hoping come na xxxx kristinfinley ur phone breaking disease spread phone ring flashes agh moth till frank morgan race chrisdjmoyles I excited live wales blahhh throat sore amp coughing hate sick I sitting unable sleep motivated sleep I feeling icky oh dear pups died 1 1 night princess rejected going 30 month ugh 3 morning sleep scarletjac thanks know video harrowing especially 2 minutes admit cried wrote 2 pg paper n 30 min studied n 2 bed got wake n 3 hours oh joy nite beginning enjoy lazy town - oh dear brain needs optimise neural search pathways find muscles cried heard girl tracy found today soooo sad god bless sandra cantu gmg2001 lol omg tempt started p90 2 hours ago need good day shoulda asked yesterday moment run fatboy run time twitt theese days insane wyldceltic1 oh man sad twitter woke spazmoraz lady work boohoo got eyenow itchy aw mrskutcher thinking today - deprssing makes appreciate life keelybin ermmm hearing dreaded alarm clock cannibaleyes bowling shit ripped eisie mate rubbish 10pt hug tom covered spots obviously happy doc says bad tell tom warlach curse ye fun miss online pr paramount pics ugh read cnn found cantu girls body pond near home terrible family sleep 205am--ugh I sleepy sad know andy hallet died thought markress understand busy tweet work samsungimaging better auto feature ironed blast advertisements industrial strength spam texasvegetarian oh god ow hurt like bitch showered dressed late shift lollypop gillianme yeah time sleep dreaming city tattoos great things waking early morning sociology dougiemcfly hey saw guys play pushoverdid 2 meet tho cuz th huge line upset lola msg 4 good morning wish weather good germany today wish dunkin donuts holland today moms japan wait sooooooo busy right lot custom orders catch blogged 31st hrs day right got stinking headache need run I happy bunny sorry vid hits hard beware 2 minutes especially wondering gamebattles traffic a2 wait till 10 lanes ready 2010 slept 11 hours awake 530am yesterday late exam got wake 5 tomoro onwards finished new moon work tomorrow totally finish tonight geez ok wonder twitpix option new phone got win I leave photos cuz guess usually zzzz today macbook froze luckily able screen shot paper retyped end submitted paper 1 min late rougeforever I faffing actually reading work feel productive thecampingforum forcasters believed lucky lasts till afternoon babybazooka toobut hard cherylthelibrn thanks rebuildersrebuilding tip trying help mom divorce breakup left head phone died morning 1 head phone company journey meganh93 drizzling day going rain pour sleep ugghhh got work ravenous eaten gipton steak amp branston sarnies I buy lunch doh new iphone yay restoring backup stupid apple catering gigs cool getting ready normal week working easter sleep hamporter walk annex hoping instead nguyen family know exactly feel man am1xtn7 I yellinq ma mummyy lol angry mee want chicago liked hearing bad politicians oprah hate oprah 4 days left uk candicenicolepr heard homework shannamoakler I afraid fly straight refuse plane sucks limits tony changed change feeling bit better today walk idea happened yesterday way school ugh leave exciting day work christieeee aww I sorry dearyy fuck la circulation ce mat1 belive home sleepy 4 hrs today round rock tx I disneyland ahaha I sad pineapple stand closed 3 dollars ok 2 hours self imposed shopping ban aching shoe fixthis going harder thought whip cream melting woken mom sleep lonely bed husband 46 followers acknowledge stupid mampms stomach hurt best monday missed gossip girl oh spent time bff today wonderful night xoxo pilvlp luck I probably stopped cop stupid sitting home I bored hearing weird noises downstairs kind creepy let know ok kailuh dis guy talking brothers cock feel like talking ewww figure rest birthday today feel old ameliatorode fun shopping bear mind horrible forex truth ok tweet peep head bed nowgot test law tomorrow summer love huggers working lab report 2359hr tonight awake twitters dozing jillglavan soooo disappointed ti party leave vegas jacked talked runawaystarling unfort msn douche half butting poop oinkeraida agree crazy pollen trees washington state making sinuses crazy stupid 3 year project feels like conquered realised 1 year jdpeterson hope feel better cali need lazy laurenlenewx awww I sorry woo pages seven gowhy heck procrastinate goal 1 grad school wait morning tired today stayed bed town forgot charge phone think day awake untimely hour want school tomorrow exam having half weeks kalpenn thing sucks excited knew final team sleep windy scary darylsws kids holidays summer camp summer school boarding lol 2am I sniffling sneezing sleep morning going come way early guys bill gatess associates makes feel like know know oh azppa sent email state conventionmay 17-18 amp papyrus sad bc wanted attend pelf81 work demanding watching greek believe day ill guys june 20 ahh cabbins ew terrified news italy lilimarlene ohh sucks brainiacmathew know I spring break extremely hungry going loooooooooooooooooooooooooooooooonnnnnnngggggggg night work jennchambless awake I drunk darkbutterfly thought looked paler probably drama filming jun looks healthier sad hear discovery little girl tracy poor family supposed think working places cycle2work scheme 15 disc halfauds good office irritating work worst client I choose project ur employee wye river cold internet expensive jammed finger hurts badly damn- pc completely given sucks let everquest 2 subscription lapse play anymore time flu shot work arm hurts heidimontag love hills missed tonight jesmayhemwa trying sell prelude katsun point I trying remain optimistic delayed live365 getting harder day twitter kalpenn omg mad favorite character I miss wishes david cook coming phoenix trying figure way san diego june 18th I obsessed ill fresh start promise xtra sad puppy face beautiful morning - sun shining birds singing I playing mousetrap kids damn work aholmesnj able downthemall ta able delete account lose photos lost comments thisisguan tuesday raining day huge headache got work actinglikeamama oh recipe gyros developed addiction germany able find like aus feel feckin arseholeda sign old age thinks sukottoxd saw ice rain today snow frozen water nonetheless charp nerdy amp thinking help metropolitan area network tired sleep jbeauty lol goodnight I laying bed facing wall trying relax I hearing things plus air conditioning sound louad needs baby home bit soon bed finally long day tomorrow sleep ugh going trend ill need find wakeful night hours read learn language airlie sick mason sick going miss school disco trip canceled latest blog post info saw 1 little 1 huge stingray foot-deep water catseye beach low tide turtles update picture cos look old fat oh old fat playing badminton working weight saw snow flakes lol honeybaby sound like ny-quil commercial word looks right green background want sleep feeling soree bad idea running sick tt need sleep body let draw instead lt3 30secondstomars thanks prayers days difficults vanidosa27 wrong need inhaler know sick hope start feeling better eri74 goodmorning hahaha let guess cb hahaha know feeling trip gym help computerinternet hating tonight swear find usb cord sidekick taking angus check-up today quietly dread time poorly know lung function tests crap grahamcracker working melbourne victoria police department melbourne city cabs homework realized twitter getting attention mama ishahaha lame m0nkfish eww hershys kisses ok amazing whoa I super hungry life cereal wgranola amp raspberries calling wants easterfest let gossip girlit mondays good reruns trying fit stuff tiny bag hand luggage think going work sunky grown horrid seaf2009 strongly considering improvising missed year sick innocentdrinks coke 20 minority stake april fool depressing favourite brand sad said goodbye hubby globe trotting away chauv things bkgirlfriday dude snowed todaycan imagine weather hawaii right updating myspace profile need followers coz bit sad read updates blogspot bulletin myspace etc figure care thelmarockz thelma shiz blank comments work zeist minute want stay work thought buy silent hill psp ps store find taxes best mood fan sleeping baby boo thought hate sombody hate tobe d gave love pay bad tommcfly hey saw guys play pushoverdid 2 meet tho cuz th huge line upset lola msg 4 going sleep johnny died oc fucked sleep I decided homework instead oscartg morning sun unfortunately need holiday day year stephenkruiser sorry hear dog trashkitten solution found got spanish revision today cold playing outside yesterday stik-of chocolate need sims 3 gaah listening awesome song dnt want upload limewire lindajames I morning person prefer night smaffulli correction tell cert use different matter win ktml think itunes fault download mac quotstore busyquot got awesome camerakit update katerih tj dinner tonight freezer melted martiy ouchies good day goodnight supertim geoffmartinez going mexico easter early twitter buzz star trek secret premiere austin - holy crap wish think I getting sick happy birthday jaime loveyoult3 officially screwed right midterm quiz 2 projects 300 page book shoot revising essay talking hubby aim lizdinkel lol figured muchbut know talk anymore maybe easily offended traffic bad normal super early meeting yo hella weird twitter got deleted hyphy east coast e40 perfectly ripe fresh banana goes bag arrive office looks like hit freight train poor banana home mc bored missing sigh I bored tadi exam amp okay thursday lagi exam gaaaaaaaaaaaaaahhh rufus rufus rufus bloody brillaint shame mum miserable crab liten work maddeh sync stummics hurt right studying commerce suppose remember fever cuz like troybolton hottiemcsuperbob omfgz nail buds - cries - arghh hands itchy alergy beef eat chicken sleep missing person love past 7yrs life time ass gear start day sleep early tomorrow today fairly certain flu I going misery freakin bed ugh math lab want leave co 415 coming soon brightillusions fill position tightened borders sucks want magic happens month lol sophia terrific job usual going dinner jmielcarz send warmness way cold power levitate negative trying hard sick stuff took rid cough casino big fat loser day week long want stay bed theajp glad enjoyed mate gigs lined near future horizon mo feelin 100 2day going watch julian play bball want phoebe duncanmacrae hmmm good luck got denied letter bazaar bizarre sad looking forward road trip vendor annoyed bones preferred gratuitous grossness poor angela onlinemigration I going hehe layin bed 3am cos tummy beatboxn bd hd 2 wake eat unburnable calories nt gd quotabsquot hungry bed work rain gabysslave thanks - essay write fuck len weins house caught fire earlier today family safe lost dog thinks factorial designs going death test quotaquot comes confusing quotmathyquot stuff ugh schnicklefritz omg problem lent gave friendlypharm bad true thecamacho danm wanted hear studying sucks yay hannah montanas disney channel fun photos try upload big world right sun shining people busybut labrys67 chat broked ruthclayton oh going ur bitch muwahaha caught looking iphone promised torcher 6 months left current contract goodnight I feeling better I going doctor tomorrow cardinaire ya blimmin heck I slightly tired otalia I going 2 bed nowww - surprising rly school 2morow right spring break days r wants camera unc dominated second hills hallelujah econ paper gaussian copula def deal physically tired sleep tks pa 4 quottapauingquot croissant tuna knowing dat I back-to-back meetings morning amp zuraidah tks 4 buying fav starbuck mocha frap russyrhubarb new twitter telling boo way think oberon dead seen ages jeffsmithcars want send traffic page arielehenriques feel like preaching lol damn I guilty looking getting completely different config finding shared hosting hard having control tv wcharley cute sweettrying blues cheer tweeters djteck mean enjoy job nicest outside I indoors morning feeling poorly hope good day x contemplated going post-midnight walk piles work oh gee love want want want lusting things afford broken mir single morning feel sick 7 hours sleep sleeping I thirsty indiblogger neei dotn comments suggestions peace quiet amp stress freeness bout come end found sanaand realized like white girl eat problems work sooo bored misselizabeth food allergies suck allergic shellfish 4 months ago blue love shrimp dtrix mom root canal alsoi feel pain buddy 830am far noise office worked home today louislucci usually sleep 4 hours night going bed 5am tommcfly good morning tom send message short question bad guess guess dad pregnant lol nah doctor epidural chronic pain josordoni yeah good news y combinator interview week dunno bout oyster suck guess siralmo let play doh keeps saying user valid enibeni knew ed si que se duerme temprano s valonthecoast lol awwwwI sorry stuck n boredyes hun thought trying entertainedcan easy jamzeee knowwwwww sukkkk care gurls kalpenn arrrggghhh seen nights episode pity lose early morning meetings infidelsarecool ugh depressing want punch understand setup subversion website imperiusrex brahbrah ugh bed hour joshsharp money know maybe lie hes having like little bit lol sat work fair fair whoh day shut hydraulics assignment time oh wtf house cool brain hurty squishy mess vomitto ahh ai dreptate pixar woke early watching tv trying sleep working lisalent freeview sports channel way I going sleep tonight travoradio morning blipfm dtizzler took entire walk train station undo amyg0716 sad wolud hate choco milk earlier d lol allergic reaction contacts stuck specs clears means end breast feeding tho wow x60s dead finished cooking spag bol scratch words cooking past 4 hours I hungry anymore trying write dssertation ilovedt thought bummer response support blatantly untrue fake accounts shut time contradicts terms oh noooooo kath annual leave du du duuuuuuuu kalpenn thank great character house I sad babyporridge twitter crap reply dad admitted hospital yesterday want fly cape town visit r1900 monday return ticket kulula tweeted ages twitterberry work anymore help like late start night shifts coupled bloody light outside window I meant going sleep longing yesterday want guy like carmello jimmy laertesgirl sorry hear specific x ha ha ha damn good time chillin wit favorite hizzo danced face lodge backbooth work today evilunicorn I aim rn accidentally sugar food instead salt I eating sweet fried rice clumsiness astounds hot guys gym train morning dullards sales pitch today potential surface customer sales development days downloading torrent nights sytycda love bj tragically predictably eliminated waiting update car shop bored homework pingping worst laundry longer wait unpleasant zappoman oh tweet weapons covered pandoras box - uninvent leaving mad fucki sleep reznik360 bonbonfire fun confab matter comes wish worked 9 I going miss week sooo proud bro huhu talentfull wish best like I missing best friends miss fun times love guys miss homework sneezing feeling better 28 days passed night mum puttin cream mytattoo princedavey aww invite lol jk coolness day bobbyly nah gentlemen got class 8am wednesdays thanks anywaylt3 phillyd awe sucks sleep bed hope dad gets better prayers note choclate bar schiphol passengers hear hunn today getvisible journalists ambulance chasing lawyers reckoning good morning world sleep tonight copenhagen want leave head flo rider sampled blue song messed song devakishor oh oh sad extravagant time conserving plan lined todaywhich I forgotten iwouldificould watched tried youtube link work missing boyfriend I phone tweet rudd money doubt rebeccamayne sound boring hell becs sad earthquake italy wilshipley sad dutch localization dl2 bad incomplete truncations codylfriend - sweet disobedientgirl wonderful ll slogging 9 9 eh mrbigglesrox hey emily lie meanie pauliwhirl omg whine whine whine whine housing lotery stfu explain qidong fucked stayed late design like wanted allergies playin like mad today planting friend today funeral gt20 years music today blipfm undergoing maintenance anyshalyke oh went clubbing lol time realized I talking jacvanek sad thought lt3 cc want school tomorrow day twylas day bavstertwit sip crap vodka nope c25k got ominous knee pain - good doctors today emily rash looks like measles shantelleb aiiane wrong attention coach going fun misses rach deiondrasanders I late wish morning person I ahhhhhhh laundry boxee pandora useless oz boo hoo hurt leg timvansas need finish rest seanporter thank uuu know heard dallas downy weather summer karsentheslater I getting pissy lately - know mormon jokes - I sorry hear mormon jokes feel bad realize sounded tad drama-queen sick years hittin hard time okay I sorry mean I nice craaaaap macbook pro kernel panicking lot think I going forced upgrade sooner summer pose ta b goin ta az dis week hope lol sad sat watch tv remembered cable anymore lol 1an3 thank today lovely day beach followed dinner gorgeous lady roll work today booo tyjanetrev agreee clearly want attention sorry catch train mateee got smoke eyes burn loves drupal file framework module sick bitcache errors making impossible upload files feel lonely today hebb wish bed haha house creepy night creaks stuffscary lolI going bed upload pic ahi hate flunow day guess happened accidently shaved eye brows need glasses zackdft like reading bullshit I confused sucks study math 4 econ mood misscassandra quotlions amp tigers amp bearsquot shyt god good consequently people replies damn stiff neck day 2 djginaturner le gusta house house 5 min intro missing fab marcellariley repeat tonight gossip girl losing hubby week tomorrow work easter hoptonhousebnb I thinking getting old fm tuner garage I having problems pc stops playing audio want money kevo hurry anybody willing help I trying sad tune piano new song ends happy bright bursaar good gone bed baking oatmeal chocolate chip cookies tired sleep editing 3000 wedding shots begins facebook fucked kellyshibari thought saw walking door saw derek319 shwe370 sweet fun stretched browser watching twit ads appeared google adsense team said delay 48 hrs tired need regular 9-5 dog room snoring going sleep hoping wake tommorow wednesday instead tuesday want work wtfanabel nite sleep I insomniac week alissarules basically feel like need better care seeing fool juicin spitting stitches bone graft hooray reliable signalflare server fun nights work start working day sleepin skankityspence halo tonight leave schofe bridge hope watchin I missing heath ledger indigoredhot sorry day waste hope found good bits yay homeward bound awillert I jealousi want salsa cookies amazing blip quotunder maintenancequot amp I going withdrawel madninjacurl hey neighbor msjodiodie sad situation 1-in-3 beaten 15 seconds amp 3 killed day sadly commonplace editing 3000 wedding shots begins journalist throws shoe chidambaram starting resent struck creativity midnight having work morning best way eat reheated pizza trying eat hot makes mouth pain sick day sucked I late sleep best intentions I late work lindajames thank spent ages thursday tidying came looked like right tip heroes losing momentum come writers pick boring workalthough wish bed sprained glad I holidays stupid bus early missed stupid thing missed bus finally got bus missed second gutz mrnokill mrnokill problem appealing wide audience think aiyerchitra yikes clues engaged muppet orlando realised oh god marry justin timberlake gosh itt 939 soooo tired quotyawnquot want sleep cant train sans guardian dc saturday afternoon 17 hours air south fljetlag sucks sleep thurs I work I sick helluva lot todo blows screwed confused dumb child felt bad life wish specialty bad went doctors today blood sugar level 178 goshit makes sad people god chance kaylee110 yawns I pretty good thanks awww I sorry hear feel better soon lt3 shelikescute sad 840am I awake nearly 2 hours sleep like sonny gone drunk kirstiekalamity finally updatedoohh sooo miss internet sorry woop2x open apr10 going miss sebbypeek dadiiyal familiar twitter pretty soon I coming summer means loves drunk hole favourite bought sale christmas exchange try fixing later feeling poorly sorry swallow ow stupid glands streetwearbear yes thanks reaveling world bro fuck life hahaha cherrytreerec stupid youtube location restrictions speedo wants mmmf play supporting role mind guys huge cocks banned sims forums rest week aww feels weird sticking chanel willadam treated latte appointment horrible need wisdom teeth surgically removed celestechong oh ceramic ex abit visible inside ones ex double price n double duration dear crimestoppers thankyou regular service burglar alarm I grateful new 200db ear-deafening entry tones fightin callin run 2 sister nite sick today lot work trying find tech job find entry level jobs job site spam jobs 4 insomnia bitch threw bathroom fun work hungry sad throw breakfast bin oh darnit mandy creed jordar mikerra understand mean break anyones heart obama visiting istanbul today main roads closed effect lovely day blazing sunshine bad work omg girl woke reason matter amp fall sleep got b 5 maybe I stay sigh viennateng tweet germany heard concert marburg radio 1 hour started late night re-runs am1y02l getting homeits snowing roxyyeah yep loser finito bathroom contractors house quotes incoming need bite bullet caitlinaudrey awww sucks going sydney sorry sf rescheduling sf trip coming weekend mid bad circumstances 2morw blasted wisdom teeth pulled need sleepcnt stop worryng hate needles morning twitterati large coffee bath todays list appt 10am loads desk work hitting gym looking forward rewiring studio want work lol sherrigarrity sorry missed responding yesterday rochester mn far dark chocolate rocks want come bohol cold buee ate piece angel food cake laffy taffy driving la quinta tomorrow sleep I oddly wired aaaaaaaaaah cold outside sunny running low batteries gas station lunch break tired ready sleep having trouble sleeping burnt fingers hot cup tea - ouch hhh times like want things stay right comes wrecks mileycyrus problem 443 let counting works123456 57 58 132 133 134 zs way school today I way sick wikipedia gone forever goverment fualt let hope donations bring dissapointment haveing absolutly notice gone sad boring boring - reminds wash hair gross know feeling like dancing rain like pixiebut rain stopped ohh welllol I watch flight conchords instead got funeral government employee-friend deepbluesealove beaus online tonight bummer youand music started getting mailshots aimed pensioners - downhill wishing sneak watch star trek premiere owww hit elbow hard door wait 2 c carter bak skewl hate gettin sick suksblech bestflights need 2 ass gear wana away 246 bt nt sure cairo amp uk maybe bt b able 2 earlier bt til 85 wow epicfail search epicfail entries apparently widely I depressed want cold april noes goat-wool socks worn tired sleep dropped car exhaust replaced - 250 spending school work boring working business law paper right wait till I hopefully tomorrow grrrr assignments olabini site gone got pause twilight nearly work hollaglam fav english teacher miscarriage amp knw wht makes sad going baby tamara anxiously awaiting june 28th come soon graduation ceremony looking forward 10th end break common chidambaram george bush morning stuck registration assembley nayyy cezzadwen think pretty standard find canberra home flu ahhh suxz tired sleep hour goodnites serial city stupid sianllewellyn I txt morning lfta got I sorry understand ur tweet common chidambaram george bush feel like change picture think bff audrey hepburn nooooo good I allowed cry ughhh staying late makes think stuff forehead starting feel like cut slice oh right cut slice forehead today annemarike oh owies happen thinking pay dayanother 3 weeks lol allstarninja choices limited blocked hulu waiting flight slumming departure lounge area nightclub making 8 bewilldered uni students arrived home poor folk like struggle uninstalled rails 232 tried fresh 222 app - dice obviously bizarre setup jcturner yeah good going 221 resolve tasouls stupid watching lol shortage waiting missing baby boy omg house adriii omgosh like biscuits yum xd lived eaten missy p amp miss x tooo early I running late feel hot leaving koh tao start journey bangkok cuckolds I set I watch 2 huge membered guys feel like hat stand fionamccarthy sure got loads today ps broke fucking phone people home town irl connect xjerx ritz lol ok gig got planned work xx katyrullman need old world misses hanging awkward aplusk amazes men like actually exist hope find someday love value going school dt juzley yaaaay maybe gone mileycyrus guess counting sheep work hope sleep need clean sensor slr spot removal pictures woken hammering gtlt stopped sleep hangover stuck traffic elliee haha yeah thought complicated I got home school got holidays x think tonsillitis mileycyrus meant spending day heaven wmy mom getting foxwhisperer clean resulted soft beaing soaked wet couldnt open dry mhbigcatch 8oz golem finally got wight - 3oz nickcarter time warcraft yes simple game group fans let know figure want prize yopatrizzle sure tell truth long I seen ask sumos daddy paulskratch custody lol wish eddie izzard tour damn stupid expensive tickets cake death sleep I stressing jpc lt3 think I insomniac sleep birthday 5 days oh yay coughcoughcough right kalpenn confusing hour life long slow day ahead sigh islandnene83 consult plans maybe changedand thanks dang I lazy I begun short stories weeks finished focus lostmeself uh february haha imy mizzchievouz sorry air holy shindigs hot thinking going reinstall wow simply refuses update 310 irritating times forever okie dokie tweoples long day city 10 boooooooooooo good night lovelies lt3 hoping fall asleep watching knowing definitely national treasure think email domain blocked akismet blipfm undergoing maintenance yayfuckbuddies haha anytime plan sick plans window rodrigo grey morning feeling ill sorry mind trying write maybe sleep classit working cufa getting lots dentist time moment stressfull sore nice easy rest day coke zero mobile site broken iphone quotbruce springsteen embarks world tourquot apparently oz unworldly planet today got2do shopping 4easter lt3 malachi xx owww I sore 2day grumpy abu dhabi boring photograph kelmarshall tell mortgage quotes sat going skint 30 years hoping posty delivers pink tickets rustyrockets sense blog coming bad leave like 10 mins xxx house big mess crammed bedroom rooms liking work morning argh opened crisps upside hate feeling ill blazing row boy tantrums round missed train standing platform feeling guilty hot water enibeni lol I sorry love ya stupid dating coach makes feel self-conscious hair joenoia wass lovely anit love worst dream usual nightmare worst probably going come true pfff want bed feel horrible today want easter break psklov sleep dunno biking hard yall dougiemcfly morning I upset rabbit ran away night postman woke early reply ilu x drs early man internet slow atm looking gray sky sun stolen painful shoulder morning 452 I 2 tired 2 think peace m 5564583833755523 811 loud - miss a-hole answers iphone questions help upgrade 30 heart abused hurtful lies truths hate sappy kind things hate fucking bored work landed funny foot morning jumping stairs twisted sore taxi way pizza bad traffic headache worst xombiexs course remaking haley bit hope migraine sleep boo reason strong urge draw illustrations novel covers prodigy ace night managed hours sleep night feeling today cool day guys realised time actually final having horrible headache day nose bleedingawful feeling found use windows 7 browse twittercom firewall software automatically turns pc hangs work bump long weekend definitely curses yoghurt exploded bag way work smells like toffee heart abused hurtful lies truths hate sappy kind things hate gold syf k ias awake school today I lonely company 22 female california genting gohtong jaya com vishalud yeah got choice 5am study 5 reach class time paper eco treating sloth13 isliye nahi kiya baad methinking ki ab tu movie dekh raha hoga gloomy weatheragain sigh going find files argh sad march break mileycyrus awww seriously cutest dog miley sorry hope sleep xoxo qr veolia fail translink buses trains align early train late bus hour later crackcouture wow sounds fun nah going melbourne couple days unfortunately tonsilitis birthday jeffkang greeeeat ate hard work away ellendeg ellen messages notice I sad try hard communicate wif observe amp report premiering chinese theater driving slowly saw reporters amp red carpet stars tried smsjunctioncom got odbc driver errors ch0en huh like know plans today I scared know moving fear teh boke fml heard eminems new single official fell heard eminems new single official fell bit weather coupla days -- workouts low energy nice day chibi stuck home waiting parcel officialrandl update missed ellisonrox awwww tomorrow 4 watch guys persecute far away holidays bloody insist waking school times finger hurts sleep vicoden amp alcohol combo fell tired want sleep I work need bathroom missing roo totally ready stupid sicknessarghhh icedcoffee end read error persists add library update delicatelyreal feel pain need post video I stuck nixpineda miss youuu penalty scored tynecastle got beat duncn revision oh morning itscammy likes leatherhead okay bbs lt3 know info night clubs la cost want rent year I invite got combined ear toothache wants rip face stamps foot laratron alas pimms think like saw ride thorpe park tv ad makes feel sick goodness knows ride joined twitter know pfff rearanging database wishing loved heidimontag hills episodes sad ps love watching dj emir battle computer supreme ruler studio think computer winning quotflight conchordsquot suddenly disappeared spotify kids crack dawn I cold bleh starting work stuckrecord naar haddow racket mee wahey breonna saturday reason explain know st peter marleyuk think spoke soon - big black rain cloud charging town end seeing bummasome ppl pain flu way update twitter cellphones vindiekins aww leaving hoping input -- avatars rp thread mtp torn personality krist0ph3r damn sad hope things fine gud lunch sinktoswim hopefully enabled activesync google apps account sync contacts calendars net mail loveeee lt3 hurts hate away sleep anymore depressed new apps alpha 0010 complex apps version 95 long small dev teams days currently watching quotroommatesquot miss nyc needs hug office - 3 days long weekend mstyrac lol yea thought tht sowey thnx rod ones sitting aroundquot orange fav color kno 2 use feeling blueand everybody says jokes bad waiting waiting waiting phone mean actually sleep nightbut hate therealswizzz guess graphic art cut huh hold hawk getting job better idea want jvmediadesign pic bucket kitty I probably post tomorrow means having find cables connections - snow guy I seeing car worklmaohe going kill bonniebix controlling life possible uni graduation start masters boohoo having major head ache sucks men arrrrrrrg mileycyrus - napping point need gma going come early yes got ripped shop wow slept badly feel like hell maybe bad yesterday ill time work work little sick 1 need sleep especially school 12 hours beeeaaach bad day need comfort drink - sipping mocha frap starbucks tricia tired day busy head hurts thinking annnd tomorrow woe realised works bunch racists gerrycoe hi gerry I dublin time college tweet4today quothave limbo party supple barquot yayfuckbuddies horny I hungryyyy need sushi wish bought camera-less e62 day 6680 went dead miss photographing little things dslr bulky arhh think ill end going point skoop rsi rsi guides tell use hands shortcuts ah wish luck posted marcfennell photo alenakristina oooooh love sorry help find probably able find know sucked heather sewage bath xp poor owen bear total drama island borning - cold virus - bunged eyes squintybah day need school I longer google britsystem stopped eating sleeping day I worried precious little bean finished making chocolates feet hurt gawd laptop fucked system error lil brothers laptop freshly squeezed lied showed video end ok stayed watch heroes admin stuff wp stuff learned new wp stuff finally happy layout loved mari trinis songs child devastated spiegeltent coming edinburgh festival year I sorry I ruined forgive think use twitter offend people unintentionally mitea missing 3 days leave easter work week long list diy jobs home heading bed work 6 hours gnite twitter worldlong day tomorrow night class till 10pm going priceline city tomorrow lost haves list miss kitty cats dentist midwife blood testswhoop de frikking missing vemsteroo unwell having phoned office going bed morning sigh lizp02x oh man sucks I hoping school happy tomorrow good ahhh bothered gwtting dressed x tired flowchart kens stompthewalrus haha lived texas past 12 years think explains lol si habla espaool completely addicted iphone like bad habit wanting sunshine lay pool trying finish mix fucken man lol tiring night work hope job got bout hills dang nabbit lol sickness making impossible 2 sleep hot cyantist lucky wish twxtd4jordan wish door open people need saamx thanks toolt3 abacab1975 sore comes tomorrow shutting twitter friendfeed beta appear like twitter account am-1y0zm hmm work easy wasted hours silly mistake system slow mileycyrus find quote dont answer better sleep xoxo germany morning know mondays bad spills tuesday sleep wondering following keeps going guess got try interesting haha boycotting work facebooks fashion war faces mammoth task rest day things little time jeles argh sy pn mau jln sm kau jg sadddddddddddddish annoying place 4pm half hawkers closed want otah mm twitter appears eaten posts naughty twitter university hawaiis hamilton library hw drinking orange soda masha sad people called red carpet blinded lights moony394 omg believe want cry freaking fb spoiled happen watching davidtennant interesting setfilming updates wish cardiff struggling fact dance 5 days away vacation ummm wait 6am video ow ow ow tummy ache candy learn having trouble accessing replies click link right happens access feel yucky sick morning catdevnull nah rang progress offered rejected reckon 117-118 feeling terribly sick right ugh wake ff goes sleep guess revision want twilight love dvd oh guess surive rip baby girl sandra cantumy prayers r cantu family strong I like know sleep kremsersenf away tubingen germs yes away friends completing reports meetings morning interviewing people afternoon busy bee today blurrgghh - problem picture txbrad need coffee lol saw tweet mcintec net lol comes mibbit mibbit slow twitter sucks super adventurous 2 days luke gone home let morn loss hero I continue playing sims 2 want puppy quotblipfm undergoing maintenancequot sorry music tweets I shaking jonnyisgeek watch sucks amsterdamant unfortunately dream shoes travoradio morning blipfm ohonefourthree word word stomach fucked sucks hey djtracyyoung playing gaydays year year know tracys night best night money suppose depress x0mrsjoejonas I okay I missing best friend breezyskies pet course time sf ok theory knew good tools barryearnshaw pezholio achilles heel spending x dvds 20 hmv appletv died dreading diagnosis looking forward class work tomorrow day negotiating wth insurers spilling beer laptop night probably avail talking woke bkk protest maybe ho chi minn city I hella breaking probably sick ffs poorly sick corienb kutners gone new episodes urgently available dvd goodnight followers darn forgot tonights shoot postponed loose end nowquot amazon mp3 downloads 29p 10 cheers jodiedoubleday ladyldn hope feel better soon ill fun finally home shitty day work floorset maybe insomniac nocturnal eliteforce - told friends constantly circle globe flight uk downunder worst queue ticket phantasialand looks busy school holidays ftl silver winjas fear closed cherrytreerec oh man vid ot available country tryin nap sleep bivancamp update itunes new version b4 lost new software update killed ipod wondering sunshine went got nappy wet split going nice baby bath nappies honeymunchkin anger getting bigger minute goes got uglycomments videos today day government kills talk aaliyah love miss wife says thank mags sent newkidsfan awwwww ur gunna cry miss blessed w love memories dottedwithearts lol got work finished needs work tonight ughthree hours coming wish easier got hint booooo good morning believe week london marketingworld london sure I boring understand use cathrynscott thank - contribute discussion angels airwaves vs blink 182 want remembered I forgotten best friends birthday awww ellie sounds sick poor thing baby miss writing article video converters test long time pietrofelix good luck enduring tiring journey start epic drive glasgow alton towers looks like rainy days work tired reports fun maya spayed todayI nervous I folding getting tweetie iphone - twitteriffic taking toooo long update need grouping amp replies tired storycorey mac going long week funeral work tomorrow 143 jac going great day 4 6 members team woke feel like rubbish rest chill indoors play xbox cold drink rach2718 oh sucks mike work saturday monday andrews got friday till wednesday bugger lol I accutely aware bob know wake paris grey need sun peachfuzzuk ah ok quotto stop da terroristsquot claims acceptable I trying fine friends twitterno luck far xbox finally given fight working senior paper ohhh hate civicsss update bin stuck gf week non I bk class learnin argh driving london today wrong turn kings-x - stuck extra 30 minutes logjam traffic beats cold damp feeling pulling wet pair knicks yay work todayyy working rest week lol dancing I emo want write song I illi like season hills oneself ends update bin stuck gf week I bk class learnin ellelovexx haaaaa want mac amp cheese toooooo hahahaha heyi got left herei guess I making today oo lol ugh 40 dollar fill ups pump helenvking feel commuting packed trains hideous triner bad wait month sell miss glass house thankfully pretty moment uploaded youtube future loves iphone hates fact tjat needs charge plug train work theresev solen var inge varm waiting cisco ip phone load listen jonas brothers love band come germany cant bradhfh hello stoped talking lol irritated find patch released properly tmrw point letting jess22t diff camps gahh rural woga woga bathurst best 4 advertising tried install twitter-application phone work tough boo nybabe oh balls forgot article mail yesterday got link electronic copy architectural modeling change going smooth far intuos 4 m looking tempting promised leave right hope break promise flu shot ouch scheduled productive hrs sleep insomia gotten stephen left miss sooo I going lay count breaths fall asleepwooo lolit cuddle day todayi need cuddle 324pm want chemistry course want meet jordi main reason leah going zinziii dammit ya heading home messy drunk point tonights gyratory system vibe bar electronic drummer illness wow nw001002 operated a330 ac power cool ticket price hyper crazy expensive cold 76 minutes going bed eric hates run day ivf injections let fun begin stephendon24 commit time play time elses michellepen immensely started playing new sites want mess easter - paranoid moi let hope sore throat clears break pre-cursor illness holidays bit scratchy throat hope goes away thursday weekend fun ugh hate haviinq dis sleepiinq problemsz wanted tweet victoria silly canadian service work home sad vacation security sydney airport spirits bar startrek adamcurry possible add stream option uses regular 808080 port stream noagenda fwproxy gfalcone601 nawww fly london australia boring addersop habbit misspelling bought got picking parentsgoodbye house understand twitter yawn morning real rough night trib agreed sun shining got work moony394 think denial watch turns earthquake warnings italy ignored cube creepin dude cancel trip sydney lol going work snowing I bored fingers hurt playing guitar day sevenmac set video channel podcast miro checked listed meeting hour explain quotwhich version oaw usequot atm heap unbundled emf tools miss room pasig place right sps carter co kentucky estblshd thier public library need director thier entire budget 54000year day age doctors long results train late I going walk hall shame maefitch deleting number jess22t haha know eh I thinking vet science sydney uni cept guy night hostpital miss adelaide wish beach looks beautiful umm yeah homework I going bed earlyi wish sleep tomorrow morning tweetpeeps bed 3am yesterday msn alex 2 wanted play dead space bed good morning I hospital dad spend basically day waiting room minute app fun fun fun sleep brother home girlfriend baby sleep room firefox e lanati hey crash hey crash wants polaroid camera hospital s jaw breaking happen wish iphone let thing easier tried install twitter-application phone work boo want study want shopping instead saw girl blog thumbnails went wayyyy cp feel dirty need shower ahhh drafthouse surprise world premiere screening new star trek night torchys andygosling ouch zoom1 clearfix method friends loving fact 330 lil daughter sleep nasty scraping noises car php gives segfault pregsplit quotits alike diferentquot cried montage flashback hp5 makes cry time bed trying helplessly breathe nose coming itchy need sneeze allergies suck things sun sets way early hello tuesday hope better think tweet hours later mileycyrus - want sofie helllza cute chewbeka yeah brutal june lmao I excited plane canada lol workathlon 3 sets management accounts dhughesy birthday plans msdivineknight bed early sleep miss things slept missed joe unhappy I struggling type morningmaybe I suffering day-glo overload fridays 80s fest episode house cuddy hook apo meetings fault waiting love home getting sad hot cross buns week leelowe aww thanks hun picking scotland yesterday evening kill favourite characters dawww site load rising increased capacity going gabrielmansour multiple books time bad habit finishing books clairerichard6 duncn I happy woke 530am morning sleep till 645am coffee amp carrot cake slices mmm lost ideas art help bipling coming aus cobi going jealous lol misser ugh sound class 8 kill home 10ish wants use 8-directional dance pad pero di compatible sa tv yung game jason2008 hello I coffee morningthat winding yesterday lol good day wants play resident evil school work getting way deepbluesealove I reading article different siteseems little dull twitter tonight music exmi hope comes company work shuts thursday joblessville come trying look big picture boy hard days seriously tired need deep sleep pissy tossing turning moan moan moan flat today everythin amp endured massive headache fever nausea finish essay amp work tomory day feeling ill today sinab77 think hate money nickthompson nick I love blame oven blame fact I load wine watching gear jlsofficial photoshoot eyyI sure look hot come brighton hellooo boyslove loads xxxxxx dentist aww man party nighti miss new jersey today meganxnightmare think girl tjlefebvre missing seen evening feeling twitter splont meeting morning today makes feel better finish tomorrow weds hate zombie mode today kids ill kept till 230am work 6am people says vicious I missin babyreally needed talk today school errands sad I got lot moment doubt I going chance book time family easter hols apply international driver licence competition course nurburgring half-day goulandris email provider laurenbavin hey - tell jealous morning I baggered gym work later princessshorty aww sorry hear hope gets better listening podcast debate spoke brilliantly davedynamix I sad marley amp damn clearance-dog ashleyemma lucky devil I dreaming crispy bacon sandwich volunteered think saw magic sunday salford - saw hull fc come pitch vanished usual breakie starbucks heading morning cameras weather looking shite stage georgemackie sell ebay tommcfly know johnsons baby use animals like cute bunnies test products sleep bc drank diet coke 9pmsucks bc wake 530am triop damn need learn darn woke great idea lime article forgot thinking shorts flip flops bad idea mikebreed mike understand think need change opinion good lol I waiting parcel arriving argh hurry hurry knot2serious oh btwdjrocko951 amp tried cuban buffet told aboutso excitedit closed mondays sad story gingha docs morning work freecycling getting stayed home bit lonely - friends actually use twitter oh artemisiii oh laundry powder maybe I allergic jeans usually fitted makes worse need inspiration hit kitchen tonight accidentally listened new sugababes album playing girls aloud hits sequentially purge memory going walk dogs shower bed sad yankees lost game monday boooo exmi hey doll sorry hear bout ur doggie hope comes home soon help look far away upset find quotchurch flying spaghetti monsterquot twitter follow enjoy pretty films feels like comming somethinglet hope cold sleeping damnit t-minus 4 hours counting kids school rochellesheree missed wednesday day thursday missed train york wifi blackberry battery going die soon - good start day theoryofmind woppygook omniaaaa said crackberrryyy time depart flip phone hermes packetdienst sucks fun night- paying going fry egg squirrels today hiding nmcgivney yeah ploughed night happening ali1702 omg- daughter come home night huge worry mind poor bought car impending fatherhood affecting judgement plans 330ci rav-4 aust gov rolls 43 bln 100mb bband way rest worlds bband speeds bnish dan grabbed yardhouse earlier pirate disappointed work early team meeting forgot lunch I worried cutting hours start 1000am day morning starbucks mrjoe sorry hear bike aliceverheij ms xp I afriad laptop 3yrs old think bit messed going rpm vespa needs oil going fast remains un broken year mark speight died year goes fast exactly cities burn worries quotas cities burns likely final outingquot - new album review like 9-5 malarky - seeing friends seen months stupid work aw balls new shirt got aerie today fit wear medium small saulwilliams budget yr ireland today want tax text messages pray poets finished second research paper week tuesdaykind kill test friday jpiasentin unfortunately pack probably scotland week I having panic attack sleep distracting tv internet hope goes away soon susanstn opps unable dm moment maybe twitter bugs maintenance project going drain legal issues dealt fatal blow heat grazia subscriptions probably delivered door missing n old frend amp thinking bout rite brahhh quit smoking cigs want look old plus breath haha omy jus woke wishing woke sumwer ny lol school suxxx wish tourny ainzdj mate time gettin going able hang late bit comin support fo sho mathie makes hard work small businesses great I sick coughing having sore throat got 7 mistakenly 6 got brainbone daily question wrong - phillyd wishing best lt3 rockchic65 normally pumpkin patch bit skint minute headtotail thank feel sad hope nice life til end msjheart lol yeah I good got unplug use hustle 79 bucks new sleep need cuddle robertzalme yes theory getting solutions coming going school minutes head-ache tt I looking forward meeting angry teacher wayy early awake zzz attack hayfever noooo need hugs neevd know sites play games I past second footpath frogger playing killzone 2 demo iloveac slut talk talk rinn waa waaa waaaaaaaa lol love courtney mrsfr yes unfortunately date clashed important long standing family party got having coffee frost car windows suspected hope tired today comp screwed jessicafilan charliecondou 4skinmusic like crazytwism knowthey block orkut dubai oman orkut accessbut skype banned ru gulf hates waiting game hates uncertainties throat hurts think cold I kind sad bullshit found owi totally ate pavement morn stephens green luas stopso soreand freaking tv camera thereof times fall jamming postponed boohoohoozx damn flu bug baby went home morning net towers deadline wakey wakey I bored dog annoying weights 20 pounds want come knees miss family guyyy tired borrrrrred vacation sooooooo hot sitting waiting sitting home watching jeremy kyle bored germany stuck work super stressed wish kateblogs I author subscriber early -- bored trantula song stuck head past hour wwwstalkdailycomgeorg feels like cramp disconcerting skynicmac shame sites pr dropped mcbesty monday usually working day maxbarners hope goes supposed work university construction sight close makes contant noise crucifire damit idea todays comic wrote credit zen sushi lunch todaylooks like raining outside ashley tisdale love dye hair announce reading lineup ronjeffries I love hire tons fun time budget tho hiring german girl night brisbane micameli friend supposed having arranged lan jetblackonyxs missmell blasty-blast time home gnah inner tube exploded got taxi work late good morning - going run morning dentist drilling cubedweller gah - freeview - brought colbert report I consider switching I clinic booring 18 days left london time jerrrm today meeting day gilaaaa hungry dreaming yumyums gym yesteday new gym need new induction good news booked wednesday woot ughhhhh coming house ilu bb gfalcone601 nawww london cornwalls boring website kingkiwi want rain nice today 306 letters sent better start writing llordllama oh obadiah names start e generally good valdezign hmm beta nambu pingfm friendfeed disabled boo ohhh I lost voice arizonaaaa - japannaly hhhahaha cant thursday bitch jk hahaha booo ee suck daniella bring sam happy fabianv kind docs write docs wishes om homework right ok deal live small town I seen anythin famous n thought luck duskyazure got 2 lie - ve bn way 2 long mrs woke 6am morning amp dragd slumberlnd time I trying plan tripslow budget thoughdo think working ianhanlon scobz goal celeb respond tweets sleep sleep speaks waiting tom mums birthday I glad likes pressies I looking forward party time later week sad I going cornwall dajbelshaw sounds like day gym car arrived maybe I thursdaydamn paperwork ratsofatsorat left sips mocha reusable coffee mug week chunky omg windows vista today tried installing windows 7 laptop died reinstall mean goes anymore x dear twitter 4 bug bites leg r itchyyyy haha got outta shower uhh night thomassonora problem poken error tracitoguchi nah feeling come mushyv ahhhhh hoff programme sounded classs fuckin missed hopes repeat innit confused life grunt121 good luck big meeting hope rumour mill wrong jxx white guy manager shouts walk want feast missing 17 thursday worst hello world like physics going dentist mean tooth spa right valeriekhoo boyfriend means world muchless understand natazzz hurt sad finished marking celebrate tho got communicate marks amp feedback online students rest night gone sick hate simon felice longer playing felice brothers I sure feel ears size 00 hurt watching chaos theory wonderful movie love going holidays friend tomorrow exited twitter looks like nobel peace prize simply popularity contest oww poor darling body missing tracy girl sandra cantu found inside suitcase wwwtinyurlcomdfhvzg tracy ugh mum wake early 845 geesh need sleep princessnadysthere noth awww work time play haylieofficial night post email loves I long walk energy chair chrismevans argh driving london today wrong turn kings-x - stuck extra 30 minutes logjam traffic mattg00d like having internet tweet jodielane jodie awake hungry need coz I leaving coz talk llaacceeyy haha I good cook looks pretty foul right love having voguettes twitter yay nice meet x needs dentist perfect start holidayshm milk cup tea mother fuckers changing rotas telling cool work add boyfriend arghhhhhh cant profile picture im sorry guys dont know lolzitsmel paranormal pretty good tonight glinner think right username mr brooks grey day london come sun forgiven hate windows movie maker sony vegas come download anymore brother banned downloading stop laughing burger king commericalI easily amused davidkudrev pity facebook chat exceeded msns amazingly level unreliability pity I remove irrelevant hubby tight scedule easter vaca stressing 8 visits denmark 6 days rickrodgers kidding man rim sync client linux opensync package sucks charge lolz oh agents booked wrong days x1000000 going josh course broke right thing feel bad confused wish new glasses expensive yummy pizza dinner mouth burnt literally spitting blood I little bit bored warrnambool animal docos handle wordpress bitch-ass bitch new silence remix casasteve vw forums nightmare enthusiasts forums results politics bitching awake sensible time alot coursework bohoo schofe sounds like great shame I work wyldceltic1 read I glad better emperoremil yup I work I midshift na e burjz ugh mean sign got gone babys heading perth uh d dentists hurt today holy crap feel like teeth fall let giant cookie going ride hate legs feels sick needs foood find camera night good lindsays house pretty ruined eek omkarkurode won coz created quotavenuesquot yeah mistake choosing tango zone youtube sound ubuntu find phone hospital foot x-ray wait doctor confirm hate hospitals ahh sorry yall able twitter phone work brit amazeingahhh I damn tired today actually need nap I home time woke tiresome times heromancer come orlando sooon sadly wishes restaurant city pet society ported iphoneitouch twittering past 22 days obviously 140am taking small break ochem omg bed making sick sleep way hospital praying bowl bran flakes ave shower revision phillcoleman low 35 night sarahlsharp oops feel like I breaking hearts shystieuk wish luck got london ging great olmand street appointment scared xxxx devdsp hrm posts sound like I holding etnobofin google translator hospital foot x-ray wait doctor confirm hate hospitals thi m4 v ci b know feel upset losing follower probably porn star trying sell arghfirefox removed bookmarks folder - sharepoint folder including links idea whyhow delustre want watch dollhouse seen eps lt3 eliza dushku lol kourtneykardash need beach bod saw dan neighbours walking chapel streetrandom feeling like going fire work any1 got job going jansmells maybe stop lazy goosed sorry procrastinating gone macbatchelor ah rehearsal tonight awaiting imminent arrival clairefallen nah snow april sucks colbsi flickrs letting view - says private misswyn bet remember easter kid excited great day xambix wow welcome home eh shit especially coming holiday fucking people blueeyedbomber excellent missed saturday night tiahn good coz therebad coz paid going sunny today right forecasters hopes fb ollien33 carousella - doctors appointment 9 11 sucks bit sick working 2 articles today 2 days nice little office want want college want cuddle babyyy hmm shoulder making bad noises arm forth know fear return physio required happyahma - welcome sorry hear ants rhyswynne pest grr spam odannygirl7 oh yesses quotroad rashquot hip lovely ay rock whyvee welcome home sounds like hell journey got offer camping fraser island weekend jump offer 2nd thought forecast rain latexfetish sadly feed wordpress feed usually blacomfeed blacomfeedrss2 exist kristenkreuk fiuhh nice info I fans indonesia waiting movie country thanx want leave college smoking tried easy moved dwsr tayswift - 3am btw congrats winning album year deserve tear white horse hedgewytch oh horrible innocent smoothies love start putting rubbish sleep fight outside inconsiderate want sleep frightened cos spider time hope flat repels unfortunately got man save having casual unprotected tweets twats I probably mom dissapointed going sidee dee cold insomnia headache virtuallin actually like taub reason thought bromance kutner cute kutner sigh watched smallville 8x18 nite ep decisions fail impress time watched movie huge epiphinal line exactly needed need find jazred87 told caved I end abusing like facebook real friends upload pic personal web site hacked finally cold hope suceed bugger good today error check things currently wishing treacle sponge custard louise night watching order phoenix reports italy 179 death 34 missing 1500 injured italy earthquake rai know sucks finding burned tail light stores closed plus open work gday evil highschool right rain ruined malaysian gp - fun money ajiee thnx ajeng skip class I totally unprepared way chicago finally connecting london home 5 measely days maxime68 darn open work computer supposed fun work thanks janelle76 want phone fbms twitter keongzai assign eff hospital soon kind sucks I allowed eat x like uk postal prices gone costs 20p mail black velvet usarotw amp 10p uk 4 days york - nice place photos coming soon feeling sick I work davenavarro6767 wondering quiet days miss chatty dave alystoe hope okay work thinking graveyard shift sucks day work holiday argh got fuck loads snickered like minutes thinking awesomest know use thing stupid picture upload madre grinding going long week thomasgudgeon yes shame plastic generation think tweetdeck failing hurts mckaylajb hey lol btw know upload picture tried shows xo working home sooo super duper cold misterskull awwwwww shame miles miles away spent half hour making playlist tonight going long night nattnatt81 doggie dazzler I trying work bit today want coule pop ovr hi later oh damnfried screwing lunch getting ready leave calii donquott want home wish bring kids maths examen 1 clock ryanseacrest tie bar missed wednesday nickdawson hope knee feels better quickly having night wondering lovely wife check respond tweets course document important tables published internet love joke punch line jonathin sorry left corel install cd room went coffee kids got milk coke instead yoghurt overload orangeflowers scary clutter unclean pain keeps awake lately shld start subsiding wk good morning worlds - got snow throat killing missing gordon fighting hungries willieday26 sleep 345 work 830 know problem artemisiii aw sorry hear know I jeans winter miss kabalin hates stuffy nose preventing sleep remedies went bed 8pm wide awake 4 work 830 going long day rustyrockets tnk need smile today write everyoneee x itchy eyesgrass cutoh-oh damn filling fell half tooth gone daftasabat needed lie lol slept 6 hours days killing watched greys anatomy cried writing miss meg hope lost sigh going look curtains yesterday bad day found bernie mac died year shud online dunno find outoutout dunnoI emailed website aampr sent tweet repliesthey probably got bored fan-remixers bugging wishing sleep probably going happen tonight riry pain nomming hand sprayed cat nip mist joke craaaazy silverlines aaaah jadi tiba2 pingin butter sugar toast huhuu messed jennnnie yes projects wool hiding meit friday went craigs place project reports school need words 700 words short inspiredwriting love - - easily read tweed working twittercom I reloading time teleken unfortunately sorry hopefully find hang use fax machines drjackdr oh disaster horrible situation bid signed panic disco poster unfortunatly fall boy limit antzpantz obviosuly missed evcery single jordynhill7 oh cic meaning ring feeling I lose lissie45 sorry saw post signed finished reading lolthese guys gold feel bad paid 600 sweetest old boy 88 telling war swellvintage lot better today thanks unfortunately sick mean loss apetite x sminchin1977 sorry hear unwell school holiday syndrome waiting scrappers come pick old saab hates know got home night 4 hours laying flattened bean bag ftl great song ooo dr hd ok ok I officially sad techy geek valium needz septmourningm texas far phx lol luckyrivera great song ouch toenail aaaaaaaa babysitting morning stiil excuse watch chute cbbc man wacky dream early morning loggin looks like ats spamming updates good mood morning anymore stupid work stupid cellphone provider understand linked sthe point got bakc shoot bloody exhausted need hug forgot shitty co-op ugh looking dress friend find enjoying lunch lake constance - uh cool impossible want new job particually better new shaundiviney want pizzaaaa windows mobile allow write stack pointer need college work work having food terrible toothache feeling grumpy 44 hotels write work queue pypi fail installing markdown pip easyinstall downloads python 3 version y sunny yesterday deadline ahead karinhoegh true love frienfeed cool apps delivers value little time damn m missing twitter busy late got enuff time active twitter missing d action continue hurtful things peace I wanted grr savicevic aww roommate year bye I going stop 3tfan I fan becouse want date taryll dosent want ianmack season yes descended creepy teen boy humour season 2 lt3 muldermoody iphoneincanada wait 10-cheaper package 150 voice minutes cheaper substantially better messsedd upppp suck making jelly cakeeeee swati121 swati omg missed soo heard new jls song 8- ahaa probs jetlagged right argh fantasy surfer carnage dane marlon amp nat c fantasysurfer feels slightly ill guess eaten mc ds awlred exist anodising services exist - wishing drunk mush yestaday got amazing new pedal blew speakers wish sydney craigelder proof reading defra greener living fund bid - govt dept grant application deadline close easter hairpins ohh envy natalieeee need new wardrobe wear weekend anothera swati121 yeah havnt got cradunlimited textcall sucks catch today xxxxx sad coz alisons leaving england france tonight needs mouse looks like lappys touch pad giving na find person supported stood day 1 tells past tried blow doctors appointment nasa lost raw footage apollo 11 mission winter slowly creeping cape town looking forward cheekybeer document management systems good idea rarely happen practice hate time super bored sleeping ge ready work 9 hour shift ahead x greyhoundgal omg page I excited congratulations sorry torres hurting paw tho dog I tired reason going bed late sleeping lately makes angry denpasar good luck look forward update run option wind seriously blowing real gale day lshs tomorrow smell tyson wishes twitter translator twitter caught southern hemisphere aventually guess christinastokes sh working says website office jxox ohh hope stopin till reply lol wunder marvs read vs lyrics haha imagine nxt blog kleinjinx like in-laws coming easter meet time camera spoil sooo motivated work let log know users thier cos anth sent friend request waiting dispatch got hour ago sleeping 4 hours guess I bed going sleep busy day going meetings stuff - miss girl switzerland marthagonemad agreed wish pure easy fun urgh head hurts think I 7 hours sleep cat miaowing rest wicked hour late-bad plumbers wish 100 better 100 awesome work better allowed sway sway baby concert I seriously cry silverlines tadi di pim udah sempet lirik2 mesra tapi baru abis makan definitely putting agenda time pim marley crying like kid good movie good night people I lost favourite mac lipglossI upset iti lose things pretty sure electrical house slowly dying like money replace stuff bed painfully tempting right nap I probably wake 4pm frustrated rudd facilitate private enterprise investing broadband infrastructureinstead needs waste money mercygrl oh wow little chubster invite ppl play uno facebook moment want ffxii bad got chance play garage getting estimate wheel damage car sundays little mishap - looking good bah hairline fracture impellor hub titsuptuesday morning bad dream woke meatrack sneaky late arvo surfs man feel late arvo glass distant memory summer sleepi wake 4 hours samdj1210 unfortunately work thanks advice bed ridden today dear fbdimms 4gb memory 8 running 90 crippled pc searching job berlin summer timedo speak german piccy coming soon -off watch 90210 god want america soo baadd oh harrods day sick tombot18 mind work sick veryyy bad watching american history x want watch american beauty buy meeee entered online poker tournement 49 finished 18th happy twitter moment let upload picture wishing dougie tom reply trying extend reading watchmen reading want end lucygooesy haha nice barbie backgroud replied lol sunny outside I stuck indoors far far away window roll dinner rhinecruise09 absolutely right bed failed martha want grown usual cooking hate incredibly immensely indecisive wish come true hell carolina yay 2am bit tired boagworld profile picture makes happy return think need new promo picture fairy06 omg wtf sure talks I school phone moony394 I miss bb episode unimportant foreteen found kutner stopped watching fact jw stuff rocks shame I skint taitaisanchez omg know sad ternyata hanya gue yang twitter pain hippychick3 clarkes shoes fir - small feet - specialist shoe shops work ahhhh life poor amp unknown thinking earlier loot miley cyrus age 15 sitting seb waiting hours bad customer service finally wrapped body literally broken evening bed return super fever yuddylicious hatez sleeping bed sun comes progress sorting life slowhard jjprojects maybe broken mbp ebay broken screen good luck o2 gprs issues ryuoky sun hoping sit balcony maine- sleep tests morning wants buy big bang theory dvd byeeeex fucking boredom makes want smoke kimberley lol awww want cuddles eyes leak love lt3 sleep 4 hours busy week aghhhhh philhellmuth sad cousins stop playing frozen bubble twisted amp resco bubble bye bye n85 week pure hurt neck gym work time I ready school todays plan driving vienna spring cleaning flat hippydi sad suck know wrong feels like dianyach love swim know mmmm want eatser 14th 15th bad maddie d today I amazed scared basic errors find e-commerce websites wrong error messages loading icons etc twitter let change picture zoeaimee I trying research dude english assignment tomorrow internet keeps freezing load got pshhh going trampoline sore homework pmarnandus daily gossip twitter gossips e online access - ashley kicks afternoon impressed twitter islandiva147 sent tweet yesterday know work guess sleeping right working soon noon english revision class laptop died yesterday reinstall perfect time try windows 7 beta finalising annual report 2008 ugh 2 hrs need quick shannanstedman haha got 8 sit 2 hr mass umm like 2 ish alright late got college today holidays dg8ball yeah spraying I going pay spray m3 point e46 m3s white europe nathnaelb love ill week dude pay vixens innocent happened nights twits gone run away benjaminreid internet thinks going traffic light night haha edict announced social networking office system ok tweet evening chaps bored tec spitorswallow wish couldbut seasons change 365 days year heyxboxlive probably mention drew carey considering major nelson man I fucked work business plan meeting presentations sitting outside doctors surgery turn bah holiday donniesbabe pishing sun looks like wants break hope dows kids head finally home sooo tired omg breech sob whitout friends pisses legs feet loads pain running old man tryed trash tent going swimming jaska things old miss maya wants shopping making short video windows movie maker crashed 20th time middle perseverence p finish video soon dougiemcfly tommcfly good morning guys know frustrating reply jardinjaponais hugs hope day gets better cell phone providers suck rode river circuit asthma hit hard wet mow amazed amused wpac cr limit raised celebrated coles shop etc ss favourite youtube clip lightning mcqueen singing quotbarbie girlquot taken bigbluewolf doubt I chance tonight works mental thanks bt cutting 70000 customers today twitter went bed night try use skimmer fallon time like overwiev style cool ig browse photos livinginfiction outdoors mancan gym week time time dinner soon babe early week brunch sunday dramaa assignmenting gay sick jetshun4 persons read twitter catch week talk yeah saaaaad redtoffee strawberry absolute best angel delight eva chocolate sweet marissamonotony re303 congrats bella misses cold night year friend coco chris party weekend awesome fail wasnae work oh msn hates guts wanted tonight dog passed away night gutted mum called sister hospital work stuck microsoft specialist day end bed damn end daylight savings - means son awake 530am day nothingbliss miss boy tho tonights episode house incredibly sad meatloafs usual bad acting hot today playing pkr online poker headache pissed running old man tried trash tent left battle wombs elanorelle niceee ran filter coffee art work good forgot bread toast bad start day alessandrod dude hope guys alright homecar lousy day buh rakeman 80s f week violated tuners rule buy non-performance parts sorry I buy air filters time robabanks sleep flu theonewithkatie need chrisdjmoyles tickets live mk gutted xx deemaah offered clean twice pinkiecharm sorry musta got bit sick dance tweets sorry unfollow past 43 flight control morning good mood bad pain lovely day staying bed twitter loner breatheee hate sick snowing tennessee dreadkey im kofd battered bruised arm tambourine self conflicted pain wake 5 hours laameeee interwebs fraked google maps iphone 3bar gprs 3g faster 10mbps cable connection feeling people pregnancy beautifull time life sampiroton hope - iphone lauraoliver feel hotter I sicker xguccishoesx tony away sheffield moony394 huggggs I glad help favourite character white house sucks stealing tomorrow daydamn tomorrow today watching realkidpoker daniel negreanu lose 160000 hours real time twitter losing anticipating slow boring summer italy today starcraft couple weeks awake sleep got work 6am -4hours karen230683 shopping sounds like terrible plan hope dragging brother time p dannymcfly haha tell x jaredleto sleep need work speech huka youth hope 10 marks janinesd I poor rn mobi lol search decks tweetdeck working yesterday - problem smashleypants awwwww virtual flowers chocolates hugs kisses lt3 I awake people got today probably watch tv rid programs sky planner joy stock xbox 360 limied edition red elite moment morning gave cat tablet morning mission knows prepares battle nicholasbraun aww fair check pic sent heidimontag season 5 hills till driving parents chilling sun shining feel today davidt2006 virgin today I afraid I pushed time having said delayed 40 mins brum biggest headache second job woo wait bring horizonnn bad curtis ward band anymore picture pics working rite massive headache building feeling sick darkenedjade yepworkstarted badly gone rapidly downhill story life honest work homework tmrw moony394 lol ugh ominous hope cry idol week fox hates mistystilletto happened peed laughing scraped leg reldred yes babypunch totally addictive I thinking earthquake abruzzoitaly think need start buying wrinkle cream oh man find tenori-on going annoys I msn 360 late night watching dvd fall asleep inadvertently damn lukey finally home hungry home suppose start revision stop putting mornings session tweet soon britneyspears read film looks good going wait come getsmart86 watching loser want cry sean wants come wishing skipped breakfast morninghungry jamsandwich sniffling time year 5am todaycrappy jsparsons starting prep pmp exam tomorrow relate feeling izzyartest miss long come going site updates twitter account nahh work gaaa want peace quiet hard find wen living 6 people living small 3 bedroom unit gutted checked weather report wrong day fishing today cadelofficial - love mountains live belgium looks like baby going born pi hiking big thicket couple weeks monsters supposed area chupacabra hope kids shows pbs right supposed nature suck french cynnergies yep real slowdown evening 6pm gmt work play happy linda wait holidays hates pills oh god taste fuckin horrible 05 liter coke flush rainarcher fit 4 people max know sowwi masterballerina haha youd 2 cambeltown omg draw inkart insomnia inopportune times failed enjoy weather officially twitter I awake long feels 6pm meh stevenghysel problem twitters timestamps day like sun instead sitting looking excel im going tour copenhagen hmmph thinking finished watching new heroes episodegod wait weeks episode heroes ftw work dragging pretty tired got 2 half hours sleep urgcolds suck fta heard wondering carrying voom anymore pretty dead happy annihilated baby huntsman kitchen cooking panhowever means mama hiding fuck looking shoes brother looking forward torquay april sunny yesterday woke late supposed wake 6am lots things late homework boarding ek348 - usual upgrade ek colombo missed good oppertunities moony394 slash characters sighhh going sleep dream happy things kutner babies bit sick poor honey having relaxing day israel enjoying fam best birthday untill house sold nothings worse planning going mall money damn unheavens dunks want co-workers lurgies jambothejourno rlc interview good stuff thought I finally found no-one linkedin mongy tonight fact sat spinning times recently working need break mistake buying dress want grad anymore byron bay cafe fresh missing melbourne friends muzzzza ur bad kateedwards tombot18 oh dear means driven away productive bugger spray paint showed spose means riding work sad day got hou ago lerning boring stuff leepeesa story life-stop looking icaisfrank comes read vet visit memoriesphotos help lwmedium apparently chinese government pressure sa let peace conference canceled nothin like throwin customers door jxox laterr hunn arghh hope miss tweets lolgunna nans later nooo byeeee x x x xissyx robina shops closed good friday acummings I got return tickets booked weekend exchange rate bad I mind missing laying bed contemplating meaning life half glass leaking wrong getting error graphic instead music player musicians myspace page goodmunchkinster feeling carobode I starting headache school amp I sleepy got work 2 holmpat morning pat sunny spain sunny today cloudy raining mighty tap one-date world tour newborn ahhh webcam messed turn fragilemuse book awesome great works afford buy today tho andrewwright yeah thinking love feedback creative dm dentist finished big capacious wooden kitchen island 120x240 metric - thought buying photos ampc request interested grew chin I confused state implement tab interface application currently I working sisters kitty eva baby-kittens yesterday wrong needs vet captainjohnhart people realise miss germ damn true need help needs ride work I liking pospect 84 bus drinking milkbeing youtubelonely emiliiee fadyanwar sad gsm company owned egyptians orascom inforced sell share fc read word know felt brain preparing 5-way controller remembering real books bad buy days feel like twittering know man want nike air yeezys live states chance hell ahh spend 200 2 pairs sbs instead frankfurt times understand days tweet concern dead peeps reality forgot password cocoy person genuinely interested english filipino programming teaching paper oh wait jonpaulkaiser I probably worse lol sorry photos seriously long overdue time buy sony cam rubbish deemaah thought fault pay attention genitals overheardatmoo wish participated time oh received answer ticket 6 month old fast cob ticket found unsuccessful applying hampshire probation job fb claires videoing streaming podcasting tweeting unfortunately got work today ollyog far station looks head I actually jealous love belgium right insomnia kickin hate laura6476 I gunna hols want dropped earbuds sennheiser tea hope going work ugh coffee work 645 good brain officialy melting ambermatson terrible expect earthquakes euruope certainly bad ones binncheol listen music dude called andy hull afew blokes hear playing ldn tomorrow snoo-snoo computers operational think wifi iphone broken quotconnectquot actually use story lejeff oh pants I hanging old folks england defo b 4 1 tho watching death racefound sandra cantu dead pizza night feel sick playing basketball today lol want pub frumiousme twas antibiotics root canal polaramine tonight hives symptoms gone thank goodness impressed rain- wanted market shopping bleh choadmalma wish link things good yepit 6 weeks lady church watching darraghdoyle ah pox raining outside looks like snow raining mousenator cry andycyrus I awake lol sleep glad tho kellymreynolds yepit 6 weeks lady church watching jasonvonberg I advertised blog career sites agencies sure iamnipper week got bike minus saddle justagirl79 great license wish got rest pissed coz friend busy me2day coffee 33 turning starbucks feral children-wise achmadsirman yeah infact spray paint mutt got real delayed problems finished mama jis place everybody keeps giving new options study work confused passing day axon got cancelled everybody rattling brains amp makin cuss terrible tiredd today gvenk thanks alexandernl sorry mew today prescribed opiate day thinks - grr ladybug27 damn missed invite rellyab likely unable attend - crying way home spanx missed weeks slee gone iplayer jamrock cat got cold coming shite kevnz lol better let aboy021 know deploy 930 bedtime hope feeling better sick sucks able sleep folks springs gone winter backit snowing outside pissed coz friend busy me2day bradqb13 know feeling man lay low people like weather cloudy everyday time rainy revising catvix news sorry hear job red jaguars blue barracudas green monkeys orange iguanas purple parrots silver snakes remember legends hiddent temple hairpins haha makes think use big words sadistic p way sorry babe frumph I hug poor frumph andre riue neighbourswhat world come tointernets lol looks like rain today bet buckets soon step outside door way downhill way today renee66 okie dokie want ask ash tegan yasmin asked nicole said coughing lung - I xmas I got poorly tongue burnt chilli night lovely day yday thanks guys I guys lloll odosnapemaven owwie dictation software pick whispering eh know meleney dunno good sound pickup lauraechilds fine check dm sick going doctor bad day taking rents airportnot excited earlyhave work 8 poked eye mascara love mascara god sent michatagana shame wrong I got streetcar essay jerry good ah man going bad day tonights episode house sad believe left stay awake anymore I mad tired long day sleep time 523 I sitting barely watching I wanted movie getting distracted day home today catching train 10am tomorrow nice break need breakfast shower shave poorly cat home want hold fur pass tissues chestersee yes risk running dlr steps today missed step twisted ankle long lecture took 52 mins sunny outside mocking assignment dinner dad tomoz jenmcj check want couple read away new liquid silver good reads-read rubbish lately working looking 4ward 2 thailand weeks bank holiday weekend ewww cookies cola mix togethermy tummy hurts childrensjewell damn annoying happens hope copy work eminem gawbagerosci imma cop asher roths album instead fuck quotass like quot flow beeen awake awile sick mokshjuneja yesh bank holiday working trains traffic screwed usual bleh strongly dislike working 545am everyday headache little sleepy miss ma babyy soo damn right noww wakee upp flight conchords album vanished spotify gives spotifycom leahearnshaw awww I sorry spring finally cherry blossoms galore shame temporary head got bashed door today milkymoomoo yuk end year accounts need start amazing 41 words minute flowersophy slept little girl started sleep turned 20 friends feast fast bored sims today thinking lukes youtube account post awesome new vid ideas people want trendy tierd pt swagger mean love sound feels like neglected twilight I sorry lol katestar oh yes extremely fun talk actually want talk I lonely added dns system compatibility okay looking forward possibilities open need rework intro sequence cold water tap bathroom miss cold water shoe throwing incident journalist jarnail singh threw shoe home minister chidambaram bt missed target broke tooth yesterday feels like spilt half wonginator wish spring break theresaxo believe work help paint aww rip walllllll justanotherjerk want c quotno doubtquot soooo bad aw - snapcase getting dreamt jonathanrknight sure tweets missed glad enjoying urself nice hear x wishing fast internet nownot 8 years getting ready work 630-315 stooopppiddd abbey national need dosh blooming shut imagethief know found url tinier finding incredibly unfair mom got tan spent time sun miss like crazy drblack yes invited san francisco sorry miss dota ladder stats garena updated leanne angry michatagana ahh I sorry nasty virus going apparentlyshame atagana amber know check miss right like friggen want hug ltbethgt ate oreos yesterday feel sick today mauricedb tried sitecom felt toy-like like getting 5 dumb work schedule need cuddling amimov bc hi thoi th l gi t cuc ri mnh vn cn nh ci nh tp th b t bc ch tri awww whitestrips staying soluna slower accord contendo shit horrible poor kid btw eventbox available free macheist visitors unfortunately switched tweetdeck bits hmm sun shining brightly curtains lit room n woke cnt sleep nw 10 way early wake hates maths tuition holidaywanted sync i-pod latest tracks nd podcasts wait I bck fb va b dy khi ging mt qu garcevisage aww mic work gemmaface awww gemma hope search bar come aoife got twitter like better suilin nobuuuuuuu evil evil girl wish playing reindeer games fowler trying write essay english painful missymoouk oh know cried wham split mommy school closed today westendactress nooo shudent deleted x kaitlinmonroe aw sounds fun I bummed missed meet trying check phone bill online like like manu ginobili rest season playoffs yeh totally dig firebug enuff enuff going start safari4charles ditch ff debugging goes ff crashes sad movies think things want think wish dinner I slept hour night death pick dog doctors note work given ma marching orders got work yay moving moving moving boxes moving rawhide think I gone delirious moving changes 2pac itunes boo ugh stupid bug spamassassin rule-qa backend discovered going fixing point adding todo list babyvtec yeah hw handyman cancelled hi twiitters ammm sooooo tired right nowwww falling asleep msn thinking lazy day today p xx fed ill wow abandoned twitter given ma marching orders got work yay andrerib oh today possible family matters try attend gd mornin world hav cold throat burnin morning people away breakfast sort start hwm lazing today xx guess bed 55 hours able sleep lately stressed website aventure windows deal 20 windows servers 180 windows machines misbehaving day shoot babyvtec geez late good luck work tomorrow soooo knackered love given ma marching orders got work yay danaeatsyou hahaha I sorry mean supposed film day silly cheating day donniewahlberg wise words life work plan life habit kicking gosh raining summer global warming pigman love cooler trenchcoat weather dnw darker evenings scary run night close eyes nd face going stop sigh times 5 packed hubby bristol missing homework hopeok soon -dies- rustyrockets I fiver fine - I skint paying al darlings eyebrow waxing hmm request feature app site quotmerketing specialistquot sic addressed quotdear editorquot oh dear nishitd missed 14 onwards stupid work getting way tennis thought 4-day week tuesday bearable wrong I tired tired thing today markmulligan exactly core concept virgin shame money ran realise jonathanchong long week ambermatson yes worse normal past months found gorgeous pair vintage dior sunglasses 125 work martyr chocolate coffee sympathy cats decided dying bed day looking rain fall rotterdam eoghanquigg wish I near belfast -- love new song btw fever started miracle cures cold splattered bowl videos play skip jump hungover wants stay bed day set twitter profile colleagues noticed got swish sidebar - great 21st birthday sick flu fromthestars want amusement park ek getting tired driving lesson went pretty need stop crossing hands wheel apparently bad times found nice lake-side park small beach grills oh I looking - time billbeckett know tai means shit indonesian dreading tomorrow hate hospitals especially baby patient feeling hot jedi58 yup game amazing technically looked great gutted sold game original xbox actually looking forward working today blooming great change weather cold luck having luck lately life sucks mo playandstay I actually thorpe park I sooo looking forward alton towers wants badly way early work bradiewebbstack sway sway tour julyyyyy exitedd muchh follow pleaseeee need followerss living neurofen day away headache going start revising exams ladyerlynne awwww post transfig classroom sharmila library books bloody bothered levels anymore nothinn nothings tv maybe run programs retracelady djslump morning oh terremoto earthquake italy seriously wondering australian public thinking kicking baby kat sytycd miss today apparently cuddle day cuddle erickaaa I workkkk I freezing need mass hug 2night babe xxx winetweat sorry follow going publish pictures video english quinparker find age internettery perfectly express sorrow empathy anothers pain argh finally figured killing inquizitor games jailbroken devices 30 1 star reviews late fix way considering new business means new logo website finding difficult pick 2 weeks fail office time beatccr wait read onestill waiting copy having lunch desk work wants iphone april stop snowing trying find motivation write essays finding sad life revolves essay writing heard stopped singing shame 3xath theletterj agree people stealing elastic band ball stuck insidepoorly little people mizfitonline ur host I getting lyn thanks hun going pitty sing myrtti ouch I snuffly hot cold tired bunged woe heads sites wonky like probably post late today flippin technical issues skinnylatte great article sad saddest pinnacle evolution goodbye jive test server - sorry shut I amys coming today clean room finishing tax return instead making tracks enjoying sun offline hoping new kitten - eating drinking - hopefully stress new place danielhcwong taylor 814ce --gt ampamp sweet mother ampampamp livie 2900 elltotheice poor kid damn people want cut grass ahaha 15dayslt3 I wish drank coffee day long need sleep sleep sleep feeling worse cold cough sore throat works finally vintage logo greatness nowkind tough right wof home computer oh someday feeling weird today happy sad time missing people italy ilyyy lt3 argh goes plans friday heidimontag know I uk jealous got formal invitation going date said quotnick amp guestquot ande I sure want associate violet product re-think screen markhardy1974 I waiting ride itm wish sun shine cute yellow dress wear come sun come play stupid england foot odor problem def hmph drawback picture phone broadcast sent file text automationatacost petemc horrible dontcha love microsoft corrupted open xml documents fucking shin splints I paindrugs pleasei realised painful taratomes applied - dad drive manchester auditions idea use twitter wants follow I bland person helenthornber dunno fruitsalads blackjacks post officewe got applejacks tho best friend amy coming round today I got clean house I got find amp cable phone amp good foods aaaaaaaaah muppet whatnot workshop site temporarily apparently totally sold quotworking hard soon possiblequot hurry ednaiscool51 yay videos gone jamesyeah gah poor illazilla shame mutt best luck time ib3nji yeh know showbags list paper day heard broadcasting thurs alexfoster cat prob amazing effect vet bills watch changes character remaining cat-puss need uuuuuuuuuuuuuu sonnyjoeflangan goddammit missed 3 songs xx catq thinking family friends glad okay black day italy people killed great time forget fight way horrible weather davidblue spoiled week nicsknots eat drink breath thanks bad throat infection eat drink breath properly thanks bad throat infection shattered s nanna passed away having delay 1500 uni sucks leave home 1200 attend lecture 1430 1630 amp roadworks - mt installing fibre cables started 12 week training going tobbr tough birthdays currently work upsetting amis agony vet 6pm poor little thing matthewknight know ping site load I trying contact dreamhost body replys edbehrens thanks good luck alas good want explain thanks lt3 stop coughing sleeeping wet hair eyes kevatkinson bro sis young mums working today thought help sun having coffee going twitter facebook social networks time job gets speak boyfriend til 3 happy speak til hurt little princessbuddha I having problem drive anymore sad lost followers sad day morn awesome car ok think I finally work yesterday beer tv hitting sack 9am working life away examz comingreally feeling helplessssss creepy outdoor speedway alli portugal good 4 losing weight healthy francesdath bad transitioning visited globe wandering gypsy queers moment missing loaded cold great fun early stomache acting funny headacheit away want od panadollolseriously hurts - right maybe unclear I planning post website later usual today technical issues miss chatting chat rooms find feel comfortable suggestions vah dreaded lurgy strikes I dire need tea chloroformed alas I asda pizza time tea leeds festival twitter man lied update going going aaand gone poor moosie fell asleep class fed swapping songs email carrie damn tasman damn hell want jam damn find decent sized photo anjeebaby I fine things busy gets hard quieter times essay finished 3605 words pleased self dreading return project work violetscruk yeah aberdeen miller platform chopper left went thew day immm sooooo lowwww feel toss better yesterday actually realised I woke 5am feeling sick lot work catch missed gig khb count low today despite changing weather dalewood love uni coffee bet ilpc oh ps uni tomorrow pick 1252 ps 1000 word assignment arg I having hard time digesting disappointment ready friday ted braves amp stocking ricola cough drops amp dayquil bc cold constant weather change s geen met mother vandaag southpark yay migraine round berlin sheritingle busy loads projects complete roast tonight frozen solid 300 going looooong day I bleeding shaved legs I bleeding haha I loser xp got reduced tears jeremy kyle doctors hate doctors scary arghhhh killed eggnog thread pj lame joke tommcfly hey chance adding brighton eastbourne ucap tour gutted I missing time round love guys tired sleep saturngirl ha ha ha cap doffed okay right camping cotwolds lol silly thoght kb k working doubt find xovince pssht miss respond donniewahlberg donnie coming uk toooo long x went dentist today totally resort totally broke god damn dental industry needs competition policies thm mt ln ni di work gunna miss lush weather x mandyemmerson bummer hope ok - miss wow way early awake lots software post 830 actually work time boo missin sonhe went home monster law night wait afternoon work iamlozjspr ouch mirrorkiss money I upset laz18 yeah answer work arvo babe breaks usually 1ish haha need credit sooo bad ugh sleep I feeling great foilly oh shame find time tim passes organise sydney feeter convention oh nokutners dead watching house bored internet home sent naughty boys corner work triplejsr new eminem single quotwe youquot got zero plays aftermaths myspace want hear soo bad wondering work site finally home work wait easter study time work great weekend brothers left home gone england gorgeous nephews miss nikrosser think kind good stroke I wait hear love little cat l xxx argh stop yawning computer cpu core technical touch need processing power phone broke bad sending exciting tweets today city elections going election judge day 16km bike I hot n sweaty rem marathon continues I trying chicken soup like mothers recipe interesting find matzah huge headache wants quotsomeonequot come itspink whatboyzone reformingI aware sparklydevil1 hugs I trying hard concentrate nice dream instead I sorry bad hon theengteacher dammit getting know corner ugh waste 3 hours charltonbrooker got sympathy - I got x-rayed time lunch I craving spring rolls bad chinese near delivers know getting miami like cares kalpenn ok think got spoiler episode seen I uk gutted surely time tried ouchy head making feel sicky alessandrod sadness updating hug lorissl morning things italy today depressing imagine bad news melaniengzuer haha nah twice month bus tickets expensive want kasabian eden project 4th july need morning grey day holland come spring sad time shift means dark home sneffielynn wish knew going tb driving crazy damn missed gsoc apply deadline hates revision khensu83 feel like amazing day xx - miss busy today attended 2 appointment tomorrow going busy day iiiii slept work 40 minutes boo stuck history claireboyles thought going work land - 100 sick definately healthy suffering headache yesterday afternoon feels like head vice pleasant working uni red bull packet sultanas dinner csimiamijenny know felt givin presentsthem appreciating horatio real man lol missykesson find firefliesuk twitter playing bracesbrings memories bad gagging reflex carlichick photo x bus going work booo tweet working head robparsons - difficult people doubt ones africans starving helpless - grrrrrr sitting work nickynocky pay occasional kids house metered sound high abhian abey lalloo n dake went 8pm cp cudve chal koi nahi nxt weekend try karenge sick little girl came room vomitted bed insomnia got best ohhh tired find sleep lol anna schmance soo want meet holidays man haha - I missing bad sooo afford iphone yay txt twitter receive cell bcos I new zealand sleeping friend today x3 going dont understand retrochickuk oh probably pmt thoughtless men bit transcode 100mb wmv 100mb flv file loss quality - possible know try terrible kenmcguire sorry confirm darkest fears divapromotions agree sendout cards rocks sent today dear friend let dats fast internets probably stuck 10 new morning pulled curtains sunshining birds tweeting I stuck inside working joypalmer wake 2am think ah yes mice running ceiling school right watched england I sorry like maby watched kangaroogav preach brother special k single gammon roll amp water dinner meetings boring wonder m sleepy close surprised little miss having house car worldly possessions miss dog chrisgedrim fancyelastic use red onion chives abundant moment instead lid sunflower seeds stuck jasonarnopp memberships expired renew new induction happen til tuesday needing love getting ill fed things turned myapplestuff sadly turn time help re-build amp poor families love dissappointed right guess meant tomorrowtoday finishing hmwk getting sick getting ready day school tomorrow jlo1978 ahhhhh leaving friday captainseebass sparkyma girlfriend troubles got thinking monkeycat moms brains fried juicy says teh compy brains fried allieblue vodka mudshake going I accused biscuit fascist said viennese biscuits working class early-ish study getting taken lunch come lunch study twitter changed past 2 weeks view 2 pages tweets phone selecting older repeatedly shows page 2 got calm weekends monday blues carrying tuesday intelligensia totally rediscovered new bones sundays escapades wish sleeping great opensource luminary record talk files rockbox daleky voice unimpressive polkadotskirt I getting card weeks solo iirc threadlesscom question shruticute got web link hindu toi moving managerial finance nicht gut oops havnt 4 school work hardly time 4 sad watching himym seas 1 cool like feeling forcing watch episodes andywinward quotseemquot funny hugbubble I keeping distance away comments good male species migraine feeling ill today having great day tired nights works getting woken early help rgdub yes want bad work work plus I sick blah bleach hair time days ho hummm got later post gazillion things I sold bad good morningjust found need wisdom tooth stuff finding small picture jsut weird face rest twitter life lol guys sleep need work gtlt fml wishes p-kid sick hospital tonight tired sleep baby feeding 330 sore elbow think broken depressed going able david archuleta heroes soooo boring ugh found 3 episodes season kiyala aw poor donkeys pain having braces tightened work x spring break overschool amp work monsters taken life seriously redpr looks like housework arisan free day sick again2 days till examwonderful timing preparing work leaving balcony I tomorrow try - niceweather berlin goodlife want tax inspector tweetdeck seperate program use air air awful ram leakage bloody annoying annoyed glass dublin roads number punctures getting omg - super massive bee downstairs phobia kicking big time downstairs know gone help t minus 35minutes home home laundry home kindof laundry home washer dryer division lancehenrikson writ ticketbot thing spamming people tickets bands quotthat wordquot probably children got home going sleep couple hours age conan hope dream eating delicious sushi computer open files university work incrediblesteve cold turkeys way know dogs ankles I lock study away builders oh joy 14 weeks great holiday homework sesh begun bugger twitter distracting menace dammit think picked bug girlfriend beccaacyrusx chyeahhhh shoulders legs hurt atm miss friends busy - getting chance twitter know wear cincincintya seed verge death thinking seedling plant replace need big happen feeding horses snowy windy april morning lorissl having aftershocks I following eqwatch tells 48 quake wants ipod yayitsfoogie aww thought fun website lonely xrandommcrluvrx yup obsessed bet run stock thnx help phone wrong code guybatty oh I sorry hear sad thing young wren internet hug yep know feeling kijuto ng t 1h sng -gt 11h tra dy n cm n xong ng tip n tn gi m mt m mt kalpenn watched house got sad liked kutner morning gone shaksiyya going guys weekend shak happy cd collection outdated happy chappy I going perform good friend nicole brilhante thursday don hos come cheers fiber home wait 8 years sleep night working 7a-3p dinner megan happy bday jl digg links nofollow rustyrockets showing love sexy swine feeling abit lonely know want x ecaps1 bloody idiot shop gay porn lost laptop able cg properly untl 6 tonne sad news today I getting people asking buy ambients album simple answer quotnot yetquot itunes eventually missykesson bet let mcgee hahahaha gavlp yes hope shocks going stop soon - think I getting angry earth sore throat god sick sleep time night x sleep mornnnninggg ugh cub gone work phoneee got textt drinking nuun lemon amp lime electrolyte tab drink sweet limburger2001 infrastructure improving coverageservice wifi hotspots adelaidesa bloodrush545 ugh pizza fantastic right bad phx pizza places open ppast like 10 sheamus yep - friends search tweets panels hmm interesting maybe fix later sonnyjoeflangan oh awesome shit missed allancavanagh thanks link allan-dm workinglaptop slow tuesdaythe su sleep nightbtworange juice right brushing ones teeth cinnamon toothpasteyuck love holidaybut going happen stupid glass ability cut foot tired slept days barely eyes open missing sanity came college assignment piles like shits dead tired sleep frustrating ages hear bloody tap driping cold tap bathroom rip tap march sales reports hardly worth wrong stupid vista hate swanage fieldtrip legendary carnage reason chose geography pity uni run theinbetweeners watched twilight night brill good book tickets 4 sold quotgive festivalquot sat going shower amp brush teeth want work longer innocent wownon work related I seo site designed ranking 1-5 msn google ask - sadly yahoo questions battlestations podcast best possibly answer study history music bored help wish little tunnel preferably waterslide direct dressing room water people togs freddiesdouble glad I work fed pain permanent earache yr fun I liking new itunes pricing mean I seen songs 129 069 natasjacupcake great having crappy day good mood sun help god pls m tryna good gal noe best dun n dun n dun wana deep shit help omg hate new facebook look messy place want old nickynocky yeah rubbish think bill gone filter crap water ohmontana deal I murph pliplup water barely level 20 like sheepish davidtaraso I stuck chapter 3 incineration destination 3 days 6 days work missing daughter went away yesterday week course help teach gymnastics house quiet yippee skype app available i-phone xcept use video I liking new itunes pricing mean I seen songs 129 069 laniefuller feeling sick today webview control iphone sdk slow loading local custom page takes marginal time eat drink breath properly thanks bad throat infection karayoursojt depends going want hanging town agesooo aishatunedoreta beach rock x breathe yes over-exaggeration terms hate ill eating lunch forgot home cooked food morning samshepherd darn good wishing getting 900 free noooo mr rudd wants play mean ohdatsbeezy - mind follows docs amp antibiotics throat alcohol week revjesse ahahah hot want work like stacking shelves grotty shop sleep read animorphs I attempting sleep work time I exhausted plus want cuddle sisters cat meatball leg crushed- needs amputated poor little thing officialrandl whattttttt brought new 2 years crap line matthewday yeahat work ecaps1 arrrrg bad mcdonald burger king hire nose bleeding ditesh haha I unsure deliver fossmy I alot opensource software hail adobe expensive glues coming sooo irritating believe awake 6am tuesday yawn bad dream bummer sentricmusic suffice offer ignored emicom launched laughed lot feeling low today boredamptired miss stay-back time rains heeaaavily outside trap building home dilyswei thank know fact studied day night sad want work morning feeling wtf britney record chhavi working working working suffering lugholes romania like mystic myre got stop turning homework late gettin information systems late assigments want cereal milk oh free car park use pay amp display change zenojones sleep little time long week ahead ok I hat lol booted windows upload internet worse ubuntu playing putting random twitter usernames wasted blanks totally lied going trip hanging airport excuse came mind whatdamnnick problem rain comes extreme coldness nbcnews reporting pres chief econ guy summers loaded wall street money 8mil hedgefund banks bailed tommcfly fun tom need buy eclipse money sad timess wait week find writing good sucks yay sj come play kibum course missing teuk wellreadkitty oh poor thing ot love squeezing pus vet nurse kind gross quotwho favorite vintage designerquot lucy quottopshopquot miss cycle 3 britains ntm darenzia assuming leaveI miss punkin want home testing twitter mobile sms australia expensive whatchiing commercial breakdwon lol havee homework enrtertain meee plip love try trillian astra closed beta let tittch I second andrews suggestion fit emergency chin thinking poor ando got shot sitting desk eating dinner great thai bit sad situation overall moreshannon south 2 days working mmuk09 moodle 1x upgrade 19 upgraded 20 - themes probably break rooxxy I got tonnes going donate think eat tomfelton late nights suckkk gym makes feel better photoshoot overnight screwed sleep alexrussin lucky missed o2 18 months need phone upgrade iphone comes 500 contract life need smartphone cheapo talk plan paulriggall going glasto stupid girl crosby stills amp nash playing nujurzyboricua want home bed lol What workin today honey nasty reports flooding multiple reports bad hair wet pants rustyrockets birtday went wrong reply feel love mums soup stomach nasty noises laptop running battery worried furry sun bad tartar teeth needs dental treatment finally fellow ninjas logging forum recently redo woz bit broken ughhhhhhhhhh twitter bing sooooo retarded nickynocky I looking utility suppliers tonite whykay lashing chocolate covered strawberries cottage cheese defeated need dentist mfarnsworth retired time mate long flight longer seat recline red eye grumpy absolutelybatty hugs thanks hon believe gone got tennis post like big shame 12day later ants eaten clean bonesthat poor little gecko skeletonso disturbing regret mercy killing man today going sooooo slowly today wishing 5 sitty job nice - feel bad band right jonnypotter simpsons demand thing work uk feel like revision awake spanish test morning dotnetnukecom server error application archiving project files sharepoint fun set ipod earbuds dying - left going quiet apple charge gbp20 replacements better options price point I having miley nite sleeping boo wow 5 suicides row fyi professional athleteyou suicides themaccabees I ordered special 7inch set thingy place online I forgetful want iiiit decided room needs quirky angel gave mirror button working urghhhhhh tired need proper lie dindle manksniff foods corp founder dindle manksniff disappears midnight trip fridge presumed dead mandy moore quotcryquot - quota walk rememberquot far favorite movie sad cried like baby lghague uni ruining life usual hills available online soo disappointing nikkiwoods exactamundo reason think foxx knocked idk going happen sorry poor spartans I bored sun present sky deppressed want sun night went bar felt marred woman went home hard iis-crash tough nut posted newsgroup bah immune system finally gave year throat feeling horrid crappy day far whyyyyy beththepq blog let comment teef hurt headache adamcurry download version dvorak interlude streaming banned work wwwicked think tried feel free try crack loss waste time i36 hope I feeling better thursday seriously annoyed I ill lan bangalore missed dancing handsome wonderfully smiling foreigner stupid italian homework bothered 2 bed 2day - feelin ultra lazy miss josh coffee time - wish whiskey like cameronreilly want play singstar singstar discs scratched mileycyrus ouch cherry blossoms year argh iggy pop swift cover add spotify way kill mood arse totally forgot webinar wanted attend morning I know secure virtualised environments going tenancy tribunal tomorrow try bond emmavieceli aw better soon honey lemon drinks ugh know stop anxiety attacks pleeeasei need help cupcakesfortwo pain issue thing figure degool cafe waiting clock 2pm feeling sick lost password version fuck feel hell lot worse today france today raining ufffffffffffffffff ke gorom need pond swim seekinfor new job 5 hours sleep 4 days working birthday juanpol page exist ammarz install xp users aramco vista users problem weird seamonkey86 healthy eating kick shetland pony sleep unhappy stomach hanging washing bout dog walk kind tired aswell went training morning skooool hope reason sooo fun like best hehe bradiewebbstack aww poor bradie stuff vegies stand vickybeeching saw apple store told warranty voided cuz unlocked phone throat hurts italian lesson bored ooooooooooooh headddd uncle johnny agreed work town election got drunk nightow shedfire mrsshedfire taking pictures shirt bleeeech cuprohastes feed cars milky ways - like advert misleading - breaking a14 fun johnnybeane I amazon uk pay custom tax order nz place miss bed bit read r42s amazing blog tired want school tomorrow hmmph hate awake going school western civ presentation andn awesome lunch discovered downside going away weekend - food shopping needs ophelia haha sorreh tries 2 spek normalz k snow moulin rouge mad cry trying shout find people list ughh find red sox hat got wear creepy nick pirro version slept wonderfully- finally tried swatching new project classic lines cardi stash like colors wait argh linux people task scheduler quotatquot makes impossible search help bit tired 247 cribfest surrounds fb sigh sitting working leg propped making ankle feel better making knee hurt rammi love chinatown cheap stuffs hardly communicate sellers speak english tempted premier projector ebay thought fifth drumkit bit excessive tsisey wanted amp feel like running lazy loudmouthman yeah turned rules spam blocking alexjreid - nice inform install eh silly msoft works intel mac g5 shame cool sophiebenjamin disappointing science golden want pnk tinchystryder mates waited 2 hours night walked past dissapointed tinchy vickiowen undergrad dissertation years ago sincerecall hating think need use rachaelsmart exams close sucks levi- good morning cruel world 6am come early sucks hard roundhay cancelled reet lookin forward day working words friendly air install button reassure user scary install dialog ok certificate alesa13 new old boring crap sunshineand tequila new fun having problems ipod disk storing data order amp getting disk errormy entire life music feeling stressed little dog looks like spinal injuries grrr tv signal bad picking single channel need watched hannah montannas chrisgedrim dissed taste music nevaneva find ekitan best results lot searches especially tofrom airports pinknantucket strangely today siximpossible yes easter chocolate - I sucker hollow egg discount store want holiday chrisbaccam generally crappy day work today stuck job love hate nice difficulties gtalk closing division day later knackered working nights 8 page essay argh geese attack migraines fun want cry tylerwalters lo siento tonight consolation bbutton ring fell needa replace soon possible working holidays jeorgina aww georgie boots sound killer xd forfolkssake reply email imminent -shock- second review yesterday housebound bad haha I sooo bored friends great oh broke tv pamjh yes 150 people killed lot missing accidentally cut hair karmadillo - bad - bad bought single easter egg family bad books dog missing extra long walks wish going melbourne wkend harlot house tramp gah let myspace social studies campaign wondering managed lose golf dan night - throwing away 7 shot lead 9 trainhitsboy excellent taste perfect context I covered cure song public scorpions sick hot outside today flurogoddess hope agree worringly long day hope goes favour x struck viral infection peaved getting ill boring job hunting nicolawills13 chat line freeview good yasminkaye grumpy makes internet sad panda got driving lesson waiting revision sooo tired soooo guilty shisha nj syarif heheheheh syarifs new laptop lol budak poly andyclemmensen lol know hate old computers suck big time p nappytabs aaaaah I insanely annoyed fact meet wanted birthday wishhh ahah awwwwwww cold bored sam come wgrzmarissa great long adventurous commute gee 4 12 hours sleep definitely going tough day robertcastley barclaycard single lady boredd need 2 redy soon cba tho 12-hour coma today nightmare shook awake mesteras guess ask help find blue contacts queenserena1 trying upload babe uploadsometimes need try dozen timesi know sixxjohn I worst know I soon missing football tonight work looking forward later ugh need bigger ipod like seriously icoopers tease thank nab pass cut wonder anz westy154 suits look like I fancy dress especially shoulder pads nambu getting good reviews alternative tweetdeck - sadly mac pgreenbe agree hope youll pardon technology colored glasses learn ropes mgmt amp strategy mind 1220 know postponing trip kenya gf going tz training weeks concerned cyclist knocked bike north walls hope ok fellow philip glass lovers seen concert miami wed I speaking awakecannot 2 sleep amp snowing outsidewondering going 2 b able 2 n e 2day africana oh noooo hope ok eat lt3333 dailycomplainer I sorry pay 450 rent going lameeeeee bought iphone 3g ebay like 2weeks ago come pd78 nice poor youhope feel better soon tbrd damn craig cant I sick meds stand fml marshmallowpie luckily lot devastation bad situation cassiefx lost girl tittch big hugs hope goes peacefully ack everybodys talking krispy kreme tooth ache right dinner gross took forever tasted like dog food probably nice hate food fuxing homework harrietpenguin jealous seeing later year men little gig afi reading til sunday sucks emeralddiscount fine sure forecast avalanchelynn habanero hot hot hot hard find australia hate coming early throws right lunch hungry past hours - 40 minutes mmmm chocolate cupcake lorraine kellys fault know cakestand cupcakes I getting hooked edibow haha snot power too1 week counting world ppl decide shoot watching news depressing aylaf I sure anymore doqtu84 flash guestbook outdated updates twitter able follow situation write internals write dmw want town feel like walking got bad throat going got yoghurt lpetersson pls pls photos im going sign facebook photos flickr good morning work want fuckit day dollar mokshjuneja good movie premier cheer donnanbc4 actually 2 blankets control poor guy bad head zeenav sims 2 shut spaulds1 hey I good thanks lunch hehe noon overhere belgium raining fallbrooke eric twitter lol sorry teeth getting dentists money thoughts prayers people affected earthquake italy heard somebody going killed csi ny noooooo sad eating cold dinner philipjohn know mean drop start getting complaints win schofe feel sorry women lost husband disgusting thugs hearing story cry gets kind annoyed apparent reason religion homework english d reconcilling bloody key depositscraving hot beaches blue seas baby sitting palm trees going happen I moodsituation write internals write dmw tomo bigb3n lots imitations magicbartender heya aww missed ps tweet weblivz boot demanded stinking scone mighty haul morning way early way little sleep dragging gym mp3 player going suck heidimontag wait album yay want following twitter accounts report earthquakes situation abruzzo italy good180 dead photos need better tweet russ answer question actual love got appointment ultrasound doc pick blood tests normally prob obese peepsand I job hunting want I unhappy work long n need leave n enjoy oh weather turned bad 3m seas predicted tomorrow real problem hopefully prediction wrong responsible extreme tree murder play badminton walk grandads dog revising kankzxd headphones died miss earphones good retr bar quiz hilarious twice come times guy bar gave number shadez err storm ended sure devastated quartzgirl6 bed wish I work work like pulling teeth today bradiewebbstack haha damn want jelly beans biting hamster cat use twitter phone lucymoore93 hahah lol ignoring definately work end jus pissingannoying I found depressing start day knowing coming home tomorrow night day frantic - shotgunned lots work requests time - running hands 2 days tv control damn near worth watching mellalicious haha unfortunately person house cool miketually danlees wish people stop stupid things like leave 365 guess proves opposite seriously beginning hate entire write routine wish essays jobeaz damn sorry missed I brisbane thursday night ps michaelhenry hosed gasoline mikefoong troublesome twitter accounts want new laptop hp tx2000 bomb knows I think need chocolate cake try foul mood wow going sarcastic mannerquotfriend rockquot I appalled kind expected going work stuck faraday cage today wish think fundraising tips justgiving related altho fundraising going great tbh v depressed trendbuero hey fast kudos - tinyurl use unfortunately broken mcjostandfree yeah going cut nostril poor little love help looks narellenz ouch pain work bag tags boarding passes time sign camera todays post hope arrives long weekend trying work energy bed ready work slept 3 hours night ako sa lahko lacno dostat ku knihe normana fairclougha analysing discourse hungry - I got bag crisps looking forward dinner tonight tracymacy thanks hun appointment 2pm travel hour hope feeling better soon people cruel rude keen weekend aye weather lookin great satsun pretty sure sick frickin way come I heard maybe canned scared vid tossed turned night long cos damn burnt youch I sick home jimmybc trouble I pezholio ah likewise pleasure having packet stuffed vine leaves explode feeling inspired number thingsto busy creative outlet needed nikkiwoods thinks bust 2day late overslept entertained wof perving lol guy laptop showed feckin waste time ordered new washing machine replace broken 350 lighter 8kg torrents taking foreverrrr slow fuck youtube halting tv watching jamieharrop fan ross noble picked performance awakeners girl according aching totally pissed away day gawd I looks like winterrr kimmaj good kimma kind sick feel office oh god pain lay oxycodone gets 6am teacher wife apparently work stateasys alphalabs application woot dislike immensely lol fact spell immensely thank lauren haha christydh watched tv time disappointed performance quotsome riotquot compared original record tamarzipan dunnojust mums cardmy mum buy I work I sad going rain night japani miss family took rumzi spring creek mansfield 32nd bd find glasses reading fantastic week end -- plumbing -- work fitted touch panel --- broke mail innocent innocent wants gtalk phone haha late today 12mn pa ako mkakalabas ng office sheamus 3d schofe ask no-one following meloli feel unloved lonely klariza awesome love having stuff look forward near future friggen jealous sarah bradie webb talking plaguebringer I going wand death makes want roll mage rofl 2 days till sleep want man 2 days going slow school time ugh actually phone supposed silent chose dumb phone aussieali aww - break heart going flight hell-back cattle class lots screaming kids 5 ate fruit tingles nickynocky yeah got way ginoboi ohi hate getting watch slumdog early wait actual day coming johnpeel haha yeah ad manage hell bloody brilliant crowd turn pathertic ivyclark - ironic 10204 stuck 5 years later course irony lost time find book food books section photo section recipes I happy richiejape expect txt speak txt message levy comes missnixs lol sounds like search unsuccessful yawn time ready school wondering hotter chennai going leave car unattended carrick - wankers break wing mirrors sigh car repairs surprised new eminem song think gone comedy maybe grow oh gosh messy hair think dead spring cleaning today kevin suddenly realized cds suddenly heck gone snow ugh away miss warmth danfairs cheers dan notes developer university 3 hour lunch break sore poor lots sympathy seriously freaked outfuzz margoble miss bonjourvous yeah know feel like world coming makeup hair mother nature hate tummy hurts I falling asleep rainy I exhausted feeling entirely overwhelmed uncomfortable desire swift violent revenge work days tdy school rly boring 631pm hoping 3pm use lapt longer time passes rl fast bradiewebbstack come perth soooooon pleaseee hunting adios tablets find arsed jphni20 thanks - time look sounds like keri hilson - tell truth makes cry shake pins needles hands bonjourvous ands curious watching news bring got better vegas 2 today amp blast weveryone tonight sucks chick talkin trash end watevs yo woken late wasted day asda sons girlfriend going dad hospital later drowned work mandyhowerton aw good dallas thumbsup live austin miss badly jeez today gona longest day bloody history sat tpg disgusts butt cheap miley cyrus says makeup hair mother nature hate tummy hurts I falling asleep rainy I exhausted amazing night tyler work got coffee early birds says busted songs want pick guitar boo broken strings lost tennis round decorating tescos maybe cod4 ffscar start doctors bad timesss ready workout trainer called sai meet tonight thought day wrong inertia09 I day tangledtara ha good idea methinks need proper exercise stop eating sweets dip-dab saturday bah annoyed running fractured sternum probably 2 weeks miss fell race kymhuynh hahaha yeah laughed way end sick going deaf right ear feedback squalls soundchecks earplugs finally broke exercise bike morning urgently need new onehoping pick lunchtime 6315 quid rear wiper arm car including wiper blade cold eeek I looking new job told office closing soo tired got homework sadface squink oh yay means I soon gtgt suffer year gets worse working lee making boooo big mean daddy harrassed cute sweet boy send blue things distract gunna needed revision wish sun come battery mouse broke hate laptop touch paddd 1indienation wish I read way jane austen wanted zombie tale read good ole ink paper best night letterfrack lol suffering tho thank goodness richards makin pancakes galway city later x coming cold help explain poor sleep want licence thinking short easter holidays starting sleep hunny know mushy lol time look nice xx I lost new car smell seangolan job job pirg mean proper fetus tme bud light keg graduations buds oregon going home today says ayaw magload ng pet society haymsad stupid office computer zamon thinking got time work I sure peace quiet work home tame pigeon sleeping bbq outside near doorway house keeps returning everyday want 4ever work mood bradiewebbstack aww porr mr sock wants shower invite hope come xx jessielynne aww sweet wish lived chicago want help bradiewebbstack aww wish talked meemight upset right nipple sore summer philipines tons workno summer 2009 day days gone days come coursework today mileycyrus dude 4 mile run cold ass boston waking sucks mum r beloved children r hungry starving home superfluidstate fired laptop quotfailed connect servicesquot week looks like rolling vista till rc rdfpr msu lost minutes maybe congrats enjoyed wrestlemania home stuck work mornin babes hella pissedhungry op 2h food 9pm feel bad fully dug outta recycle lookin like wats good dastevens I sorry hope feel better soon ready work awww maaaaan beautiful day watch twitchhiker streaming banned work hope records mp4 email askheyshiv cutting grass dad hayfever grandad know mam stop crying occupy mind poor gran goodbye watching buffy sob sad responsible adult aw man know tyra feels slept late run morning abbieleonaox liverpool jealous going london thursdaiii fed stir crazy bought lovely new clothes lst wk got bag bethanjenkins check pman kicking moldova hope people ok mechamorgan save shekels weekend plus tonne work responsibilities ruin wish sleep pyroroux mean robertvrabel oh hope turns alright sound like easy fix black tops wtf miss chai latte expresso house suffered writers block entire day yesterday midnight ideas started hitting havnt sleep 537 oh god zzap mean quotfinallyquot love love long time horrorhannah sounds ace want uni wow feel like crap definately snowing outside mummyofmany petition closes nov - type answer expect going dr anthony todayI sure news great icd gone numerous times xbox360 died stress relief depressing middle moving new apartment ugh cheer eyes burning sashasaliego pesticide trng region said b expensive sf b sf tho way sales training want want learn I afraid aaamyzing hate alabaster mornin twitterlings tired want 2 bed catch earlier train stop making things I tired swimming morning help ache walked town hurts woke I freezing hurts good dreaded assignment woke pile blankets want leave lfctv buy foar I russia hmv itunes sell russia jmcesteves need help transcribe hours interview summer time chainsawchelsea know d bag sets wanted new chelsea dream I seeing cousin canada time today goes sad timesneed cheering mrflibble08 yeah sad times aplusk apparently citizens brunei pay taxes sadly way citizen brunei born find laptop reasonably priced good editing software save months I having trouble partitioning external hard drive way want raining I world funeral sad sarahnicholas poor asked pale pink streaks - came like ronald macdonald - wore hat weeks horrible experience gosh looks like I housebound wee horrible school snow ringworm want chill grrrrr snowing hate cold sure feel like spring rainy day bad trying hair look great -- arrrrrrgh saved file 3 hrs sleep function knees r weak hope good plan tweetdeck crashed think likes vista64 tiredofbeinsexy tweeted forever tried land flip ipathia totally adore cats 2 males female recently lost kitten female disappeared 7wks sleep close eyes work billion ideas moving directions kaustin awe double today thursday damnnn girl got love regal minimum wage pay mileycyrus aww feel woke school hopefully I meet today hah lt3 taids zb stri atpaka beidzs pedsde uff fucking thing 8800mtrs 619 pace harder 22 mile sazzle84 I good honest I waiting phone x long live xbox 360 red ring death finally overcome showered packed hang boys breakfast departure want leave woke 3 hours later intended- joys staying watch basketball game team lost esarakaitis link aneeqah pleasure better come brownie joy going pigging vicariously awake loseitfatboy good yea issue night way overloaded complain saw smoked camera parra wasquick spend time shopping came way westmead parra nice dropped long suffering ipod 5 years original ipod mini gonner sure use blocked work leawoodward possibly - cat slang phrase describe defiant behavior finally home rawr work t-shirt good moment e-mail stop working today wear ians hoodie I tired allergies acting like musical worst girlfriend universe watched digital spy awards diana vickers won stephenhynds - everybody hard getting pay extra effort stuffing gac spbpuk mighty mouseis longer mighty getting strange ohapple - whyyyy finished work dae typing internet kiosk centralworld wait home wed bekibutton tough I virtually picking people shaking penny v stressful work ninja luke sad johngreenaway fantastic hate timesheets forcing rowandaze aw hon extra pixie dust tv husbands rick grimmy freshly squeezed week waaahhh hi guyzzzz mileycyrus awe feel woke school hopefully better rest day amp hope includes meeting lol good mornin every1 talked bout snow amp dreamt snowed lol disapptin woke 2 2 work going lunch mum feel sick want eat bobzilla 18 planted 18 way potatoes think overdone time tell feeling ill today makethingstalk love league lad wigan pretty compulsory forced play union think chem applic tests tomorrow going rape srsly understood time think answer 15 seconds repeating ltenglish pissed cleaning wishing raise rest money needs wedding dress rosskie sure hates othello needs 5 language features effects tomorrow waiting work end wanting wife working 6 days damn tha message work bethanie niiiiiiiiice I shot find blueprints b5 hate waking middle night reason wants sum food got tips sore throat swollen glands lemsip making ill oh boy got field tomorrow small planes fun worrallo lucky gtgt got 705am overslept hour gabrielberlin thanks aka-aki app iphone blocked french operator bouygues telecom works wifi explain jazmine got I elitist disappointing found max headroom cg latex amp foam prosthetic makeup fiberglass suit like jackelope maeny hahah dropped elementary school yous high school graduation german jun6lee harsh nikki right - innocentdrinks coca cola like polar opposites ethical terms innocent like sunny delight m thing know like hand mending banjaxed watch daytime tv fun oh babysitting love springs morning object musicclt3 confuseeed got slight hangover schofe dunno fern deucewt got meet royal oak stylists shows got tonight man I tired sick stress gah need sleep fault mattrs red yucky ordered blue pretty theyr getting blehhhhhhhhh way early feels like puking lot shit catch miraget laundry 7am lame mileycyrus wow early start bed hope tummy feel better soon love aussie fan xxx got zoo work funny m thing know like hand trying sort spazed hair know watch tonight love dancing stars love american idol going watch tales black freighter followed having dentist productive day today find picture 2 fit image thing waiting workall family sleeping fair beforeyoufall ohonefourthree feel like shiiiit frannym101 updating like wrong whuts wrong snow seriously teachers died yesterday gatwick watch bst body 8 hours pdt near far miss robee goes sipalay I watching house need hug kariajay school thought I millionaire 20 retire 21 look today -p godfreyg2da3 yup 5 exams 4 coursework kmftplus pratical nxt mtnh woz ur driving lesson knocked pigeons p way work cuzza sounds good nandos - related nandos increased prices urrrr waking right instead I going bed brain opportunity given wait happens past experiences looking good jessicastrust sorry I run milk jacvanek superpupermegaovermodel sorry idk precisely thank adding myspace p colinlefevre brick tour heeeby jebus I twitter oddly know lil pointless search chametz finished bread meal tomorrow morning angeluserro lol yeah ok think dog scratched eye like actual eye ball blurry right eye hate work today I trying artists block draw got home training ate dinner complete assignment tell spotify ireland luck poxy proxies far clarissa1017 deleting facebook account today hand coursework pack tidy wost work shift work seven shattering brypie wish lol like 12 friend requests rest pure junk miss angiii miss talking love angiii feeling hot today stephenfry thanks quotwhat lovequot stuck head love baby hurt hurt airings mon april 13 asdfasdfasdf want wait long hungry lunch refrigirator home juliemoore bad mood knackered generally feel like shtshould stayed bed goign 2 scholl baghhh -- I tires woke early fell asleep sick having sleeping problems morning dying drink dairy milk white chocolate buttons actually exist ones london eaten cosmopolitanuk tried kschocolat dipping easter eggs best omg horrible oral right oral june belikejoshx hurt like mother fucker stomach ache 4 hours school afternoon sunny hot day beautiful feel bored hates having spots theblondetheory I girl dream got best riches sin samscam think thing - thought cold turned bit nasty hate parents cry kids makes think parents felt 1st time moved geteasypeasy easy peasy better ubuntu-eee 804 end college road trip makes cry sad new kate moss topshop collection gagging summer wearing winter coat ways quotit birthday I cry want toquot I 30 washing dishes boohoo lost proximus online sitemaze e-services myproximus way send email support proximus squatter motorbike insurance darned expensive riding year stretch oztag game I hurting twitter messed night danlesserinc yes gday smiles cold morning april houston orangy68 hope things lost eww snow danraine - sorry hear dreaded dentist stephenfry missed hehe glad home stephen aliipattz looking good friday cheque come today ill speak mum gets x marieluv terrible unfortunately things happen hope friend upset conned like tired room chilling fun 1000 time watchingstill like 5th harry potter movie sad actually love book totally wondering real vanessa hudgens following glory sucks time gett dog wett shity day oh scheisse ashley simpson going melrose place content ignoring existance amp marriage pete grr yuck earliest I awhile fun sonnyshear love husband chimes I stiilll bored find friends hates replaying night head happy love little brother lt3lt3lt3 nathanaelb awww fair big girl big boy sorry bite bum big playa fuck channel 7 iq damn running time getting reunions waking probably worst day mean internet somebody spank feeling crappy overdue assignment completely mucked assignment left late I worthless wordridden know went stood balcony moved houses stephenfry enjoy wandering wish join london wtf snowing april makes school crapier offered 30 old car going trying bit cupcakes goodness sake khaliblache riches boo shall posting speshul item tomorrow raspberry trying spend paypal funds right plus cat need vet week s13eisbaer face d90 sigh day pile exciting research trawl tomorrow argh sounds like standing door chainsaw sleep morning I grumpy waking I tired shubox damn feelin sick slow thoughschool school rehearsal tennis match rehearsal chloechloe completely forgot exams bothered revise peruface hello slow getting going today feel like curling book rest day finalcontext luckily I holiday mo work sleep night regret home work I given going doctorbeing sick 3 times month annoying work boring ipod understand ohio weather aprili run track meet shorts tank tonight going great eurrrghhhh fan lapsang souching tastes like smoking trying hard resist eating kids easter eggs man cheese crab salad sandwich feeling today paulasmith - mp4 version pls available download - c fuck fuck fuck fuck fuck fuck fuck got job want went hpfz page came saying domain expired I amfreaking right robynbobbin today work absolutely bloody terrible ready quits gjarnling woops replied having dumb day guess x level maths hard need help sick bed googled snot understand decided april lodgings skull thought I managed dodge cold going work woke morning feeling like I swallowed cheese grater says hurts wow - great day - sun sun sun work missing thought twooting twitter tooting I disappointed danceoflife hiya slides mean contact photo bw minor crisis replace contacts photos groat feels like getting sore cjoneill hurrah gutters gave coffee miss today regreting decisioin mid-morning - sleep new dads schizdazzle actually self jumped lap try stop school 2 days till break sabret00the uh uh poor paul weather good ole ldn town heading ur way friday kyelko lol bet want work xx townhallsteps1 maybe aa stevengsaunders miss taco bell toooooo way taco bell franchises missleesa sigh need cold country amp florists good bookstore nearby ewwww presentation weather seriously impeded shoe choice today bored think watch dark knight work yay I tired lizzy1e interest ram laptop vista memory hungry bbutton ring fell needa replace soon possible bbutton ring fell needa replace soon possible katieparsons maybe sign listen snot love ya x bad time hooked twilight11 assignments 29th lost voice finds let know super taco walk school I testing today dx mileycyrus come reply little sleep reivanna sorry hear reivanna chronic ones assume timtam year gone verrrrry miss australia getting ready head cousins hair dentist ugh tooth yanked lord help lol flat iron melted glasses found got ripped fraudster bookseller ussigned 1st ed john irving novel arse tell hmm long re-charging sleep nite wif nightmares night medan marcofrissen pine imap slow gmail inbox gets closed time time big hassle going school enjoying day 16 year old kevanthony let hug cold petrilude I worried robert englundhow good loved movie dreams speak night honoring michelle obama fashion icon wearing clothes got pee changing gmornin alldo want work 2day think sick pretty week btw end fed hr1207 tarale yeah internet shaped marthastewart wish tech guy unlock espresso feeling good 2day annelynnn know bad time hooked twilight11 assignments 29th craftjuice thank use url able add individual items wiredvijay work actually working close ugam india moment bad news tolay 30 people tangledtara I actually salivating need sweeties chubb says going curl cup tea book hope feels better soon huh thought hells kitchen ramsay thing guy ramsay ask wht going vt camp chucko away skiing god knows whr jack amp mike r left edibow super hero slimer goast busters bradiewebbstack socks showers mix trusst wet wear anymoreee miserable vampqueen awwww amiefoley yeah jaybranch oh great sagerules wish easy bro srsly finish yummy oatmeal today word sum today- oh wow bloody word asheshwor donot understand going review gadgetshows 5 freeware themdespite fact half poor good morning fellow tweets allot spamers ok I rid cathysavels oh I brother live emilyyoung cold miserable morning workout night morning sucks mariemom today day zero I prepared abmac88 hope mottes performance indication come watched movie feeling sleepy know actually lounge bed I wide awake andycub current contract - damn finished sharis birthday present today morning headache think drink wonderful weather rochester morning - I appreciative minutes safety freedom thought better fray worst day school 2day hate ellen jaime soo horrible arepeejee thanks retweet despite despair buy box jaffa cakes someway making amends bad cold sunoc hahahashe computer said vodafonething work bc remember password stupid yess sun finally noo got work witchescupboard yes unfortunately lot stress I dealing lately baby brought present today dismembered mouse mrmackenzie tried tweet annoying ls installed trial let uninstalled stupid schoool dnt want gooooo rah 3 monthsssss and3 days till spreeng brake xx thievery corporation lemondta turnjt victhompson oh tummy bug hope better soon xx think briefly namhave text reply xx giving ones workand snowing chilling going ready work inabit tho johnpaulfletch know weathers supposed crap week till pay day stimulus package mr rudd yay home early sods doubt work home class dreams discussion unitarians libertarian sitting gigantic anthill loved jesus civil hard find picture white van scenic area great day stay bedcan sleep silkywoven sadly true football definitely better cricket rocmoney ha I planning quotdramatic walk-out speechquot tupac rap nowjust need job got upset stomach found outbuilding houses broken probably 6th 7th time ugh april december snow ground amp -6 outside stuffy nose xxandip missed - vupset katie xx planned miami christina changed mind want stay greece easter believe wrote reason neighbor shot yesterday omg rest peace kelly good morning fellow tweets allot spamers ok I rid am1y9yn nneka useless twitters point like know message people mehh hedj I drunk needed night sounding bit desperate think need curl omg need make-up dressed tidy befor underworld soon rachmccoyle wicked ill ring work amp arrange miss best buddie oh yes wampcs way lt3 I dead despite rumours contrary new job means little online time office loisheilig understandable summer birthday girl school browserd wish stranded near fames says ang tagal naman ng 14 malunis yea getting annoying yay lovely weather outside dudes I pretty happy unlucky time sad sister niece gone away english courseworkher fingers ache nearly time home crew filming jk terrified summat spots rain dwsr melanieleonard want work lol xx going hot blackcurrant cold drink wish luck severe writers block saying radio found fast food high level saturated fat- tell dhughesy twitterers witty f guess I witty ones ask lunchbreakand feel ill today edent quotif actually read send email win prizequot clause sleep yawn got getting ready school love nice weather yesterday allergies started acting 4 year old son like smiths quotbecause man sings funnyquot hospital x-ray damp wear jeans cuz wet wear regular sweat pants look terrible oh amp forgot snack anikainlondon yes thanks I dropped phone screen smashed misswayward ur cakes bb check later createsean lot swearing got home school long day school today getting ready 2nd day faith-based neighborhood partnerships - happy ok visit - braums time poshtotty nymphomaniac boredwife live nearwork lovely ladies like thecoveted oooh love earrings mind ask craft store went unfortunately lying bed banging headache brian wenzel premature ejaculation ads making ill stazjia true lo behold happened wants twistori screensaver desktop want sleep cold need paddington bear duffel coat wait stuck traffic tomorrow going manila meeting y2kprawn good luck sligo raining bad nice sunny morning kl tomorrow - looking forward 5am start preparing quotes day tiring job missed music monday wake exhausted cracking workugghh bored headache runny nose cold body covered 2 thick blankets amp cup cordial horrible combo sexylexy54321 want look like clown lol yellow time breakfast alcohol deadlines hurt ankle working morning I lost 18 lbs amp I gaining muscle hot30 listening play half new greenday song amp totally crushed little heart lt3 course 407am work early tomorrow sleep great pc fixed cs4 installed wireless adapter work buy new 432 views takers jonathanrknighti saw columbus oh 44tried 2 2 cincinnati oh 627 sold guy great lost nintendo ds srrrah417 snow hate cleaning hard watch italian earthquake stuff old buildings gonehope aftershocks stop soon meant lunching colleages meeting I idea tell today attempting write dissertation dull especially sun shining outside xxxx ilovedricoll ohhh stupid argh ok love unfortunately missed getting photo zq zarina gen amp jess got sophieclaeys like realise itunes credit thinks trouble downloads stuff missed important parties highschool life grrr hate school thank god easter holidays homework damn blasted colds hate waking early managed fracture vertebrae yeh hurts bit think sprained pinky night swollen hurting aww man browserd want know wants hat sitting school library passing time till home sucks start like job boss followers islandpete island available easter hoped easter present players missing portuguese sun squashing bugs left right good thing legs oh man I resorting developer-geek jokes sorry trying sleep feel tired I hungry working going snmp trap logs2 hours I heredid study honeybeess girl thesis thesis feels bit rough today soooo wait long weekend lindsayevans thanks link penguin audiobooks allow sale outside search result foxiehaha heard today morning run cold-arsed boston going eat milk cookies going sleep zzzzzzzz nite long day tomorrow starts 3hrs yikes work today dastevens - yikes stay bed forget weather hope feeling better poor wished zune mac liking use windows interacting player tonight staying dads 9on computer hate v plotarc true blood poor chubby vampire guy getting staked sad hating weather brng winter gear stuck traffic going home tank s nearly raining new umbrella ugh big migrane morning ok I bed ravogd spider covered I round slight phobia suzimuppet sorry wish employers decency let ppl know way trying lizsong amyseeley sounds like day new let cross fingers snowing spike1506 lol know printenbaby darling miss watch jurassic park got job know xd weather getting cooler goodbye summer getting new bed today yay wait sleep level got bunch stuff way delivery guys going clean car apparently guna rain poshtotty flashing knickers amp buffing car boobs whilst I cleaning worst combination 2 cups coffee vitamin pill cereal milk upset strong barely slept night I going try sleep miss muchh I awake finally want b tho xx flo dog hair cut bald eolai tea lovely - accidentally bags blocking dogs hole involves lots brambles schofe fern going soon miss banter sickk class essay tomorrow day school thurs woooohhh getting ready work snowing april I run marissatree - ooohh envy right salocinten problem believe red sox opening game conflicts prevent going rescheduled game exmi sorry hear find dog hospital getting friend ill sofa feeling sorry tedi31 autorefresh think past 48 hours joe tweeted id road check home todaynot having good time 2 cases cluster headaches morning fb going makke boling today got money saw bunch dead pigeons grass horrid mixture sadness disgust plan watching fast furious later work work I tired went bed early exploring world twitter going town bit want mmauran ahh know I escaping dnt know undefinable thingie dsnt hv hv definition - shit ball come rickey smiley okay miss big phat morning dreading school today tomorrow I going sooo trouble days fingers ache feel like arthritis majestic76 hour check jon twittered major headache fr disruptive sleep pattern rattie sick pneumonia n tumor I run n depressed n havin fibro day chaddah stiff omg raining happy laptop decided delete music lot trouble sleeping night went bed early sleep extra hour grr sonaljhuj yes maybe half subscribers left - samiontwit pissed hungry eat google love having utmost difficulties sorting accounts I sure fault letting know ashleeadams left phone work sad hope hey sit swing revision later want holiday gemsmaquillage myn today turn hope 2moz x having sort mind blank oops stop calculated tennesse emmabush mention stale peeps marinasg know mar saw updates understand changing miss cristbal renata alysson lucas mohamed oh wish friends almost-not-boyfriend everyday lisiepeasie I supposed falls love cute french ladies wonders kristinabitch believe going gone 24 hours I going miss going grab heroes tomorrow bloody poptarts co-op hate random cravings ugh school pleaseeeee lt3 neglected twitter late I sorry twitter snifs fudgecrumpet day twiter work o2 vodaphone zanna85 like day sickhalf price sushi kumo agree holyschmoke aw remind love time year cos rugby means end season nigh lumberyard thinks numbing getting worse fillings worse remember want 7 easter eggs xx I pretty sure small coldugh baby germs starting short lunch break short paper far planned time day waiting cold lonely student room booo iamjonathancook fun tonight wish gooooo weirdchina hope realize website blocked china live wuhan proxy site jep - good fin morning springtime ass global warming suck mileycyrus aww chin hun cbi congress bureau investigation ita big red question mark capability indian judiciary system lumiquest softbox iii arrived batteries sb-800 dead thinks rented wheelman office today - going busy day things eating kids easter eggs oh dear power cat died january- best friends oh forgot mention voice miafreedman I loving harem pants moment seriously ones crutch knee ewwww soo bored want fun thandis gay thing day ollyog jealous okay job hunting believe small gaming comp told qualified experience gtlt real ninnies saracens losing andy farrell retirement bad dayy gutted mac myth lipstick broke 1 use jodiewankenobie oh yer btw direct messaged good news I afraid degrafik thing learnt sinusitis pain nose stop following particular celeb ruining liking yea calgary won night poor montreal lost ottawa kristinabitch believe going gone 24 hours I going miss I feeling ecstatic met james matthews josh wilkinson got james towel xd maan ears ringing throat hurts invokedprojects kennymeyers post playcode victor previously banned mileycyrus god blizzard ladytwitster ugh todays going bad great started rain tired crying abiban ohnoes bansal trainer calls sport thatswhack74 aww thank want stop fu headache cold hell come wrong times bahah days birthday I shittest mood d beware seb 28th april nathaniel3 I bitch feel guilty hate arms sore moving fixtures far going today wait today brings guess yucky day omg slept 2 hours sucks I school 530 memorize french oral study exams early work till 630pm bleh late work wondering smells best friends world leave woke need sleep funeral 12 got s2bx little sick wants stay home today britta04 nawww love like yeah got find way okay buttercup cheer andreaspace snow chicken sarnies makes sick oh ill heinz big soup later jquery bringing going dig stumps yesterday snowed month 50 degree temps 30s snow nineblackalps yeah looking day yesterday need work eyeliner feel naked leaving flat shops mum text boyfriend miss I working nice work want wake 5am work cool cottoncandizzle ur right wish nyc los angeles las vegas awww lt3 okay wow apparently bus went walk like miles school work managed new emails inbox bored wait 3 hours start getting ready internet painfully slow hurts cold morning 40 degress today I wearing 3 layers shaking brrrr 15 min nap desk din help sausagesmcgee sorry hear cat died shit miss immensely uk ailsabrown lol 4 episodes season shame processing pics fun actually taking woken finally got sleep night couch watching tree hill eating cheese crackers plastikgyrl gah course huge mess darnell hmm nogo canada pretty restricted tv watch online copyright laws taling train sigh wishes talking joey right hes able cheer lately poidge ul man mubix care implications information frankly care sec lives stake I trying today probably flu mtg adviser career fair chem quiz amp group mtg wow certainly lot magazines closing booked dentist appointment joy ugh finish cs turned able better distractions lol hope die meet prince seriously sad corpse allaboutenergy happen song collection buy usa ladytwitster managed morning bit depressing mikeboyd hope caffine replacement area tracyr evil prawn salad kristenkreuk hey kristen thought ur work smallville awesome havnt seen sf released aus new projects coming woke upits cloudy virgin islands days til seattle headbigg mad marathon gears 2 sessions xbox lol rrod night scrumptious1 haha know missed series premier greek sannewielenga wantneed ugh wish da script easier remove people devwatch ballache noooooo orioles beat yankees 10-5 need bmore derek jeter foxiehaha wish going blood test tomorrow unfortunatly tweetdeck died need find reliable twitter platform ideas tinkissarah fun cleaning bungalow picture check cell phone approved check figure followers lonely way cold morning want bed library working yep guessed filiocht bhil essay feel banished awful place forever rach210 mhmm coles deli hear getting feral brown shirts soon indetad lovely blue frostee sweetheart russia think stuck snow sun dner great lunch break project time upcoming meeting masterplan - sounds important quotstuff face fruit morningquot diet severely thwarted fact fruit lunch grinding stone wish kknk mileycyrus good luck wish thereee woke god feel lazy shower time 2 bank work 11 pic darn thing flew close shots like quotbirds bloomsquot today shit ate mouldy roll booze talk making miss lot hate dual carriageway roundabouts going works later quot70quot sessionbloody boring probably I tostill nowand rubbish skin louizah watched repeat zain challengesmart kids feel blonde day amp time air tz school disttict track meet want wait 45 minutes bus home need car bad twitterberry work wondering find ep old harrys game r4 website redesign pretty helping atm wish day 26 today hate suite 98 tease 20 yofs ugh beckamcmaster general cleaning dull wants ring lol kidding I hunting zombies witches y wicked mentioned morning - heard way upstairs - alexia khadime coming kerry leaving nicentidy sod rats squirrels round way lairosiel oh hope ok I starting fed like realise come aah freshly showered shaved wish outside sun stuck laptop working seishinseii tell hate stupid stickers aas definitely working need hangover cure garkbit idea thing works - id recalculated 10th place paulfisher sent e-mail sure working received day I unpopular chocolate milk feel sad updating pointless times chronandecho sports editor got mertmat guess quotnoquot mileycyrus goood luck today g m love state charliewalduck budget ireland having working home day - got lingering cold bugs leave late work feeling like poo ew hate lotion sleep roommates turn heater slept 30 min day ahead jemcam thursday russbaker working hang easter plans dunno lickmycupcakes oh poor puppy wrong hate sick damn cold I obssesing weight gah stop thinking lbs I gained making upset retardedbut figured replies heremy twitter game point misses student days days sitting book n getting offtheceiling tired think petsmart liiiied chrispople food week hollowlegs seen donniewahlberg think power mtldo loose loose forever davidlink awesome speaking wordcampnola wish lived closer trying talk excited long day work morticia626 got chastised kitty punting yesterday making imagestoobigforflickr realize 20mbfile limit applied pro accounts phoenix165 happens trickily worded proposition hands electorate elected need voice siiiiiiick server lemme youtube sigh yt break whileidk found bloody iplayer tho hate thing passion nighters whatsupp long day ahead think voice returning head pounding friday woke insane headache morning spent 52 paying bills today goodbye money fun lasted bah found win pitch client felt team click sayin cool sad uploaded pix - april 7th huh fooled new interview wolframalpha amin2l insanely cool wait launch wolframalpha search semantic-web believe snowing cold spring edsaint awwwwwwwow I girl ughhh schoool sooooon I holding breath lt3 tila love muchthank everythingyou amazingxox starbucks need coffee school great shower class dentist mouth numb shitty fucking fillings I bored plus pain arm weak hurting hospital work work work hate weekdays hurts got goin crawl duvet hide gahhh sick nyc lost ipod working ah sweet sound chaos school holidays wish fit work day let wifey deal thisalas enjoying rammed post office experience mitchgdodge told wanted extra ticket sunday missed hella fun soexactly 35 degrees 70 sunday cuz I cincinnati ahkai 1 death 1 miscarried n 1 critical condition v grave revsion classes bore hollykins83 oh hope bad kiss better friend requests inhale exhale bigste78 wish o2 better deals iphone malteaster choccy bunny today jwbrown83 bk tonistack telfer etc etc fucking bunch wangs stroughtonsmith fuck hold weekend school realised gutted return london end wants snow patrol live like months ago 3 weeks ahh wait I simonwheatley background cafe bookshop didsbury effect colour sorting realising 6 orange penguins goodnightlt3 sleeping shirti smell like man lol wait like 9 hours wrong sun shinning light room haha raining cold windy lol yep got 2 hours sleep davidlaing saw wish virgin excited packing putting elses place arrived home wet mean totally wet life gone flat crap feeling good today mesirii ad-hoc meeting spontaneously turned code camp tommcfly coming play plymouth year cus ucap tour cus coming near oxo sweden like mystic myre land living alas head work seriouslyif stayed 1 hour tweeted boss blah sick going school today pinktowerlady good luck start testing todayno peace til friday bramstadhouders easier feel connected mutual pain closer general level consciousness people I hungry mommy hereeeee wants watch primeval find right time ill sucks having good day today 930pm asked teacher speak project said noo happy spewed sarahstewart better excuse quotmy parrot ate headsetquot literally - 2 40 mins - blew 160 sob oh snap bars liquor stores open statutory holidays easter stupid retarded laws woke 430ish wet changed tryn sleepnot lookin good tho said drunken singing shopping time plans party way doctors apts spring dear pidgin development team notify irc client read gone wzzmypantz 12 hours 3 assessments tomorrow macbook air arrived wait till 4 till father retturns haha followers followees find list songs band blipfm search song title individually - listening new eminem tracksame formula - funny track track track killing end boring humanpincushion oh snap bars liquor stores open statutory holidays easter stupid retarded laws I trapped fat old body choice pytweet nahhhhtell y jj fad quotsupersonicquot came morning got sad ijustine big lost fan missed pfortaleza long rain wind coming ok op 3 weeks biopsy willieday26 wish yall tonight live lansing way entering contest sigh heading hell need vacation badly I 32 16 afford finally track studio lost cubase dongle miami achieved time rethink plans day neck pain helping matters sunny weekend woke ice snow morning heading workkk sad recommend air filter cigarette smoke neighbors smoke heavily amp sons asthma gotten worse needs steroids result tomorrow oh nooooo morning exit interview got moved wed today focus prepping ipod lesson updating amp syncing 30 ipods tiffanymariex3 bed perks unemployment yes apparently twitterberry updates come goood morning sheffield fuck text morning kfc 3 mcds 2 days healthy dentist snowing - hope roads okay stopped grocery store work picked salad wings won night sad msu tomfelton playing west end busy seeing equus catch closed blame dan snowing april ugh hate pittsburgh miss la spring time followers luk3y I find mystic dream laptop charger broken - little cricket set home inside overnight typical worst possible time thinking fun missed weekend work daibarnes I looked list redd205 sure amp I responsible mom random men bed use imagination -d nt far want c boat rocked come nd I nt travelling 2 canterbury ugh wish redo sleeping patterns messed getting sleep sunday night slept 4 hrs yest pool actually closed swim good thing biked ran morningeven busted foot getting grind wish boarding tahoe mileycyrus man sounds like rough night I sorry hope ya sleep soon queing seat colossus paid 9 pounds 3 jump 2 hour queue mood work today bring day tomorrow shake blues away boo getting puppy anymore mum mauled shame tbh snow april depressing moderateorgood long planning live life expectancy lewisham low having car sucks bad week car taken away I tidying room school holidays boring got denied sexual contact disney movie rock pleased got dog vet heart surgery duunw use thing feels ill airport soooo cold walk soooo long mistydavies nope remember upgraded book built-in camera camerano isight morning followers finally changed twitter nameonly day originally said haha film today try tomorrow easy fly bos slc phoenix165 california happens trickily worded proposition hands electorate elected sarahlouisex fell asleep early night shower I wearing sweats glasses feel like shit want home iamcheerbear hurt hate mayyyyy lost ring bennygreenberg beginning wind picks worst possible moments freeze heard atampt selling mini laptops 50 bucks got excited learned special atlantaphilly xxmaria ugh sux2bus I prepaid accessing net bloody expensive amp pretty sure txt updates cost fair bit killing trees mean downloading important educational research long day today friend broke promises gjarnling fine thanks - tired trying eyes opendamn baking hell snowing loulouk gisburn great nice little single track try new bits orange juice toothpaste mouth combo hating watching house kill wait episode time want sitting car waiting mum come home I locked zampeachie farscale answer studied hours exam I pretty sure fucked home wch 830am morning awake 4 2nd born night happy camper wch tired needs tlc jemcam hey I finished homework b tired cheechbud aww beautiful sad way true riddle answer romeo juliet fish broken glass water fishbowl breaking early morning flights sooo tired know find play playing violin mozart sonate lol dfvsion poor msu feel bad taco bell sounds freaking good right thanks quidnunc yeah got 4-5 cm snow newmarket yesterday - following ugh studying today need study placestudy buddy lovely fuck leaving cert disappointed missing music video lead role new york wants badly overtime work purplehoodie bad break drop mobile fair bit missbb83 I reading news getting worse terrible india feels good resumed office caught cold excel 2003 handle 7 nested statements pics wanted post room drum kitits proven impossible bedroom light blew soo tired sigh grumpy ones bestest friend msu fansif thing ohio state fan relate losing national championshipfeel loss charlottesk feel better pally oh find I sad rxrrazorblade poor finished work day schoolworkouthomehomework way jealous lauren going audio tonight whitsundays great time year eat diet wants play 345 morning crazy old lady downstairs music turn uggg got sucked movie night paying tiredness long work day hard possibly pet face miss hair labs early want sleep cjmgrafx guess sorry takes finnie vet later today lost weight worried mholles reading moon women fall asleep late work worked time work I tired ashfoo ughhhh hate jk lt3 got sleep hours work shit think sprained ankle going 16km napfa run tomorrow damn ravioli burned tongue stuck disadvantages working guess need personal ass-kicker joner quotapril snow showers kill flowersquot programming homework making late work sun given terrible headache nichbuick possible I afraid happen set replaced warranty lt2000 miles year sunny days rain coming walk baby wish home time sleep husband went work domcisme consider removing studio mac pro tommorow sniff ang lm g nh sao ko thy tr li mnh missed breakfast supposed snow 3 6 inches today april january hurm way feeling days nights think conficker tried playing opossum work binxy thanks started sniffling like crazy gym today boohoo lots vitamin c trick mrskemp sounds like sledgehammer approach management sympathy kalpenn omg believe happened weeks house cold awake oh good morning slipandstumble hope goes aright andrevr yes sadly family commitment forever ago wish install japanese input windows 7 beta need food lunch chores boring argh feeling today new look social site canceled car got broken night feeling violated jury service bust got serve trial goddamn guilty pleas mean 2 weeks work cut short want cry I damn frustrated breathe nose sleep restno getting better absolutely sick riding bus sick school sick living far church attitude ripley missing sarah aaa migraine poo k time school slept buaaa hate tuesdays 8-8 proper shitty mood schoolll sleeeppp finished crying eyes parenting preteen hard enjoyed playing golf yesterday sun reaching paracetomol badminton session soooooooooo uni work oliverhudson thin end wedge sheamus chance switch bitly tiny url read links work bitly gets stopped malicious tomfelton omg sounds amazing live way bangkok chance shows like enjoy messed bexiclepop sorry hun sure time atm meet hammersmith tho staying london x ryan talking ex-gf miscarrying makes sad like 20something ambition dodgy gtgt nishafoo miss def taking northface thought retirement mcprusa lives hearts goodbye puerto rico ill head reason unable sleep going gulf shores fun work went doc today told things worse expected need meds drugstore - heavy stuff going hit sack massive day uni hayfever attack looks like I got flixonase watched weeks episode house oh god - sad cry friends wedding tomorrow venue far away place accessible mmts week holidays lot work answer emails create changelogs etc pleasure work ufff theyre offline moldavian friends blonde throws grenade pull pin throw hahahaha need good joke airbush thanks guru links sign page dream people follow follow mehe went prom work silverstein stuff lame like postman knob snowing wish stick amazingphoebe guess I hell fucked nights regardless guess strangely addicted great british menu need woooork ugh school hate coming early sitting locker school papers finished ma pasta got homework nowgrrr came homedrained having lunch amp watching women mother throat hurts sooo bad want uk store goin work night watched depressing episode house anywho I sooo tired speaking french 247 ick got delicious library license key scanning barcodes burts bees beeswax lipbalm fail think unsavory things I life guilt comes waking kid schoolseems soooo cruel humm support remote cvs history opengrok 07 guest wait 08 quii jealous java programmer -gt heychinaski omygosh lupus rash face awful morning look like monster let hit showers tweetscan stinking place oh wait- wishes things easier mornin twitterlings tired want 2 bed catch earlier train want long hair lickmycupcakes sad animals unhappy dog mastered reproachful-you are-breaking-my-heart puppy look monikamundell twitter taking email time moment firefly2020 win 5 horses came outside 5 jealous people tweeting meeting amber benson supernovaking comics signing hope perth supanova gets stars chest pain hockey training tmr c gng lt ngi dy april snow coke shocker baahh snow gross want followers celebrities challenge working stay etch shop stay etch shop stay etch shop stay etch shop dammit chandarenee yoyo hope seen yall minute wife called 2yr old phone woke wanted daddy looks like mcg lost r-rating battle terminator salvation watered terminator movie kristylee04 yeah actually try gangsta feel like suit moment fail miserably dang hoped xcake debut soon thursday evening picked new glasses yesterday woke morning thought got prescription horribly wrong snowing cramps crappy innocentdrinks prob hope coke deal end innocence hot frankfurt thatculliverkid thought cared shirohiro mama bear miss yay won debate I tired bored I weird I bored dkingh glad like want hahaha time asiasadeazante hey mama studio woke mid nite glinner awwh feel dirty having followed amateur armando damn fakes pholloway hrm yes noticed probably best ring night btw irfan160 I tired close buying macbook wand003 sad day endemol ebeth installed talked tweetdeck hubby geek stuff house little bemused later friends better work thinking actually going revise gcses soon unfortunately sabrinatan gorgeous told foundation discontinued yes getting recalled april 14 xox sophiamar espero que estejas bem need lady kiss miss mum seen week wait week called miss day officially sucks bad mood stuff like hate sex week think nickdarcy got raw deal champion leaves pool repliesmentions playing twitterverse ignoring sportsgirlsplay coach forced retirement good years ago injury coach sitting home wishing kenyan teenage girls seek solace cow drugs induce abortion I sick living apartment myselfi miss home slept long night head aches hopes toothache arghhh spent yesterday dps wmb found booked 1 page - start I scared outsideits cold today bad away winter clothes gahhh twitter app fails work wake night muffin came bed I way earlier want photo got marjs multiply awww ill miss masci emzypurry sure I grab book 3 writing style kind simple happens birthday soons bedtimee I tomorrow stopit music having bad day sadly boarding today picked bug djabsolutevalue means work sat sun took twitter away dragging work study want booooooring wants g1 prada 2 contract boobs hurt hollyalyxfinch oh holly notice morons - think wonderful talented home poorly foot I sleepy head aches throat hurts want home jameshancox great idea invited queen vic market fridaythen realised good friday closed hoping puppy gets better doggie er night study study study never-ending tests time pennylane316 yeah know touring usa soon week philly vomit urgh betahaus website url twitter profile took find miss baby r awake time poke ur patients going starbucks school period french zut je na pas fait mes devoirs francais yasmin64 supposed getting tesco states area like superstar use ustreamtv broadcast ignitecardiff live apparently imac heavy carry find phone dead lunch disappointing cases like sandra cantu break heart reason I uber protective girls happy bunny so-called friends gone ruined chances project fantastic home loan fixed rubbing hands interest rate cut new job knows birthday sadly big cookie future untwitter quottrash-binquot solution work tweet indexes propagated disappears personal list januaryeme sorry lossanother thing common kikitalinda awww 300 d oh gosh know going nick jealous friends iphones I I celticgirl1913 I sorry hopefully better nichollemonique true baby boo true need charge coz bb deserve yellow red bars early school 650 ugh woke upp cheese toast yummmm want wear spongebob teeshirt find friday ps8612 missed end love money chrisinboston baston sucks dude sending happy thoughts way bradiewebbstack ew meatloaf piewow said like 2 hours ago omg soon logged got typical mr twitter r send direct messages anymore I sick little dudes mucinex commerials throwing party chest pet society working cried blair got expelled poooooor blair okay going yale okay stuck home watch way border patrol programswatching new zeland hell maf ahh food class hdd dvd died picked new topfield tf71000hdpvrt wifes permission course good morning wish nicer outside boston spring going school 40min know people lack spelling ability looked couple posts messed word purplesparkle taking breakers getting ready school tooo early got home taking lynsey airport cold snowing hear think said high today 20s hate student teacher mrs rolls 23graeme23 - unproductive morning mamamusings thanks link time ordered glasses sitting office colleagues abandoned cold matt231 understand date sound wrong miss cuz tompierce gaaah monty streaming head thought kicked habit helenszone unfortunately non-nkotb section I trying figure spin-off tessaschraven sure work fly west want harleynk nks play idayus away phone bent rexnebula congratulations I glad job went snackingperhaps quality snacking roseformyrose oh feeling today time tweet 24hours ago thatswhack74 hsm3 premiered day premiere time happened sickk feel like dying I going loveyou eye hurts kusasi sure phone check weekend think hmmm twitter sent phone night posted coren42 erf listen work tanmcg come flashlight amnewsboy I love I work world sucks ergh feel like crapI sorry looked cafe tooting common baseblack suggestion ended wrong want saw 5 mhhhh dont available germany work soon duncn stormy-ness moved suppose better post slack latley I craving long weekend I superrr tired morning want breakfast schofe darn missed twitter man online watch phil deal I bord wish friends went busy baashed head sum iron railings wish jkt shaaynas birthday thursday brain hurts talking digitisation complicated willieday26 singin song lmao smh soooo embarassing cold snow ground hope enjoy d find sport shoes ready open-air running 2009 having hard time concentrating cat got amp missing day literally scaredy cat plus cold tear quotgran torinoquot vintage clint eastwood stable movies getting ready meetingyeah lovely spring ohio - snowing accumulation expected supposed start warming tomorrow thank goodness opera house star trek world premirebut missed school erbs bring pack poster board cake project turn silverwind aw sucks karimjebari thanks concern physical harm enjoy malatang found wallet forever gone xantiriad fingers crossed xan horrid news lovely chat thursday island guy today haaaanging palm treesand frangipaniand dugong boring dinner hate stuck house wanting nice food having sulky mood coming I bored sunny tell going rain reila woke 330am gone bed asleep seen little big planet 1199 spent 3899 woke find snow scrape car 30 degrees miss fl disney family bad fruittree101 know poor thing scared huge things coming accidentaly overslept drive morningstare sun 5 page paper start finish hour oh joy cant find dear friend need tweet help people 1pm exams suck javastix halfway quota thousand splendid sunsquot thinks brilliant sad snowingno needs said urgh - look outside - winter wonderland trip castle turned 60 mile round trip kids sick car wishing brought chocolaty treats work snow makes sad spent night waking 30 seconds nervous registration damn broke wooden writing pad usually uses sketching writing bed relaxing chair drink exploded bag jutecht btwloved baseball postthis definitely best time yearwas disappointed red sox opener rained time week paris dc tomorrow m nt prepared cold ugh wait day baby work 5 close today come visit housemaidoh hate s guess alzheimers know wishing work preferably bed sleeping locked outlook account 3rd time 3 days way skool late hell nd dnt feel gud sims work laptop whyyyyy help right away start school work snooze xx violence bloodbath landgericht landshut germany longer safe hoodrichjesse I excited yearly holy week trip beach know havnt played 360 week find time home sydney bring doughnuts seanmalarkey evening india right studying exams rockergirl75 eeek want read later I later wait having dreams right wake slingplayer iphone released kids bus stop ready work - eggies sister parents I sure I going miss going school mikafonacier I seriously devastated hell yes hahaha x good morning world early work hanleys grand slam gave nice day fantasy baseballtoo bad came nats hate salary gets cut 10 cancel vacation camp meeting miss leonard sweet speak jeni86 tuesday gorgeous reached mid week think life horrible jeszlee wrong martin sam going soccer year run laundry got work tonite smart start 24 chipped tooth trying website completed long days hope okay snow covered morning april depressing php playing showform come work little forgot celery adambrody marshmallow gun think ireland start studying course biology got favourite brie cranberry ciabatta forgot toasted damn glad pc stopped randomly crashing conducive work - night suckedthe tigers loss msu lost atleast red wings won liked kutner house watching wall come protecting bad rigeurs daily grind izzy4u thanks dear tremors today I ok poor people laquila difficulty hello tweetershave latelytoo busy hope ew snow school today way home work got rest work tonight 356 poorly car better oh worse things happen - got odd jobs meeee lol x want come home work I sick -- legs hurt got dressed amd work today model nude tuesthurs nite 7th union cc bradiewebbstack omg stalker I having 1 sided convo myselfthrough ur twitter bradiekins lt-- haha thinking italy sorry I sore days getting swing things work wishing home girls redoilcan sorry tonite I ironing hoovering dusting missfarrah nice r pretty young lady I loser thoquotholding l like thatquot lol 1 hr left workthen spending rest day sick lil girl tired energy cold standinginalley every1s wrkin sick new spending plan looks practical intelligence irregular warfare terrorism jobs lost sl05ned hey bad lol gtlt I writing notes notes notes referring dunno work yay going plastic thursday marciachaney got 78 yesterdaytied record today warmaround 75 feels like summer long headed sfo early flight san diego homesick sniff sniff bhargavkapadia remember college private connection block good glorious sunny day I got headache wants developer support engineer want study today want pack bags leave worse roselyn ooouch tracyr cilla fell stage dancing aitken drum 6th grade 1st year ok 1st year second year mmm 2nd ohmieffingawd I old ah munna miss internet thatswhack74 happened twilight happen new moon thehoosiersuk - losing count ill guess 176 xx malvim funny true com mtoooo friooooo prepping moot court interviews nervous tamsul oh man hard phone contact cjevans like sunshine washing drying trying boys occupied want slob pyjamas play halo train day 2 2 coffee today wish eddie davenport got work 12 hour agowishing bed says aww maintenance ang pet society lost emails impressed tylertorment messed possibly block sling box service atampt going offer use flock accounts amp services info sidebar disappeared know recover help flock royal bank scotland making tonnes techie redundancies competition glorious sunny day I stuck work radio want work morning quiet nicholasmancini wish twitter nixed animation grandfathered 4 social isolation alters neuroinflammatory response causing il-6 levels rise stroke patientsit hurts beach ana claudia feel crippled today barely shoulder neck oh expense report time 4 cm receipts bletchleypark visiting weekend computer musuem open saturday time came closed cscisu probably explains like hate fruity pebbles macknick yes tweet lot wonder respond delete facebook account chantelyo chantelllll I going cry piginthepoke stuff finishing night late bed curry sauce mushy peas going work ughh moms making cook dinner im middle nick norahs infinite playlist ouch bit mouth starving looks appealing fridge watchin candy girlswhy b videosucks dey mainly use american girls ugh school hate early kamikazekitten long gone hope comes home soon like knows I life twitter supposed talk normal conversation jury duty postcard - fly calgary procrastinator perfectionist terrible combination university nickycole30 feel ya nicky-cole feel sick hell week going way way wait share drowninginkids crap okay okay clearly love canadians forgot schmutzie amp palinode mass enslavement hard baby boy crying left hurts heart tea cold hear sxephils father sad poor philyd day work 5 clock guess I got davidjoergensen want phone colleagues hope think vemsteroo patch frog-blood garage feel guilty I stopped crying lol I killed day 2 wisdom teeth pain end tennyid ha falling 5am mformarie causing lot trouble end meant quotrlyquot quotflyquot tweet brrrr heading work chilly today dwsmillionthhug facetime huh sore throat love bowl grandmas matzo bowl soup right morning twitterverse condolences spartan fans nite epic event setting remote dial office planned feeling morning sure came office wrecked shoes walking snoww writing bachlorthesis gt developing bachlor crisis getting ready rough work katier excuse bullied katephelan mr nimoy attend screening afaik jillianne ow believe snowing beuh mon twitter gadget bug sharkeymalarkey oh shawkey commented quotmyfacequot I sorry I send big envelope healing glitter alchops - going worse days getting shorter shorter joanneskywalker depressing teases working fine try save people created hell ahh feel like death throat hurts thecrochetkid I poor I sick bunch tests doctors today think lyme I excited stuck bed day yesterday savage migraines absolute torture similar workingggggggg ughhh phone let twitter hate college right nowgamerdan xbox360 5910 hope disagree week game missed night watched cannibal holocaust night screwed dreams movie squeamish kill real turtle hope having spring weather snowing tc right sittin glooking window work amp raining wish sunny exotic fakecedric oh hunny use appliances kitchen love cook bake eat snowing stupid daylight savings endingcold weather I exhausted scaree ones sent kiss lozxx dropped table yesterday krew got coffee I help wish benevolent god smile work hour guessin dismissed internet updates brilliant weekend coloba inbetween bringing home monkey know networks italy getting replies friends dhughesy unfortunately pass colouring section waiting wanting people 2 follow stuck lite 10 mins late class death toll mondays earthquake italy 207 happy snow today pain pain away carpool cold spring kaymurphy love answers mind hi loaded class tests blahsick flu mrlondoner meh expected guess mistake posted 91 golf sale night I getting fair interest going sad eb0204 emily wth sleep lol hey miss guys dougrea tell spring break week ugh woke headache interesting bad dreams stacia workin election driving round checking judges eqip sick fun healthy delighted snow days ago sent winter coat hat gloves uggs etc home parents fb I wearing black socks haha pretty random I bored tired nigel audio coolcat214 awwwwwwwwwww poor baby sick I sorry mi amor okay frenchycakescxc I london july closer paris lolbut close edddeduck distributor system justins entirely wash hands idea man I tired funny needwant sleep eyes want close need claudia ttimewithty ok band bad club ughhhhh snowing spring tease I pretty sure shoes melted feet charlie horse middle night terrible dreams sick nikkiwoods aww 4 whoa need 2 nikki recruit drive-top shelf selfish 1s need apply ew snow anywho I getting ready co op butno brandon today sick I coming home today d send lovelt3 eat callipo ice lolly eating lunch feel sick hungry sarnie grahambeale hi mate actually land un-well hope big send rootvet unfortunately featured seller status offers preferred placement user uploads sick sucks especailly like 4th time winterok spring know backed car 2 bags recycleables clean mess freezing rain bad start yaawwwwwning office need free music web-site listen work blocked playlistcom meant getting ready sophie half past got dressed xd headache oh better rush lt3 empiremagazine following probs want followed lonely lol want tattoo got cash right nowso gd ideas head afford needle skin ugh head margaritas monday wit arsenal game ellecmcg omg recap sorry crazy day laura oh look snow outside away amp eyes close tired perezhilton sucks hairy donkey balls knowing hit x dream finish rendering woke shaking apple juice watching snow fall snow watching extras disk quotstar wreckquot - items menus yawwwwwwning office hours 1500 words lucy happily reparked brain composed largely mush beginning freak thursday tuesday hurting eat chunky monkey ice cream tired walk campus class 9-12 schedule test hour dgmmk - rolled twitter seriously fucked night allergies kicked runny nose itchy eyes wait weeks morning tweeties cool windysnow ground daymore expected 2 days trying chipper pennydog breakers offered 50 docs come collect later rubbish lunch want sleep think I upstairs washing mountain away wish tour manager sort travel stuff pay sucks savings slap pops negative gravity causing fall oscar getting ready neutered day office feel cold coming raw vegan indiscretion way feel good lauraechilds ohhhh sad know need talk atleast aday dbferguson happy birthday sorry work today jobs today mood apply want home great toasted crumpet forgot cold letter infront know wats stuff 2 wid trey songz wnt 2 open bt working toledo gahh early messed setting alarm night slept time study testhope able wing pass find bleeding chanel necklace --lasercut like exist anymore got paid fuck wants kill lostprophets peace world I life feel good kalpenn shock I going miss brain hurting - 5 hours english coursework xmichelerocksx awh yea emailed lol squink new cap shaken long time spraying lots catch wet bits nozzle spit slightlyit life ha altnet podcast altnet sigh sick sucks especailly like 4th time winterok spring know willcarling pickle toasted sandwich sure like inviting chernobyl mouth new satc movie coming 2010 oz gets premier cast set fabulous londonyay good morningi got asian bangs love themi think 8 morningenough said davtoole bring watch film sheffield united working sheep wonder related nose freezing yesterday drank orange juice got 8 hours sleep sad photographing hell tonight damn want groezrock advertising marketing research tomorrow hope know stuff quot think er today straightening hair orthodontist hope ride tt year bangor 5 away work time looks like rain kimmylonglegs missed tomato amp basil soup littlest hen looking bit miserable hope return egg-bound yourmumsmabitch bit car stopped working p damn forgot car sorry poor thing rain pleaaaaseeee stephdadi kabutcher early symptoms bad hoping trying anti-bac work area coworkers germs away sick stuck college sk8mate going cardiffnothing come wales josesosa shit man closed birthday thread know work hard set free time self I spending 1 squirrel world arghthrottled 64k downi know dialup slower man net painful speed looks like I going school worse ill-fitting bra going bedagain sad ex started 2 ignore exs new crush logged adka88 ya - expensive swiss sitting jury duty want money sat beach woolacombe sun cold brrrrit cold embarrassing irritating conchords tampa review hurts argh miss bloke random thoughts pt 3 3 I season 3 l word want watch season favorite character dies I un-realisticly gutted download year papa roach sydney rail advertising graduate programs railways choice alas ended fashion coughing lot gazpachodragon unfortunately saw sneaky advances squirrelled away deep desk think fever idie know I able class boo knows I sick want coffee wondering aspmvc complex issue simple checkbox stuff naked snow flurries ga 47 chrissake y play uno green cards hour passed n I digital img thing nightah nessie111 think babe key weird blehdid wake time leave work early chiropractor save bio lecture early knee black blue ajwillis I fed sainsburys altogether dreaded big shop cat food available small boxes bexxi appropriate authorities informed bus school boo making biology test today working thinkin ways leave place feeling like trey songz got lol hate wall street gray sad wish sunny try tan lol shitty day hollywoodtrey ha pa man I tell people follow miss tweeting I going ready school I going school servermojo love service getting false positives tell people public page I afraid emotions suddenly pour remembered happened n I badly feeling firefox 3 frustrating crash 2 minutes notice apple stores closed today maybe inventory day far I concerned help feel I going wrong chaddyp movie sad ouch bit tongue sneezed blood tastes rough paulaabdul need sleep nights idol 3 6am flight feeling confused meh got study hate junior cert wait till 12 june wwoooo work late night watching game state lost heybonnie text weee mood hate got hedache homework huh know body hates getting sick woke 7 day classes jowhit send bk way pls lol I burning nolanotes ohhdo like bell peppers ok post photo lappy c button 4 jcg1483 hope obviously usage massive factor currently 12 hours n95 work til 5 quick dinner class til 9 haaate tuesdays thinks turn mcarvin jemcam going away b looks like wait oooooooof yeah time thing riddle snowing flurrying s-n-of-w-i-n-g cold 1 6 previous friends colleagues rbs going lose jobs thellyv plans apparently twat tweet squatter claimed sketchbot god damnthese hurt ribs seriously cramping exercise style unc dismantles mich st claim championship wanted nova win got homework lorettak heathershorter seriously - 6 pairs shoes fedex box bought recently mai thi communication system m cha c hc c ch nof ht chc li fi np giy trng nh hm thi mn anten qu lt oh god internet explorer 6 7 understand guys jtothe9 nice afford matter good price 10 lunch canteen welcome paris good kendellrenee 3 weeks gone need catch raining vacation day oh parky jade punished brought poor scroobiuspip sad wanted twittercomscroobiuspip cyclesocial 3 3 comments negative story uk society seemingly want slow rabble know mentioned paper case unbelievable read stuff think I got wisp eye kinsey whearty milk coffee chicory oh sadness alas kal penn hero leave house want sykes bad ok question needs answeredwhy dreams hard acheive x digging fact 78 degrees 48 hours ago 29 windy threw away water bottle annoying level 31 days 2 seminar papers 1 spanish exam 1 play lt3 want play mario kart ruby lolz warning physio tells want soft tissue manipulation fact means want kill evil studying early morn motivated bad dream coffeemaverick brick err laptop thing condolences day set drag 9-7 ideal shift work day long ellielocke 1 day till easter fair days exams till easter break super tired wants bed hw doomg uni drains life rehearsal makes head hurt trivia triviatastic home working ok got find friends shameful giving updates sore throat old old daylight saving I dark 7 fair like tired bed midnight realised text phoebe email like macau emailed endlessly sykes feeling wacked - hate taking tablets like feel inclined wowowowow cold snow etc etc bah I hungry beware impending macheist spam want delicious library 2 ok sorry sucks change settings comments blog damn spammers got cold hate dutch weather rebeccavasmant better hun drink loads fresh juice try smoothies help speak later kisses xx suns I stuck inside facebook isabeau ella-marie carpenter wntd mommy 2 sick miss things spell check fix tigger lost bounce got ass kicked pool function night I sore realized holy week amp pastor mother going fit hospital time services amp whatnot bueno bad feeling going doozy day lauraechilds noooooo cry problogger aweber time feature sends sick want miss class today qs announced heading - left trying figure things outmy brain hurts tornadoliese bummer think shylands job silentdave lol I starting think think tit kg86 wish mangalore I sooo friggin borreeeed doubt anyones reading lol followers recommend router good wi-fi reach got netgear wnr834b v2 connection ipod keeps dropping throat hurts long day aheadweening caffeine wondering snow springtime chillin inside 2 day shazys omg silver bmw jwas outside house n looked drove killer toothache test crappy kill warsongraven haz title mirror plz pretty plz know going long week wake thinking saturday baby turns 9 yo today I feeling little old dimensiondvdrob maybe mail lost stopped subway fearless songbook music cellar spent 650 theory books want I work realized going fall 100 short depleting work-study funds noooooo refuse work extra days sending condolences sparty friends draw james deans hands right ugh hate sick school sick right aww man cough lot days throat hurts like helli doctor check-up animatic project got positive result write 20 page report 2 days going fun school sick today I thinking getting blackberry iphone sucks 2 year contracts face burns acne stuff doctors gave reason use takes away acne acne scars sitting inside rain ruined plan walk oh ireland argh forgot ibuprofen waiting dentist wondering flippin cold going feel poorly workin today monday driving kewanee work sleepy yawn woke time day ignoring quotfriendsquot goody macbook behaving strangely sat homework wish hills started tonight aswell mood morning- def need change soon possible lt wondering new account focus n eff bandofmagpies damn seriously sucks hatesss effects I better today lt3 ladylonline I good girl blog scene 3 weeks sooo yeah lol buuuut check soon ass cold needs new looking good jesus mirrormine broke alstrays oh poor wee thing nice hear rescued cold starting bring wish frankies weather report wrong gaah work early tomorrow grrr spent day fullfilling hearts desire shopping think moneeyy hinnaa power seas rough todaymy stomach going happy disappointed house season going sigh great I cold tired good morning twitter world 13hr day today laughing booooooo snow poor msu hoping beat heels selenlovesmcfly nooooo angry 33 precious minutes til tomorrow sleepy morning ugh feel like death want sleep thing making school dumb precal quiz attilacsordas I afraid sony viao officially windows desktop want uni work today finals i-tunes ceased working middle loading doubts singles collection i-pod worried sick santino fever need pick probably tackling cardio right like going happen troubalex sorry twitter account personally follow qt4 community events luckygift yay bitch flaky broke zip trousers shot 900 photos today kyoto black dot dust sensor fixed sorting nightmare mollylaurel dog poor thing donniewahlberg word street quotface timequot worth 375 individual pics rush rush rush maceymace 900 I got 15 minutes early sisters boyfriends day supposed working moment - pretty bored tho ugh I tired feel like goin scool good morning amy snow going away deal budgets amp numbers early morning work chrisbrogan cool snow detroit lately haha friday thankfully friday maybe ask thursday answer unfortunately way airport leaving florida worst day feel like death believe I work right simba missing sally amp zac shock de ce se intimpla chishinau shi nu m-am dus sa sarbatoresc ziua internatzionala sanatatzii man bad sleeping patterns I grind today work jobs sucks hopefully dumb s long boring meetings people complaining bummed forgot wal-mart morning 5am way work new rf cd ug guess I way home house completly surprised night believe cried watching episode house sad tehlisa know taub instead kutner baby sick getting ready school focus eyes yetnot good sleep marpagan happened horrible day far 730 bored hell working rainy day bring miss boo headed bed realized tafe designs defult helvetica arriive fonts think house getting better goes pulls shit hell gotten bad fine speak nurse doubt decisions feel totally utterly deflated want clean daddys yacht write dissertation wants plan forty-five minute magic searching job scottavenue emotional found n cried gna miss xx cold lelebelle rate hard tell I feel asleep watching 2 weeks ago shows fault giulianarancicI excited cardio kickboxing instructor teaching close lost 30 lbs wher wout kdfw girl suitcase story messed imagine like wish computer broken effin pic upwhy blackberrry having awesome time floridabut day oh getting sickthis going bad okie doke going school hopefully I feel better day goes hit biggest writers block love hyacinths amp daffodils desk think pollen starting affect allergies suck flipgonzo know annotate slides minimal contain good bits lol schedules messed gaaak deadlines looming horizon thejrod idolan problem compounded fact coffee - sounds like monday 20 gah wrist hurting guy insurance company flooded kitchen chin rubbing later got ripped hoping today goes quickly proudkiwi I working I sick anymore twilight zone bed wet hair wet I terribly cold sick weird stephweber unlocked I slowby listening frank turner curled sofa puffy eyes cold liquiddragn pretend understand going ps stinkpad dying jury duty boooo time work stop knitting gettin gettin ready taxes good morning april 7th snowing snow outside I sick ohios weather 2 years till palm springs camissing 79 weather sunny need wash dishes fuck ripped pair jeans jays home opener amazing streakers fave hairdresser hope rubbishy cut friday somanydeadends gtlt amyxo yea I doin hurtsss weston bigjonevans willgray79 asked quotvolunteerquot monday sure hate treated different people joconchie ah win lose nice bet 100 1 winner wishes horses getting ready workI super sleepy annoyed pic uploadand nooooo big holliebox sounds like college submit perfectly replicated musical recording mid file sinjax alas musicbrainz recognise mp3 hates cereal end box tiffanyizatt lol upper 70s cold wrong long day today snow whatnot cool penn state I working I mad dylansongs unfortunately available canada elenabrowne goooooooooood came missed naked time lmfao xx ergh shitty mood bored able want pub later todd1985 think leaves visit nana tomorrow jharbweave boo I sorry stupid eyeswhy important cold outside rainy plus nose breathe aapchxi eyes sore today hate snow waiting jason wake truro huge queue bank lauren hand hug anymore thing hear sing hear read passage book life changed forever getting ready floodgates patients open supaswag follow blog posted weeks got 35 hours sleep insomnia sucks miserablely sick watching fox - gretchen correction lawyers need plain english lessons work today vanessahudqens hold bitches like lol walk seafront typically dark clouds closing philonbob good morning won birthday game radio desk wish nice outside feel poo revising prepared 11 finance exam arm hurts brother pinched gt criana godspeed friday felicecuore singapore boring woke milo having seizure apparently got parents sick oops southwestair mean leaving isp today pics annuary pictures daughter olivia sick today ther brewers open season today crew slessard hi stefanunfortunately cant dmb concert brazil studing surgeryim doctor busy ensredshirt forgot chuck remember 815 catch online got 1230 way 2 ocs land andrewcareaga tried listen hold steady way taste songs purchase understand thought process yoghurt pot lids designed licked sharp foil heading shut-eyei need ugh feel good morning hope goes away school itslacey hey girlie sorry having troubles getting home safe trip work terrible headache french vanilla capp sounds good right bad hdnet roh shows xbox 360 channel channel roh cold snowy working late jennielees - blogs rss feed posts broken google chrome trying wake checking email going work rest world husband bed work think good april fools jokes waaaaaaaaay fool going doctors anxiety gah sorry aboutt wash home nap slept crap feel like shit mistressmatisse link working am1yepk having lie ages given headache woke sound scraping frost car windshield work 4 page play reviewoh today looking fun hamperlady innocent longer custom got damnititchy watery runny eyes leave spring bed lol vbscript foiled change managment dam change managment anti altf4 blocking skills djkaton come longest day week grr stupid login script working hurt shoulder life stop sucking going oban today love bad thing raining heavens egg hatches squirtle flamethrower goddamned weepinbell wrap sleep powder reaaal useful edgandia thanks post interesting refers group end mention okay mother nature win'"
      ]
     },
     "execution_count": 88,
     "metadata": {},
     "output_type": "execute_result"
    }
   ],
   "source": [
    "x"
   ]
  },
  {
   "cell_type": "code",
   "execution_count": 89,
   "metadata": {},
   "outputs": [],
   "source": [
    "wc = WordCloud(width=1000, height=500).generate(x)"
   ]
  },
  {
   "cell_type": "code",
   "execution_count": 90,
   "metadata": {},
   "outputs": [
    {
     "data": {
      "image/png": "[encoded data removed]",
      "text/plain": [
       "<Figure size 432x288 with 1 Axes>"
      ]
     },
     "metadata": {
      "needs_background": "light"
     },
     "output_type": "display_data"
    }
   ],
   "source": [
    "plt.imshow(wc)\n",
    "plt.axis('off')\n",
    "plt.show()"
   ]
  },
  {
   "cell_type": "markdown",
   "metadata": {},
   "source": [
    "### Spelling Correction"
   ]
  },
  {
   "cell_type": "code",
   "execution_count": 91,
   "metadata": {},
   "outputs": [
    {
     "name": "stdout",
     "output_type": "stream",
     "text": [
      "Requirement already up-to-date: textblob in /home/rakesh/anaconda3/lib/python3.8/site-packages (0.15.3)\n",
      "Requirement already satisfied, skipping upgrade: nltk>=3.1 in /home/rakesh/anaconda3/lib/python3.8/site-packages (from textblob) (3.5)\n",
      "Requirement already satisfied, skipping upgrade: regex in /home/rakesh/anaconda3/lib/python3.8/site-packages (from nltk>=3.1->textblob) (2020.10.15)\n",
      "Requirement already satisfied, skipping upgrade: click in /home/rakesh/anaconda3/lib/python3.8/site-packages (from nltk>=3.1->textblob) (7.1.2)\n",
      "Requirement already satisfied, skipping upgrade: joblib in /home/rakesh/anaconda3/lib/python3.8/site-packages (from nltk>=3.1->textblob) (0.17.0)\n",
      "Requirement already satisfied, skipping upgrade: tqdm in /home/rakesh/anaconda3/lib/python3.8/site-packages (from nltk>=3.1->textblob) (4.50.2)\n",
      "[nltk_data] Downloading package brown to /home/rakesh/nltk_data...\n",
      "[nltk_data]   Package brown is already up-to-date!\n",
      "[nltk_data] Downloading package punkt to /home/rakesh/nltk_data...\n",
      "[nltk_data]   Package punkt is already up-to-date!\n",
      "[nltk_data] Downloading package wordnet to /home/rakesh/nltk_data...\n",
      "[nltk_data]   Package wordnet is already up-to-date!\n",
      "[nltk_data] Downloading package averaged_perceptron_tagger to\n",
      "[nltk_data]     /home/rakesh/nltk_data...\n",
      "[nltk_data]   Package averaged_perceptron_tagger is already up-to-\n",
      "[nltk_data]       date!\n",
      "[nltk_data] Downloading package conll2000 to /home/rakesh/nltk_data...\n",
      "[nltk_data]   Package conll2000 is already up-to-date!\n",
      "[nltk_data] Downloading package movie_reviews to\n",
      "[nltk_data]     /home/rakesh/nltk_data...\n",
      "[nltk_data]   Package movie_reviews is already up-to-date!\n",
      "Finished.\n"
     ]
    }
   ],
   "source": [
    "!pip install -U textblob\n",
    "!python -m textblob.download_corpora"
   ]
  },
  {
   "cell_type": "code",
   "execution_count": 92,
   "metadata": {},
   "outputs": [],
   "source": [
    "from textblob import TextBlob"
   ]
  },
  {
   "cell_type": "code",
   "execution_count": 93,
   "metadata": {},
   "outputs": [],
   "source": [
    "x = 'tanks forr watchingg thes vidio'"
   ]
  },
  {
   "cell_type": "code",
   "execution_count": 94,
   "metadata": {},
   "outputs": [],
   "source": [
    "x = TextBlob(x).correct()"
   ]
  },
  {
   "cell_type": "code",
   "execution_count": 95,
   "metadata": {},
   "outputs": [
    {
     "data": {
      "text/plain": [
       "TextBlob(\"tanks for watching the video\")"
      ]
     },
     "execution_count": 95,
     "metadata": {},
     "output_type": "execute_result"
    }
   ],
   "source": [
    "#it indicates it is not correct in every situation\n",
    "x"
   ]
  },
  {
   "cell_type": "markdown",
   "metadata": {},
   "source": [
    "### Tokenization"
   ]
  },
  {
   "cell_type": "code",
   "execution_count": 96,
   "metadata": {},
   "outputs": [],
   "source": [
    "x = 'Thanks for watching this video. Please like it.'"
   ]
  },
  {
   "cell_type": "code",
   "execution_count": 97,
   "metadata": {},
   "outputs": [
    {
     "data": {
      "text/plain": [
       "WordList(['Thanks', 'for', 'watching', 'this', 'video', 'Please', 'like', 'it'])"
      ]
     },
     "execution_count": 97,
     "metadata": {},
     "output_type": "execute_result"
    }
   ],
   "source": [
    "TextBlob(x).words"
   ]
  },
  {
   "cell_type": "code",
   "execution_count": 98,
   "metadata": {},
   "outputs": [],
   "source": [
    "doc = nlp(x)"
   ]
  },
  {
   "cell_type": "code",
   "execution_count": 99,
   "metadata": {},
   "outputs": [
    {
     "name": "stdout",
     "output_type": "stream",
     "text": [
      "Thanks\n",
      "for\n",
      "watching\n",
      "this\n",
      "video\n",
      ".\n",
      "Please\n",
      "like\n",
      "it\n",
      ".\n"
     ]
    }
   ],
   "source": [
    "for token in doc:\n",
    "    print(token)"
   ]
  },
  {
   "cell_type": "markdown",
   "metadata": {},
   "source": [
    "### Lemmatization"
   ]
  },
  {
   "cell_type": "code",
   "execution_count": 100,
   "metadata": {},
   "outputs": [],
   "source": [
    "x = 'runs run running ran'"
   ]
  },
  {
   "cell_type": "code",
   "execution_count": 101,
   "metadata": {},
   "outputs": [],
   "source": [
    "from textblob import Word"
   ]
  },
  {
   "cell_type": "code",
   "execution_count": 102,
   "metadata": {},
   "outputs": [
    {
     "name": "stdout",
     "output_type": "stream",
     "text": [
      "run\n",
      "run\n",
      "running\n",
      "ran\n"
     ]
    }
   ],
   "source": [
    "for token in x.split():\n",
    "    print(Word(token).lemmatize())"
   ]
  },
  {
   "cell_type": "code",
   "execution_count": 103,
   "metadata": {},
   "outputs": [
    {
     "name": "stdout",
     "output_type": "stream",
     "text": [
      "run\n",
      "run\n",
      "run\n",
      "run\n"
     ]
    }
   ],
   "source": [
    "# Using Spacy\n",
    "doc = nlp(x)\n",
    "for token in doc:\n",
    "    print(token.lemma_)"
   ]
  },
  {
   "cell_type": "markdown",
   "metadata": {},
   "source": [
    "### Detect Entities using NER of Spacy"
   ]
  },
  {
   "cell_type": "code",
   "execution_count": 104,
   "metadata": {},
   "outputs": [],
   "source": [
    "x = 'Breaking News: Donald Trump, the president of the USA is looking to sign a deal to mine the moon'"
   ]
  },
  {
   "cell_type": "code",
   "execution_count": 105,
   "metadata": {},
   "outputs": [
    {
     "name": "stdout",
     "output_type": "stream",
     "text": [
      "Donald Trump - PERSON - People, including fictional\n",
      "USA - GPE - Countries, cities, states\n"
     ]
    }
   ],
   "source": [
    "doc =  nlp(x)\n",
    "for ent in doc.ents:\n",
    "    print(ent.text + ' - ' + ent.label_ + ' - ' + str(spacy.explain(ent.label_)))"
   ]
  },
  {
   "cell_type": "code",
   "execution_count": 106,
   "metadata": {},
   "outputs": [],
   "source": [
    "from spacy import displacy"
   ]
  },
  {
   "cell_type": "code",
   "execution_count": 107,
   "metadata": {},
   "outputs": [
    {
     "data": {
      "text/html": [
       "<span class=\"tex2jax_ignore\"><div class=\"entities\" style=\"line-height: 2.5; direction: ltr\">Breaking News: \n",
       "<mark class=\"entity\" style=\"background: #aa9cfc; padding: 0.45em 0.6em; margin: 0 0.25em; line-height: 1; border-radius: 0.35em;\">\n",
       "    Donald Trump\n",
       "    <span style=\"font-size: 0.8em; font-weight: bold; line-height: 1; border-radius: 0.35em; text-transform: uppercase; vertical-align: middle; margin-left: 0.5rem\">PERSON</span>\n",
       "</mark>\n",
       ", the president of the \n",
       "<mark class=\"entity\" style=\"background: #feca74; padding: 0.45em 0.6em; margin: 0 0.25em; line-height: 1; border-radius: 0.35em;\">\n",
       "    USA\n",
       "    <span style=\"font-size: 0.8em; font-weight: bold; line-height: 1; border-radius: 0.35em; text-transform: uppercase; vertical-align: middle; margin-left: 0.5rem\">GPE</span>\n",
       "</mark>\n",
       " is looking to sign a deal to mine the moon</div></span>"
      ],
      "text/plain": [
       "<IPython.core.display.HTML object>"
      ]
     },
     "metadata": {},
     "output_type": "display_data"
    }
   ],
   "source": [
    "displacy.render(doc, style='ent')"
   ]
  },
  {
   "cell_type": "markdown",
   "metadata": {},
   "source": [
    "### Detecting Nouns"
   ]
  },
  {
   "cell_type": "code",
   "execution_count": 108,
   "metadata": {},
   "outputs": [
    {
     "data": {
      "text/plain": [
       "'Breaking News: Donald Trump, the president of the USA is looking to sign a deal to mine the moon'"
      ]
     },
     "execution_count": 108,
     "metadata": {},
     "output_type": "execute_result"
    }
   ],
   "source": [
    "x"
   ]
  },
  {
   "cell_type": "code",
   "execution_count": 109,
   "metadata": {},
   "outputs": [
    {
     "name": "stdout",
     "output_type": "stream",
     "text": [
      "Breaking\n",
      "News\n",
      "Donald Trump\n",
      "the president\n",
      "the USA\n",
      "a deal\n",
      "the moon\n"
     ]
    }
   ],
   "source": [
    "for noun in doc.noun_chunks:\n",
    "    print(noun)"
   ]
  },
  {
   "cell_type": "markdown",
   "metadata": {},
   "source": [
    "### Translation and language detection"
   ]
  },
  {
   "cell_type": "code",
   "execution_count": 110,
   "metadata": {},
   "outputs": [],
   "source": [
    "tb = TextBlob(x)"
   ]
  },
  {
   "cell_type": "code",
   "execution_count": 111,
   "metadata": {},
   "outputs": [
    {
     "data": {
      "text/plain": [
       "'en'"
      ]
     },
     "execution_count": 111,
     "metadata": {},
     "output_type": "execute_result"
    }
   ],
   "source": [
    "tb.detect_language()"
   ]
  },
  {
   "cell_type": "code",
   "execution_count": 112,
   "metadata": {},
   "outputs": [
    {
     "data": {
      "text/plain": [
       "TextBlob(\"ब्रेकिंग न्यूज़: डोनाल्ड ट्रम्प, संयुक्त राज्य अमेरिका के राष्ट्रपति चांद को खदान करने के लिए एक समझौते पर हस्ताक्षर करना चाहते हैं\")"
      ]
     },
     "execution_count": 112,
     "metadata": {},
     "output_type": "execute_result"
    }
   ],
   "source": [
    "tb.translate(to = 'hi')"
   ]
  },
  {
   "cell_type": "markdown",
   "metadata": {},
   "source": [
    "### Use inbuild sentiment classifier"
   ]
  },
  {
   "cell_type": "code",
   "execution_count": 113,
   "metadata": {},
   "outputs": [],
   "source": [
    "from textblob.sentiments import NaiveBayesAnalyzer"
   ]
  },
  {
   "cell_type": "code",
   "execution_count": 114,
   "metadata": {},
   "outputs": [],
   "source": [
    "x = 'We all stand together to fight with corona virus. We will win together'\n",
    "# x = 'We all are suffering from corona virus'"
   ]
  },
  {
   "cell_type": "code",
   "execution_count": 115,
   "metadata": {},
   "outputs": [],
   "source": [
    "tb = TextBlob(x, analyzer=NaiveBayesAnalyzer())"
   ]
  },
  {
   "cell_type": "code",
   "execution_count": 116,
   "metadata": {},
   "outputs": [
    {
     "data": {
      "text/plain": [
       "Sentiment(classification='pos', p_pos=0.782819573725504, p_neg=0.21718042627449635)"
      ]
     },
     "execution_count": 116,
     "metadata": {},
     "output_type": "execute_result"
    }
   ],
   "source": [
    "tb.sentiment"
   ]
  },
  {
   "cell_type": "markdown",
   "metadata": {},
   "source": [
    "## Advanced text processing"
   ]
  },
  {
   "cell_type": "markdown",
   "metadata": {},
   "source": [
    "### N-Grams"
   ]
  },
  {
   "cell_type": "code",
   "execution_count": 117,
   "metadata": {},
   "outputs": [],
   "source": [
    "x = 'thanks for watching'"
   ]
  },
  {
   "cell_type": "code",
   "execution_count": 118,
   "metadata": {},
   "outputs": [],
   "source": [
    "tb = TextBlob(x)"
   ]
  },
  {
   "cell_type": "code",
   "execution_count": 119,
   "metadata": {},
   "outputs": [
    {
     "data": {
      "text/plain": [
       "[WordList(['thanks', 'for']), WordList(['for', 'watching'])]"
      ]
     },
     "execution_count": 119,
     "metadata": {},
     "output_type": "execute_result"
    }
   ],
   "source": [
    "tb.ngrams(2)"
   ]
  },
  {
   "cell_type": "markdown",
   "metadata": {},
   "source": [
    "### Bag of Words BoW"
   ]
  },
  {
   "cell_type": "code",
   "execution_count": 120,
   "metadata": {},
   "outputs": [],
   "source": [
    "x = ['this is first sentence', 'this is second', 'this is last this']"
   ]
  },
  {
   "cell_type": "code",
   "execution_count": 121,
   "metadata": {},
   "outputs": [],
   "source": [
    "from sklearn.feature_extraction.text import CountVectorizer"
   ]
  },
  {
   "cell_type": "code",
   "execution_count": 122,
   "metadata": {},
   "outputs": [],
   "source": [
    "cv = CountVectorizer(ngram_range=(1,1))"
   ]
  },
  {
   "cell_type": "code",
   "execution_count": 123,
   "metadata": {},
   "outputs": [],
   "source": [
    "text_counts = cv.fit_transform(x)"
   ]
  },
  {
   "cell_type": "code",
   "execution_count": 124,
   "metadata": {},
   "outputs": [
    {
     "data": {
      "text/plain": [
       "<3x6 sparse matrix of type '<class 'numpy.int64'>'\n",
       "\twith 10 stored elements in Compressed Sparse Row format>"
      ]
     },
     "execution_count": 124,
     "metadata": {},
     "output_type": "execute_result"
    }
   ],
   "source": [
    "text_counts"
   ]
  },
  {
   "cell_type": "code",
   "execution_count": 125,
   "metadata": {},
   "outputs": [
    {
     "data": {
      "text/plain": [
       "array([[1, 1, 0, 0, 1, 1],\n",
       "       [0, 1, 0, 1, 0, 1],\n",
       "       [0, 1, 1, 0, 0, 2]])"
      ]
     },
     "execution_count": 125,
     "metadata": {},
     "output_type": "execute_result"
    }
   ],
   "source": [
    "text_counts.toarray()"
   ]
  },
  {
   "cell_type": "code",
   "execution_count": 126,
   "metadata": {},
   "outputs": [
    {
     "data": {
      "text/plain": [
       "['first', 'is', 'last', 'second', 'sentence', 'this']"
      ]
     },
     "execution_count": 126,
     "metadata": {},
     "output_type": "execute_result"
    }
   ],
   "source": [
    "cv.get_feature_names()"
   ]
  },
  {
   "cell_type": "code",
   "execution_count": 127,
   "metadata": {},
   "outputs": [],
   "source": [
    "bow = pd.DataFrame(text_counts.toarray(), columns= cv.get_feature_names())"
   ]
  },
  {
   "cell_type": "code",
   "execution_count": 128,
   "metadata": {},
   "outputs": [
    {
     "data": {
      "text/html": [
       "<div>\n",
       "<style scoped>\n",
       "    .dataframe tbody tr th:only-of-type {\n",
       "        vertical-align: middle;\n",
       "    }\n",
       "\n",
       "    .dataframe tbody tr th {\n",
       "        vertical-align: top;\n",
       "    }\n",
       "\n",
       "    .dataframe thead th {\n",
       "        text-align: right;\n",
       "    }\n",
       "</style>\n",
       "<table border=\"1\" class=\"dataframe\">\n",
       "  <thead>\n",
       "    <tr style=\"text-align: right;\">\n",
       "      <th></th>\n",
       "      <th>first</th>\n",
       "      <th>is</th>\n",
       "      <th>last</th>\n",
       "      <th>second</th>\n",
       "      <th>sentence</th>\n",
       "      <th>this</th>\n",
       "    </tr>\n",
       "  </thead>\n",
       "  <tbody>\n",
       "    <tr>\n",
       "      <th>0</th>\n",
       "      <td>1</td>\n",
       "      <td>1</td>\n",
       "      <td>0</td>\n",
       "      <td>0</td>\n",
       "      <td>1</td>\n",
       "      <td>1</td>\n",
       "    </tr>\n",
       "    <tr>\n",
       "      <th>1</th>\n",
       "      <td>0</td>\n",
       "      <td>1</td>\n",
       "      <td>0</td>\n",
       "      <td>1</td>\n",
       "      <td>0</td>\n",
       "      <td>1</td>\n",
       "    </tr>\n",
       "    <tr>\n",
       "      <th>2</th>\n",
       "      <td>0</td>\n",
       "      <td>1</td>\n",
       "      <td>1</td>\n",
       "      <td>0</td>\n",
       "      <td>0</td>\n",
       "      <td>2</td>\n",
       "    </tr>\n",
       "  </tbody>\n",
       "</table>\n",
       "</div>"
      ],
      "text/plain": [
       "   first  is  last  second  sentence  this\n",
       "0      1   1     0       0         1     1\n",
       "1      0   1     0       1         0     1\n",
       "2      0   1     1       0         0     2"
      ]
     },
     "execution_count": 128,
     "metadata": {},
     "output_type": "execute_result"
    }
   ],
   "source": [
    "bow"
   ]
  },
  {
   "cell_type": "markdown",
   "metadata": {},
   "source": [
    "### Term Frequency"
   ]
  },
  {
   "cell_type": "markdown",
   "metadata": {},
   "source": [
    "Term frequency is simply the ration of the count of a words present in sentence, to the length of the sentence."
   ]
  },
  {
   "cell_type": "code",
   "execution_count": 129,
   "metadata": {},
   "outputs": [
    {
     "data": {
      "text/plain": [
       "['this is first sentence', 'this is second', 'this is last this']"
      ]
     },
     "execution_count": 129,
     "metadata": {},
     "output_type": "execute_result"
    }
   ],
   "source": [
    "x"
   ]
  },
  {
   "cell_type": "code",
   "execution_count": 130,
   "metadata": {},
   "outputs": [
    {
     "data": {
      "text/html": [
       "<div>\n",
       "<style scoped>\n",
       "    .dataframe tbody tr th:only-of-type {\n",
       "        vertical-align: middle;\n",
       "    }\n",
       "\n",
       "    .dataframe tbody tr th {\n",
       "        vertical-align: top;\n",
       "    }\n",
       "\n",
       "    .dataframe thead th {\n",
       "        text-align: right;\n",
       "    }\n",
       "</style>\n",
       "<table border=\"1\" class=\"dataframe\">\n",
       "  <thead>\n",
       "    <tr style=\"text-align: right;\">\n",
       "      <th></th>\n",
       "      <th>first</th>\n",
       "      <th>is</th>\n",
       "      <th>last</th>\n",
       "      <th>second</th>\n",
       "      <th>sentence</th>\n",
       "      <th>this</th>\n",
       "    </tr>\n",
       "  </thead>\n",
       "  <tbody>\n",
       "    <tr>\n",
       "      <th>0</th>\n",
       "      <td>1</td>\n",
       "      <td>1</td>\n",
       "      <td>0</td>\n",
       "      <td>0</td>\n",
       "      <td>1</td>\n",
       "      <td>1</td>\n",
       "    </tr>\n",
       "    <tr>\n",
       "      <th>1</th>\n",
       "      <td>0</td>\n",
       "      <td>1</td>\n",
       "      <td>0</td>\n",
       "      <td>1</td>\n",
       "      <td>0</td>\n",
       "      <td>1</td>\n",
       "    </tr>\n",
       "    <tr>\n",
       "      <th>2</th>\n",
       "      <td>0</td>\n",
       "      <td>1</td>\n",
       "      <td>1</td>\n",
       "      <td>0</td>\n",
       "      <td>0</td>\n",
       "      <td>2</td>\n",
       "    </tr>\n",
       "  </tbody>\n",
       "</table>\n",
       "</div>"
      ],
      "text/plain": [
       "   first  is  last  second  sentence  this\n",
       "0      1   1     0       0         1     1\n",
       "1      0   1     0       1         0     1\n",
       "2      0   1     1       0         0     2"
      ]
     },
     "execution_count": 130,
     "metadata": {},
     "output_type": "execute_result"
    }
   ],
   "source": [
    "bow"
   ]
  },
  {
   "cell_type": "code",
   "execution_count": 131,
   "metadata": {},
   "outputs": [
    {
     "data": {
      "text/plain": [
       "(3, 6)"
      ]
     },
     "execution_count": 131,
     "metadata": {},
     "output_type": "execute_result"
    }
   ],
   "source": [
    "bow.shape"
   ]
  },
  {
   "cell_type": "code",
   "execution_count": 132,
   "metadata": {},
   "outputs": [],
   "source": [
    "tf = bow.copy()"
   ]
  },
  {
   "cell_type": "code",
   "execution_count": 133,
   "metadata": {},
   "outputs": [],
   "source": [
    "for index, row in enumerate(bow.iterrows()):\n",
    "    for col in row[1].index:\n",
    "        tf.loc[index, col] = tf.loc[index, col]/sum(row[1].values)"
   ]
  },
  {
   "cell_type": "code",
   "execution_count": 134,
   "metadata": {},
   "outputs": [
    {
     "data": {
      "text/html": [
       "<div>\n",
       "<style scoped>\n",
       "    .dataframe tbody tr th:only-of-type {\n",
       "        vertical-align: middle;\n",
       "    }\n",
       "\n",
       "    .dataframe tbody tr th {\n",
       "        vertical-align: top;\n",
       "    }\n",
       "\n",
       "    .dataframe thead th {\n",
       "        text-align: right;\n",
       "    }\n",
       "</style>\n",
       "<table border=\"1\" class=\"dataframe\">\n",
       "  <thead>\n",
       "    <tr style=\"text-align: right;\">\n",
       "      <th></th>\n",
       "      <th>first</th>\n",
       "      <th>is</th>\n",
       "      <th>last</th>\n",
       "      <th>second</th>\n",
       "      <th>sentence</th>\n",
       "      <th>this</th>\n",
       "    </tr>\n",
       "  </thead>\n",
       "  <tbody>\n",
       "    <tr>\n",
       "      <th>0</th>\n",
       "      <td>0.25</td>\n",
       "      <td>0.250000</td>\n",
       "      <td>0.00</td>\n",
       "      <td>0.000000</td>\n",
       "      <td>0.25</td>\n",
       "      <td>0.250000</td>\n",
       "    </tr>\n",
       "    <tr>\n",
       "      <th>1</th>\n",
       "      <td>0.00</td>\n",
       "      <td>0.333333</td>\n",
       "      <td>0.00</td>\n",
       "      <td>0.333333</td>\n",
       "      <td>0.00</td>\n",
       "      <td>0.333333</td>\n",
       "    </tr>\n",
       "    <tr>\n",
       "      <th>2</th>\n",
       "      <td>0.00</td>\n",
       "      <td>0.250000</td>\n",
       "      <td>0.25</td>\n",
       "      <td>0.000000</td>\n",
       "      <td>0.00</td>\n",
       "      <td>0.500000</td>\n",
       "    </tr>\n",
       "  </tbody>\n",
       "</table>\n",
       "</div>"
      ],
      "text/plain": [
       "   first        is  last    second  sentence      this\n",
       "0   0.25  0.250000  0.00  0.000000      0.25  0.250000\n",
       "1   0.00  0.333333  0.00  0.333333      0.00  0.333333\n",
       "2   0.00  0.250000  0.25  0.000000      0.00  0.500000"
      ]
     },
     "execution_count": 134,
     "metadata": {},
     "output_type": "execute_result"
    }
   ],
   "source": [
    "tf"
   ]
  },
  {
   "cell_type": "markdown",
   "metadata": {},
   "source": [
    "### Inverse Document Frequency"
   ]
  },
  {
   "cell_type": "markdown",
   "metadata": {},
   "source": [
    "idf = log((1+N)/(n+1)) + 1 used in sklearn when smooth_idf = True"
   ]
  },
  {
   "cell_type": "markdown",
   "metadata": {},
   "source": [
    "where, N is the total number of rows and n is the number of rows in which the word was present."
   ]
  },
  {
   "cell_type": "code",
   "execution_count": 135,
   "metadata": {},
   "outputs": [],
   "source": [
    "x_df = pd.DataFrame(x, columns=['words'])"
   ]
  },
  {
   "cell_type": "code",
   "execution_count": 136,
   "metadata": {},
   "outputs": [
    {
     "data": {
      "text/html": [
       "<div>\n",
       "<style scoped>\n",
       "    .dataframe tbody tr th:only-of-type {\n",
       "        vertical-align: middle;\n",
       "    }\n",
       "\n",
       "    .dataframe tbody tr th {\n",
       "        vertical-align: top;\n",
       "    }\n",
       "\n",
       "    .dataframe thead th {\n",
       "        text-align: right;\n",
       "    }\n",
       "</style>\n",
       "<table border=\"1\" class=\"dataframe\">\n",
       "  <thead>\n",
       "    <tr style=\"text-align: right;\">\n",
       "      <th></th>\n",
       "      <th>words</th>\n",
       "    </tr>\n",
       "  </thead>\n",
       "  <tbody>\n",
       "    <tr>\n",
       "      <th>0</th>\n",
       "      <td>this is first sentence</td>\n",
       "    </tr>\n",
       "    <tr>\n",
       "      <th>1</th>\n",
       "      <td>this is second</td>\n",
       "    </tr>\n",
       "    <tr>\n",
       "      <th>2</th>\n",
       "      <td>this is last this</td>\n",
       "    </tr>\n",
       "  </tbody>\n",
       "</table>\n",
       "</div>"
      ],
      "text/plain": [
       "                    words\n",
       "0  this is first sentence\n",
       "1          this is second\n",
       "2       this is last this"
      ]
     },
     "execution_count": 136,
     "metadata": {},
     "output_type": "execute_result"
    }
   ],
   "source": [
    "x_df"
   ]
  },
  {
   "cell_type": "code",
   "execution_count": 137,
   "metadata": {},
   "outputs": [
    {
     "data": {
      "text/html": [
       "<div>\n",
       "<style scoped>\n",
       "    .dataframe tbody tr th:only-of-type {\n",
       "        vertical-align: middle;\n",
       "    }\n",
       "\n",
       "    .dataframe tbody tr th {\n",
       "        vertical-align: top;\n",
       "    }\n",
       "\n",
       "    .dataframe thead th {\n",
       "        text-align: right;\n",
       "    }\n",
       "</style>\n",
       "<table border=\"1\" class=\"dataframe\">\n",
       "  <thead>\n",
       "    <tr style=\"text-align: right;\">\n",
       "      <th></th>\n",
       "      <th>first</th>\n",
       "      <th>is</th>\n",
       "      <th>last</th>\n",
       "      <th>second</th>\n",
       "      <th>sentence</th>\n",
       "      <th>this</th>\n",
       "    </tr>\n",
       "  </thead>\n",
       "  <tbody>\n",
       "    <tr>\n",
       "      <th>0</th>\n",
       "      <td>1</td>\n",
       "      <td>1</td>\n",
       "      <td>0</td>\n",
       "      <td>0</td>\n",
       "      <td>1</td>\n",
       "      <td>1</td>\n",
       "    </tr>\n",
       "    <tr>\n",
       "      <th>1</th>\n",
       "      <td>0</td>\n",
       "      <td>1</td>\n",
       "      <td>0</td>\n",
       "      <td>1</td>\n",
       "      <td>0</td>\n",
       "      <td>1</td>\n",
       "    </tr>\n",
       "    <tr>\n",
       "      <th>2</th>\n",
       "      <td>0</td>\n",
       "      <td>1</td>\n",
       "      <td>1</td>\n",
       "      <td>0</td>\n",
       "      <td>0</td>\n",
       "      <td>2</td>\n",
       "    </tr>\n",
       "  </tbody>\n",
       "</table>\n",
       "</div>"
      ],
      "text/plain": [
       "   first  is  last  second  sentence  this\n",
       "0      1   1     0       0         1     1\n",
       "1      0   1     0       1         0     1\n",
       "2      0   1     1       0         0     2"
      ]
     },
     "execution_count": 137,
     "metadata": {},
     "output_type": "execute_result"
    }
   ],
   "source": [
    "bow"
   ]
  },
  {
   "cell_type": "code",
   "execution_count": 138,
   "metadata": {},
   "outputs": [
    {
     "data": {
      "text/plain": [
       "3"
      ]
     },
     "execution_count": 138,
     "metadata": {},
     "output_type": "execute_result"
    }
   ],
   "source": [
    "N = bow.shape[0]\n",
    "N"
   ]
  },
  {
   "cell_type": "code",
   "execution_count": 139,
   "metadata": {},
   "outputs": [
    {
     "data": {
      "text/html": [
       "<div>\n",
       "<style scoped>\n",
       "    .dataframe tbody tr th:only-of-type {\n",
       "        vertical-align: middle;\n",
       "    }\n",
       "\n",
       "    .dataframe tbody tr th {\n",
       "        vertical-align: top;\n",
       "    }\n",
       "\n",
       "    .dataframe thead th {\n",
       "        text-align: right;\n",
       "    }\n",
       "</style>\n",
       "<table border=\"1\" class=\"dataframe\">\n",
       "  <thead>\n",
       "    <tr style=\"text-align: right;\">\n",
       "      <th></th>\n",
       "      <th>first</th>\n",
       "      <th>is</th>\n",
       "      <th>last</th>\n",
       "      <th>second</th>\n",
       "      <th>sentence</th>\n",
       "      <th>this</th>\n",
       "    </tr>\n",
       "  </thead>\n",
       "  <tbody>\n",
       "    <tr>\n",
       "      <th>0</th>\n",
       "      <td>True</td>\n",
       "      <td>True</td>\n",
       "      <td>False</td>\n",
       "      <td>False</td>\n",
       "      <td>True</td>\n",
       "      <td>True</td>\n",
       "    </tr>\n",
       "    <tr>\n",
       "      <th>1</th>\n",
       "      <td>False</td>\n",
       "      <td>True</td>\n",
       "      <td>False</td>\n",
       "      <td>True</td>\n",
       "      <td>False</td>\n",
       "      <td>True</td>\n",
       "    </tr>\n",
       "    <tr>\n",
       "      <th>2</th>\n",
       "      <td>False</td>\n",
       "      <td>True</td>\n",
       "      <td>True</td>\n",
       "      <td>False</td>\n",
       "      <td>False</td>\n",
       "      <td>True</td>\n",
       "    </tr>\n",
       "  </tbody>\n",
       "</table>\n",
       "</div>"
      ],
      "text/plain": [
       "   first    is   last  second  sentence  this\n",
       "0   True  True  False   False      True  True\n",
       "1  False  True  False    True     False  True\n",
       "2  False  True   True   False     False  True"
      ]
     },
     "execution_count": 139,
     "metadata": {},
     "output_type": "execute_result"
    }
   ],
   "source": [
    "bb = bow.astype('bool')\n",
    "bb"
   ]
  },
  {
   "cell_type": "code",
   "execution_count": 140,
   "metadata": {},
   "outputs": [
    {
     "data": {
      "text/plain": [
       "1"
      ]
     },
     "execution_count": 140,
     "metadata": {},
     "output_type": "execute_result"
    }
   ],
   "source": [
    "bb['first'].sum()"
   ]
  },
  {
   "cell_type": "code",
   "execution_count": 141,
   "metadata": {},
   "outputs": [
    {
     "data": {
      "text/plain": [
       "3"
      ]
     },
     "execution_count": 141,
     "metadata": {},
     "output_type": "execute_result"
    }
   ],
   "source": [
    "bb['this'].sum()"
   ]
  },
  {
   "cell_type": "code",
   "execution_count": 142,
   "metadata": {},
   "outputs": [
    {
     "data": {
      "text/plain": [
       "Index(['first', 'is', 'last', 'second', 'sentence', 'this'], dtype='object')"
      ]
     },
     "execution_count": 142,
     "metadata": {},
     "output_type": "execute_result"
    }
   ],
   "source": [
    "cols = bb.columns\n",
    "cols"
   ]
  },
  {
   "cell_type": "code",
   "execution_count": 143,
   "metadata": {},
   "outputs": [],
   "source": [
    "nz = []\n",
    "for col in cols:\n",
    "    nz.append(bb[col].sum())"
   ]
  },
  {
   "cell_type": "code",
   "execution_count": 144,
   "metadata": {},
   "outputs": [
    {
     "data": {
      "text/plain": [
       "[1, 3, 1, 1, 1, 3]"
      ]
     },
     "execution_count": 144,
     "metadata": {},
     "output_type": "execute_result"
    }
   ],
   "source": [
    "nz"
   ]
  },
  {
   "cell_type": "code",
   "execution_count": 145,
   "metadata": {},
   "outputs": [],
   "source": [
    "idf = []\n",
    "for index, col in enumerate(cols):\n",
    "    idf.append(np.log((N+1)/(nz[index]+1))+1)"
   ]
  },
  {
   "cell_type": "code",
   "execution_count": 146,
   "metadata": {},
   "outputs": [
    {
     "data": {
      "text/plain": [
       "[1.6931471805599454,\n",
       " 1.0,\n",
       " 1.6931471805599454,\n",
       " 1.6931471805599454,\n",
       " 1.6931471805599454,\n",
       " 1.0]"
      ]
     },
     "execution_count": 146,
     "metadata": {},
     "output_type": "execute_result"
    }
   ],
   "source": [
    "idf"
   ]
  },
  {
   "cell_type": "markdown",
   "metadata": {},
   "source": [
    "### TF-IDF"
   ]
  },
  {
   "cell_type": "code",
   "execution_count": 147,
   "metadata": {},
   "outputs": [],
   "source": [
    "from sklearn.feature_extraction.text import TfidfVectorizer"
   ]
  },
  {
   "cell_type": "code",
   "execution_count": 148,
   "metadata": {},
   "outputs": [],
   "source": [
    "tfidf = TfidfVectorizer()\n",
    "x_tfidf = tfidf.fit_transform(x_df['words'])"
   ]
  },
  {
   "cell_type": "code",
   "execution_count": 149,
   "metadata": {},
   "outputs": [
    {
     "data": {
      "text/plain": [
       "array([[0.6088451 , 0.35959372, 0.        , 0.        , 0.6088451 ,\n",
       "        0.35959372],\n",
       "       [0.        , 0.45329466, 0.        , 0.76749457, 0.        ,\n",
       "        0.45329466],\n",
       "       [0.        , 0.35653519, 0.60366655, 0.        , 0.        ,\n",
       "        0.71307037]])"
      ]
     },
     "execution_count": 149,
     "metadata": {},
     "output_type": "execute_result"
    }
   ],
   "source": [
    "x_tfidf.toarray()"
   ]
  },
  {
   "cell_type": "code",
   "execution_count": 150,
   "metadata": {},
   "outputs": [
    {
     "data": {
      "text/plain": [
       "array([1.69314718, 1.        , 1.69314718, 1.69314718, 1.69314718,\n",
       "       1.        ])"
      ]
     },
     "execution_count": 150,
     "metadata": {},
     "output_type": "execute_result"
    }
   ],
   "source": [
    "tfidf.idf_"
   ]
  },
  {
   "cell_type": "markdown",
   "metadata": {},
   "source": [
    "### Word Embeddings"
   ]
  },
  {
   "cell_type": "markdown",
   "metadata": {},
   "source": [
    "#### Spacy Word2Vec"
   ]
  },
  {
   "cell_type": "code",
   "execution_count": 151,
   "metadata": {},
   "outputs": [],
   "source": [
    "nlp = spacy.load('en_core_web_md')#You can take lg library for better embedding"
   ]
  },
  {
   "cell_type": "code",
   "execution_count": 152,
   "metadata": {},
   "outputs": [],
   "source": [
    "doc = nlp('thank you! dog cat lion jnhuduy')"
   ]
  },
  {
   "cell_type": "code",
   "execution_count": 153,
   "metadata": {},
   "outputs": [
    {
     "name": "stdout",
     "output_type": "stream",
     "text": [
      "thank True\n",
      "you True\n",
      "! True\n",
      "dog True\n",
      "cat True\n",
      "lion True\n",
      "jnhuduy False\n"
     ]
    }
   ],
   "source": [
    "for token in doc:\n",
    "    print(token.text, token.has_vector)"
   ]
  },
  {
   "cell_type": "code",
   "execution_count": 154,
   "metadata": {},
   "outputs": [
    {
     "data": {
      "text/plain": [
       "(300,)"
      ]
     },
     "execution_count": 154,
     "metadata": {},
     "output_type": "execute_result"
    }
   ],
   "source": [
    "token.vector.shape"
   ]
  },
  {
   "cell_type": "code",
   "execution_count": 155,
   "metadata": {},
   "outputs": [
    {
     "data": {
      "text/plain": [
       "jnhuduy"
      ]
     },
     "execution_count": 155,
     "metadata": {},
     "output_type": "execute_result"
    }
   ],
   "source": [
    "token"
   ]
  },
  {
   "cell_type": "code",
   "execution_count": 156,
   "metadata": {},
   "outputs": [
    {
     "data": {
      "text/plain": [
       "array([-0.15067  , -0.024468 , -0.23368  , -0.23378  , -0.18382  ,\n",
       "        0.32711  , -0.22084  , -0.28777  ,  0.12759  ,  1.1656   ,\n",
       "       -0.64163  , -0.098455 , -0.62397  ,  0.010431 , -0.25653  ,\n",
       "        0.31799  ,  0.037779 ,  1.1904   , -0.17714  , -0.2595   ,\n",
       "       -0.31461  ,  0.038825 , -0.15713  , -0.13484  ,  0.36936  ,\n",
       "       -0.30562  , -0.40619  , -0.38965  ,  0.3686   ,  0.013963 ,\n",
       "       -0.6895   ,  0.004066 , -0.1367   ,  0.32564  ,  0.24688  ,\n",
       "       -0.14011  ,  0.53889  , -0.80441  , -0.1777   , -0.12922  ,\n",
       "        0.16303  ,  0.14917  , -0.068429 , -0.33922  ,  0.18495  ,\n",
       "       -0.082544 , -0.46892  ,  0.39581  , -0.13742  , -0.35132  ,\n",
       "        0.22223  , -0.144    , -0.048287 ,  0.3379   , -0.31916  ,\n",
       "        0.20526  ,  0.098624 , -0.23877  ,  0.045338 ,  0.43941  ,\n",
       "        0.030385 , -0.013821 , -0.093273 , -0.18178  ,  0.19438  ,\n",
       "       -0.3782   ,  0.70144  ,  0.16236  ,  0.0059111,  0.024898 ,\n",
       "       -0.13613  , -0.11425  , -0.31598  , -0.14209  ,  0.028194 ,\n",
       "        0.5419   , -0.42413  , -0.599    ,  0.24976  , -0.27003  ,\n",
       "        0.14964  ,  0.29287  , -0.31281  ,  0.16543  , -0.21045  ,\n",
       "       -0.4408   ,  1.2174   ,  0.51236  ,  0.56209  ,  0.14131  ,\n",
       "        0.092514 ,  0.71396  , -0.021051 , -0.33704  , -0.20275  ,\n",
       "       -0.36181  ,  0.22055  , -0.25665  ,  0.28425  , -0.16968  ,\n",
       "        0.058029 ,  0.61182  ,  0.31576  , -0.079185 ,  0.35538  ,\n",
       "       -0.51236  ,  0.4235   , -0.30033  , -0.22376  ,  0.15223  ,\n",
       "       -0.048292 ,  0.23532  ,  0.46507  , -0.67579  , -0.32905  ,\n",
       "        0.08446  , -0.22123  , -0.045333 ,  0.34463  , -0.1455   ,\n",
       "       -0.18047  , -0.17887  ,  0.96879  , -1.0028   , -0.47343  ,\n",
       "        0.28542  ,  0.56382  , -0.33211  , -0.38275  , -0.2749   ,\n",
       "       -0.22955  , -0.24265  , -0.37689  ,  0.24822  ,  0.36941  ,\n",
       "        0.14651  , -0.37864  ,  0.31134  , -0.28449  ,  0.36948  ,\n",
       "       -2.8174   , -0.38319  , -0.022373 ,  0.56376  ,  0.40131  ,\n",
       "       -0.42131  , -0.11311  , -0.17317  ,  0.1411   , -0.13194  ,\n",
       "        0.18494  ,  0.097692 , -0.097341 , -0.23987  ,  0.16631  ,\n",
       "       -0.28556  ,  0.0038654,  0.53292  , -0.32367  , -0.38744  ,\n",
       "        0.27011  , -0.34181  , -0.27702  , -0.67279  , -0.10771  ,\n",
       "       -0.062189 , -0.24783  , -0.070884 , -0.20898  ,  0.062404 ,\n",
       "        0.022372 ,  0.13408  ,  0.1305   , -0.19546  , -0.46849  ,\n",
       "        0.77731  , -0.043978 ,  0.3827   , -0.23376  ,  1.0457   ,\n",
       "       -0.14371  , -0.3565   , -0.080713 , -0.31047  , -0.57822  ,\n",
       "       -0.28067  , -0.069678 ,  0.068929 , -0.16227  , -0.63934  ,\n",
       "       -0.62149  ,  0.11222  , -0.16969  , -0.54637  ,  0.49661  ,\n",
       "        0.46565  ,  0.088294 , -0.48496  ,  0.69263  , -0.068977 ,\n",
       "       -0.53709  ,  0.20802  , -0.42987  , -0.11921  ,  0.1174   ,\n",
       "       -0.18443  ,  0.43797  , -0.1236   ,  0.3607   , -0.19608  ,\n",
       "       -0.35366  ,  0.18808  , -0.5061   ,  0.14455  , -0.024368 ,\n",
       "       -0.10772  , -0.0115   ,  0.58634  , -0.054461 ,  0.0076487,\n",
       "       -0.056297 ,  0.27193  ,  0.23096  , -0.29296  , -0.24325  ,\n",
       "        0.10317  , -0.10014  ,  0.7089   ,  0.17402  , -0.0037509,\n",
       "       -0.46304  ,  0.11806  , -0.16457  , -0.38609  ,  0.14524  ,\n",
       "        0.098122 , -0.12352  , -0.1047   ,  0.39047  , -0.3063   ,\n",
       "       -0.65375  , -0.0044248, -0.033876 ,  0.037114 , -0.27472  ,\n",
       "        0.0053147,  0.30737  ,  0.12528  , -0.19527  , -0.16461  ,\n",
       "        0.087518 , -0.051107 , -0.16323  ,  0.521    ,  0.10822  ,\n",
       "       -0.060379 , -0.71735  , -0.064327 ,  0.37043  , -0.41054  ,\n",
       "       -0.2728   , -0.30217  ,  0.015771 , -0.43056  ,  0.35647  ,\n",
       "        0.17188  , -0.54598  , -0.21541  , -0.044889 , -0.10597  ,\n",
       "       -0.54391  ,  0.53908  ,  0.070938 ,  0.097839 ,  0.097908 ,\n",
       "        0.17805  ,  0.18995  ,  0.49962  , -0.18529  ,  0.051234 ,\n",
       "        0.019574 ,  0.24805  ,  0.3144   , -0.29304  ,  0.54235  ,\n",
       "        0.46672  ,  0.26017  , -0.44705  ,  0.28287  , -0.033345 ,\n",
       "       -0.33181  , -0.10902  , -0.023324 ,  0.2106   , -0.29633  ,\n",
       "        0.81506  ,  0.038524 ,  0.46004  ,  0.17187  , -0.29804  ],\n",
       "      dtype=float32)"
      ]
     },
     "execution_count": 156,
     "metadata": {},
     "output_type": "execute_result"
    }
   ],
   "source": [
    "nlp('cat').vector"
   ]
  },
  {
   "cell_type": "code",
   "execution_count": 157,
   "metadata": {},
   "outputs": [
    {
     "name": "stdout",
     "output_type": "stream",
     "text": [
      "thank thank 1.0\n",
      "thank you 0.5647585\n",
      "thank ! 0.52147406\n",
      "thank dog 0.2504265\n",
      "thank cat 0.20648488\n",
      "thank lion 0.13629763\n",
      "thank jnhuduy 0.0\n",
      "\n",
      "you thank 0.5647585\n",
      "you you 1.0\n",
      "you ! 0.4390223\n",
      "you dog 0.36494097\n",
      "you cat 0.30807978\n",
      "you lion 0.20392051\n",
      "you jnhuduy 0.0\n",
      "\n",
      "! thank 0.52147406\n",
      "! you 0.4390223\n",
      "! ! 1.0\n",
      "! dog 0.29852203\n",
      "! cat 0.29702348\n",
      "! lion 0.19601385\n",
      "! jnhuduy 0.0\n",
      "\n",
      "dog thank 0.2504265\n",
      "dog you 0.36494097\n",
      "dog ! 0.29852203\n",
      "dog dog 1.0\n",
      "dog cat 0.8016855\n",
      "dog lion 0.47424486\n",
      "dog jnhuduy 0.0\n",
      "\n",
      "cat thank 0.20648488\n",
      "cat you 0.30807978\n",
      "cat ! 0.29702348\n",
      "cat dog 0.8016855\n",
      "cat cat 1.0\n",
      "cat lion 0.5265437\n",
      "cat jnhuduy 0.0\n",
      "\n",
      "lion thank 0.13629763\n",
      "lion you 0.20392051\n",
      "lion ! 0.19601385\n",
      "lion dog 0.47424486\n",
      "lion cat 0.5265437\n",
      "lion lion 1.0\n",
      "lion jnhuduy 0.0\n",
      "\n",
      "jnhuduy thank 0.0\n",
      "jnhuduy you 0.0\n",
      "jnhuduy ! 0.0\n",
      "jnhuduy dog 0.0\n",
      "jnhuduy cat 0.0\n",
      "jnhuduy lion 0.0\n",
      "jnhuduy jnhuduy 1.0\n",
      "\n"
     ]
    },
    {
     "name": "stderr",
     "output_type": "stream",
     "text": [
      "<ipython-input-157-ca330b4894ab>:3: UserWarning: [W008] Evaluating Token.similarity based on empty vectors.\n",
      "  print(token1.text, token2.text, token1.similarity(token2))\n"
     ]
    }
   ],
   "source": [
    "for token1 in doc:\n",
    "    for token2 in doc:\n",
    "        print(token1.text, token2.text, token1.similarity(token2))\n",
    "    print()"
   ]
  },
  {
   "cell_type": "markdown",
   "metadata": {},
   "source": [
    "## Machine Learning Models for text classification"
   ]
  },
  {
   "cell_type": "markdown",
   "metadata": {},
   "source": [
    "### BoW"
   ]
  },
  {
   "cell_type": "code",
   "execution_count": 158,
   "metadata": {},
   "outputs": [
    {
     "data": {
      "text/plain": [
       "(1600000, 13)"
      ]
     },
     "execution_count": 158,
     "metadata": {},
     "output_type": "execute_result"
    }
   ],
   "source": [
    "df.shape"
   ]
  },
  {
   "cell_type": "code",
   "execution_count": 159,
   "metadata": {},
   "outputs": [],
   "source": [
    "df0 = df[df['sentiment'] == 0].sample(2000)\n",
    "df4 = df[df['sentiment'] == 4].sample(2000)"
   ]
  },
  {
   "cell_type": "code",
   "execution_count": 160,
   "metadata": {},
   "outputs": [],
   "source": [
    "dfr = df0.append(df4)"
   ]
  },
  {
   "cell_type": "code",
   "execution_count": 161,
   "metadata": {},
   "outputs": [
    {
     "data": {
      "text/plain": [
       "(4000, 13)"
      ]
     },
     "execution_count": 161,
     "metadata": {},
     "output_type": "execute_result"
    }
   ],
   "source": [
    "dfr.shape"
   ]
  },
  {
   "cell_type": "code",
   "execution_count": 162,
   "metadata": {},
   "outputs": [],
   "source": [
    "dfr_feat = dfr.drop(labels=['twitts', 'sentiment', 'emails'], axis=1)"
   ]
  },
  {
   "cell_type": "code",
   "execution_count": 163,
   "metadata": {},
   "outputs": [
    {
     "data": {
      "text/html": [
       "<div>\n",
       "<style scoped>\n",
       "    .dataframe tbody tr th:only-of-type {\n",
       "        vertical-align: middle;\n",
       "    }\n",
       "\n",
       "    .dataframe tbody tr th {\n",
       "        vertical-align: top;\n",
       "    }\n",
       "\n",
       "    .dataframe thead th {\n",
       "        text-align: right;\n",
       "    }\n",
       "</style>\n",
       "<table border=\"1\" class=\"dataframe\">\n",
       "  <thead>\n",
       "    <tr style=\"text-align: right;\">\n",
       "      <th></th>\n",
       "      <th>word_counts</th>\n",
       "      <th>char_counts</th>\n",
       "      <th>avg_word_len</th>\n",
       "      <th>stop_words_len</th>\n",
       "      <th>hashtags_count</th>\n",
       "      <th>mentions_count</th>\n",
       "      <th>numerics_count</th>\n",
       "      <th>upper_counts</th>\n",
       "      <th>emails_count</th>\n",
       "      <th>urls_flag</th>\n",
       "    </tr>\n",
       "  </thead>\n",
       "  <tbody>\n",
       "    <tr>\n",
       "      <th>376470</th>\n",
       "      <td>4</td>\n",
       "      <td>39</td>\n",
       "      <td>3.888889</td>\n",
       "      <td>1</td>\n",
       "      <td>0</td>\n",
       "      <td>1</td>\n",
       "      <td>0</td>\n",
       "      <td>0</td>\n",
       "      <td>0</td>\n",
       "      <td>[]</td>\n",
       "    </tr>\n",
       "    <tr>\n",
       "      <th>307135</th>\n",
       "      <td>3</td>\n",
       "      <td>14</td>\n",
       "      <td>2.200000</td>\n",
       "      <td>1</td>\n",
       "      <td>0</td>\n",
       "      <td>0</td>\n",
       "      <td>0</td>\n",
       "      <td>0</td>\n",
       "      <td>0</td>\n",
       "      <td>[]</td>\n",
       "    </tr>\n",
       "    <tr>\n",
       "      <th>103014</th>\n",
       "      <td>2</td>\n",
       "      <td>20</td>\n",
       "      <td>4.500000</td>\n",
       "      <td>0</td>\n",
       "      <td>0</td>\n",
       "      <td>0</td>\n",
       "      <td>0</td>\n",
       "      <td>0</td>\n",
       "      <td>0</td>\n",
       "      <td>[]</td>\n",
       "    </tr>\n",
       "    <tr>\n",
       "      <th>401939</th>\n",
       "      <td>12</td>\n",
       "      <td>66</td>\n",
       "      <td>13.250000</td>\n",
       "      <td>4</td>\n",
       "      <td>0</td>\n",
       "      <td>1</td>\n",
       "      <td>0</td>\n",
       "      <td>1</td>\n",
       "      <td>0</td>\n",
       "      <td>[]</td>\n",
       "    </tr>\n",
       "    <tr>\n",
       "      <th>85965</th>\n",
       "      <td>26</td>\n",
       "      <td>134</td>\n",
       "      <td>54.000000</td>\n",
       "      <td>7</td>\n",
       "      <td>0</td>\n",
       "      <td>1</td>\n",
       "      <td>0</td>\n",
       "      <td>3</td>\n",
       "      <td>0</td>\n",
       "      <td>[]</td>\n",
       "    </tr>\n",
       "    <tr>\n",
       "      <th>...</th>\n",
       "      <td>...</td>\n",
       "      <td>...</td>\n",
       "      <td>...</td>\n",
       "      <td>...</td>\n",
       "      <td>...</td>\n",
       "      <td>...</td>\n",
       "      <td>...</td>\n",
       "      <td>...</td>\n",
       "      <td>...</td>\n",
       "      <td>...</td>\n",
       "    </tr>\n",
       "    <tr>\n",
       "      <th>941071</th>\n",
       "      <td>24</td>\n",
       "      <td>127</td>\n",
       "      <td>51.500000</td>\n",
       "      <td>9</td>\n",
       "      <td>0</td>\n",
       "      <td>1</td>\n",
       "      <td>0</td>\n",
       "      <td>1</td>\n",
       "      <td>0</td>\n",
       "      <td>[]</td>\n",
       "    </tr>\n",
       "    <tr>\n",
       "      <th>1358237</th>\n",
       "      <td>13</td>\n",
       "      <td>64</td>\n",
       "      <td>17.000000</td>\n",
       "      <td>7</td>\n",
       "      <td>0</td>\n",
       "      <td>1</td>\n",
       "      <td>0</td>\n",
       "      <td>0</td>\n",
       "      <td>0</td>\n",
       "      <td>[]</td>\n",
       "    </tr>\n",
       "    <tr>\n",
       "      <th>1190692</th>\n",
       "      <td>7</td>\n",
       "      <td>34</td>\n",
       "      <td>3.000000</td>\n",
       "      <td>0</td>\n",
       "      <td>0</td>\n",
       "      <td>0</td>\n",
       "      <td>0</td>\n",
       "      <td>7</td>\n",
       "      <td>0</td>\n",
       "      <td>[]</td>\n",
       "    </tr>\n",
       "    <tr>\n",
       "      <th>1000003</th>\n",
       "      <td>4</td>\n",
       "      <td>23</td>\n",
       "      <td>6.000000</td>\n",
       "      <td>1</td>\n",
       "      <td>0</td>\n",
       "      <td>1</td>\n",
       "      <td>0</td>\n",
       "      <td>1</td>\n",
       "      <td>0</td>\n",
       "      <td>[]</td>\n",
       "    </tr>\n",
       "    <tr>\n",
       "      <th>1015926</th>\n",
       "      <td>2</td>\n",
       "      <td>9</td>\n",
       "      <td>1.400000</td>\n",
       "      <td>0</td>\n",
       "      <td>0</td>\n",
       "      <td>0</td>\n",
       "      <td>1</td>\n",
       "      <td>0</td>\n",
       "      <td>0</td>\n",
       "      <td>[]</td>\n",
       "    </tr>\n",
       "  </tbody>\n",
       "</table>\n",
       "<p>4000 rows × 10 columns</p>\n",
       "</div>"
      ],
      "text/plain": [
       "         word_counts  char_counts  avg_word_len  stop_words_len  \\\n",
       "376470             4           39      3.888889               1   \n",
       "307135             3           14      2.200000               1   \n",
       "103014             2           20      4.500000               0   \n",
       "401939            12           66     13.250000               4   \n",
       "85965             26          134     54.000000               7   \n",
       "...              ...          ...           ...             ...   \n",
       "941071            24          127     51.500000               9   \n",
       "1358237           13           64     17.000000               7   \n",
       "1190692            7           34      3.000000               0   \n",
       "1000003            4           23      6.000000               1   \n",
       "1015926            2            9      1.400000               0   \n",
       "\n",
       "         hashtags_count  mentions_count  numerics_count  upper_counts  \\\n",
       "376470                0               1               0             0   \n",
       "307135                0               0               0             0   \n",
       "103014                0               0               0             0   \n",
       "401939                0               1               0             1   \n",
       "85965                 0               1               0             3   \n",
       "...                 ...             ...             ...           ...   \n",
       "941071                0               1               0             1   \n",
       "1358237               0               1               0             0   \n",
       "1190692               0               0               0             7   \n",
       "1000003               0               1               0             1   \n",
       "1015926               0               0               1             0   \n",
       "\n",
       "         emails_count urls_flag  \n",
       "376470              0        []  \n",
       "307135              0        []  \n",
       "103014              0        []  \n",
       "401939              0        []  \n",
       "85965               0        []  \n",
       "...               ...       ...  \n",
       "941071              0        []  \n",
       "1358237             0        []  \n",
       "1190692             0        []  \n",
       "1000003             0        []  \n",
       "1015926             0        []  \n",
       "\n",
       "[4000 rows x 10 columns]"
      ]
     },
     "execution_count": 163,
     "metadata": {},
     "output_type": "execute_result"
    }
   ],
   "source": [
    "dfr_feat"
   ]
  },
  {
   "cell_type": "code",
   "execution_count": 164,
   "metadata": {},
   "outputs": [],
   "source": [
    "y = dfr['sentiment']"
   ]
  },
  {
   "cell_type": "code",
   "execution_count": 165,
   "metadata": {},
   "outputs": [],
   "source": [
    "from sklearn.feature_extraction.text import CountVectorizer"
   ]
  },
  {
   "cell_type": "code",
   "execution_count": 166,
   "metadata": {},
   "outputs": [],
   "source": [
    "cv = CountVectorizer()\n",
    "text_counts = cv.fit_transform(dfr['twitts'])"
   ]
  },
  {
   "cell_type": "code",
   "execution_count": 167,
   "metadata": {},
   "outputs": [
    {
     "data": {
      "text/plain": [
       "(4000, 9758)"
      ]
     },
     "execution_count": 167,
     "metadata": {},
     "output_type": "execute_result"
    }
   ],
   "source": [
    "text_counts.toarray().shape"
   ]
  },
  {
   "cell_type": "code",
   "execution_count": 168,
   "metadata": {},
   "outputs": [],
   "source": [
    "dfr_bog = pd.DataFrame(text_counts.toarray(), columns=cv.get_feature_names())"
   ]
  },
  {
   "cell_type": "code",
   "execution_count": 169,
   "metadata": {},
   "outputs": [
    {
     "data": {
      "text/html": [
       "<div>\n",
       "<style scoped>\n",
       "    .dataframe tbody tr th:only-of-type {\n",
       "        vertical-align: middle;\n",
       "    }\n",
       "\n",
       "    .dataframe tbody tr th {\n",
       "        vertical-align: top;\n",
       "    }\n",
       "\n",
       "    .dataframe thead th {\n",
       "        text-align: right;\n",
       "    }\n",
       "</style>\n",
       "<table border=\"1\" class=\"dataframe\">\n",
       "  <thead>\n",
       "    <tr style=\"text-align: right;\">\n",
       "      <th></th>\n",
       "      <th>0055</th>\n",
       "      <th>007wifey</th>\n",
       "      <th>02</th>\n",
       "      <th>03</th>\n",
       "      <th>07</th>\n",
       "      <th>09</th>\n",
       "      <th>0922</th>\n",
       "      <th>095</th>\n",
       "      <th>0ladyb0</th>\n",
       "      <th>10</th>\n",
       "      <th>...</th>\n",
       "      <th>zomgponies</th>\n",
       "      <th>zone</th>\n",
       "      <th>zoo</th>\n",
       "      <th>zoom</th>\n",
       "      <th>zoomalbumdm</th>\n",
       "      <th>ztzg</th>\n",
       "      <th>zuckerzeugsquot</th>\n",
       "      <th>zuppalizzle</th>\n",
       "      <th>zz</th>\n",
       "      <th>zzzzzzzzzz</th>\n",
       "    </tr>\n",
       "  </thead>\n",
       "  <tbody>\n",
       "    <tr>\n",
       "      <th>0</th>\n",
       "      <td>0</td>\n",
       "      <td>0</td>\n",
       "      <td>0</td>\n",
       "      <td>0</td>\n",
       "      <td>0</td>\n",
       "      <td>0</td>\n",
       "      <td>0</td>\n",
       "      <td>0</td>\n",
       "      <td>0</td>\n",
       "      <td>0</td>\n",
       "      <td>...</td>\n",
       "      <td>0</td>\n",
       "      <td>0</td>\n",
       "      <td>0</td>\n",
       "      <td>0</td>\n",
       "      <td>0</td>\n",
       "      <td>0</td>\n",
       "      <td>0</td>\n",
       "      <td>0</td>\n",
       "      <td>0</td>\n",
       "      <td>0</td>\n",
       "    </tr>\n",
       "    <tr>\n",
       "      <th>1</th>\n",
       "      <td>0</td>\n",
       "      <td>0</td>\n",
       "      <td>0</td>\n",
       "      <td>0</td>\n",
       "      <td>0</td>\n",
       "      <td>0</td>\n",
       "      <td>0</td>\n",
       "      <td>0</td>\n",
       "      <td>0</td>\n",
       "      <td>0</td>\n",
       "      <td>...</td>\n",
       "      <td>0</td>\n",
       "      <td>0</td>\n",
       "      <td>0</td>\n",
       "      <td>0</td>\n",
       "      <td>0</td>\n",
       "      <td>0</td>\n",
       "      <td>0</td>\n",
       "      <td>0</td>\n",
       "      <td>0</td>\n",
       "      <td>0</td>\n",
       "    </tr>\n",
       "  </tbody>\n",
       "</table>\n",
       "<p>2 rows × 9758 columns</p>\n",
       "</div>"
      ],
      "text/plain": [
       "   0055  007wifey  02  03  07  09  0922  095  0ladyb0  10  ...  zomgponies  \\\n",
       "0     0         0   0   0   0   0     0    0        0   0  ...           0   \n",
       "1     0         0   0   0   0   0     0    0        0   0  ...           0   \n",
       "\n",
       "   zone  zoo  zoom  zoomalbumdm  ztzg  zuckerzeugsquot  zuppalizzle  zz  \\\n",
       "0     0    0     0            0     0                0            0   0   \n",
       "1     0    0     0            0     0                0            0   0   \n",
       "\n",
       "   zzzzzzzzzz  \n",
       "0           0  \n",
       "1           0  \n",
       "\n",
       "[2 rows x 9758 columns]"
      ]
     },
     "execution_count": 169,
     "metadata": {},
     "output_type": "execute_result"
    }
   ],
   "source": [
    "dfr_bog.head(2)"
   ]
  },
  {
   "cell_type": "markdown",
   "metadata": {},
   "source": [
    "### ML Algorithm"
   ]
  },
  {
   "cell_type": "code",
   "execution_count": 170,
   "metadata": {},
   "outputs": [],
   "source": [
    "from sklearn.linear_model import LogisticRegression, LogisticRegressionCV, SGDClassifier\n",
    "from sklearn.svm import LinearSVC\n",
    "from sklearn.ensemble import RandomForestClassifier\n",
    "from sklearn.model_selection import train_test_split\n",
    "from sklearn.metrics import confusion_matrix, accuracy_score\n",
    "from sklearn.preprocessing import MinMaxScaler"
   ]
  },
  {
   "cell_type": "code",
   "execution_count": 171,
   "metadata": {},
   "outputs": [],
   "source": [
    "sgd = SGDClassifier(n_jobs=-1, random_state=42, max_iter=200)\n",
    "lgr = LogisticRegression(random_state=42, max_iter=200)\n",
    "lgr_cv = LogisticRegressionCV(random_state=42, max_iter=1000, cv=2)\n",
    "svm = LinearSVC(random_state=42, max_iter=200)\n",
    "rfc = RandomForestClassifier(random_state=42, n_jobs=-1, n_estimators = 200)"
   ]
  },
  {
   "cell_type": "code",
   "execution_count": 172,
   "metadata": {},
   "outputs": [],
   "source": [
    "clf = {'SGD':sgd, 'LGR':lgr, 'LGR-CV':lgr_cv, 'SVM':svm, 'RFC':rfc}"
   ]
  },
  {
   "cell_type": "code",
   "execution_count": 173,
   "metadata": {},
   "outputs": [],
   "source": [
    "def classify(X, y):\n",
    "    scaler = MinMaxScaler(feature_range=(0,1))\n",
    "    X = scaler.fit_transform(X)\n",
    "    \n",
    "    X_train, X_test, y_train, y_test = train_test_split(X, y, test_size = 0.2, stratify=y)\n",
    "    \n",
    "    for key in clf.keys():\n",
    "        clf[key].fit(X_train, y_train)\n",
    "        y_pred = clf[key].predict(X_test)\n",
    "        ac = accuracy_score(y_test, y_pred)\n",
    "        print(key, ' -------------> ', ac)"
   ]
  },
  {
   "cell_type": "code",
   "execution_count": 174,
   "metadata": {},
   "outputs": [
    {
     "name": "stdout",
     "output_type": "stream",
     "text": [
      "SGD  ------------->  0.63875\n",
      "LGR  ------------->  0.65875\n",
      "LGR-CV  ------------->  0.665\n",
      "SVM  ------------->  0.64\n",
      "RFC  ------------->  0.66375\n",
      "CPU times: user 3min 34s, sys: 1.62 s, total: 3min 35s\n",
      "Wall time: 1min 9s\n"
     ]
    }
   ],
   "source": [
    "%%time\n",
    "classify(dfr_bog, y)"
   ]
  },
  {
   "cell_type": "markdown",
   "metadata": {},
   "source": [
    "### TFIDF"
   ]
  },
  {
   "cell_type": "code",
   "execution_count": 175,
   "metadata": {},
   "outputs": [],
   "source": [
    "from sklearn.feature_extraction.text import TfidfVectorizer"
   ]
  },
  {
   "cell_type": "code",
   "execution_count": 176,
   "metadata": {},
   "outputs": [
    {
     "data": {
      "text/plain": [
       "(4000, 13)"
      ]
     },
     "execution_count": 176,
     "metadata": {},
     "output_type": "execute_result"
    }
   ],
   "source": [
    "dfr.shape"
   ]
  },
  {
   "cell_type": "code",
   "execution_count": 177,
   "metadata": {},
   "outputs": [
    {
     "data": {
      "text/html": [
       "<div>\n",
       "<style scoped>\n",
       "    .dataframe tbody tr th:only-of-type {\n",
       "        vertical-align: middle;\n",
       "    }\n",
       "\n",
       "    .dataframe tbody tr th {\n",
       "        vertical-align: top;\n",
       "    }\n",
       "\n",
       "    .dataframe thead th {\n",
       "        text-align: right;\n",
       "    }\n",
       "</style>\n",
       "<table border=\"1\" class=\"dataframe\">\n",
       "  <thead>\n",
       "    <tr style=\"text-align: right;\">\n",
       "      <th></th>\n",
       "      <th>twitts</th>\n",
       "      <th>sentiment</th>\n",
       "      <th>word_counts</th>\n",
       "      <th>char_counts</th>\n",
       "      <th>avg_word_len</th>\n",
       "      <th>stop_words_len</th>\n",
       "      <th>hashtags_count</th>\n",
       "      <th>mentions_count</th>\n",
       "      <th>numerics_count</th>\n",
       "      <th>upper_counts</th>\n",
       "      <th>emails</th>\n",
       "      <th>emails_count</th>\n",
       "      <th>urls_flag</th>\n",
       "    </tr>\n",
       "  </thead>\n",
       "  <tbody>\n",
       "    <tr>\n",
       "      <th>376470</th>\n",
       "      <td>ladymaryann abominable</td>\n",
       "      <td>0</td>\n",
       "      <td>4</td>\n",
       "      <td>39</td>\n",
       "      <td>3.888889</td>\n",
       "      <td>1</td>\n",
       "      <td>0</td>\n",
       "      <td>1</td>\n",
       "      <td>0</td>\n",
       "      <td>0</td>\n",
       "      <td>[]</td>\n",
       "      <td>0</td>\n",
       "      <td>[]</td>\n",
       "    </tr>\n",
       "    <tr>\n",
       "      <th>307135</th>\n",
       "      <td>bored</td>\n",
       "      <td>0</td>\n",
       "      <td>3</td>\n",
       "      <td>14</td>\n",
       "      <td>2.200000</td>\n",
       "      <td>1</td>\n",
       "      <td>0</td>\n",
       "      <td>0</td>\n",
       "      <td>0</td>\n",
       "      <td>0</td>\n",
       "      <td>[]</td>\n",
       "      <td>0</td>\n",
       "      <td>[]</td>\n",
       "    </tr>\n",
       "    <tr>\n",
       "      <th>103014</th>\n",
       "      <td>homeworkand exam</td>\n",
       "      <td>0</td>\n",
       "      <td>2</td>\n",
       "      <td>20</td>\n",
       "      <td>4.500000</td>\n",
       "      <td>0</td>\n",
       "      <td>0</td>\n",
       "      <td>0</td>\n",
       "      <td>0</td>\n",
       "      <td>0</td>\n",
       "      <td>[]</td>\n",
       "      <td>0</td>\n",
       "      <td>[]</td>\n",
       "    </tr>\n",
       "    <tr>\n",
       "      <th>401939</th>\n",
       "      <td>jessegoins glad hour</td>\n",
       "      <td>0</td>\n",
       "      <td>12</td>\n",
       "      <td>66</td>\n",
       "      <td>13.250000</td>\n",
       "      <td>4</td>\n",
       "      <td>0</td>\n",
       "      <td>1</td>\n",
       "      <td>0</td>\n",
       "      <td>1</td>\n",
       "      <td>[]</td>\n",
       "      <td>0</td>\n",
       "      <td>[]</td>\n",
       "    </tr>\n",
       "    <tr>\n",
       "      <th>85965</th>\n",
       "      <td>tommcfly hi tom miss spoke portuguese google t...</td>\n",
       "      <td>0</td>\n",
       "      <td>26</td>\n",
       "      <td>134</td>\n",
       "      <td>54.000000</td>\n",
       "      <td>7</td>\n",
       "      <td>0</td>\n",
       "      <td>1</td>\n",
       "      <td>0</td>\n",
       "      <td>3</td>\n",
       "      <td>[]</td>\n",
       "      <td>0</td>\n",
       "      <td>[]</td>\n",
       "    </tr>\n",
       "  </tbody>\n",
       "</table>\n",
       "</div>"
      ],
      "text/plain": [
       "                                                   twitts  sentiment  \\\n",
       "376470                             ladymaryann abominable          0   \n",
       "307135                                              bored          0   \n",
       "103014                                   homeworkand exam          0   \n",
       "401939                               jessegoins glad hour          0   \n",
       "85965   tommcfly hi tom miss spoke portuguese google t...          0   \n",
       "\n",
       "        word_counts  char_counts  avg_word_len  stop_words_len  \\\n",
       "376470            4           39      3.888889               1   \n",
       "307135            3           14      2.200000               1   \n",
       "103014            2           20      4.500000               0   \n",
       "401939           12           66     13.250000               4   \n",
       "85965            26          134     54.000000               7   \n",
       "\n",
       "        hashtags_count  mentions_count  numerics_count  upper_counts emails  \\\n",
       "376470               0               1               0             0     []   \n",
       "307135               0               0               0             0     []   \n",
       "103014               0               0               0             0     []   \n",
       "401939               0               1               0             1     []   \n",
       "85965                0               1               0             3     []   \n",
       "\n",
       "        emails_count urls_flag  \n",
       "376470             0        []  \n",
       "307135             0        []  \n",
       "103014             0        []  \n",
       "401939             0        []  \n",
       "85965              0        []  "
      ]
     },
     "execution_count": 177,
     "metadata": {},
     "output_type": "execute_result"
    }
   ],
   "source": [
    "dfr.head()"
   ]
  },
  {
   "cell_type": "code",
   "execution_count": 178,
   "metadata": {},
   "outputs": [],
   "source": [
    "tfidf = TfidfVectorizer()\n",
    "X = tfidf.fit_transform(dfr['twitts'])"
   ]
  },
  {
   "cell_type": "code",
   "execution_count": 179,
   "metadata": {},
   "outputs": [
    {
     "data": {
      "text/plain": [
       "<4000x9758 sparse matrix of type '<class 'numpy.float64'>'\n",
       "\twith 23066 stored elements in Compressed Sparse Row format>"
      ]
     },
     "execution_count": 179,
     "metadata": {},
     "output_type": "execute_result"
    }
   ],
   "source": [
    "X"
   ]
  },
  {
   "cell_type": "code",
   "execution_count": 180,
   "metadata": {},
   "outputs": [
    {
     "name": "stdout",
     "output_type": "stream",
     "text": [
      "SGD  ------------->  0.6425\n",
      "LGR  ------------->  0.69375\n",
      "LGR-CV  ------------->  0.70125\n",
      "SVM  ------------->  0.65625\n",
      "RFC  ------------->  0.645\n",
      "CPU times: user 3min 33s, sys: 1.01 s, total: 3min 34s\n",
      "Wall time: 1min 8s\n"
     ]
    }
   ],
   "source": [
    "%%time\n",
    "classify(pd.DataFrame(X.toarray()), y)"
   ]
  },
  {
   "cell_type": "markdown",
   "metadata": {},
   "source": [
    "### Word2Vec"
   ]
  },
  {
   "cell_type": "code",
   "execution_count": 181,
   "metadata": {},
   "outputs": [],
   "source": [
    "def get_vec(x):\n",
    "    doc = nlp(x)\n",
    "    return doc.vector.reshape(1, -1)"
   ]
  },
  {
   "cell_type": "code",
   "execution_count": 182,
   "metadata": {},
   "outputs": [
    {
     "name": "stdout",
     "output_type": "stream",
     "text": [
      "CPU times: user 38 s, sys: 14.9 ms, total: 38.1 s\n",
      "Wall time: 38.1 s\n"
     ]
    }
   ],
   "source": [
    "%%time\n",
    "dfr['vector'] = dfr.twitts.apply(lambda x:get_vec(x))"
   ]
  },
  {
   "cell_type": "code",
   "execution_count": 185,
   "metadata": {},
   "outputs": [],
   "source": [
    "X = np.concatenate(dfr['vector'].to_numpy(), axis=0)"
   ]
  },
  {
   "cell_type": "code",
   "execution_count": 187,
   "metadata": {},
   "outputs": [
    {
     "data": {
      "text/plain": [
       "(4000, 300)"
      ]
     },
     "execution_count": 187,
     "metadata": {},
     "output_type": "execute_result"
    }
   ],
   "source": [
    "X.shape"
   ]
  },
  {
   "cell_type": "code",
   "execution_count": 188,
   "metadata": {},
   "outputs": [
    {
     "name": "stdout",
     "output_type": "stream",
     "text": [
      "SGD  ------------->  0.6425\n"
     ]
    },
    {
     "name": "stderr",
     "output_type": "stream",
     "text": [
      "/home/rakesh/anaconda3/lib/python3.8/site-packages/sklearn/linear_model/_logistic.py:762: ConvergenceWarning: lbfgs failed to converge (status=1):\n",
      "STOP: TOTAL NO. of ITERATIONS REACHED LIMIT.\n",
      "\n",
      "Increase the number of iterations (max_iter) or scale the data as shown in:\n",
      "    https://scikit-learn.org/stable/modules/preprocessing.html\n",
      "Please also refer to the documentation for alternative solver options:\n",
      "    https://scikit-learn.org/stable/modules/linear_model.html#logistic-regression\n",
      "  n_iter_i = _check_optimize_result(\n"
     ]
    },
    {
     "name": "stdout",
     "output_type": "stream",
     "text": [
      "LGR  ------------->  0.695\n",
      "LGR-CV  ------------->  0.7\n"
     ]
    },
    {
     "name": "stderr",
     "output_type": "stream",
     "text": [
      "/home/rakesh/anaconda3/lib/python3.8/site-packages/sklearn/svm/_base.py:976: ConvergenceWarning: Liblinear failed to converge, increase the number of iterations.\n",
      "  warnings.warn(\"Liblinear failed to converge, increase \"\n"
     ]
    },
    {
     "name": "stdout",
     "output_type": "stream",
     "text": [
      "SVM  ------------->  0.6975\n",
      "RFC  ------------->  0.66875\n"
     ]
    }
   ],
   "source": [
    "classify(pd.DataFrame(X), y)"
   ]
  },
  {
   "cell_type": "code",
   "execution_count": 189,
   "metadata": {},
   "outputs": [],
   "source": [
    "def predict_w2v(x):\n",
    "    for key in clf.keys():\n",
    "        y_pred = clf[key].predict(get_vec(x))\n",
    "        print(key, '----->', y_pred)"
   ]
  },
  {
   "cell_type": "code",
   "execution_count": 191,
   "metadata": {},
   "outputs": [
    {
     "name": "stdout",
     "output_type": "stream",
     "text": [
      "SGD -----> [0]\n",
      "LGR -----> [0]\n",
      "LGR-CV -----> [0]\n",
      "SVM -----> [0]\n",
      "RFC -----> [4]\n"
     ]
    }
   ],
   "source": [
    "predict_w2v('hi, thanks for watching this video. Plese like this')"
   ]
  },
  {
   "cell_type": "code",
   "execution_count": 194,
   "metadata": {},
   "outputs": [
    {
     "name": "stdout",
     "output_type": "stream",
     "text": [
      "SGD -----> [0]\n",
      "LGR -----> [0]\n",
      "LGR-CV -----> [0]\n",
      "SVM -----> [0]\n",
      "RFC -----> [4]\n"
     ]
    }
   ],
   "source": [
    "predict_w2v('bad')"
   ]
  }
 ],
 "metadata": {
  "kernelspec": {
   "display_name": "Python 3",
   "language": "python",
   "name": "python3"
  },
  "language_info": {
   "codemirror_mode": {
    "name": "ipython",
    "version": 3
   },
   "file_extension": ".py",
   "mimetype": "text/x-python",
   "name": "python",
   "nbconvert_exporter": "python",
   "pygments_lexer": "ipython3",
   "version": "3.8.5"
  }
 },
 "nbformat": 4,
 "nbformat_minor": 4
}
